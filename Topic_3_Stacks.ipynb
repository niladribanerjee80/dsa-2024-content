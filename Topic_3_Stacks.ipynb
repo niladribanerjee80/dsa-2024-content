{
  "nbformat": 4,
  "nbformat_minor": 0,
  "metadata": {
    "colab": {
      "provenance": [],
      "authorship_tag": "ABX9TyPFD6/Ms3BTH91fgKqodUte",
      "include_colab_link": true
    },
    "kernelspec": {
      "name": "python3",
      "display_name": "Python 3"
    },
    "language_info": {
      "name": "python"
    }
  },
  "cells": [
    {
      "cell_type": "markdown",
      "metadata": {
        "id": "view-in-github",
        "colab_type": "text"
      },
      "source": [
        "<a href=\"https://colab.research.google.com/github/niladribanerjee80/DSA_Scott_Barett/blob/main/Topic_3_Stacks.ipynb\" target=\"_parent\"><img src=\"https://colab.research.google.com/assets/colab-badge.svg\" alt=\"Open In Colab\"/></a>"
      ]
    },
    {
      "cell_type": "markdown",
      "source": [
        "# Stack : constructor"
      ],
      "metadata": {
        "id": "pdPQqGO7neCR"
      }
    },
    {
      "cell_type": "code",
      "execution_count": 1,
      "metadata": {
        "id": "TRD5yc9Vby6c"
      },
      "outputs": [],
      "source": [
        "class Node:\n",
        "\n",
        "    def __init__(self,value):\n",
        "        self.value = value\n",
        "        self.next = None\n",
        "\n",
        "class Stack:\n",
        "\n",
        "    def __init__(self,value):\n",
        "        new_node = Node(value)\n",
        "        self.top = new_node\n",
        "        self.height = 1\n",
        "\n",
        "    def print_stack(self):\n",
        "        temp = self.top\n",
        "\n",
        "        while temp is not None:\n",
        "            print(temp.value)\n",
        "            temp = temp.next"
      ]
    },
    {
      "cell_type": "code",
      "source": [
        "my_stack = Stack(4)\n",
        "my_stack.print_stack()"
      ],
      "metadata": {
        "colab": {
          "base_uri": "https://localhost:8080/"
        },
        "id": "KwRSMwrfnSuL",
        "outputId": "e2fcefab-835f-412e-fa16-9942befd5932"
      },
      "execution_count": 2,
      "outputs": [
        {
          "output_type": "stream",
          "name": "stdout",
          "text": [
            "4\n"
          ]
        }
      ]
    },
    {
      "cell_type": "markdown",
      "source": [
        "# Stack : push(self,value)\n",
        "\n",
        "\n",
        "---\n",
        "\n",
        "\n",
        "* like prepend() for LL"
      ],
      "metadata": {
        "id": "-HAqKaqrnqbh"
      }
    },
    {
      "cell_type": "code",
      "source": [
        "class Node:\n",
        "\n",
        "    def __init__(self,value):\n",
        "        self.value = value\n",
        "        self.next = None\n",
        "\n",
        "class Stack:\n",
        "\n",
        "    def __init__(self,value):\n",
        "        new_node = Node(value)\n",
        "        self.top = new_node\n",
        "        self.height = 1\n",
        "\n",
        "    def print_stack(self,msg = \"Stack created : \"):\n",
        "        print(\"--------------\")\n",
        "        print(msg)\n",
        "        temp = self.top\n",
        "\n",
        "        while temp is not None:\n",
        "            print(temp.value)\n",
        "            temp = temp.next\n",
        "        print('\\n')\n",
        "        print(f\"Stack height / no. of nodes present = {self.height}\")\n",
        "\n",
        "    def push(self,value):\n",
        "        # create a new node\n",
        "        new_node = Node(value)\n",
        "\n",
        "        # current top\n",
        "        temp = self.top\n",
        "\n",
        "        self.top = new_node\n",
        "        new_node.next = temp\n",
        "\n",
        "        self.height += 1"
      ],
      "metadata": {
        "id": "E7PkA0lwncxK"
      },
      "execution_count": 24,
      "outputs": []
    },
    {
      "cell_type": "code",
      "source": [
        "my_stack = Stack(4)\n",
        "my_stack.print_stack()\n",
        "my_stack.push(11)\n",
        "my_stack.print_stack(\"Stack Updated : \")"
      ],
      "metadata": {
        "colab": {
          "base_uri": "https://localhost:8080/"
        },
        "id": "StJi1OL7ovGN",
        "outputId": "cb398d36-5631-40a2-e7a1-0f1692ca17ef"
      },
      "execution_count": 25,
      "outputs": [
        {
          "output_type": "stream",
          "name": "stdout",
          "text": [
            "--------------\n",
            "Stack created : \n",
            "4\n",
            "\n",
            "\n",
            "Stack height / no. of nodes present = 1\n",
            "--------------\n",
            "Stack Updated : \n",
            "11\n",
            "4\n",
            "\n",
            "\n",
            "Stack height / no. of nodes present = 2\n"
          ]
        }
      ]
    },
    {
      "cell_type": "markdown",
      "source": [
        "# Stack : pop(self)"
      ],
      "metadata": {
        "id": "DtdocV9ErxeG"
      }
    },
    {
      "cell_type": "code",
      "source": [
        "class Node:\n",
        "\n",
        "    def __init__(self,value):\n",
        "        self.value = value\n",
        "        self.next = None\n",
        "\n",
        "class Stack:\n",
        "\n",
        "    def __init__(self,value):\n",
        "        new_node = Node(value)\n",
        "        self.top = new_node\n",
        "        self.height = 1\n",
        "\n",
        "    def stack_empty(self):\n",
        "        self.height = 0\n",
        "        self.top = None\n",
        "\n",
        "    def print_stack(self,msg = \"Stack created : \"):\n",
        "        print(\"--------------\")\n",
        "        print(msg)\n",
        "        temp = self.top\n",
        "\n",
        "        while temp is not None:\n",
        "            print(temp.value)\n",
        "            temp = temp.next\n",
        "        print('\\n')\n",
        "        print(f\"Stack height / no. of nodes present = {self.height}\")\n",
        "\n",
        "    def push(self,value):\n",
        "        # create a new node\n",
        "        new_node = Node(value)\n",
        "\n",
        "        # current top\n",
        "        temp = self.top\n",
        "\n",
        "        self.top = new_node\n",
        "        new_node.next = temp\n",
        "\n",
        "        self.height += 1\n",
        "\n",
        "    def pop(self):\n",
        "\n",
        "        if self.height == 0:\n",
        "            return None\n",
        "\n",
        "        # collect the node\n",
        "        temp = self.top\n",
        "\n",
        "        # move the head pointer\n",
        "        self.top = temp.next\n",
        "\n",
        "        # ensure the next is dettached from temp\n",
        "        temp.next = None\n",
        "\n",
        "        # adjust the height\n",
        "        self.height -= 1\n",
        "\n",
        "        return temp\n"
      ],
      "metadata": {
        "id": "CpZyW3jyo1km"
      },
      "execution_count": 30,
      "outputs": []
    },
    {
      "cell_type": "code",
      "source": [
        "my_stack = Stack(4)\n",
        "my_stack.print_stack()\n",
        "my_stack.push(11)\n",
        "\n",
        "my_stack.print_stack(\"Stack Updated : \")\n",
        "popped_node = my_stack.pop()\n",
        "\n",
        "if popped_node:\n",
        "    print(f\"Popped Node = {popped_node.value}\")\n",
        "\n",
        "my_stack.print_stack(\"Stack Updated after pop : \")"
      ],
      "metadata": {
        "colab": {
          "base_uri": "https://localhost:8080/"
        },
        "id": "z5awPXdAspPJ",
        "outputId": "79e97bfe-fdc3-467e-c5ed-6c384dfc69d5"
      },
      "execution_count": 29,
      "outputs": [
        {
          "output_type": "stream",
          "name": "stdout",
          "text": [
            "--------------\n",
            "Stack created : \n",
            "4\n",
            "\n",
            "\n",
            "Stack height / no. of nodes present = 1\n",
            "--------------\n",
            "Stack Updated : \n",
            "11\n",
            "4\n",
            "\n",
            "\n",
            "Stack height / no. of nodes present = 2\n",
            "Popped Node = 11\n",
            "--------------\n",
            "Stack Updated after pop : \n",
            "4\n",
            "\n",
            "\n",
            "Stack height / no. of nodes present = 1\n"
          ]
        }
      ]
    },
    {
      "cell_type": "code",
      "source": [],
      "metadata": {
        "id": "7IMGvqu_1Qoi"
      },
      "execution_count": null,
      "outputs": []
    },
    {
      "cell_type": "markdown",
      "source": [
        "# Queues : constructor"
      ],
      "metadata": {
        "id": "FxNB2zlW1RD0"
      }
    },
    {
      "cell_type": "code",
      "source": [
        "class Node:\n",
        "\n",
        "    def __init__(self,value):\n",
        "        self.value = value\n",
        "        self.next = None\n",
        "\n",
        "class Queue:\n",
        "\n",
        "    def __init__(self,value):\n",
        "        # create a new node\n",
        "        new_node = Node(value)\n",
        "        self.first = new_node\n",
        "        self.last = new_node\n",
        "        self.length = 1\n",
        "\n",
        "    def print_queue(self,msg = \"Queue created : \"):\n",
        "        print(\"--------------\")\n",
        "        print(msg)\n",
        "\n",
        "        temp = self.first\n",
        "\n",
        "        while temp is not None:\n",
        "            print(temp.value)\n",
        "            temp = temp.next\n",
        "\n",
        "        print('\\n')\n",
        "        print(f\"Queue Length = {self.length}\")\n",
        "        print(f\"Queue First = {self.first.value}\")\n",
        "        print(f\"Queue Last = {self.last.value}\")\n"
      ],
      "metadata": {
        "id": "fsUzlhPhtAYN"
      },
      "execution_count": 35,
      "outputs": []
    },
    {
      "cell_type": "code",
      "source": [
        "my_queue = Queue(4)\n",
        "my_queue.print_queue()"
      ],
      "metadata": {
        "colab": {
          "base_uri": "https://localhost:8080/"
        },
        "id": "XPMJkjlr180s",
        "outputId": "f85764cb-1779-44b4-8fdb-5419ea495bec"
      },
      "execution_count": 36,
      "outputs": [
        {
          "output_type": "stream",
          "name": "stdout",
          "text": [
            "--------------\n",
            "Queue created : \n",
            "4\n",
            "\n",
            "\n",
            "Queue Length = 1\n",
            "Queue First = 4\n",
            "Queue Last = 4\n"
          ]
        }
      ]
    },
    {
      "cell_type": "code",
      "source": [],
      "metadata": {
        "id": "ls9P1cNR2A4A"
      },
      "execution_count": null,
      "outputs": []
    },
    {
      "cell_type": "markdown",
      "source": [
        "# Queues : Enqueue"
      ],
      "metadata": {
        "id": "AAwcm0mb5UNz"
      }
    },
    {
      "cell_type": "code",
      "source": [
        "class Node:\n",
        "\n",
        "    def __init__(self,value):\n",
        "        self.value = value\n",
        "        self.next = None\n",
        "\n",
        "class Queue:\n",
        "\n",
        "    def __init__(self,value):\n",
        "        # create a new node\n",
        "        new_node = Node(value)\n",
        "        self.first = new_node\n",
        "        self.last = new_node\n",
        "        self.length = 1\n",
        "\n",
        "    def make_empty(self):\n",
        "        self.first = None\n",
        "        self.last = None\n",
        "        self.length = 0\n",
        "\n",
        "    def print_queue(self,msg = \"Queue created : \"):\n",
        "        print(\"--------------\")\n",
        "        print(msg)\n",
        "\n",
        "        temp = self.first\n",
        "\n",
        "        while temp is not None:\n",
        "            print(temp.value)\n",
        "            temp = temp.next\n",
        "\n",
        "        print('\\n')\n",
        "        print(f\"Queue Length = {self.length}\")\n",
        "        if self.first:\n",
        "            print(f\"Queue First = {self.first.value}\")\n",
        "        else:\n",
        "            print(\"Queue First = None\")\n",
        "\n",
        "        if self.last:\n",
        "            print(f\"Queue Last = {self.last.value}\")\n",
        "        else:\n",
        "            print(\"Queue Last = None\")\n",
        "\n",
        "    def enqueue(self,value):\n",
        "        # create a new node\n",
        "        new_node = Node(value)\n",
        "\n",
        "        if self.length == 0:\n",
        "            self.first = new_node\n",
        "            self.last = new_node\n",
        "        else:\n",
        "            temp = self.last\n",
        "            temp.next = new_node\n",
        "            self.last = new_node\n",
        "\n",
        "        self.length += 1\n",
        "        return True"
      ],
      "metadata": {
        "id": "KZ7m0YG75V2d"
      },
      "execution_count": 45,
      "outputs": []
    },
    {
      "cell_type": "code",
      "source": [
        "my_queue = Queue(99)\n",
        "my_queue.make_empty()\n",
        "my_queue.print_queue()\n",
        "my_queue.enqueue(11)\n",
        "my_queue.enqueue(3)\n",
        "my_queue.enqueue(23)\n",
        "my_queue.enqueue(7)\n",
        "my_queue.print_queue(\"Queue Updated : \")"
      ],
      "metadata": {
        "colab": {
          "base_uri": "https://localhost:8080/"
        },
        "id": "x0MF5DIM54Bb",
        "outputId": "b13f1497-bde0-4374-e5aa-5be0803c1206"
      },
      "execution_count": 44,
      "outputs": [
        {
          "output_type": "stream",
          "name": "stdout",
          "text": [
            "--------------\n",
            "Queue created : \n",
            "\n",
            "\n",
            "Queue Length = 0\n",
            "Queue First = None\n",
            "Queue Last = None\n",
            "--------------\n",
            "Queue Updated : \n",
            "11\n",
            "3\n",
            "23\n",
            "7\n",
            "\n",
            "\n",
            "Queue Length = 4\n",
            "Queue First = 11\n",
            "Queue Last = 7\n"
          ]
        }
      ]
    },
    {
      "cell_type": "code",
      "source": [],
      "metadata": {
        "id": "j6pgg8b-6IU7"
      },
      "execution_count": null,
      "outputs": []
    },
    {
      "cell_type": "markdown",
      "source": [
        "# Queue : Dequeue"
      ],
      "metadata": {
        "id": "DrHeYOH79G6a"
      }
    },
    {
      "cell_type": "code",
      "source": [
        "class Node:\n",
        "\n",
        "    def __init__(self,value):\n",
        "        self.value = value\n",
        "        self.next = None\n",
        "\n",
        "class Queue:\n",
        "\n",
        "    def __init__(self,value):\n",
        "        # create a new node\n",
        "        new_node = Node(value)\n",
        "        self.first = new_node\n",
        "        self.last = new_node\n",
        "        self.length = 1\n",
        "\n",
        "    def make_empty(self):\n",
        "        self.first = None\n",
        "        self.last = None\n",
        "        self.length = 0\n",
        "\n",
        "    def print_queue(self,msg = \"Queue created : \"):\n",
        "        print(\"--------------\")\n",
        "        print(msg)\n",
        "\n",
        "        temp = self.first\n",
        "\n",
        "        while temp is not None:\n",
        "            print(temp.value)\n",
        "            temp = temp.next\n",
        "\n",
        "        print('\\n')\n",
        "        print(f\"Queue Length = {self.length}\")\n",
        "        if self.first:\n",
        "            print(f\"Queue First = {self.first.value}\")\n",
        "        else:\n",
        "            print(\"Queue First = None\")\n",
        "\n",
        "        if self.last:\n",
        "            print(f\"Queue Last = {self.last.value}\")\n",
        "        else:\n",
        "            print(\"Queue Last = None\")\n",
        "\n",
        "    def enqueue(self,value):\n",
        "        # create a new node\n",
        "        new_node = Node(value)\n",
        "\n",
        "        if self.length == 0:\n",
        "            self.first = new_node\n",
        "            self.last = new_node\n",
        "        else:\n",
        "            temp = self.last\n",
        "            temp.next = new_node\n",
        "            self.last = new_node\n",
        "\n",
        "        self.length += 1\n",
        "        return True\n",
        "\n",
        "    def dequeue(self):\n",
        "\n",
        "        if self.first is None:\n",
        "            return None\n",
        "\n",
        "        temp = self.first\n",
        "\n",
        "        if self.length == 1:\n",
        "            self.first = None\n",
        "            self.last = None\n",
        "        else:\n",
        "            self.first = temp.next\n",
        "\n",
        "        temp.next = None\n",
        "        self.length -= 1\n",
        "\n",
        "        return temp"
      ],
      "metadata": {
        "id": "KmXkts899Ikb"
      },
      "execution_count": 46,
      "outputs": []
    },
    {
      "cell_type": "code",
      "source": [
        "my_queue = Queue(11)\n",
        "my_queue.enqueue(3)\n",
        "my_queue.enqueue(23)\n",
        "my_queue.enqueue(7)\n",
        "my_queue.print_queue()\n",
        "\n",
        "dequeued_node = my_queue.dequeue()\n",
        "if dequeued_node:\n",
        "    print(f\"Dequeue Node : {dequeued_node.value}\")\n",
        "else:\n",
        "    print(\"Dequeue Node = None\")\n",
        "\n",
        "my_queue.print_queue(\"Queue Updated\")"
      ],
      "metadata": {
        "colab": {
          "base_uri": "https://localhost:8080/"
        },
        "id": "MSlodXqX9Nfp",
        "outputId": "af586906-264a-4969-9f12-6dd70b56fca2"
      },
      "execution_count": 47,
      "outputs": [
        {
          "output_type": "stream",
          "name": "stdout",
          "text": [
            "--------------\n",
            "Queue created : \n",
            "11\n",
            "3\n",
            "23\n",
            "7\n",
            "\n",
            "\n",
            "Queue Length = 4\n",
            "Queue First = 11\n",
            "Queue Last = 7\n",
            "Dequeue Node : 11\n",
            "--------------\n",
            "Queue Updated\n",
            "3\n",
            "23\n",
            "7\n",
            "\n",
            "\n",
            "Queue Length = 3\n",
            "Queue First = 3\n",
            "Queue Last = 7\n"
          ]
        }
      ]
    },
    {
      "cell_type": "code",
      "source": [],
      "metadata": {
        "id": "gxNW5Za49r-s"
      },
      "execution_count": null,
      "outputs": []
    }
  ]
}