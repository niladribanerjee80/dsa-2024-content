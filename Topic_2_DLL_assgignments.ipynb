{
  "nbformat": 4,
  "nbformat_minor": 0,
  "metadata": {
    "colab": {
      "provenance": [],
      "authorship_tag": "ABX9TyMLYyoZGATsxt/ByoTjkx0S",
      "include_colab_link": true
    },
    "kernelspec": {
      "name": "python3",
      "display_name": "Python 3"
    },
    "language_info": {
      "name": "python"
    }
  },
  "cells": [
    {
      "cell_type": "markdown",
      "metadata": {
        "id": "view-in-github",
        "colab_type": "text"
      },
      "source": [
        "<a href=\"https://colab.research.google.com/github/niladribanerjee80/DSA_Scott_Barett/blob/main/Topic_2_DLL_assgignments.ipynb\" target=\"_parent\"><img src=\"https://colab.research.google.com/assets/colab-badge.svg\" alt=\"Open In Colab\"/></a>"
      ]
    },
    {
      "cell_type": "markdown",
      "source": [
        "#DLL : Swap first and last"
      ],
      "metadata": {
        "id": "AlyIcxte8CEK"
      }
    },
    {
      "cell_type": "markdown",
      "source": [
        "DLL: Swap First and Last\n",
        "Swap the values of the first and last node\n",
        "\n",
        "Method name:\n",
        "swap_first_last\n",
        "\n",
        "Note that the pointers to the nodes themselves are not swapped - only their values are exchanged.\n"
      ],
      "metadata": {
        "id": "WtnCBLEj8OfM"
      }
    },
    {
      "cell_type": "markdown",
      "source": [
        "## Code"
      ],
      "metadata": {
        "id": "fQZeFiSo8cBa"
      }
    },
    {
      "cell_type": "code",
      "execution_count": null,
      "metadata": {
        "id": "YXgOLdxK7JAj"
      },
      "outputs": [],
      "source": [
        "class Node:\n",
        "    def __init__(self, value):\n",
        "        self.value = value\n",
        "        self.next = None\n",
        "        self.prev = None\n",
        "\n",
        "\n",
        "class DoublyLinkedList:\n",
        "    def __init__(self, value):\n",
        "        new_node = Node(value)\n",
        "        self.head = new_node\n",
        "        self.tail = new_node\n",
        "        self.length = 1\n",
        "\n",
        "    def print_list(self):\n",
        "        temp = self.head\n",
        "        while temp is not None:\n",
        "            print(temp.value)\n",
        "            temp = temp.next\n",
        "\n",
        "    def append(self, value):\n",
        "        new_node = Node(value)\n",
        "        if self.head is None:\n",
        "            self.head = new_node\n",
        "            self.tail = new_node\n",
        "        else:\n",
        "            self.tail.next = new_node\n",
        "            new_node.prev = self.tail\n",
        "            self.tail = new_node\n",
        "        self.length += 1\n",
        "        return True\n",
        "\n",
        "    # WRITE SWAP_FIRST_LAST METHOD HERE #\n",
        "    #                                   #\n",
        "    #                                   #\n",
        "    #                                   #\n",
        "    #                                   #\n",
        "    #####################################"
      ]
    },
    {
      "cell_type": "markdown",
      "source": [
        "## Test Cases"
      ],
      "metadata": {
        "id": "gm4tzF8s8d3w"
      }
    },
    {
      "cell_type": "code",
      "source": [
        "my_doubly_linked_list = DoublyLinkedList(1)\n",
        "my_doubly_linked_list.append(2)\n",
        "my_doubly_linked_list.append(3)\n",
        "my_doubly_linked_list.append(4)\n",
        "\n",
        "\n",
        "print('DLL before swap_first_last():')\n",
        "my_doubly_linked_list.print_list()\n",
        "\n",
        "\n",
        "my_doubly_linked_list.swap_first_last()\n",
        "\n",
        "\n",
        "print('\\nDLL after swap_first_last():')\n",
        "my_doubly_linked_list.print_list()\n",
        "\n",
        "\n",
        "\n",
        "# \"\"\"\n",
        "#     EXPECTED OUTPUT:\n",
        "#     ----------------\n",
        "#     DLL before swap_first_last():\n",
        "#     1\n",
        "#     2\n",
        "#     3\n",
        "#     4\n",
        "\n",
        "#     DLL after swap_first_last():\n",
        "#     4\n",
        "#     2\n",
        "#     3\n",
        "#     1\n",
        "\n",
        "# \"\"\""
      ],
      "metadata": {
        "id": "fHMrZVCd8e9s"
      },
      "execution_count": null,
      "outputs": []
    },
    {
      "cell_type": "code",
      "source": [],
      "metadata": {
        "id": "GGC2bVd78i2j"
      },
      "execution_count": null,
      "outputs": []
    },
    {
      "cell_type": "markdown",
      "source": [
        "# DLL: Reverse"
      ],
      "metadata": {
        "id": "PM4xWk9G8h6p"
      }
    },
    {
      "cell_type": "markdown",
      "source": [
        "DLL: Reverse\n",
        "Create a new method called reverse that reverses the order of the nodes in the list, i.e., the first node becomes the last node, the second node becomes the second-to-last node, and so on.\n",
        "\n",
        "To do this, you'll need to traverse the list and change the direction of the pointers between the nodes so that they point in the opposite direction.\n",
        "\n",
        "Do not change the value of any of the nodes.\n",
        "\n",
        "Once you've done this for all nodes, you'll also need to update the head and tail pointers to reflect the new order of the nodes."
      ],
      "metadata": {
        "id": "zrvl3UVB8q-q"
      }
    },
    {
      "cell_type": "markdown",
      "source": [
        "## Code"
      ],
      "metadata": {
        "id": "1SyennWm9xwg"
      }
    },
    {
      "cell_type": "code",
      "source": [
        "class Node:\n",
        "    def __init__(self, value):\n",
        "        self.value = value\n",
        "        self.next = None\n",
        "        self.prev = None\n",
        "\n",
        "\n",
        "class DoublyLinkedList:\n",
        "    def __init__(self, value):\n",
        "        new_node = Node(value)\n",
        "        self.head = new_node\n",
        "        self.tail = new_node\n",
        "        self.length = 1\n",
        "\n",
        "    def print_list(self):\n",
        "        temp = self.head\n",
        "        while temp is not None:\n",
        "            print(temp.value)\n",
        "            temp = temp.next\n",
        "\n",
        "    def append(self, value):\n",
        "        new_node = Node(value)\n",
        "        if self.head is None:\n",
        "            self.head = new_node\n",
        "            self.tail = new_node\n",
        "        else:\n",
        "            self.tail.next = new_node\n",
        "            new_node.prev = self.tail\n",
        "            self.tail = new_node\n",
        "        self.length += 1\n",
        "        return True\n",
        "\n",
        "\n",
        "    ## WRITE REVERSE METHOD HERE ##\n",
        "    #                             #\n",
        "    #                             #\n",
        "    #                             #\n",
        "    #                             #\n",
        "    ###############################"
      ],
      "metadata": {
        "id": "ACkTdheL8p2x"
      },
      "execution_count": null,
      "outputs": []
    },
    {
      "cell_type": "markdown",
      "source": [
        "## Test Cases"
      ],
      "metadata": {
        "id": "rf0eNSLM84nZ"
      }
    },
    {
      "cell_type": "code",
      "source": [
        "my_doubly_linked_list = DoublyLinkedList(1)\n",
        "my_doubly_linked_list.append(2)\n",
        "my_doubly_linked_list.append(3)\n",
        "my_doubly_linked_list.append(4)\n",
        "my_doubly_linked_list.append(5)\n",
        "\n",
        "\n",
        "print('DLL before reverse():')\n",
        "my_doubly_linked_list.print_list()\n",
        "\n",
        "\n",
        "my_doubly_linked_list.reverse()\n",
        "\n",
        "\n",
        "print('\\nDLL after reverse():')\n",
        "my_doubly_linked_list.print_list()\n",
        "\n",
        "# \"\"\"\n",
        "#     EXPECTED OUTPUT:\n",
        "#     ----------------\n",
        "#     DLL before reverse():\n",
        "#     1\n",
        "#     2\n",
        "#     3\n",
        "#     4\n",
        "#     5\n",
        "\n",
        "#     DLL after reverse():\n",
        "#     5\n",
        "#     4\n",
        "#     3\n",
        "#     2\n",
        "#     1\n",
        "\n",
        "# \"\"\""
      ],
      "metadata": {
        "id": "ri8CLdKf8zQB"
      },
      "execution_count": null,
      "outputs": []
    },
    {
      "cell_type": "markdown",
      "source": [
        "# DLL : Palindrome Checker"
      ],
      "metadata": {
        "id": "675XDIZm9ANI"
      }
    },
    {
      "cell_type": "markdown",
      "source": [
        "Write a method to determine whether a given doubly linked list reads the same forwards and backwards.\n",
        "\n",
        "For example, if the list contains the values [1, 2, 3, 2, 1], then the method should return True, since the list is a palindrome.\n",
        "\n",
        "If the list contains the values [1, 2, 3, 4, 5], then the method should return False, since the list is not a palindrome.\n",
        "\n",
        "Method name:\n",
        "is_palindrome"
      ],
      "metadata": {
        "id": "7bQsRXaV9Igv"
      }
    },
    {
      "cell_type": "markdown",
      "source": [
        "## Code"
      ],
      "metadata": {
        "id": "h_EmXpFJ91_Z"
      }
    },
    {
      "cell_type": "code",
      "source": [
        "class Node:\n",
        "    def __init__(self, value):\n",
        "        self.value = value\n",
        "        self.next = None\n",
        "        self.prev = None\n",
        "\n",
        "\n",
        "class DoublyLinkedList:\n",
        "    def __init__(self, value):\n",
        "        new_node = Node(value)\n",
        "        self.head = new_node\n",
        "        self.tail = new_node\n",
        "        self.length = 1\n",
        "\n",
        "    def print_list(self):\n",
        "        temp = self.head\n",
        "        while temp is not None:\n",
        "            print(temp.value)\n",
        "            temp = temp.next\n",
        "\n",
        "    def append(self, value):\n",
        "        new_node = Node(value)\n",
        "        if self.head is None:\n",
        "            self.head = new_node\n",
        "            self.tail = new_node\n",
        "        else:\n",
        "            self.tail.next = new_node\n",
        "            new_node.prev = self.tail\n",
        "            self.tail = new_node\n",
        "        self.length += 1\n",
        "        return True\n",
        "\n",
        "    # WRITE IS_PALINDROME METHOD HERE #\n",
        "    #                                 #\n",
        "    #                                 #\n",
        "    #                                 #\n",
        "    #                                 #\n",
        "    ###################################"
      ],
      "metadata": {
        "id": "yyKfEBrb9DjR"
      },
      "execution_count": null,
      "outputs": []
    },
    {
      "cell_type": "markdown",
      "source": [
        "## Test Cases"
      ],
      "metadata": {
        "id": "CXw9a5tu9k8s"
      }
    },
    {
      "cell_type": "code",
      "source": [
        "my_dll_1 = DoublyLinkedList(1)\n",
        "my_dll_1.append(2)\n",
        "my_dll_1.append(3)\n",
        "my_dll_1.append(2)\n",
        "my_dll_1.append(1)\n",
        "\n",
        "print('my_dll_1 is_palindrome:')\n",
        "print( my_dll_1.is_palindrome() )\n",
        "\n",
        "\n",
        "my_dll_2 = DoublyLinkedList(1)\n",
        "my_dll_2.append(2)\n",
        "my_dll_2.append(3)\n",
        "\n",
        "print('\\nmy_dll_2 is_palindrome:')\n",
        "print( my_dll_2.is_palindrome() )\n",
        "\n",
        "\n",
        "# \"\"\"\n",
        "#     EXPECTED OUTPUT:\n",
        "#     ----------------\n",
        "#     my_dll_1 is_palindrome:\n",
        "#     True\n",
        "\n",
        "#     my_dll_2 is_palindrome:\n",
        "#     False\n",
        "\n",
        "# \"\"\""
      ],
      "metadata": {
        "id": "rFj70hiY9NoX"
      },
      "execution_count": null,
      "outputs": []
    },
    {
      "cell_type": "markdown",
      "source": [
        "# DLL : Swap Nodes in pairs"
      ],
      "metadata": {
        "id": "s01dFqa69ULi"
      }
    },
    {
      "cell_type": "markdown",
      "source": [
        "ATTENTION: Advanced Doubly Linked List Challenge Ahead!\n",
        "\n",
        "This question is acknowledged as one of the more intricate challenges within the Doubly Linked List section. It's not unusual for students to find this task quite formidable at this point in the course.\n",
        "\n",
        "If you're considering diving into this problem, it's crucial to approach it methodically. I recommend drawing out the list structures and operations to better visualize the problem. This challenge demands a deep understanding of Doubly Linked Lists' unique characteristics and manipulation techniques.\n",
        "\n",
        "Use this opportunity to deepen your understanding, but also remember it's absolutely fine to come back to this problem later if it feels overwhelming now. Progress in complex concepts like these sometimes requires stepping back and revisiting with fresh insights. Good luck, and remember that perseverance is key in mastering these advanced topics!\n",
        "\n",
        "Now, here is the problem:\n",
        "\n",
        "_________________________________\n",
        "\n",
        "\n",
        "\n",
        "You are given a doubly linked list.\n",
        "\n",
        "Implement a method called swap_pairs within the class that swaps the values of adjacent nodes in the linked list. The method should not take any input parameters.\n",
        "\n",
        "Note: This DoublyLinkedList does not have a tail pointer which will make the implementation easier.\n",
        "\n",
        "Example:\n",
        "\n",
        "1 <-> 2 <-> 3 <-> 4 should become 2 <-> 1 <-> 4 <-> 3\n",
        "\n",
        "Your implementation should handle edge cases such as an empty linked list or a linked list with only one node.\n",
        "\n",
        "Note: You must solve the problem WITHOUT MODIFYING THE VALUES in the list's nodes (i.e., only the nodes' prev and next pointers may be changed.)\n"
      ],
      "metadata": {
        "id": "b5ZesBmg9XYS"
      }
    },
    {
      "cell_type": "markdown",
      "source": [
        "## Code"
      ],
      "metadata": {
        "id": "4RUVPPl4955o"
      }
    },
    {
      "cell_type": "code",
      "source": [
        "class Node:\n",
        "    def __init__(self, value):\n",
        "        self.value = value\n",
        "        self.next = None\n",
        "        self.prev = None\n",
        "\n",
        "\n",
        "class DoublyLinkedList:\n",
        "    def __init__(self, value):\n",
        "        new_node = Node(value)\n",
        "        self.head = new_node\n",
        "        self.length = 1\n",
        "\n",
        "    def print_list(self):\n",
        "        output = []\n",
        "        current_node = self.head\n",
        "        while current_node is not None:\n",
        "            output.append(str(current_node.value))\n",
        "            current_node = current_node.next\n",
        "        print(\" <-> \".join(output))\n",
        "\n",
        "    def append(self, value):\n",
        "        new_node = Node(value)\n",
        "        if self.head is None:\n",
        "            self.head = new_node\n",
        "        else:\n",
        "            temp = self.head\n",
        "            while temp.next is not None:\n",
        "                temp = temp.next\n",
        "            temp.next = new_node\n",
        "            new_node.prev = temp\n",
        "        self.length += 1\n",
        "        return True\n",
        "\n",
        "    # WRITE SWAP_PAIRS METHOD HERE #\n",
        "    #                              #\n",
        "    #                              #\n",
        "    #                              #\n",
        "    #                              #\n",
        "    ################################"
      ],
      "metadata": {
        "id": "cy2bwbKt9W0X"
      },
      "execution_count": null,
      "outputs": []
    },
    {
      "cell_type": "markdown",
      "source": [
        "## Test Cases"
      ],
      "metadata": {
        "id": "tf96u3DQ9hRI"
      }
    },
    {
      "cell_type": "code",
      "source": [
        "my_dll = DoublyLinkedList(1)\n",
        "my_dll.append(2)\n",
        "my_dll.append(3)\n",
        "my_dll.append(4)\n",
        "\n",
        "print('my_dll before swap_pairs:')\n",
        "my_dll.print_list()\n",
        "\n",
        "my_dll.swap_pairs()\n",
        "\n",
        "\n",
        "print('my_dll after swap_pairs:')\n",
        "my_dll.print_list()\n",
        "\n",
        "\n",
        "# \"\"\"\n",
        "#     EXPECTED OUTPUT:\n",
        "#     ----------------\n",
        "#     my_dll before swap_pairs:\n",
        "#     1 <-> 2 <-> 3 <-> 4\n",
        "#     ------------------------\n",
        "#     my_dll after swap_pairs:\n",
        "#     2 <-> 1 <-> 4 <-> 3\n",
        "\n",
        "# \"\"\""
      ],
      "metadata": {
        "id": "X4Zxe6X-9g2I"
      },
      "execution_count": null,
      "outputs": []
    }
  ]
}
