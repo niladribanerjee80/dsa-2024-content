{
  "nbformat": 4,
  "nbformat_minor": 0,
  "metadata": {
    "colab": {
      "provenance": [],
      "toc_visible": true,
      "authorship_tag": "ABX9TyNgJaPKnFtp7CyB/nu+A8bu",
      "include_colab_link": true
    },
    "kernelspec": {
      "name": "python3",
      "display_name": "Python 3"
    },
    "language_info": {
      "name": "python"
    }
  },
  "cells": [
    {
      "cell_type": "markdown",
      "metadata": {
        "id": "view-in-github",
        "colab_type": "text"
      },
      "source": [
        "<a href=\"https://colab.research.google.com/github/niladribanerjee80/DSA_Scott_Barett/blob/main/Topic_1_SLL.ipynb\" target=\"_parent\"><img src=\"https://colab.research.google.com/assets/colab-badge.svg\" alt=\"Open In Colab\"/></a>"
      ]
    },
    {
      "cell_type": "code",
      "source": [
        "# Creating the Linked List\n",
        "node_7 = {\n",
        "    \"value\" : 7,\n",
        "    \"next\"  : None\n",
        "}\n",
        "\n",
        "node_23 = {\n",
        "    \"value\" : 23,\n",
        "    \"next\"  : node_7\n",
        "}\n",
        "\n",
        "node_3 = {\n",
        "    \"value\" : 3,\n",
        "    \"next\"  : node_23\n",
        "}\n",
        "\n",
        "node_11 = {\n",
        "    \"value\" : 11,\n",
        "    \"next\"  : node_3\n",
        "}"
      ],
      "metadata": {
        "id": "LoM7ZDzyOX0S"
      },
      "execution_count": null,
      "outputs": []
    },
    {
      "cell_type": "code",
      "source": [
        "# ---------------\n",
        "# head -> 11 -> 3 -> 23 -> 7 -> None\n",
        "# this is what was covered in class\n",
        "# ---------------\n",
        "\n",
        "head = {\n",
        "    \"value\": 11,\n",
        "    \"next\": {\n",
        "        \"value\" : 3,\n",
        "        \"next\"  : {\n",
        "            \"value\" : 23,\n",
        "            \"next\" : {\n",
        "                \"value\" : 7,\n",
        "                \"next\" : None\n",
        "            }\n",
        "\n",
        "        }\n",
        "    }\n",
        "}"
      ],
      "metadata": {
        "id": "ON_yYCaSP1Hy"
      },
      "execution_count": null,
      "outputs": []
    },
    {
      "cell_type": "code",
      "source": [
        "print(head[\"next\"][\"next\"][\"value\"])"
      ],
      "metadata": {
        "colab": {
          "base_uri": "https://localhost:8080/"
        },
        "id": "ZHuSReJuQmOW",
        "outputId": "c5adeca5-d18c-4002-920c-f661bcfb3a14"
      },
      "execution_count": null,
      "outputs": [
        {
          "output_type": "stream",
          "name": "stdout",
          "text": [
            "23\n"
          ]
        }
      ]
    },
    {
      "cell_type": "markdown",
      "source": [
        "#Linked List"
      ],
      "metadata": {
        "id": "nJhGphXUhOtz"
      }
    },
    {
      "cell_type": "code",
      "source": [
        "class Node:\n",
        "\n",
        "    def __init__(self,value):\n",
        "        self.value = value\n",
        "        self.next = None"
      ],
      "metadata": {
        "id": "2S4abPizTKsy"
      },
      "execution_count": 2,
      "outputs": []
    },
    {
      "cell_type": "code",
      "source": [
        "class LinkedList:\n",
        "\n",
        "    def __init__(self,value):\n",
        "        # create a new node\n",
        "        new_node = Node(value)\n",
        "\n",
        "        # assign values\n",
        "        self.head = new_node\n",
        "        self.tail = new_node\n",
        "        self.length = 1\n",
        "\n",
        "    def make_empty(self):\n",
        "        self.head = None\n",
        "        self.tail = None\n",
        "        self.length = 0\n",
        "\n",
        "    # prints all values of linked list\n",
        "    def print_list(self,msg):\n",
        "        print('--------')\n",
        "        print(msg)\n",
        "        print('--------')\n",
        "        # get the 1st element\n",
        "        temp = self.head\n",
        "\n",
        "        # traverse the list\n",
        "        while temp is not None:\n",
        "            print(temp.value)\n",
        "            temp = temp.next\n",
        "\n",
        "    def append(self,value):\n",
        "        # create a new node with the new element\n",
        "        new_node = Node(value)\n",
        "\n",
        "        # check if the list is empty\n",
        "        if self.head is None:\n",
        "            self.head = new_node\n",
        "            self.tail = new_node\n",
        "        else:\n",
        "            # items already present in linked list\n",
        "            self.tail.next = new_node # set the last element point to new node created\n",
        "            self.tail = new_node # set the tail variable to new_node\n",
        "\n",
        "        # increment the counter\n",
        "        self.length += 1\n",
        "        return True\n",
        "\n",
        "    def prepend(self,value):\n",
        "        # create a new node with the new element\n",
        "        new_node = Node(value)\n",
        "\n",
        "        if self.length == 0:\n",
        "            self.head = new_node\n",
        "            self.tail = new_node\n",
        "        else:\n",
        "            new_node.next = self.head\n",
        "            self.head = new_node\n",
        "        self.length += 1\n",
        "        return True\n",
        "\n",
        "    def pop(self):\n",
        "        # other ways : | if self.head is None | if self.tail is None\n",
        "        if self.length == 0:\n",
        "            return None\n",
        "\n",
        "        temp = self.head\n",
        "        pre = self.head\n",
        "\n",
        "        while(temp.next):\n",
        "            pre = temp\n",
        "            temp = temp.next\n",
        "\n",
        "        self.tail = pre\n",
        "        self.tail.next = None\n",
        "        self.length -= 1\n",
        "\n",
        "        # now if the length is 0\n",
        "        if self.length == 0:\n",
        "            self.head = None\n",
        "            self.tail = None\n",
        "\n",
        "        # return the popped item\n",
        "        return temp\n",
        "\n",
        "    def pop_first(self):\n",
        "        if self.length == 0:\n",
        "            return None\n",
        "\n",
        "        popped_node = self.head\n",
        "\n",
        "        if self.length == 1:\n",
        "            self.head = None\n",
        "            self.tail = None\n",
        "        else:\n",
        "            self.head = self.head.next\n",
        "\n",
        "        popped_node.next = None\n",
        "\n",
        "        self.length -= 1\n",
        "        return popped_node\n",
        "\n",
        "\n",
        "    def get(self,index):\n",
        "        # return the node at that index\n",
        "        if index < 0 or index >= self.length:\n",
        "            return None\n",
        "\n",
        "        if self.length == 0:\n",
        "            return None\n",
        "\n",
        "        temp = self.head\n",
        "\n",
        "        for _ in range(index):\n",
        "            temp = temp.next\n",
        "\n",
        "        return temp\n",
        "\n",
        "\n",
        "    def set_value(self,index,value):\n",
        "        temp = self.get(index)\n",
        "\n",
        "        if temp: # if temp is not None\n",
        "            temp.value = value\n",
        "            return True\n",
        "        else:\n",
        "            return False\n",
        "\n",
        "    def insert(self,index,value):\n",
        "        if index < 0 or index > self.length:\n",
        "            return False\n",
        "\n",
        "        if index == 0:\n",
        "            return self.prepend(value)\n",
        "\n",
        "        if index == self.length:\n",
        "            return self.append(value)\n",
        "\n",
        "        new_node = Node(value)\n",
        "        temp = self.get(index-1)\n",
        "        new_node.next = temp.next\n",
        "        temp.next = new_node\n",
        "        self.length += 1\n",
        "\n",
        "        return True\n",
        "\n",
        "    def remove(self,index):\n",
        "        if index < 0 or index >= self.length:\n",
        "            return None\n",
        "\n",
        "        if index == 0:\n",
        "            return self.pop_first()\n",
        "\n",
        "        if index == self.length - 1:\n",
        "            return self.pop()\n",
        "\n",
        "        pre = self.get(index-1)\n",
        "        temp = pre.next\n",
        "        post = temp.next\n",
        "        pre.next = post\n",
        "        temp.next = None\n",
        "        self.length -= 1\n",
        "        return temp\n",
        "\n",
        "    def reverse(self):\n",
        "        if self.length <= 1:\n",
        "            return None\n",
        "\n",
        "        # swap head and tail\n",
        "        temp = self.head\n",
        "        self.head = self.tail # head is now gone to tail position\n",
        "        self.tail = temp # tail has now gone to head position\n",
        "\n",
        "        # set a variable before\n",
        "        before = None\n",
        "\n",
        "        for _ in range(self.length):\n",
        "            after = temp.next # moves to 23\n",
        "            temp.next = before # reverses the pointer\n",
        "            before = temp\n",
        "            temp = after"
      ],
      "metadata": {
        "id": "TSfB8PwEhWAb"
      },
      "execution_count": 19,
      "outputs": []
    },
    {
      "cell_type": "markdown",
      "source": [
        "## Test Linked List creation"
      ],
      "metadata": {
        "id": "sXqW7uWs0OVc"
      }
    },
    {
      "cell_type": "code",
      "source": [
        "# create an object with arbitrary element\n",
        "my_linked_list = LinkedList(99)\n",
        "\n",
        "if my_linked_list is not None:\n",
        "    del my_linked_list\n",
        "\n",
        "# Test creating a new linked list\n",
        "my_linked_list = LinkedList(7)\n",
        "print(my_linked_list.head.value)"
      ],
      "metadata": {
        "colab": {
          "base_uri": "https://localhost:8080/"
        },
        "id": "cqKbRrKMiJLw",
        "outputId": "1ac540c1-739b-492a-95ec-189a15ff3858"
      },
      "execution_count": null,
      "outputs": [
        {
          "output_type": "stream",
          "name": "stdout",
          "text": [
            "7\n"
          ]
        }
      ]
    },
    {
      "cell_type": "markdown",
      "source": [
        "## Test : append(value)"
      ],
      "metadata": {
        "id": "W_l8bSPA0g-b"
      }
    },
    {
      "cell_type": "code",
      "source": [
        "# create an object with arbitrary element\n",
        "my_linked_list = LinkedList(99)\n",
        "\n",
        "## Initial state = [head]-> 1 <-[tail]\n",
        "## after append 2 =  [head]-> 1 -> 2 <-[tail]\n",
        "\n",
        "if my_linked_list is not None:\n",
        "    del my_linked_list\n",
        "\n",
        "my_linked_list = LinkedList(1)\n",
        "my_linked_list.append(2)\n",
        "my_linked_list.append(3)\n",
        "my_linked_list.print_list(\"After append\")"
      ],
      "metadata": {
        "colab": {
          "base_uri": "https://localhost:8080/"
        },
        "id": "wjwo5aP8iNe7",
        "outputId": "af3f99ff-dfde-4e0c-868e-e8aa1f6aea1d"
      },
      "execution_count": null,
      "outputs": [
        {
          "output_type": "stream",
          "name": "stdout",
          "text": [
            "--------\n",
            "After append\n",
            "--------\n",
            "1\n",
            "2\n",
            "3\n",
            "--------\n"
          ]
        }
      ]
    },
    {
      "cell_type": "markdown",
      "source": [
        "## Test : pop() - Try with multiple elements in the LL"
      ],
      "metadata": {
        "id": "b3Eeitve8Rcw"
      }
    },
    {
      "cell_type": "code",
      "source": [
        "# create an object with arbitrary element\n",
        "my_linked_list = LinkedList(99)\n",
        "\n",
        "# del my_linked_list\n",
        "if my_linked_list is not None:\n",
        "    del my_linked_list\n",
        "\n",
        "# first append\n",
        "my_linked_list = LinkedList(1)\n",
        "my_linked_list.append(2)\n",
        "my_linked_list.append(3)\n",
        "my_linked_list.print_list(\"First append\")\n",
        "\n",
        "# now pop\n",
        "popped_item = my_linked_list.pop()\n",
        "my_linked_list.print_list(\"After pop\")\n",
        "print('\\n')\n",
        "print(\"Popped item = \",popped_item.value)"
      ],
      "metadata": {
        "colab": {
          "base_uri": "https://localhost:8080/"
        },
        "id": "a01j0S47xE92",
        "outputId": "03605176-f3aa-42e9-9fd3-0f73508e76dd"
      },
      "execution_count": null,
      "outputs": [
        {
          "output_type": "stream",
          "name": "stdout",
          "text": [
            "--------\n",
            "First append\n",
            "--------\n",
            "1\n",
            "2\n",
            "3\n",
            "--------\n",
            "After pop\n",
            "--------\n",
            "1\n",
            "2\n",
            "\n",
            "\n",
            "Popped item =  3\n"
          ]
        }
      ]
    },
    {
      "cell_type": "markdown",
      "source": [
        "## Test : pop() - Try with 1 element in the LL"
      ],
      "metadata": {
        "id": "YhjLv6tCWsZg"
      }
    },
    {
      "cell_type": "code",
      "source": [
        "# create an object with arbitrary element\n",
        "my_linked_list = LinkedList(99)\n",
        "\n",
        "# del my_linked_list\n",
        "if my_linked_list is not None:\n",
        "    del my_linked_list\n",
        "\n",
        "# first append\n",
        "my_linked_list = LinkedList(1)\n",
        "my_linked_list.print_list(\"First append\")\n",
        "\n",
        "# now pop\n",
        "popped_item = my_linked_list.pop()\n",
        "my_linked_list.print_list(\"After pop\")\n",
        "print('\\n')\n",
        "print(\"Popped item = \",popped_item.value)"
      ],
      "metadata": {
        "id": "QnADbAVCxFB6",
        "colab": {
          "base_uri": "https://localhost:8080/"
        },
        "outputId": "2d4abd0d-cd1a-465c-84c9-dc4b981d427d"
      },
      "execution_count": null,
      "outputs": [
        {
          "output_type": "stream",
          "name": "stdout",
          "text": [
            "--------\n",
            "First append\n",
            "--------\n",
            "1\n",
            "--------\n",
            "After pop\n",
            "--------\n",
            "\n",
            "\n",
            "Popped item =  1\n"
          ]
        }
      ]
    },
    {
      "cell_type": "markdown",
      "source": [
        "## Test : prepend(value)"
      ],
      "metadata": {
        "id": "LYRJxIW2Kn3c"
      }
    },
    {
      "cell_type": "code",
      "source": [
        "my_linked_list = LinkedList(1)\n",
        "my_linked_list.append(2)\n",
        "my_linked_list.append(3)\n",
        "my_linked_list.print_list(\"After append\")\n",
        "\n",
        "my_linked_list.prepend(4)\n",
        "my_linked_list.print_list(\"After Prepend\")\n",
        "\n",
        "\n",
        "# Try when there was an empty linked list\n",
        "my_linked_list.make_empty()\n",
        "my_linked_list.prepend(4)\n",
        "my_linked_list.print_list(\"After Prepend when empty list\")"
      ],
      "metadata": {
        "id": "YFcocCKXxFF0",
        "colab": {
          "base_uri": "https://localhost:8080/"
        },
        "outputId": "c0cd2069-baa4-4b0c-e297-83aa34e905d8"
      },
      "execution_count": null,
      "outputs": [
        {
          "output_type": "stream",
          "name": "stdout",
          "text": [
            "--------\n",
            "After append\n",
            "--------\n",
            "1\n",
            "2\n",
            "3\n",
            "--------\n",
            "After Prepend\n",
            "--------\n",
            "4\n",
            "1\n",
            "2\n",
            "3\n",
            "--------\n",
            "After Prepend when empty list\n",
            "--------\n",
            "4\n"
          ]
        }
      ]
    },
    {
      "cell_type": "markdown",
      "source": [
        "## Test : pop_first()"
      ],
      "metadata": {
        "id": "u6wgHK7yUPMk"
      }
    },
    {
      "cell_type": "code",
      "source": [
        "# create an object with arbitrary element\n",
        "my_linked_list = LinkedList(99)\n",
        "\n",
        "# del my_linked_list\n",
        "if my_linked_list is not None:\n",
        "    del my_linked_list\n",
        "\n",
        "# first append\n",
        "my_linked_list = LinkedList(1)\n",
        "my_linked_list.append(2)\n",
        "my_linked_list.append(3)\n",
        "my_linked_list.print_list(\"First append\")\n",
        "\n",
        "# now pop\n",
        "popped_item = my_linked_list.pop_first()\n",
        "print(\"popped item = \",popped_item.value)\n",
        "\n",
        "my_linked_list.print_list(\"after pop\")"
      ],
      "metadata": {
        "colab": {
          "base_uri": "https://localhost:8080/"
        },
        "id": "V6-bLz0fKnCF",
        "outputId": "cd5519f0-9b41-4581-8cc9-9d62713d0d91"
      },
      "execution_count": null,
      "outputs": [
        {
          "output_type": "stream",
          "name": "stdout",
          "text": [
            "--------\n",
            "First append\n",
            "--------\n",
            "1\n",
            "2\n",
            "3\n",
            "popped item =  1\n",
            "--------\n",
            "after pop\n",
            "--------\n",
            "2\n",
            "3\n"
          ]
        }
      ]
    },
    {
      "cell_type": "markdown",
      "source": [
        "## Test : get(index) - get the node at index"
      ],
      "metadata": {
        "id": "CG0ollhDK7CB"
      }
    },
    {
      "cell_type": "code",
      "source": [
        "# create an object with arbitrary element\n",
        "my_linked_list = LinkedList(99)\n",
        "\n",
        "# del my_linked_list\n",
        "if my_linked_list is not None:\n",
        "    del my_linked_list\n",
        "\n",
        "# first append\n",
        "my_linked_list = LinkedList(0)\n",
        "my_linked_list.append(1)\n",
        "my_linked_list.append(2)\n",
        "my_linked_list.append(3)\n",
        "my_linked_list.print_list(\"List Created\")\n",
        "\n",
        "# now pop\n",
        "# node_2 = my_linked_list.get(2)\n",
        "# print(\"node_2 = \",node_2.value)\n",
        "print('-------')\n",
        "print(\"node 2 : \",my_linked_list.get(2).value)"
      ],
      "metadata": {
        "id": "_PXuNF97KnJm",
        "colab": {
          "base_uri": "https://localhost:8080/"
        },
        "outputId": "e96726e6-bd3d-4234-e845-52aa053c20a9"
      },
      "execution_count": null,
      "outputs": [
        {
          "output_type": "stream",
          "name": "stdout",
          "text": [
            "--------\n",
            "List Created\n",
            "--------\n",
            "0\n",
            "1\n",
            "2\n",
            "3\n",
            "-------\n",
            "node 2 :  2\n"
          ]
        }
      ]
    },
    {
      "cell_type": "markdown",
      "source": [
        "## Test : set_value(index,value)"
      ],
      "metadata": {
        "id": "4hxXShKQUwGe"
      }
    },
    {
      "cell_type": "code",
      "source": [
        "# create an object with arbitrary element\n",
        "my_linked_list = LinkedList(99)\n",
        "\n",
        "# del my_linked_list\n",
        "if my_linked_list is not None:\n",
        "    del my_linked_list\n",
        "\n",
        "# first append\n",
        "my_linked_list = LinkedList(0)\n",
        "my_linked_list.append(1)\n",
        "my_linked_list.append(2)\n",
        "my_linked_list.append(3)\n",
        "my_linked_list.print_list(\"List Created\")\n",
        "\n",
        "my_linked_list.set_value(2,5)\n",
        "my_linked_list.print_list(\"List Updated\")\n"
      ],
      "metadata": {
        "id": "XgHN3pkMUvB9",
        "outputId": "4baf003b-0841-47c9-d748-55dd34f1cf2b",
        "colab": {
          "base_uri": "https://localhost:8080/"
        }
      },
      "execution_count": null,
      "outputs": [
        {
          "output_type": "stream",
          "name": "stdout",
          "text": [
            "--------\n",
            "List Created\n",
            "--------\n",
            "0\n",
            "1\n",
            "2\n",
            "3\n",
            "--------\n",
            "List Updated\n",
            "--------\n",
            "0\n",
            "1\n",
            "5\n",
            "3\n"
          ]
        }
      ]
    },
    {
      "cell_type": "markdown",
      "source": [
        "## Test : insert(index,value)"
      ],
      "metadata": {
        "id": "U007RFm_o7sQ"
      }
    },
    {
      "cell_type": "code",
      "source": [
        "# create an object with arbitrary element\n",
        "my_linked_list = LinkedList(99)\n",
        "\n",
        "# del my_linked_list\n",
        "if my_linked_list is not None:\n",
        "    del my_linked_list\n",
        "\n",
        "# first append\n",
        "my_linked_list = LinkedList(0)\n",
        "my_linked_list.append(1)\n",
        "my_linked_list.append(2)\n",
        "my_linked_list.append(3)\n",
        "my_linked_list.print_list(\"List Created\")\n",
        "\n",
        "# Test case : Insert at the beginning\n",
        "my_linked_list.insert(0,10)\n",
        "my_linked_list.print_list(\"List Updated - Insert 10 at beginning\")\n",
        "\n",
        "# del my_linked_list\n",
        "if my_linked_list is not None:\n",
        "    del my_linked_list\n",
        "\n",
        "# first append\n",
        "my_linked_list = LinkedList(0)\n",
        "my_linked_list.append(1)\n",
        "my_linked_list.append(2)\n",
        "my_linked_list.append(3)\n",
        "my_linked_list.print_list(\"List Created\")\n",
        "\n",
        "# Test case : Insert at the end\n",
        "my_linked_list.insert(3,90)\n",
        "my_linked_list.print_list(\"List Updated - Insert 90 at end\")\n",
        "\n",
        "# del my_linked_list\n",
        "if my_linked_list is not None:\n",
        "    del my_linked_list\n",
        "\n",
        "# first append\n",
        "my_linked_list = LinkedList(0)\n",
        "my_linked_list.append(1)\n",
        "my_linked_list.append(2)\n",
        "my_linked_list.append(3)\n",
        "my_linked_list.print_list(\"List Created\")\n",
        "\n",
        "# Test case : Insert at the middle\n",
        "my_linked_list.insert(2,45)\n",
        "my_linked_list.print_list(\"List Updated - Insert 45 at middle\")\n",
        "\n",
        "# del my_linked_list\n",
        "if my_linked_list is not None:\n",
        "    del my_linked_list\n",
        "\n",
        "\n",
        "my_linked_list = LinkedList(0)\n",
        "my_linked_list.print_list(\"List Created\")\n",
        "my_linked_list.insert(0,50)\n",
        "my_linked_list.print_list(\"List Updated\")"
      ],
      "metadata": {
        "id": "cv7siSvLIKGh",
        "colab": {
          "base_uri": "https://localhost:8080/"
        },
        "outputId": "37bda098-e6d7-46fb-e332-eafe5b96c21b"
      },
      "execution_count": 17,
      "outputs": [
        {
          "output_type": "stream",
          "name": "stdout",
          "text": [
            "--------\n",
            "List Created\n",
            "--------\n",
            "0\n",
            "1\n",
            "2\n",
            "3\n",
            "--------\n",
            "List Updated - Insert 10 at beginning\n",
            "--------\n",
            "10\n",
            "0\n",
            "1\n",
            "2\n",
            "3\n",
            "--------\n",
            "List Created\n",
            "--------\n",
            "0\n",
            "1\n",
            "2\n",
            "3\n",
            "--------\n",
            "List Updated - Insert 90 at end\n",
            "--------\n",
            "0\n",
            "1\n",
            "2\n",
            "90\n",
            "3\n",
            "--------\n",
            "List Created\n",
            "--------\n",
            "0\n",
            "1\n",
            "2\n",
            "3\n",
            "--------\n",
            "List Updated - Insert 45 at middle\n",
            "--------\n",
            "0\n",
            "1\n",
            "45\n",
            "2\n",
            "3\n",
            "--------\n",
            "List Created\n",
            "--------\n",
            "0\n",
            "--------\n",
            "List Updated\n",
            "--------\n",
            "50\n",
            "0\n"
          ]
        }
      ]
    },
    {
      "cell_type": "code",
      "source": [
        "my_linked_list = LinkedList(1)\n",
        "my_linked_list.append(3)\n",
        "\n",
        "my_linked_list.print_list(\"LL before insert():\")\n",
        "\n",
        "\n",
        "my_linked_list.insert(1,2)\n",
        "my_linked_list.print_list(\"LL after insert(2) in middle:\")\n",
        "\n",
        "\n",
        "my_linked_list.insert(0,0)\n",
        "my_linked_list.print_list(\"LL after insert(0) at beginning:\")\n",
        "\n",
        "\n",
        "my_linked_list.insert(4,4)\n",
        "my_linked_list.print_list(\"LL after insert(4) at end:\")"
      ],
      "metadata": {
        "id": "lwl_M2Pyk5pw",
        "outputId": "26054d10-e365-4238-c3bb-2c75b9ce136e",
        "colab": {
          "base_uri": "https://localhost:8080/"
        }
      },
      "execution_count": 15,
      "outputs": [
        {
          "output_type": "stream",
          "name": "stdout",
          "text": [
            "--------\n",
            "LL before insert():\n",
            "--------\n",
            "1\n",
            "3\n",
            "--------\n",
            "LL after insert(2) in middle:\n",
            "--------\n",
            "1\n",
            "3\n",
            "2\n",
            "--------\n",
            "LL after insert(0) at beginning:\n",
            "--------\n",
            "0\n",
            "1\n",
            "3\n",
            "2\n",
            "--------\n",
            "LL after insert(4) at end:\n",
            "--------\n",
            "0\n",
            "1\n",
            "3\n",
            "2\n"
          ]
        }
      ]
    },
    {
      "cell_type": "code",
      "source": [
        "\"\"\"\n",
        "    EXPECTED OUTPUT:\n",
        "    ----------------\n",
        "    LL before insert():\n",
        "    1\n",
        "    3\n",
        "\n",
        "    LL after insert(2) in middle:\n",
        "    1\n",
        "    2\n",
        "    3\n",
        "\n",
        "    LL after insert(0) at beginning:\n",
        "    0\n",
        "    1\n",
        "    2\n",
        "    3\n",
        "\n",
        "    LL after insert(4) at end:\n",
        "    0\n",
        "    1\n",
        "    2\n",
        "    3\n",
        "    4\n",
        "\n",
        "\"\"\""
      ],
      "metadata": {
        "id": "4VS5_4ywk6RQ"
      },
      "execution_count": null,
      "outputs": []
    },
    {
      "cell_type": "code",
      "source": [],
      "metadata": {
        "id": "iW1RGFdek6VM"
      },
      "execution_count": null,
      "outputs": []
    },
    {
      "cell_type": "code",
      "source": [],
      "metadata": {
        "id": "dpZj5wApk6Yz"
      },
      "execution_count": null,
      "outputs": []
    },
    {
      "cell_type": "markdown",
      "source": [
        "## Test : remove(index)"
      ],
      "metadata": {
        "id": "uVNqkNdc1f1H"
      }
    },
    {
      "cell_type": "code",
      "source": [
        "my_linked_list = LinkedList(99)\n",
        "\n",
        "# del my_linked_list\n",
        "if my_linked_list is not None:\n",
        "    del my_linked_list\n",
        "\n",
        "# first append\n",
        "my_linked_list = LinkedList(0)\n",
        "my_linked_list.print_list(\"List Created\")\n",
        "\n",
        "removed_node = my_linked_list.remove(0)\n",
        "print(\"removed node = \",removed_node.value)\n",
        "my_linked_list.print_list(\"List Updated\")\n",
        "\n",
        "# del my_linked_list\n",
        "if my_linked_list is not None:\n",
        "    del my_linked_list\n",
        "\n",
        "\n",
        "my_linked_list = LinkedList(0)\n",
        "\n",
        "n = 5\n",
        "for i in range(1,n):\n",
        "    my_linked_list.append(i)\n",
        "\n",
        "my_linked_list.print_list(\"List Created\")\n",
        "\n",
        "removed_node = my_linked_list.remove(2)\n",
        "print(\"removed node = \",removed_node.value)\n",
        "my_linked_list.print_list(\"List Updated\")\n",
        "\n",
        "removed_node = my_linked_list.remove(3)\n",
        "print(\"removed node = \",removed_node.value)\n",
        "my_linked_list.print_list(\"List Updated\")"
      ],
      "metadata": {
        "colab": {
          "base_uri": "https://localhost:8080/"
        },
        "id": "iSqIaVj3pG8D",
        "outputId": "927a3b61-0b45-4e60-9de2-cd03c12099f7"
      },
      "execution_count": null,
      "outputs": [
        {
          "output_type": "stream",
          "name": "stdout",
          "text": [
            "--------\n",
            "List Created\n",
            "--------\n",
            "0\n",
            "removed node =  0\n",
            "--------\n",
            "List Updated\n",
            "--------\n",
            "--------\n",
            "List Created\n",
            "--------\n",
            "0\n",
            "1\n",
            "2\n",
            "3\n",
            "4\n",
            "removed node =  2\n",
            "--------\n",
            "List Updated\n",
            "--------\n",
            "0\n",
            "1\n",
            "3\n",
            "4\n",
            "removed node =  4\n",
            "--------\n",
            "List Updated\n",
            "--------\n",
            "0\n",
            "1\n",
            "3\n"
          ]
        }
      ]
    },
    {
      "cell_type": "markdown",
      "source": [
        "## Test - reverse()"
      ],
      "metadata": {
        "id": "07IGy0MPARmU"
      }
    },
    {
      "cell_type": "code",
      "source": [
        "my_linked_list = LinkedList(99)\n",
        "\n",
        "# del my_linked_list\n",
        "if my_linked_list is not None:\n",
        "    del my_linked_list\n",
        "\n",
        "my_linked_list = LinkedList(0)\n",
        "\n",
        "n = 5\n",
        "for i in range(1,n):\n",
        "    my_linked_list.append(i)\n",
        "\n",
        "my_linked_list.print_list(\"List Created\")\n",
        "removed_node = my_linked_list.reverse()\n",
        "my_linked_list.print_list(\"List Updated\")"
      ],
      "metadata": {
        "colab": {
          "base_uri": "https://localhost:8080/"
        },
        "id": "07dM_BXG1eAl",
        "outputId": "f25155a3-1b64-4d02-aa54-0468c8e15b4c"
      },
      "execution_count": null,
      "outputs": [
        {
          "output_type": "stream",
          "name": "stdout",
          "text": [
            "--------\n",
            "List Created\n",
            "--------\n",
            "0\n",
            "1\n",
            "2\n",
            "3\n",
            "4\n",
            "--------\n",
            "List Updated\n",
            "--------\n",
            "4\n",
            "3\n",
            "2\n",
            "1\n",
            "0\n"
          ]
        }
      ]
    },
    {
      "cell_type": "markdown",
      "source": [
        "![image.png](data:image/png;base64,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)"
      ],
      "metadata": {
        "id": "_aXuVt5zAUCL"
      }
    },
    {
      "cell_type": "code",
      "source": [],
      "metadata": {
        "id": "SJnAOMDP_35o"
      },
      "execution_count": null,
      "outputs": []
    }
  ]
}
