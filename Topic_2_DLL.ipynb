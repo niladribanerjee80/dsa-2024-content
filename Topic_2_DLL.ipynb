{
  "nbformat": 4,
  "nbformat_minor": 0,
  "metadata": {
    "colab": {
      "provenance": [],
      "authorship_tag": "ABX9TyOoaJTUnYCpAGL7XGJr8Iry",
      "include_colab_link": true
    },
    "kernelspec": {
      "name": "python3",
      "display_name": "Python 3"
    },
    "language_info": {
      "name": "python"
    }
  },
  "cells": [
    {
      "cell_type": "markdown",
      "metadata": {
        "id": "view-in-github",
        "colab_type": "text"
      },
      "source": [
        "<a href=\"https://colab.research.google.com/github/niladribanerjee80/DSA_Scott_Barett/blob/main/Topic_2_DLL.ipynb\" target=\"_parent\"><img src=\"https://colab.research.google.com/assets/colab-badge.svg\" alt=\"Open In Colab\"/></a>"
      ]
    },
    {
      "cell_type": "markdown",
      "source": [
        "## Anatomy of a single node"
      ],
      "metadata": {
        "id": "WMWStniXiwld"
      }
    },
    {
      "cell_type": "code",
      "source": [
        "# diagram = Anatomy of Single node"
      ],
      "metadata": {
        "id": "RnMgNSCqM9e_"
      },
      "execution_count": null,
      "outputs": []
    },
    {
      "cell_type": "markdown",
      "source": [
        "![image.png](data:image/png;base64,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)"
      ],
      "metadata": {
        "id": "EYwXDsjohkat"
      }
    },
    {
      "cell_type": "markdown",
      "source": [
        "## Doubly Linked List Code"
      ],
      "metadata": {
        "id": "zntqsD0r08hN"
      }
    },
    {
      "cell_type": "code",
      "execution_count": null,
      "metadata": {
        "id": "RDvU9fKNcmVY"
      },
      "outputs": [],
      "source": [
        "class Node:\n",
        "\n",
        "    def __init__(self,value):\n",
        "        self.value = value\n",
        "        self.next = None\n",
        "        self.prev = None\n",
        "\n",
        "class DoublyLinkedList:\n",
        "\n",
        "    def __init__(self,value):\n",
        "        new_node = Node(value)\n",
        "        self.head = new_node\n",
        "        self.tail = new_node\n",
        "        self.length = 1\n",
        "\n",
        "    def print_list(self,msg = \"List Created\"):\n",
        "        print('---------------')\n",
        "        print(msg)\n",
        "        print('---------------')\n",
        "        temp = self.head\n",
        "        while temp is not None:\n",
        "            print(temp.value)\n",
        "            temp = temp.next\n",
        "        print('---------------')\n",
        "        print(f\"Head = {self.head.value}\")\n",
        "        print(f\"Tail = {self.tail.value}\")\n",
        "        print(f\"Length of the List = {self.length}\")\n",
        "        print('---------------')"
      ]
    },
    {
      "cell_type": "code",
      "source": [
        "my_doubly_linked_list = DoublyLinkedList(7)\n",
        "my_doubly_linked_list.print_list()"
      ],
      "metadata": {
        "colab": {
          "base_uri": "https://localhost:8080/"
        },
        "id": "8n4ecSRIei9w",
        "outputId": "5c8d3f90-6b83-467c-f2d2-07497304f1af"
      },
      "execution_count": null,
      "outputs": [
        {
          "output_type": "stream",
          "name": "stdout",
          "text": [
            "---------------\n",
            "List Created\n",
            "---------------\n",
            "7\n",
            "---------------\n",
            "Head = 7\n",
            "Tail = 7\n",
            "Length of the List = 1\n",
            "---------------\n"
          ]
        }
      ]
    },
    {
      "cell_type": "code",
      "source": [
        "# diagram = Append operation"
      ],
      "metadata": {
        "id": "lHO7VKSdipid"
      },
      "execution_count": null,
      "outputs": []
    },
    {
      "cell_type": "markdown",
      "source": [
        "## Append"
      ],
      "metadata": {
        "id": "7ONO9me1isn1"
      }
    },
    {
      "cell_type": "markdown",
      "source": [
        "![image.png](data:image/png;base64,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)"
      ],
      "metadata": {
        "id": "jxCSwJiAinTs"
      }
    },
    {
      "cell_type": "markdown",
      "source": [
        "### Diagram"
      ],
      "metadata": {
        "id": "ju68J0oRjqG9"
      }
    },
    {
      "cell_type": "markdown",
      "source": [
        "![image.png](data:image/png;base64,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)"
      ],
      "metadata": {
        "id": "g7csC-7Ni3Yz"
      }
    },
    {
      "cell_type": "code",
      "source": [
        "# diagram = another case for Append"
      ],
      "metadata": {
        "id": "BgrTO5hTfiD6"
      },
      "execution_count": null,
      "outputs": []
    },
    {
      "cell_type": "markdown",
      "source": [
        "![image.png](data:image/png;base64,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)"
      ],
      "metadata": {
        "id": "RBirfc62kCSS"
      }
    },
    {
      "cell_type": "markdown",
      "source": [
        "![image.png](data:image/png;base64,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)"
      ],
      "metadata": {
        "id": "G1y1dPJOkaQz"
      }
    },
    {
      "cell_type": "code",
      "source": [
        "# Test doubly linked List\n",
        "my_doubly_linked_list = DoublyLinkedList(7)\n",
        "my_doubly_linked_list.append(11)\n",
        "my_doubly_linked_list.print_list()"
      ],
      "metadata": {
        "colab": {
          "base_uri": "https://localhost:8080/"
        },
        "id": "Gq6rALvYk6z6",
        "outputId": "3b666cc3-cc89-4520-9cea-76542865028c"
      },
      "execution_count": null,
      "outputs": [
        {
          "output_type": "stream",
          "name": "stdout",
          "text": [
            "---------------\n",
            "List Created\n",
            "---------------\n",
            "7\n",
            "11\n",
            "---------------\n",
            "Head = 7\n",
            "Tail = 11\n",
            "Length of the List = 2\n",
            "---------------\n"
          ]
        }
      ]
    },
    {
      "cell_type": "markdown",
      "source": [
        "### Code"
      ],
      "metadata": {
        "id": "tgSdX2Za7B9O"
      }
    },
    {
      "cell_type": "code",
      "source": [
        "import graphviz\n",
        "\n",
        "class Node:\n",
        "\n",
        "  def __init__(self, value):\n",
        "    self.value = value\n",
        "    self.next = None\n",
        "    self.prev = None\n",
        "\n",
        "class DoublyLinkedList:\n",
        "    def __init__(self, value):\n",
        "        new_node = Node(value)\n",
        "        self.head = new_node\n",
        "        self.tail = new_node\n",
        "        self.length = 1\n",
        "\n",
        "    def print_list(self):\n",
        "\n",
        "        dot = graphviz.Digraph()\n",
        "        dot.attr(rankdir='LR')  # Change direction to horizontal\n",
        "        temp = self.head\n",
        "        index = 0\n",
        "\n",
        "        while temp is not None:\n",
        "\n",
        "            label = f\"{temp.value} (index={index})\"\n",
        "\n",
        "            if self.length == 1:\n",
        "                dot.node(str(temp.value), label, fillcolor=\"cyan\", style=\"filled\")\n",
        "                break\n",
        "            else:\n",
        "                if temp == self.head:\n",
        "                    dot.node(str(temp.value), label, fillcolor=\"chartreuse\", style=\"filled\")\n",
        "                elif temp == self.tail:\n",
        "                    dot.node(str(temp.value), label, fillcolor=\"lightpink\", style=\"filled\")\n",
        "                else:\n",
        "                    dot.node(str(temp.value), label)\n",
        "\n",
        "            if temp.next:\n",
        "                dot.edge(str(temp.value), str(temp.next.value))\n",
        "\n",
        "            if temp.prev:\n",
        "                dot.edge(str(temp.value), str(temp.prev.value))\n",
        "\n",
        "            temp = temp.next\n",
        "            index += 1\n",
        "\n",
        "        dot.edge(\"Start\", str(self.head.value), dir=\"back\")\n",
        "        dot.edge(str(self.tail.value), \"End\")\n",
        "\n",
        "        return dot\n",
        "\n",
        "    def append(self,value):\n",
        "        # create the new node\n",
        "        new_node = Node(value)\n",
        "\n",
        "        if self.length == 0:\n",
        "            self.tail = new_node\n",
        "            self.head = new_node\n",
        "        else:\n",
        "            self.tail.next = new_node\n",
        "            new_node.prev = self.tail\n",
        "            self.tail = new_node\n",
        "\n",
        "        self.length += 1"
      ],
      "metadata": {
        "id": "R9_zVAnrmiAD"
      },
      "execution_count": null,
      "outputs": []
    },
    {
      "cell_type": "code",
      "source": [
        "# Example usage\n",
        "my_list = DoublyLinkedList(7)\n",
        "my_list.append(11)\n",
        "my_list.append(12)\n",
        "my_list.append(13)\n",
        "display(my_list.print_list())"
      ],
      "metadata": {
        "id": "NtwTfRmBnpWU",
        "colab": {
          "base_uri": "https://localhost:8080/",
          "height": 80
        },
        "outputId": "07dcd103-704d-4844-f921-410a4a889423",
        "collapsed": true
      },
      "execution_count": null,
      "outputs": [
        {
          "output_type": "display_data",
          "data": {
            "image/svg+xml": "<?xml version=\"1.0\" encoding=\"UTF-8\" standalone=\"no\"?>\n<!DOCTYPE svg PUBLIC \"-//W3C//DTD SVG 1.1//EN\"\n \"http://www.w3.org/Graphics/SVG/1.1/DTD/svg11.dtd\">\n<!-- Generated by graphviz version 2.43.0 (0)\n -->\n<!-- Title: %3 Pages: 1 -->\n<svg width=\"745pt\" height=\"44pt\"\n viewBox=\"0.00 0.00 745.06 44.00\" xmlns=\"http://www.w3.org/2000/svg\" xmlns:xlink=\"http://www.w3.org/1999/xlink\">\n<g id=\"graph0\" class=\"graph\" transform=\"scale(1 1) rotate(0) translate(4 40)\">\n<title>%3</title>\n<polygon fill=\"white\" stroke=\"transparent\" points=\"-4,4 -4,-40 741.06,-40 741.06,4 -4,4\"/>\n<!-- 7 -->\n<g id=\"node1\" class=\"node\">\n<title>7</title>\n<ellipse fill=\"chartreuse\" stroke=\"black\" cx=\"143.24\" cy=\"-18\" rx=\"52.79\" ry=\"18\"/>\n<text text-anchor=\"middle\" x=\"143.24\" y=\"-14.3\" font-family=\"Times,serif\" font-size=\"14.00\">7 (index=0)</text>\n</g>\n<!-- 11 -->\n<g id=\"node2\" class=\"node\">\n<title>11</title>\n<ellipse fill=\"none\" stroke=\"black\" cx=\"289.08\" cy=\"-18\" rx=\"57.39\" ry=\"18\"/>\n<text text-anchor=\"middle\" x=\"289.08\" y=\"-14.3\" font-family=\"Times,serif\" font-size=\"14.00\">11 (index=1)</text>\n</g>\n<!-- 7&#45;&gt;11 -->\n<g id=\"edge1\" class=\"edge\">\n<title>7&#45;&gt;11</title>\n<path fill=\"none\" stroke=\"black\" d=\"M192.54,-11.58C203.16,-11.27 214.56,-11.18 225.65,-11.3\"/>\n<polygon fill=\"black\" stroke=\"black\" points=\"225.65,-14.8 235.71,-11.48 225.78,-7.8 225.65,-14.8\"/>\n</g>\n<!-- 11&#45;&gt;7 -->\n<g id=\"edge3\" class=\"edge\">\n<title>11&#45;&gt;7</title>\n<path fill=\"none\" stroke=\"black\" d=\"M235.71,-24.52C225.02,-24.78 213.71,-24.82 202.82,-24.65\"/>\n<polygon fill=\"black\" stroke=\"black\" points=\"202.61,-21.14 192.54,-24.42 202.46,-28.14 202.61,-21.14\"/>\n</g>\n<!-- 12 -->\n<g id=\"node3\" class=\"node\">\n<title>12</title>\n<ellipse fill=\"none\" stroke=\"black\" cx=\"439.47\" cy=\"-18\" rx=\"57.39\" ry=\"18\"/>\n<text text-anchor=\"middle\" x=\"439.47\" y=\"-14.3\" font-family=\"Times,serif\" font-size=\"14.00\">12 (index=2)</text>\n</g>\n<!-- 11&#45;&gt;12 -->\n<g id=\"edge2\" class=\"edge\">\n<title>11&#45;&gt;12</title>\n<path fill=\"none\" stroke=\"black\" d=\"M342.82,-11.51C353.42,-11.25 364.67,-11.18 375.58,-11.32\"/>\n<polygon fill=\"black\" stroke=\"black\" points=\"375.84,-14.83 385.91,-11.51 375.97,-7.83 375.84,-14.83\"/>\n</g>\n<!-- 12&#45;&gt;11 -->\n<g id=\"edge5\" class=\"edge\">\n<title>12&#45;&gt;11</title>\n<path fill=\"none\" stroke=\"black\" d=\"M385.91,-24.49C375.31,-24.75 364.06,-24.82 353.15,-24.68\"/>\n<polygon fill=\"black\" stroke=\"black\" points=\"352.88,-21.18 342.82,-24.49 352.75,-28.18 352.88,-21.18\"/>\n</g>\n<!-- 13 -->\n<g id=\"node4\" class=\"node\">\n<title>13</title>\n<ellipse fill=\"lightpink\" stroke=\"black\" cx=\"589.86\" cy=\"-18\" rx=\"57.39\" ry=\"18\"/>\n<text text-anchor=\"middle\" x=\"589.86\" y=\"-14.3\" font-family=\"Times,serif\" font-size=\"14.00\">13 (index=3)</text>\n</g>\n<!-- 12&#45;&gt;13 -->\n<g id=\"edge4\" class=\"edge\">\n<title>12&#45;&gt;13</title>\n<path fill=\"none\" stroke=\"black\" d=\"M493.21,-11.51C503.81,-11.25 515.06,-11.18 525.97,-11.32\"/>\n<polygon fill=\"black\" stroke=\"black\" points=\"526.23,-14.83 536.3,-11.51 526.36,-7.83 526.23,-14.83\"/>\n</g>\n<!-- 13&#45;&gt;12 -->\n<g id=\"edge6\" class=\"edge\">\n<title>13&#45;&gt;12</title>\n<path fill=\"none\" stroke=\"black\" d=\"M536.3,-24.49C525.7,-24.75 514.45,-24.82 503.54,-24.68\"/>\n<polygon fill=\"black\" stroke=\"black\" points=\"503.27,-21.18 493.21,-24.49 503.14,-28.18 503.27,-21.18\"/>\n</g>\n<!-- End -->\n<g id=\"node6\" class=\"node\">\n<title>End</title>\n<ellipse fill=\"none\" stroke=\"black\" cx=\"710.06\" cy=\"-18\" rx=\"27\" ry=\"18\"/>\n<text text-anchor=\"middle\" x=\"710.06\" y=\"-14.3\" font-family=\"Times,serif\" font-size=\"14.00\">End</text>\n</g>\n<!-- 13&#45;&gt;End -->\n<g id=\"edge8\" class=\"edge\">\n<title>13&#45;&gt;End</title>\n<path fill=\"none\" stroke=\"black\" d=\"M647.19,-18C655.87,-18 664.63,-18 672.72,-18\"/>\n<polygon fill=\"black\" stroke=\"black\" points=\"672.91,-21.5 682.91,-18 672.91,-14.5 672.91,-21.5\"/>\n</g>\n<!-- Start -->\n<g id=\"node5\" class=\"node\">\n<title>Start</title>\n<ellipse fill=\"none\" stroke=\"black\" cx=\"27.3\" cy=\"-18\" rx=\"27.1\" ry=\"18\"/>\n<text text-anchor=\"middle\" x=\"27.3\" y=\"-14.3\" font-family=\"Times,serif\" font-size=\"14.00\">Start</text>\n</g>\n<!-- Start&#45;&gt;7 -->\n<g id=\"edge7\" class=\"edge\">\n<title>Start&#45;&gt;7</title>\n<path fill=\"none\" stroke=\"black\" d=\"M64.96,-18C73.07,-18 81.81,-18 90.4,-18\"/>\n<polygon fill=\"black\" stroke=\"black\" points=\"64.72,-14.5 54.72,-18 64.72,-21.5 64.72,-14.5\"/>\n</g>\n</g>\n</svg>\n",
            "text/plain": [
              "<graphviz.graphs.Digraph at 0x7e78aa65e710>"
            ]
          },
          "metadata": {}
        }
      ]
    },
    {
      "cell_type": "markdown",
      "source": [
        "## Pop"
      ],
      "metadata": {
        "id": "rgjV2S62KVk3"
      }
    },
    {
      "cell_type": "code",
      "source": [
        "# diagram = Pop operation"
      ],
      "metadata": {
        "id": "9cmcrtvsLnK2"
      },
      "execution_count": null,
      "outputs": []
    },
    {
      "cell_type": "markdown",
      "source": [
        "### Diagram"
      ],
      "metadata": {
        "id": "GTXYm-wM0l2i"
      }
    },
    {
      "cell_type": "markdown",
      "source": [
        "![image.png](data:image/png;base64,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)"
      ],
      "metadata": {
        "id": "8h2HAKYjMyP2"
      }
    },
    {
      "cell_type": "code",
      "source": [
        "# Code = Pop"
      ],
      "metadata": {
        "id": "wCo9YusHLoCr"
      },
      "execution_count": null,
      "outputs": []
    },
    {
      "cell_type": "markdown",
      "source": [
        "### Code"
      ],
      "metadata": {
        "id": "G6DtCbam0qvh"
      }
    },
    {
      "cell_type": "code",
      "source": [
        "import graphviz\n",
        "\n",
        "class Node:\n",
        "\n",
        "  def __init__(self, value):\n",
        "    self.value = value\n",
        "    self.next = None\n",
        "    self.prev = None\n",
        "\n",
        "class DoublyLinkedList:\n",
        "    def __init__(self, value):\n",
        "        new_node = Node(value)\n",
        "        self.head = new_node\n",
        "        self.tail = new_node\n",
        "        self.length = 1\n",
        "\n",
        "    def print_list(self,msg = \"List Created\"):\n",
        "        print(\"\\n\")\n",
        "        print(\"-----------\")\n",
        "        print(msg)\n",
        "        print(\"-----------\")\n",
        "        print(\"\\n\")\n",
        "\n",
        "        if self.length == 0:\n",
        "            return \"Nothing to display\"\n",
        "\n",
        "\n",
        "        dot = graphviz.Digraph()\n",
        "        dot.attr(rankdir='LR')  # Change direction to horizontal\n",
        "        temp = self.head\n",
        "        index = 0\n",
        "\n",
        "        while temp is not None:\n",
        "\n",
        "            label = f\"{temp.value} (index={index})\"\n",
        "\n",
        "            if self.length == 1:\n",
        "                dot.node(str(temp.value), label, fillcolor=\"cyan\", style=\"filled\")\n",
        "                break\n",
        "            else:\n",
        "                if temp == self.head:\n",
        "                    dot.node(str(temp.value), label, fillcolor=\"chartreuse\", style=\"filled\")\n",
        "                elif temp == self.tail:\n",
        "                    dot.node(str(temp.value), label, fillcolor=\"lightpink\", style=\"filled\")\n",
        "                else:\n",
        "                    dot.node(str(temp.value), label)\n",
        "\n",
        "            if temp.next:\n",
        "                dot.edge(str(temp.value), str(temp.next.value))\n",
        "\n",
        "            if temp.prev:\n",
        "                dot.edge(str(temp.value), str(temp.prev.value))\n",
        "\n",
        "            temp = temp.next\n",
        "            index += 1\n",
        "\n",
        "        dot.edge(\"Start\", str(self.head.value), dir=\"back\")\n",
        "        dot.edge(str(self.tail.value), \"End\")\n",
        "\n",
        "        return dot\n",
        "\n",
        "    def append(self,value):\n",
        "        # create the new node\n",
        "        new_node = Node(value)\n",
        "\n",
        "        if self.length == 0:\n",
        "            self.tail = new_node\n",
        "            self.head = new_node\n",
        "        else:\n",
        "            self.tail.next = new_node\n",
        "            new_node.prev = self.tail\n",
        "            self.tail = new_node\n",
        "\n",
        "        self.length += 1\n",
        "\n",
        "    def pop(self):\n",
        "        if self.length == 0:\n",
        "            return None\n",
        "\n",
        "        temp = self.tail\n",
        "\n",
        "        if self.length == 1:\n",
        "            self.head = None\n",
        "            self.tail = None\n",
        "        else:\n",
        "            # disconnect the last node\n",
        "            self.tail = self.tail.prev\n",
        "            self.tail.next = None\n",
        "\n",
        "        temp.prev = None\n",
        "\n",
        "        self.length -= 1\n",
        "        return temp"
      ],
      "metadata": {
        "id": "D4nT3KqC1kxm"
      },
      "execution_count": null,
      "outputs": []
    },
    {
      "cell_type": "code",
      "source": [
        "# Test case = pop | 1 element\n",
        "my_list = DoublyLinkedList(7)\n",
        "display(my_list.print_list())\n",
        "\n",
        "ret_node = my_list.pop()\n",
        "\n",
        "if ret_node:\n",
        "    print('\\n')\n",
        "    print(f\"returned node = {ret_node.value}\")\n",
        "display(my_list.print_list(\"List updated\"))"
      ],
      "metadata": {
        "colab": {
          "base_uri": "https://localhost:8080/",
          "height": 393
        },
        "id": "F7v168PNPAu4",
        "outputId": "fd77bd94-9dac-4d77-e798-e1d38948f732",
        "collapsed": true
      },
      "execution_count": null,
      "outputs": [
        {
          "output_type": "stream",
          "name": "stdout",
          "text": [
            "\n",
            "\n",
            "-----------\n",
            "List Created\n",
            "-----------\n",
            "\n",
            "\n"
          ]
        },
        {
          "output_type": "display_data",
          "data": {
            "image/svg+xml": "<?xml version=\"1.0\" encoding=\"UTF-8\" standalone=\"no\"?>\n<!DOCTYPE svg PUBLIC \"-//W3C//DTD SVG 1.1//EN\"\n \"http://www.w3.org/Graphics/SVG/1.1/DTD/svg11.dtd\">\n<!-- Generated by graphviz version 2.43.0 (0)\n -->\n<!-- Title: %3 Pages: 1 -->\n<svg width=\"294pt\" height=\"44pt\"\n viewBox=\"0.00 0.00 293.89 44.00\" xmlns=\"http://www.w3.org/2000/svg\" xmlns:xlink=\"http://www.w3.org/1999/xlink\">\n<g id=\"graph0\" class=\"graph\" transform=\"scale(1 1) rotate(0) translate(4 40)\">\n<title>%3</title>\n<polygon fill=\"white\" stroke=\"transparent\" points=\"-4,4 -4,-40 289.89,-40 289.89,4 -4,4\"/>\n<!-- 7 -->\n<g id=\"node1\" class=\"node\">\n<title>7</title>\n<ellipse fill=\"cyan\" stroke=\"black\" cx=\"143.24\" cy=\"-18\" rx=\"52.79\" ry=\"18\"/>\n<text text-anchor=\"middle\" x=\"143.24\" y=\"-14.3\" font-family=\"Times,serif\" font-size=\"14.00\">7 (index=0)</text>\n</g>\n<!-- End -->\n<g id=\"node3\" class=\"node\">\n<title>End</title>\n<ellipse fill=\"none\" stroke=\"black\" cx=\"258.89\" cy=\"-18\" rx=\"27\" ry=\"18\"/>\n<text text-anchor=\"middle\" x=\"258.89\" y=\"-14.3\" font-family=\"Times,serif\" font-size=\"14.00\">End</text>\n</g>\n<!-- 7&#45;&gt;End -->\n<g id=\"edge2\" class=\"edge\">\n<title>7&#45;&gt;End</title>\n<path fill=\"none\" stroke=\"black\" d=\"M196.07,-18C204.7,-18 213.49,-18 221.62,-18\"/>\n<polygon fill=\"black\" stroke=\"black\" points=\"221.87,-21.5 231.87,-18 221.87,-14.5 221.87,-21.5\"/>\n</g>\n<!-- Start -->\n<g id=\"node2\" class=\"node\">\n<title>Start</title>\n<ellipse fill=\"none\" stroke=\"black\" cx=\"27.3\" cy=\"-18\" rx=\"27.1\" ry=\"18\"/>\n<text text-anchor=\"middle\" x=\"27.3\" y=\"-14.3\" font-family=\"Times,serif\" font-size=\"14.00\">Start</text>\n</g>\n<!-- Start&#45;&gt;7 -->\n<g id=\"edge1\" class=\"edge\">\n<title>Start&#45;&gt;7</title>\n<path fill=\"none\" stroke=\"black\" d=\"M64.96,-18C73.07,-18 81.81,-18 90.4,-18\"/>\n<polygon fill=\"black\" stroke=\"black\" points=\"64.72,-14.5 54.72,-18 64.72,-21.5 64.72,-14.5\"/>\n</g>\n</g>\n</svg>\n",
            "text/plain": [
              "<graphviz.graphs.Digraph at 0x7e78aa65faf0>"
            ]
          },
          "metadata": {}
        },
        {
          "output_type": "stream",
          "name": "stdout",
          "text": [
            "\n",
            "\n",
            "returned node = 7\n",
            "\n",
            "\n",
            "-----------\n",
            "List updated\n",
            "-----------\n",
            "\n",
            "\n"
          ]
        },
        {
          "output_type": "display_data",
          "data": {
            "text/plain": [
              "'Nothing to display'"
            ],
            "application/vnd.google.colaboratory.intrinsic+json": {
              "type": "string"
            }
          },
          "metadata": {}
        }
      ]
    },
    {
      "cell_type": "code",
      "source": [
        "# Test case = pop | 4 element\n",
        "\n",
        "my_list = DoublyLinkedList(7)\n",
        "my_list.append(11)\n",
        "my_list.append(12)\n",
        "my_list.append(13)\n",
        "display(my_list.print_list())\n",
        "\n",
        "ret_node = my_list.pop()\n",
        "if ret_node:\n",
        "    print('\\n')\n",
        "    print(f\"returned node = {ret_node.value}\")\n",
        "display(my_list.print_list(\"List updated\"))"
      ],
      "metadata": {
        "colab": {
          "base_uri": "https://localhost:8080/",
          "height": 438
        },
        "id": "7t8pq2atPXL2",
        "outputId": "8a591de1-1560-474e-8361-f17cd4cb4c83"
      },
      "execution_count": null,
      "outputs": [
        {
          "output_type": "stream",
          "name": "stdout",
          "text": [
            "\n",
            "\n",
            "-----------\n",
            "List Created\n",
            "-----------\n",
            "\n",
            "\n"
          ]
        },
        {
          "output_type": "display_data",
          "data": {
            "image/svg+xml": "<?xml version=\"1.0\" encoding=\"UTF-8\" standalone=\"no\"?>\n<!DOCTYPE svg PUBLIC \"-//W3C//DTD SVG 1.1//EN\"\n \"http://www.w3.org/Graphics/SVG/1.1/DTD/svg11.dtd\">\n<!-- Generated by graphviz version 2.43.0 (0)\n -->\n<!-- Title: %3 Pages: 1 -->\n<svg width=\"745pt\" height=\"44pt\"\n viewBox=\"0.00 0.00 745.06 44.00\" xmlns=\"http://www.w3.org/2000/svg\" xmlns:xlink=\"http://www.w3.org/1999/xlink\">\n<g id=\"graph0\" class=\"graph\" transform=\"scale(1 1) rotate(0) translate(4 40)\">\n<title>%3</title>\n<polygon fill=\"white\" stroke=\"transparent\" points=\"-4,4 -4,-40 741.06,-40 741.06,4 -4,4\"/>\n<!-- 7 -->\n<g id=\"node1\" class=\"node\">\n<title>7</title>\n<ellipse fill=\"chartreuse\" stroke=\"black\" cx=\"143.24\" cy=\"-18\" rx=\"52.79\" ry=\"18\"/>\n<text text-anchor=\"middle\" x=\"143.24\" y=\"-14.3\" font-family=\"Times,serif\" font-size=\"14.00\">7 (index=0)</text>\n</g>\n<!-- 11 -->\n<g id=\"node2\" class=\"node\">\n<title>11</title>\n<ellipse fill=\"none\" stroke=\"black\" cx=\"289.08\" cy=\"-18\" rx=\"57.39\" ry=\"18\"/>\n<text text-anchor=\"middle\" x=\"289.08\" y=\"-14.3\" font-family=\"Times,serif\" font-size=\"14.00\">11 (index=1)</text>\n</g>\n<!-- 7&#45;&gt;11 -->\n<g id=\"edge1\" class=\"edge\">\n<title>7&#45;&gt;11</title>\n<path fill=\"none\" stroke=\"black\" d=\"M192.54,-11.58C203.16,-11.27 214.56,-11.18 225.65,-11.3\"/>\n<polygon fill=\"black\" stroke=\"black\" points=\"225.65,-14.8 235.71,-11.48 225.78,-7.8 225.65,-14.8\"/>\n</g>\n<!-- 11&#45;&gt;7 -->\n<g id=\"edge3\" class=\"edge\">\n<title>11&#45;&gt;7</title>\n<path fill=\"none\" stroke=\"black\" d=\"M235.71,-24.52C225.02,-24.78 213.71,-24.82 202.82,-24.65\"/>\n<polygon fill=\"black\" stroke=\"black\" points=\"202.61,-21.14 192.54,-24.42 202.46,-28.14 202.61,-21.14\"/>\n</g>\n<!-- 12 -->\n<g id=\"node3\" class=\"node\">\n<title>12</title>\n<ellipse fill=\"none\" stroke=\"black\" cx=\"439.47\" cy=\"-18\" rx=\"57.39\" ry=\"18\"/>\n<text text-anchor=\"middle\" x=\"439.47\" y=\"-14.3\" font-family=\"Times,serif\" font-size=\"14.00\">12 (index=2)</text>\n</g>\n<!-- 11&#45;&gt;12 -->\n<g id=\"edge2\" class=\"edge\">\n<title>11&#45;&gt;12</title>\n<path fill=\"none\" stroke=\"black\" d=\"M342.82,-11.51C353.42,-11.25 364.67,-11.18 375.58,-11.32\"/>\n<polygon fill=\"black\" stroke=\"black\" points=\"375.84,-14.83 385.91,-11.51 375.97,-7.83 375.84,-14.83\"/>\n</g>\n<!-- 12&#45;&gt;11 -->\n<g id=\"edge5\" class=\"edge\">\n<title>12&#45;&gt;11</title>\n<path fill=\"none\" stroke=\"black\" d=\"M385.91,-24.49C375.31,-24.75 364.06,-24.82 353.15,-24.68\"/>\n<polygon fill=\"black\" stroke=\"black\" points=\"352.88,-21.18 342.82,-24.49 352.75,-28.18 352.88,-21.18\"/>\n</g>\n<!-- 13 -->\n<g id=\"node4\" class=\"node\">\n<title>13</title>\n<ellipse fill=\"lightpink\" stroke=\"black\" cx=\"589.86\" cy=\"-18\" rx=\"57.39\" ry=\"18\"/>\n<text text-anchor=\"middle\" x=\"589.86\" y=\"-14.3\" font-family=\"Times,serif\" font-size=\"14.00\">13 (index=3)</text>\n</g>\n<!-- 12&#45;&gt;13 -->\n<g id=\"edge4\" class=\"edge\">\n<title>12&#45;&gt;13</title>\n<path fill=\"none\" stroke=\"black\" d=\"M493.21,-11.51C503.81,-11.25 515.06,-11.18 525.97,-11.32\"/>\n<polygon fill=\"black\" stroke=\"black\" points=\"526.23,-14.83 536.3,-11.51 526.36,-7.83 526.23,-14.83\"/>\n</g>\n<!-- 13&#45;&gt;12 -->\n<g id=\"edge6\" class=\"edge\">\n<title>13&#45;&gt;12</title>\n<path fill=\"none\" stroke=\"black\" d=\"M536.3,-24.49C525.7,-24.75 514.45,-24.82 503.54,-24.68\"/>\n<polygon fill=\"black\" stroke=\"black\" points=\"503.27,-21.18 493.21,-24.49 503.14,-28.18 503.27,-21.18\"/>\n</g>\n<!-- End -->\n<g id=\"node6\" class=\"node\">\n<title>End</title>\n<ellipse fill=\"none\" stroke=\"black\" cx=\"710.06\" cy=\"-18\" rx=\"27\" ry=\"18\"/>\n<text text-anchor=\"middle\" x=\"710.06\" y=\"-14.3\" font-family=\"Times,serif\" font-size=\"14.00\">End</text>\n</g>\n<!-- 13&#45;&gt;End -->\n<g id=\"edge8\" class=\"edge\">\n<title>13&#45;&gt;End</title>\n<path fill=\"none\" stroke=\"black\" d=\"M647.19,-18C655.87,-18 664.63,-18 672.72,-18\"/>\n<polygon fill=\"black\" stroke=\"black\" points=\"672.91,-21.5 682.91,-18 672.91,-14.5 672.91,-21.5\"/>\n</g>\n<!-- Start -->\n<g id=\"node5\" class=\"node\">\n<title>Start</title>\n<ellipse fill=\"none\" stroke=\"black\" cx=\"27.3\" cy=\"-18\" rx=\"27.1\" ry=\"18\"/>\n<text text-anchor=\"middle\" x=\"27.3\" y=\"-14.3\" font-family=\"Times,serif\" font-size=\"14.00\">Start</text>\n</g>\n<!-- Start&#45;&gt;7 -->\n<g id=\"edge7\" class=\"edge\">\n<title>Start&#45;&gt;7</title>\n<path fill=\"none\" stroke=\"black\" d=\"M64.96,-18C73.07,-18 81.81,-18 90.4,-18\"/>\n<polygon fill=\"black\" stroke=\"black\" points=\"64.72,-14.5 54.72,-18 64.72,-21.5 64.72,-14.5\"/>\n</g>\n</g>\n</svg>\n",
            "text/plain": [
              "<graphviz.graphs.Digraph at 0x7e78aa6f83d0>"
            ]
          },
          "metadata": {}
        },
        {
          "output_type": "stream",
          "name": "stdout",
          "text": [
            "\n",
            "\n",
            "returned node = 13\n",
            "\n",
            "\n",
            "-----------\n",
            "List updated\n",
            "-----------\n",
            "\n",
            "\n"
          ]
        },
        {
          "output_type": "display_data",
          "data": {
            "image/svg+xml": "<?xml version=\"1.0\" encoding=\"UTF-8\" standalone=\"no\"?>\n<!DOCTYPE svg PUBLIC \"-//W3C//DTD SVG 1.1//EN\"\n \"http://www.w3.org/Graphics/SVG/1.1/DTD/svg11.dtd\">\n<!-- Generated by graphviz version 2.43.0 (0)\n -->\n<!-- Title: %3 Pages: 1 -->\n<svg width=\"595pt\" height=\"44pt\"\n viewBox=\"0.00 0.00 594.67 44.00\" xmlns=\"http://www.w3.org/2000/svg\" xmlns:xlink=\"http://www.w3.org/1999/xlink\">\n<g id=\"graph0\" class=\"graph\" transform=\"scale(1 1) rotate(0) translate(4 40)\">\n<title>%3</title>\n<polygon fill=\"white\" stroke=\"transparent\" points=\"-4,4 -4,-40 590.67,-40 590.67,4 -4,4\"/>\n<!-- 7 -->\n<g id=\"node1\" class=\"node\">\n<title>7</title>\n<ellipse fill=\"chartreuse\" stroke=\"black\" cx=\"143.24\" cy=\"-18\" rx=\"52.79\" ry=\"18\"/>\n<text text-anchor=\"middle\" x=\"143.24\" y=\"-14.3\" font-family=\"Times,serif\" font-size=\"14.00\">7 (index=0)</text>\n</g>\n<!-- 11 -->\n<g id=\"node2\" class=\"node\">\n<title>11</title>\n<ellipse fill=\"none\" stroke=\"black\" cx=\"289.08\" cy=\"-18\" rx=\"57.39\" ry=\"18\"/>\n<text text-anchor=\"middle\" x=\"289.08\" y=\"-14.3\" font-family=\"Times,serif\" font-size=\"14.00\">11 (index=1)</text>\n</g>\n<!-- 7&#45;&gt;11 -->\n<g id=\"edge1\" class=\"edge\">\n<title>7&#45;&gt;11</title>\n<path fill=\"none\" stroke=\"black\" d=\"M192.54,-11.58C203.16,-11.27 214.56,-11.18 225.65,-11.3\"/>\n<polygon fill=\"black\" stroke=\"black\" points=\"225.65,-14.8 235.71,-11.48 225.78,-7.8 225.65,-14.8\"/>\n</g>\n<!-- 11&#45;&gt;7 -->\n<g id=\"edge3\" class=\"edge\">\n<title>11&#45;&gt;7</title>\n<path fill=\"none\" stroke=\"black\" d=\"M235.71,-24.52C225.02,-24.78 213.71,-24.82 202.82,-24.65\"/>\n<polygon fill=\"black\" stroke=\"black\" points=\"202.61,-21.14 192.54,-24.42 202.46,-28.14 202.61,-21.14\"/>\n</g>\n<!-- 12 -->\n<g id=\"node3\" class=\"node\">\n<title>12</title>\n<ellipse fill=\"lightpink\" stroke=\"black\" cx=\"439.47\" cy=\"-18\" rx=\"57.39\" ry=\"18\"/>\n<text text-anchor=\"middle\" x=\"439.47\" y=\"-14.3\" font-family=\"Times,serif\" font-size=\"14.00\">12 (index=2)</text>\n</g>\n<!-- 11&#45;&gt;12 -->\n<g id=\"edge2\" class=\"edge\">\n<title>11&#45;&gt;12</title>\n<path fill=\"none\" stroke=\"black\" d=\"M342.82,-11.51C353.42,-11.25 364.67,-11.18 375.58,-11.32\"/>\n<polygon fill=\"black\" stroke=\"black\" points=\"375.84,-14.83 385.91,-11.51 375.97,-7.83 375.84,-14.83\"/>\n</g>\n<!-- 12&#45;&gt;11 -->\n<g id=\"edge4\" class=\"edge\">\n<title>12&#45;&gt;11</title>\n<path fill=\"none\" stroke=\"black\" d=\"M385.91,-24.49C375.31,-24.75 364.06,-24.82 353.15,-24.68\"/>\n<polygon fill=\"black\" stroke=\"black\" points=\"352.88,-21.18 342.82,-24.49 352.75,-28.18 352.88,-21.18\"/>\n</g>\n<!-- End -->\n<g id=\"node5\" class=\"node\">\n<title>End</title>\n<ellipse fill=\"none\" stroke=\"black\" cx=\"559.67\" cy=\"-18\" rx=\"27\" ry=\"18\"/>\n<text text-anchor=\"middle\" x=\"559.67\" y=\"-14.3\" font-family=\"Times,serif\" font-size=\"14.00\">End</text>\n</g>\n<!-- 12&#45;&gt;End -->\n<g id=\"edge6\" class=\"edge\">\n<title>12&#45;&gt;End</title>\n<path fill=\"none\" stroke=\"black\" d=\"M496.8,-18C505.48,-18 514.24,-18 522.33,-18\"/>\n<polygon fill=\"black\" stroke=\"black\" points=\"522.52,-21.5 532.52,-18 522.52,-14.5 522.52,-21.5\"/>\n</g>\n<!-- Start -->\n<g id=\"node4\" class=\"node\">\n<title>Start</title>\n<ellipse fill=\"none\" stroke=\"black\" cx=\"27.3\" cy=\"-18\" rx=\"27.1\" ry=\"18\"/>\n<text text-anchor=\"middle\" x=\"27.3\" y=\"-14.3\" font-family=\"Times,serif\" font-size=\"14.00\">Start</text>\n</g>\n<!-- Start&#45;&gt;7 -->\n<g id=\"edge5\" class=\"edge\">\n<title>Start&#45;&gt;7</title>\n<path fill=\"none\" stroke=\"black\" d=\"M64.96,-18C73.07,-18 81.81,-18 90.4,-18\"/>\n<polygon fill=\"black\" stroke=\"black\" points=\"64.72,-14.5 54.72,-18 64.72,-21.5 64.72,-14.5\"/>\n</g>\n</g>\n</svg>\n",
            "text/plain": [
              "<graphviz.graphs.Digraph at 0x7e78aa6fba60>"
            ]
          },
          "metadata": {}
        }
      ]
    },
    {
      "cell_type": "code",
      "source": [
        "# Test case = pop | 4 element | use of loop\n",
        "\n",
        "my_list = DoublyLinkedList(7)\n",
        "my_list.append(11)\n",
        "my_list.append(12)\n",
        "my_list.append(13)\n",
        "display(my_list.print_list())\n",
        "\n",
        "for _ in range(my_list.length):\n",
        "    ret_node = my_list.pop()\n",
        "    if ret_node:\n",
        "        print('\\n')\n",
        "        print(f\"returned node = {ret_node.value}\")\n",
        "    display(my_list.print_list(\"List updated\"))"
      ],
      "metadata": {
        "id": "PxDyxZg-SLX7",
        "colab": {
          "base_uri": "https://localhost:8080/",
          "height": 1000
        },
        "outputId": "19cd80c1-a4e8-4ef0-8b65-51989b82463a"
      },
      "execution_count": null,
      "outputs": [
        {
          "output_type": "stream",
          "name": "stdout",
          "text": [
            "\n",
            "\n",
            "-----------\n",
            "List Created\n",
            "-----------\n",
            "\n",
            "\n"
          ]
        },
        {
          "output_type": "display_data",
          "data": {
            "image/svg+xml": "<?xml version=\"1.0\" encoding=\"UTF-8\" standalone=\"no\"?>\n<!DOCTYPE svg PUBLIC \"-//W3C//DTD SVG 1.1//EN\"\n \"http://www.w3.org/Graphics/SVG/1.1/DTD/svg11.dtd\">\n<!-- Generated by graphviz version 2.43.0 (0)\n -->\n<!-- Title: %3 Pages: 1 -->\n<svg width=\"745pt\" height=\"44pt\"\n viewBox=\"0.00 0.00 745.06 44.00\" xmlns=\"http://www.w3.org/2000/svg\" xmlns:xlink=\"http://www.w3.org/1999/xlink\">\n<g id=\"graph0\" class=\"graph\" transform=\"scale(1 1) rotate(0) translate(4 40)\">\n<title>%3</title>\n<polygon fill=\"white\" stroke=\"transparent\" points=\"-4,4 -4,-40 741.06,-40 741.06,4 -4,4\"/>\n<!-- 7 -->\n<g id=\"node1\" class=\"node\">\n<title>7</title>\n<ellipse fill=\"chartreuse\" stroke=\"black\" cx=\"143.24\" cy=\"-18\" rx=\"52.79\" ry=\"18\"/>\n<text text-anchor=\"middle\" x=\"143.24\" y=\"-14.3\" font-family=\"Times,serif\" font-size=\"14.00\">7 (index=0)</text>\n</g>\n<!-- 11 -->\n<g id=\"node2\" class=\"node\">\n<title>11</title>\n<ellipse fill=\"none\" stroke=\"black\" cx=\"289.08\" cy=\"-18\" rx=\"57.39\" ry=\"18\"/>\n<text text-anchor=\"middle\" x=\"289.08\" y=\"-14.3\" font-family=\"Times,serif\" font-size=\"14.00\">11 (index=1)</text>\n</g>\n<!-- 7&#45;&gt;11 -->\n<g id=\"edge1\" class=\"edge\">\n<title>7&#45;&gt;11</title>\n<path fill=\"none\" stroke=\"black\" d=\"M192.54,-11.58C203.16,-11.27 214.56,-11.18 225.65,-11.3\"/>\n<polygon fill=\"black\" stroke=\"black\" points=\"225.65,-14.8 235.71,-11.48 225.78,-7.8 225.65,-14.8\"/>\n</g>\n<!-- 11&#45;&gt;7 -->\n<g id=\"edge3\" class=\"edge\">\n<title>11&#45;&gt;7</title>\n<path fill=\"none\" stroke=\"black\" d=\"M235.71,-24.52C225.02,-24.78 213.71,-24.82 202.82,-24.65\"/>\n<polygon fill=\"black\" stroke=\"black\" points=\"202.61,-21.14 192.54,-24.42 202.46,-28.14 202.61,-21.14\"/>\n</g>\n<!-- 12 -->\n<g id=\"node3\" class=\"node\">\n<title>12</title>\n<ellipse fill=\"none\" stroke=\"black\" cx=\"439.47\" cy=\"-18\" rx=\"57.39\" ry=\"18\"/>\n<text text-anchor=\"middle\" x=\"439.47\" y=\"-14.3\" font-family=\"Times,serif\" font-size=\"14.00\">12 (index=2)</text>\n</g>\n<!-- 11&#45;&gt;12 -->\n<g id=\"edge2\" class=\"edge\">\n<title>11&#45;&gt;12</title>\n<path fill=\"none\" stroke=\"black\" d=\"M342.82,-11.51C353.42,-11.25 364.67,-11.18 375.58,-11.32\"/>\n<polygon fill=\"black\" stroke=\"black\" points=\"375.84,-14.83 385.91,-11.51 375.97,-7.83 375.84,-14.83\"/>\n</g>\n<!-- 12&#45;&gt;11 -->\n<g id=\"edge5\" class=\"edge\">\n<title>12&#45;&gt;11</title>\n<path fill=\"none\" stroke=\"black\" d=\"M385.91,-24.49C375.31,-24.75 364.06,-24.82 353.15,-24.68\"/>\n<polygon fill=\"black\" stroke=\"black\" points=\"352.88,-21.18 342.82,-24.49 352.75,-28.18 352.88,-21.18\"/>\n</g>\n<!-- 13 -->\n<g id=\"node4\" class=\"node\">\n<title>13</title>\n<ellipse fill=\"lightpink\" stroke=\"black\" cx=\"589.86\" cy=\"-18\" rx=\"57.39\" ry=\"18\"/>\n<text text-anchor=\"middle\" x=\"589.86\" y=\"-14.3\" font-family=\"Times,serif\" font-size=\"14.00\">13 (index=3)</text>\n</g>\n<!-- 12&#45;&gt;13 -->\n<g id=\"edge4\" class=\"edge\">\n<title>12&#45;&gt;13</title>\n<path fill=\"none\" stroke=\"black\" d=\"M493.21,-11.51C503.81,-11.25 515.06,-11.18 525.97,-11.32\"/>\n<polygon fill=\"black\" stroke=\"black\" points=\"526.23,-14.83 536.3,-11.51 526.36,-7.83 526.23,-14.83\"/>\n</g>\n<!-- 13&#45;&gt;12 -->\n<g id=\"edge6\" class=\"edge\">\n<title>13&#45;&gt;12</title>\n<path fill=\"none\" stroke=\"black\" d=\"M536.3,-24.49C525.7,-24.75 514.45,-24.82 503.54,-24.68\"/>\n<polygon fill=\"black\" stroke=\"black\" points=\"503.27,-21.18 493.21,-24.49 503.14,-28.18 503.27,-21.18\"/>\n</g>\n<!-- End -->\n<g id=\"node6\" class=\"node\">\n<title>End</title>\n<ellipse fill=\"none\" stroke=\"black\" cx=\"710.06\" cy=\"-18\" rx=\"27\" ry=\"18\"/>\n<text text-anchor=\"middle\" x=\"710.06\" y=\"-14.3\" font-family=\"Times,serif\" font-size=\"14.00\">End</text>\n</g>\n<!-- 13&#45;&gt;End -->\n<g id=\"edge8\" class=\"edge\">\n<title>13&#45;&gt;End</title>\n<path fill=\"none\" stroke=\"black\" d=\"M647.19,-18C655.87,-18 664.63,-18 672.72,-18\"/>\n<polygon fill=\"black\" stroke=\"black\" points=\"672.91,-21.5 682.91,-18 672.91,-14.5 672.91,-21.5\"/>\n</g>\n<!-- Start -->\n<g id=\"node5\" class=\"node\">\n<title>Start</title>\n<ellipse fill=\"none\" stroke=\"black\" cx=\"27.3\" cy=\"-18\" rx=\"27.1\" ry=\"18\"/>\n<text text-anchor=\"middle\" x=\"27.3\" y=\"-14.3\" font-family=\"Times,serif\" font-size=\"14.00\">Start</text>\n</g>\n<!-- Start&#45;&gt;7 -->\n<g id=\"edge7\" class=\"edge\">\n<title>Start&#45;&gt;7</title>\n<path fill=\"none\" stroke=\"black\" d=\"M64.96,-18C73.07,-18 81.81,-18 90.4,-18\"/>\n<polygon fill=\"black\" stroke=\"black\" points=\"64.72,-14.5 54.72,-18 64.72,-21.5 64.72,-14.5\"/>\n</g>\n</g>\n</svg>\n",
            "text/plain": [
              "<graphviz.graphs.Digraph at 0x7e78aa7db040>"
            ]
          },
          "metadata": {}
        },
        {
          "output_type": "stream",
          "name": "stdout",
          "text": [
            "\n",
            "\n",
            "returned node = 13\n",
            "\n",
            "\n",
            "-----------\n",
            "List updated\n",
            "-----------\n",
            "\n",
            "\n"
          ]
        },
        {
          "output_type": "display_data",
          "data": {
            "image/svg+xml": "<?xml version=\"1.0\" encoding=\"UTF-8\" standalone=\"no\"?>\n<!DOCTYPE svg PUBLIC \"-//W3C//DTD SVG 1.1//EN\"\n \"http://www.w3.org/Graphics/SVG/1.1/DTD/svg11.dtd\">\n<!-- Generated by graphviz version 2.43.0 (0)\n -->\n<!-- Title: %3 Pages: 1 -->\n<svg width=\"595pt\" height=\"44pt\"\n viewBox=\"0.00 0.00 594.67 44.00\" xmlns=\"http://www.w3.org/2000/svg\" xmlns:xlink=\"http://www.w3.org/1999/xlink\">\n<g id=\"graph0\" class=\"graph\" transform=\"scale(1 1) rotate(0) translate(4 40)\">\n<title>%3</title>\n<polygon fill=\"white\" stroke=\"transparent\" points=\"-4,4 -4,-40 590.67,-40 590.67,4 -4,4\"/>\n<!-- 7 -->\n<g id=\"node1\" class=\"node\">\n<title>7</title>\n<ellipse fill=\"chartreuse\" stroke=\"black\" cx=\"143.24\" cy=\"-18\" rx=\"52.79\" ry=\"18\"/>\n<text text-anchor=\"middle\" x=\"143.24\" y=\"-14.3\" font-family=\"Times,serif\" font-size=\"14.00\">7 (index=0)</text>\n</g>\n<!-- 11 -->\n<g id=\"node2\" class=\"node\">\n<title>11</title>\n<ellipse fill=\"none\" stroke=\"black\" cx=\"289.08\" cy=\"-18\" rx=\"57.39\" ry=\"18\"/>\n<text text-anchor=\"middle\" x=\"289.08\" y=\"-14.3\" font-family=\"Times,serif\" font-size=\"14.00\">11 (index=1)</text>\n</g>\n<!-- 7&#45;&gt;11 -->\n<g id=\"edge1\" class=\"edge\">\n<title>7&#45;&gt;11</title>\n<path fill=\"none\" stroke=\"black\" d=\"M192.54,-11.58C203.16,-11.27 214.56,-11.18 225.65,-11.3\"/>\n<polygon fill=\"black\" stroke=\"black\" points=\"225.65,-14.8 235.71,-11.48 225.78,-7.8 225.65,-14.8\"/>\n</g>\n<!-- 11&#45;&gt;7 -->\n<g id=\"edge3\" class=\"edge\">\n<title>11&#45;&gt;7</title>\n<path fill=\"none\" stroke=\"black\" d=\"M235.71,-24.52C225.02,-24.78 213.71,-24.82 202.82,-24.65\"/>\n<polygon fill=\"black\" stroke=\"black\" points=\"202.61,-21.14 192.54,-24.42 202.46,-28.14 202.61,-21.14\"/>\n</g>\n<!-- 12 -->\n<g id=\"node3\" class=\"node\">\n<title>12</title>\n<ellipse fill=\"lightpink\" stroke=\"black\" cx=\"439.47\" cy=\"-18\" rx=\"57.39\" ry=\"18\"/>\n<text text-anchor=\"middle\" x=\"439.47\" y=\"-14.3\" font-family=\"Times,serif\" font-size=\"14.00\">12 (index=2)</text>\n</g>\n<!-- 11&#45;&gt;12 -->\n<g id=\"edge2\" class=\"edge\">\n<title>11&#45;&gt;12</title>\n<path fill=\"none\" stroke=\"black\" d=\"M342.82,-11.51C353.42,-11.25 364.67,-11.18 375.58,-11.32\"/>\n<polygon fill=\"black\" stroke=\"black\" points=\"375.84,-14.83 385.91,-11.51 375.97,-7.83 375.84,-14.83\"/>\n</g>\n<!-- 12&#45;&gt;11 -->\n<g id=\"edge4\" class=\"edge\">\n<title>12&#45;&gt;11</title>\n<path fill=\"none\" stroke=\"black\" d=\"M385.91,-24.49C375.31,-24.75 364.06,-24.82 353.15,-24.68\"/>\n<polygon fill=\"black\" stroke=\"black\" points=\"352.88,-21.18 342.82,-24.49 352.75,-28.18 352.88,-21.18\"/>\n</g>\n<!-- End -->\n<g id=\"node5\" class=\"node\">\n<title>End</title>\n<ellipse fill=\"none\" stroke=\"black\" cx=\"559.67\" cy=\"-18\" rx=\"27\" ry=\"18\"/>\n<text text-anchor=\"middle\" x=\"559.67\" y=\"-14.3\" font-family=\"Times,serif\" font-size=\"14.00\">End</text>\n</g>\n<!-- 12&#45;&gt;End -->\n<g id=\"edge6\" class=\"edge\">\n<title>12&#45;&gt;End</title>\n<path fill=\"none\" stroke=\"black\" d=\"M496.8,-18C505.48,-18 514.24,-18 522.33,-18\"/>\n<polygon fill=\"black\" stroke=\"black\" points=\"522.52,-21.5 532.52,-18 522.52,-14.5 522.52,-21.5\"/>\n</g>\n<!-- Start -->\n<g id=\"node4\" class=\"node\">\n<title>Start</title>\n<ellipse fill=\"none\" stroke=\"black\" cx=\"27.3\" cy=\"-18\" rx=\"27.1\" ry=\"18\"/>\n<text text-anchor=\"middle\" x=\"27.3\" y=\"-14.3\" font-family=\"Times,serif\" font-size=\"14.00\">Start</text>\n</g>\n<!-- Start&#45;&gt;7 -->\n<g id=\"edge5\" class=\"edge\">\n<title>Start&#45;&gt;7</title>\n<path fill=\"none\" stroke=\"black\" d=\"M64.96,-18C73.07,-18 81.81,-18 90.4,-18\"/>\n<polygon fill=\"black\" stroke=\"black\" points=\"64.72,-14.5 54.72,-18 64.72,-21.5 64.72,-14.5\"/>\n</g>\n</g>\n</svg>\n",
            "text/plain": [
              "<graphviz.graphs.Digraph at 0x7e78aa6f8940>"
            ]
          },
          "metadata": {}
        },
        {
          "output_type": "stream",
          "name": "stdout",
          "text": [
            "\n",
            "\n",
            "returned node = 12\n",
            "\n",
            "\n",
            "-----------\n",
            "List updated\n",
            "-----------\n",
            "\n",
            "\n"
          ]
        },
        {
          "output_type": "display_data",
          "data": {
            "image/svg+xml": "<?xml version=\"1.0\" encoding=\"UTF-8\" standalone=\"no\"?>\n<!DOCTYPE svg PUBLIC \"-//W3C//DTD SVG 1.1//EN\"\n \"http://www.w3.org/Graphics/SVG/1.1/DTD/svg11.dtd\">\n<!-- Generated by graphviz version 2.43.0 (0)\n -->\n<!-- Title: %3 Pages: 1 -->\n<svg width=\"444pt\" height=\"44pt\"\n viewBox=\"0.00 0.00 444.28 44.00\" xmlns=\"http://www.w3.org/2000/svg\" xmlns:xlink=\"http://www.w3.org/1999/xlink\">\n<g id=\"graph0\" class=\"graph\" transform=\"scale(1 1) rotate(0) translate(4 40)\">\n<title>%3</title>\n<polygon fill=\"white\" stroke=\"transparent\" points=\"-4,4 -4,-40 440.28,-40 440.28,4 -4,4\"/>\n<!-- 7 -->\n<g id=\"node1\" class=\"node\">\n<title>7</title>\n<ellipse fill=\"chartreuse\" stroke=\"black\" cx=\"143.24\" cy=\"-18\" rx=\"52.79\" ry=\"18\"/>\n<text text-anchor=\"middle\" x=\"143.24\" y=\"-14.3\" font-family=\"Times,serif\" font-size=\"14.00\">7 (index=0)</text>\n</g>\n<!-- 11 -->\n<g id=\"node2\" class=\"node\">\n<title>11</title>\n<ellipse fill=\"lightpink\" stroke=\"black\" cx=\"289.08\" cy=\"-18\" rx=\"57.39\" ry=\"18\"/>\n<text text-anchor=\"middle\" x=\"289.08\" y=\"-14.3\" font-family=\"Times,serif\" font-size=\"14.00\">11 (index=1)</text>\n</g>\n<!-- 7&#45;&gt;11 -->\n<g id=\"edge1\" class=\"edge\">\n<title>7&#45;&gt;11</title>\n<path fill=\"none\" stroke=\"black\" d=\"M192.54,-11.58C203.16,-11.27 214.56,-11.18 225.65,-11.3\"/>\n<polygon fill=\"black\" stroke=\"black\" points=\"225.65,-14.8 235.71,-11.48 225.78,-7.8 225.65,-14.8\"/>\n</g>\n<!-- 11&#45;&gt;7 -->\n<g id=\"edge2\" class=\"edge\">\n<title>11&#45;&gt;7</title>\n<path fill=\"none\" stroke=\"black\" d=\"M235.71,-24.52C225.02,-24.78 213.71,-24.82 202.82,-24.65\"/>\n<polygon fill=\"black\" stroke=\"black\" points=\"202.61,-21.14 192.54,-24.42 202.46,-28.14 202.61,-21.14\"/>\n</g>\n<!-- End -->\n<g id=\"node4\" class=\"node\">\n<title>End</title>\n<ellipse fill=\"none\" stroke=\"black\" cx=\"409.28\" cy=\"-18\" rx=\"27\" ry=\"18\"/>\n<text text-anchor=\"middle\" x=\"409.28\" y=\"-14.3\" font-family=\"Times,serif\" font-size=\"14.00\">End</text>\n</g>\n<!-- 11&#45;&gt;End -->\n<g id=\"edge4\" class=\"edge\">\n<title>11&#45;&gt;End</title>\n<path fill=\"none\" stroke=\"black\" d=\"M346.41,-18C355.09,-18 363.85,-18 371.94,-18\"/>\n<polygon fill=\"black\" stroke=\"black\" points=\"372.13,-21.5 382.13,-18 372.13,-14.5 372.13,-21.5\"/>\n</g>\n<!-- Start -->\n<g id=\"node3\" class=\"node\">\n<title>Start</title>\n<ellipse fill=\"none\" stroke=\"black\" cx=\"27.3\" cy=\"-18\" rx=\"27.1\" ry=\"18\"/>\n<text text-anchor=\"middle\" x=\"27.3\" y=\"-14.3\" font-family=\"Times,serif\" font-size=\"14.00\">Start</text>\n</g>\n<!-- Start&#45;&gt;7 -->\n<g id=\"edge3\" class=\"edge\">\n<title>Start&#45;&gt;7</title>\n<path fill=\"none\" stroke=\"black\" d=\"M64.96,-18C73.07,-18 81.81,-18 90.4,-18\"/>\n<polygon fill=\"black\" stroke=\"black\" points=\"64.72,-14.5 54.72,-18 64.72,-21.5 64.72,-14.5\"/>\n</g>\n</g>\n</svg>\n",
            "text/plain": [
              "<graphviz.graphs.Digraph at 0x7e78aa6f9f60>"
            ]
          },
          "metadata": {}
        },
        {
          "output_type": "stream",
          "name": "stdout",
          "text": [
            "\n",
            "\n",
            "returned node = 11\n",
            "\n",
            "\n",
            "-----------\n",
            "List updated\n",
            "-----------\n",
            "\n",
            "\n"
          ]
        },
        {
          "output_type": "display_data",
          "data": {
            "image/svg+xml": "<?xml version=\"1.0\" encoding=\"UTF-8\" standalone=\"no\"?>\n<!DOCTYPE svg PUBLIC \"-//W3C//DTD SVG 1.1//EN\"\n \"http://www.w3.org/Graphics/SVG/1.1/DTD/svg11.dtd\">\n<!-- Generated by graphviz version 2.43.0 (0)\n -->\n<!-- Title: %3 Pages: 1 -->\n<svg width=\"294pt\" height=\"44pt\"\n viewBox=\"0.00 0.00 293.89 44.00\" xmlns=\"http://www.w3.org/2000/svg\" xmlns:xlink=\"http://www.w3.org/1999/xlink\">\n<g id=\"graph0\" class=\"graph\" transform=\"scale(1 1) rotate(0) translate(4 40)\">\n<title>%3</title>\n<polygon fill=\"white\" stroke=\"transparent\" points=\"-4,4 -4,-40 289.89,-40 289.89,4 -4,4\"/>\n<!-- 7 -->\n<g id=\"node1\" class=\"node\">\n<title>7</title>\n<ellipse fill=\"cyan\" stroke=\"black\" cx=\"143.24\" cy=\"-18\" rx=\"52.79\" ry=\"18\"/>\n<text text-anchor=\"middle\" x=\"143.24\" y=\"-14.3\" font-family=\"Times,serif\" font-size=\"14.00\">7 (index=0)</text>\n</g>\n<!-- End -->\n<g id=\"node3\" class=\"node\">\n<title>End</title>\n<ellipse fill=\"none\" stroke=\"black\" cx=\"258.89\" cy=\"-18\" rx=\"27\" ry=\"18\"/>\n<text text-anchor=\"middle\" x=\"258.89\" y=\"-14.3\" font-family=\"Times,serif\" font-size=\"14.00\">End</text>\n</g>\n<!-- 7&#45;&gt;End -->\n<g id=\"edge2\" class=\"edge\">\n<title>7&#45;&gt;End</title>\n<path fill=\"none\" stroke=\"black\" d=\"M196.07,-18C204.7,-18 213.49,-18 221.62,-18\"/>\n<polygon fill=\"black\" stroke=\"black\" points=\"221.87,-21.5 231.87,-18 221.87,-14.5 221.87,-21.5\"/>\n</g>\n<!-- Start -->\n<g id=\"node2\" class=\"node\">\n<title>Start</title>\n<ellipse fill=\"none\" stroke=\"black\" cx=\"27.3\" cy=\"-18\" rx=\"27.1\" ry=\"18\"/>\n<text text-anchor=\"middle\" x=\"27.3\" y=\"-14.3\" font-family=\"Times,serif\" font-size=\"14.00\">Start</text>\n</g>\n<!-- Start&#45;&gt;7 -->\n<g id=\"edge1\" class=\"edge\">\n<title>Start&#45;&gt;7</title>\n<path fill=\"none\" stroke=\"black\" d=\"M64.96,-18C73.07,-18 81.81,-18 90.4,-18\"/>\n<polygon fill=\"black\" stroke=\"black\" points=\"64.72,-14.5 54.72,-18 64.72,-21.5 64.72,-14.5\"/>\n</g>\n</g>\n</svg>\n",
            "text/plain": [
              "<graphviz.graphs.Digraph at 0x7e78aa6f9270>"
            ]
          },
          "metadata": {}
        },
        {
          "output_type": "stream",
          "name": "stdout",
          "text": [
            "\n",
            "\n",
            "returned node = 7\n",
            "\n",
            "\n",
            "-----------\n",
            "List updated\n",
            "-----------\n",
            "\n",
            "\n"
          ]
        },
        {
          "output_type": "display_data",
          "data": {
            "text/plain": [
              "'Nothing to display'"
            ],
            "application/vnd.google.colaboratory.intrinsic+json": {
              "type": "string"
            }
          },
          "metadata": {}
        }
      ]
    },
    {
      "cell_type": "markdown",
      "source": [
        "## Prepend"
      ],
      "metadata": {
        "id": "ZKOJ4_lZ0ck0"
      }
    },
    {
      "cell_type": "markdown",
      "source": [
        "### Diagram"
      ],
      "metadata": {
        "id": "lt1hEyfO1K1J"
      }
    },
    {
      "cell_type": "markdown",
      "source": [
        "![image.png](data:image/png;base64,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)"
      ],
      "metadata": {
        "id": "fQbCWjrW11iC"
      }
    },
    {
      "cell_type": "markdown",
      "source": [
        "### Code"
      ],
      "metadata": {
        "id": "1y5OAQqU1Mb8"
      }
    },
    {
      "cell_type": "code",
      "source": [
        "import graphviz\n",
        "\n",
        "class Node:\n",
        "\n",
        "  def __init__(self, value):\n",
        "    self.value = value\n",
        "    self.next = None\n",
        "    self.prev = None\n",
        "\n",
        "class DoublyLinkedList:\n",
        "\n",
        "    def __init__(self, value):\n",
        "\n",
        "        new_node = Node(value)\n",
        "        self.head = new_node\n",
        "        self.tail = new_node\n",
        "        self.length = 1\n",
        "\n",
        "    def make_empty(self):\n",
        "\n",
        "        self.head = None\n",
        "        self.tail = None\n",
        "        self.length = 0\n",
        "\n",
        "    def print_list(self,msg = \"List Created\"):\n",
        "\n",
        "        print(\"\\n\")\n",
        "        print(\"-----------\")\n",
        "        print(msg)\n",
        "        print(\"-----------\")\n",
        "        print(\"\\n\")\n",
        "\n",
        "        if self.length == 0:\n",
        "            return \"Nothing to display\"\n",
        "\n",
        "\n",
        "        dot = graphviz.Digraph()\n",
        "        dot.attr(rankdir='LR')  # Change direction to horizontal\n",
        "        temp = self.head\n",
        "        index = 0\n",
        "\n",
        "        while temp is not None:\n",
        "            label = f\"{temp.value} (index={index})\"\n",
        "\n",
        "            if self.length == 1:\n",
        "                dot.node(str(temp.value), label, fillcolor=\"cyan\", style=\"filled\")\n",
        "                break\n",
        "            else:\n",
        "                if temp == self.head:\n",
        "                    dot.node(str(temp.value), label, fillcolor=\"chartreuse\", style=\"filled\")\n",
        "                elif temp == self.tail:\n",
        "                    dot.node(str(temp.value), label, fillcolor=\"lightpink\", style=\"filled\")\n",
        "                else:\n",
        "                    dot.node(str(temp.value), label)\n",
        "\n",
        "            if temp.next:\n",
        "                dot.edge(str(temp.value), str(temp.next.value))\n",
        "\n",
        "            if temp.prev:\n",
        "                dot.edge(str(temp.value), str(temp.prev.value))\n",
        "\n",
        "            temp = temp.next\n",
        "            index += 1\n",
        "\n",
        "        dot.edge(\"Start\", str(self.head.value), dir=\"back\")\n",
        "        dot.edge(str(self.tail.value), \"End\")\n",
        "\n",
        "        return dot\n",
        "\n",
        "    def append(self,value):\n",
        "\n",
        "        # create the new node\n",
        "        new_node = Node(value)\n",
        "\n",
        "        if self.length == 0:\n",
        "            self.tail = new_node\n",
        "            self.head = new_node\n",
        "        else:\n",
        "            self.tail.next = new_node\n",
        "            new_node.prev = self.tail\n",
        "            self.tail = new_node\n",
        "\n",
        "        self.length += 1\n",
        "\n",
        "    def pop(self):\n",
        "\n",
        "        if self.length == 0:\n",
        "            return None\n",
        "\n",
        "        temp = self.tail\n",
        "\n",
        "        if self.length == 1:\n",
        "            self.head = None\n",
        "            self.tail = None\n",
        "        else:\n",
        "            # disconnect the last node\n",
        "            self.tail = self.tail.prev\n",
        "            self.tail.next = None\n",
        "\n",
        "        temp.prev = None\n",
        "        self.length -= 1\n",
        "\n",
        "        return temp\n",
        "\n",
        "    def prepend(self,value):\n",
        "\n",
        "        new_node = Node(value)\n",
        "\n",
        "        if self.length == 0:\n",
        "            self.head = new_node\n",
        "            self.tail = new_node\n",
        "        else:\n",
        "            temp = self.head\n",
        "            new_node.next = temp\n",
        "            self.head = new_node\n",
        "            temp.prev = new_node\n",
        "\n",
        "        self.length += 1\n",
        "        return True"
      ],
      "metadata": {
        "id": "2Y9cypb4yKSx"
      },
      "execution_count": null,
      "outputs": []
    },
    {
      "cell_type": "code",
      "source": [
        "# Test case = prepend | when list is empty\n",
        "\n",
        "my_list = DoublyLinkedList(7)\n",
        "my_list.make_empty()\n",
        "display(my_list.print_list())\n",
        "my_list.prepend(4)\n",
        "display(my_list.print_list())"
      ],
      "metadata": {
        "colab": {
          "base_uri": "https://localhost:8080/",
          "height": 341
        },
        "id": "iN0fkE_G2n8N",
        "outputId": "bb78814d-6213-495c-ea34-a29e4c8ad667"
      },
      "execution_count": null,
      "outputs": [
        {
          "output_type": "stream",
          "name": "stdout",
          "text": [
            "\n",
            "\n",
            "-----------\n",
            "List Created\n",
            "-----------\n",
            "\n",
            "\n"
          ]
        },
        {
          "output_type": "display_data",
          "data": {
            "text/plain": [
              "'Nothing to display'"
            ],
            "application/vnd.google.colaboratory.intrinsic+json": {
              "type": "string"
            }
          },
          "metadata": {}
        },
        {
          "output_type": "stream",
          "name": "stdout",
          "text": [
            "\n",
            "\n",
            "-----------\n",
            "List Created\n",
            "-----------\n",
            "\n",
            "\n"
          ]
        },
        {
          "output_type": "display_data",
          "data": {
            "image/svg+xml": "<?xml version=\"1.0\" encoding=\"UTF-8\" standalone=\"no\"?>\n<!DOCTYPE svg PUBLIC \"-//W3C//DTD SVG 1.1//EN\"\n \"http://www.w3.org/Graphics/SVG/1.1/DTD/svg11.dtd\">\n<!-- Generated by graphviz version 2.43.0 (0)\n -->\n<!-- Title: %3 Pages: 1 -->\n<svg width=\"294pt\" height=\"44pt\"\n viewBox=\"0.00 0.00 293.89 44.00\" xmlns=\"http://www.w3.org/2000/svg\" xmlns:xlink=\"http://www.w3.org/1999/xlink\">\n<g id=\"graph0\" class=\"graph\" transform=\"scale(1 1) rotate(0) translate(4 40)\">\n<title>%3</title>\n<polygon fill=\"white\" stroke=\"transparent\" points=\"-4,4 -4,-40 289.89,-40 289.89,4 -4,4\"/>\n<!-- 4 -->\n<g id=\"node1\" class=\"node\">\n<title>4</title>\n<ellipse fill=\"cyan\" stroke=\"black\" cx=\"143.24\" cy=\"-18\" rx=\"52.79\" ry=\"18\"/>\n<text text-anchor=\"middle\" x=\"143.24\" y=\"-14.3\" font-family=\"Times,serif\" font-size=\"14.00\">4 (index=0)</text>\n</g>\n<!-- End -->\n<g id=\"node3\" class=\"node\">\n<title>End</title>\n<ellipse fill=\"none\" stroke=\"black\" cx=\"258.89\" cy=\"-18\" rx=\"27\" ry=\"18\"/>\n<text text-anchor=\"middle\" x=\"258.89\" y=\"-14.3\" font-family=\"Times,serif\" font-size=\"14.00\">End</text>\n</g>\n<!-- 4&#45;&gt;End -->\n<g id=\"edge2\" class=\"edge\">\n<title>4&#45;&gt;End</title>\n<path fill=\"none\" stroke=\"black\" d=\"M196.07,-18C204.7,-18 213.49,-18 221.62,-18\"/>\n<polygon fill=\"black\" stroke=\"black\" points=\"221.87,-21.5 231.87,-18 221.87,-14.5 221.87,-21.5\"/>\n</g>\n<!-- Start -->\n<g id=\"node2\" class=\"node\">\n<title>Start</title>\n<ellipse fill=\"none\" stroke=\"black\" cx=\"27.3\" cy=\"-18\" rx=\"27.1\" ry=\"18\"/>\n<text text-anchor=\"middle\" x=\"27.3\" y=\"-14.3\" font-family=\"Times,serif\" font-size=\"14.00\">Start</text>\n</g>\n<!-- Start&#45;&gt;4 -->\n<g id=\"edge1\" class=\"edge\">\n<title>Start&#45;&gt;4</title>\n<path fill=\"none\" stroke=\"black\" d=\"M64.96,-18C73.07,-18 81.81,-18 90.4,-18\"/>\n<polygon fill=\"black\" stroke=\"black\" points=\"64.72,-14.5 54.72,-18 64.72,-21.5 64.72,-14.5\"/>\n</g>\n</g>\n</svg>\n",
            "text/plain": [
              "<graphviz.graphs.Digraph at 0x7e78aa81b8b0>"
            ]
          },
          "metadata": {}
        }
      ]
    },
    {
      "cell_type": "code",
      "source": [
        "# Test case = prepend | when list has multiple elements\n",
        "my_list = DoublyLinkedList(7)\n",
        "my_list.append(4)\n",
        "my_list.append(5)\n",
        "my_list.append(9)\n",
        "display(my_list.print_list())\n",
        "my_list.prepend(10)\n",
        "display(my_list.print_list())"
      ],
      "metadata": {
        "colab": {
          "base_uri": "https://localhost:8080/",
          "height": 406
        },
        "id": "Ra9MA2ox3NHF",
        "outputId": "514be550-8eb8-4820-ee2d-4d0adccbed37"
      },
      "execution_count": null,
      "outputs": [
        {
          "output_type": "stream",
          "name": "stdout",
          "text": [
            "\n",
            "\n",
            "-----------\n",
            "List Created\n",
            "-----------\n",
            "\n",
            "\n"
          ]
        },
        {
          "output_type": "display_data",
          "data": {
            "image/svg+xml": "<?xml version=\"1.0\" encoding=\"UTF-8\" standalone=\"no\"?>\n<!DOCTYPE svg PUBLIC \"-//W3C//DTD SVG 1.1//EN\"\n \"http://www.w3.org/Graphics/SVG/1.1/DTD/svg11.dtd\">\n<!-- Generated by graphviz version 2.43.0 (0)\n -->\n<!-- Title: %3 Pages: 1 -->\n<svg width=\"718pt\" height=\"44pt\"\n viewBox=\"0.00 0.00 717.76 44.00\" xmlns=\"http://www.w3.org/2000/svg\" xmlns:xlink=\"http://www.w3.org/1999/xlink\">\n<g id=\"graph0\" class=\"graph\" transform=\"scale(1 1) rotate(0) translate(4 40)\">\n<title>%3</title>\n<polygon fill=\"white\" stroke=\"transparent\" points=\"-4,4 -4,-40 713.76,-40 713.76,4 -4,4\"/>\n<!-- 7 -->\n<g id=\"node1\" class=\"node\">\n<title>7</title>\n<ellipse fill=\"chartreuse\" stroke=\"black\" cx=\"143.24\" cy=\"-18\" rx=\"52.79\" ry=\"18\"/>\n<text text-anchor=\"middle\" x=\"143.24\" y=\"-14.3\" font-family=\"Times,serif\" font-size=\"14.00\">7 (index=0)</text>\n</g>\n<!-- 4 -->\n<g id=\"node2\" class=\"node\">\n<title>4</title>\n<ellipse fill=\"none\" stroke=\"black\" cx=\"284.53\" cy=\"-18\" rx=\"52.79\" ry=\"18\"/>\n<text text-anchor=\"middle\" x=\"284.53\" y=\"-14.3\" font-family=\"Times,serif\" font-size=\"14.00\">4 (index=1)</text>\n</g>\n<!-- 7&#45;&gt;4 -->\n<g id=\"edge1\" class=\"edge\">\n<title>7&#45;&gt;4</title>\n<path fill=\"none\" stroke=\"black\" d=\"M192.57,-11.54C203.05,-11.25 214.24,-11.18 225.06,-11.33\"/>\n<polygon fill=\"black\" stroke=\"black\" points=\"225.22,-14.83 235.29,-11.54 225.37,-7.83 225.22,-14.83\"/>\n</g>\n<!-- 4&#45;&gt;7 -->\n<g id=\"edge3\" class=\"edge\">\n<title>4&#45;&gt;7</title>\n<path fill=\"none\" stroke=\"black\" d=\"M235.29,-24.46C224.81,-24.75 213.62,-24.82 202.8,-24.67\"/>\n<polygon fill=\"black\" stroke=\"black\" points=\"202.64,-21.17 192.57,-24.46 202.49,-28.17 202.64,-21.17\"/>\n</g>\n<!-- 5 -->\n<g id=\"node3\" class=\"node\">\n<title>5</title>\n<ellipse fill=\"none\" stroke=\"black\" cx=\"425.82\" cy=\"-18\" rx=\"52.79\" ry=\"18\"/>\n<text text-anchor=\"middle\" x=\"425.82\" y=\"-14.3\" font-family=\"Times,serif\" font-size=\"14.00\">5 (index=2)</text>\n</g>\n<!-- 4&#45;&gt;5 -->\n<g id=\"edge2\" class=\"edge\">\n<title>4&#45;&gt;5</title>\n<path fill=\"none\" stroke=\"black\" d=\"M333.86,-11.54C344.34,-11.25 355.53,-11.18 366.35,-11.33\"/>\n<polygon fill=\"black\" stroke=\"black\" points=\"366.51,-14.83 376.58,-11.54 366.66,-7.83 366.51,-14.83\"/>\n</g>\n<!-- 5&#45;&gt;4 -->\n<g id=\"edge5\" class=\"edge\">\n<title>5&#45;&gt;4</title>\n<path fill=\"none\" stroke=\"black\" d=\"M376.58,-24.46C366.1,-24.75 354.91,-24.82 344.09,-24.67\"/>\n<polygon fill=\"black\" stroke=\"black\" points=\"343.93,-21.17 333.86,-24.46 343.78,-28.17 343.93,-21.17\"/>\n</g>\n<!-- 9 -->\n<g id=\"node4\" class=\"node\">\n<title>9</title>\n<ellipse fill=\"lightpink\" stroke=\"black\" cx=\"567.11\" cy=\"-18\" rx=\"52.79\" ry=\"18\"/>\n<text text-anchor=\"middle\" x=\"567.11\" y=\"-14.3\" font-family=\"Times,serif\" font-size=\"14.00\">9 (index=3)</text>\n</g>\n<!-- 5&#45;&gt;9 -->\n<g id=\"edge4\" class=\"edge\">\n<title>5&#45;&gt;9</title>\n<path fill=\"none\" stroke=\"black\" d=\"M475.15,-11.54C485.63,-11.25 496.82,-11.18 507.64,-11.33\"/>\n<polygon fill=\"black\" stroke=\"black\" points=\"507.8,-14.83 517.87,-11.54 507.95,-7.83 507.8,-14.83\"/>\n</g>\n<!-- 9&#45;&gt;5 -->\n<g id=\"edge6\" class=\"edge\">\n<title>9&#45;&gt;5</title>\n<path fill=\"none\" stroke=\"black\" d=\"M517.87,-24.46C507.4,-24.75 496.2,-24.82 485.38,-24.67\"/>\n<polygon fill=\"black\" stroke=\"black\" points=\"485.22,-21.17 475.15,-24.46 485.07,-28.17 485.22,-21.17\"/>\n</g>\n<!-- End -->\n<g id=\"node6\" class=\"node\">\n<title>End</title>\n<ellipse fill=\"none\" stroke=\"black\" cx=\"682.76\" cy=\"-18\" rx=\"27\" ry=\"18\"/>\n<text text-anchor=\"middle\" x=\"682.76\" y=\"-14.3\" font-family=\"Times,serif\" font-size=\"14.00\">End</text>\n</g>\n<!-- 9&#45;&gt;End -->\n<g id=\"edge8\" class=\"edge\">\n<title>9&#45;&gt;End</title>\n<path fill=\"none\" stroke=\"black\" d=\"M619.95,-18C628.58,-18 637.36,-18 645.49,-18\"/>\n<polygon fill=\"black\" stroke=\"black\" points=\"645.75,-21.5 655.75,-18 645.75,-14.5 645.75,-21.5\"/>\n</g>\n<!-- Start -->\n<g id=\"node5\" class=\"node\">\n<title>Start</title>\n<ellipse fill=\"none\" stroke=\"black\" cx=\"27.3\" cy=\"-18\" rx=\"27.1\" ry=\"18\"/>\n<text text-anchor=\"middle\" x=\"27.3\" y=\"-14.3\" font-family=\"Times,serif\" font-size=\"14.00\">Start</text>\n</g>\n<!-- Start&#45;&gt;7 -->\n<g id=\"edge7\" class=\"edge\">\n<title>Start&#45;&gt;7</title>\n<path fill=\"none\" stroke=\"black\" d=\"M64.96,-18C73.07,-18 81.81,-18 90.4,-18\"/>\n<polygon fill=\"black\" stroke=\"black\" points=\"64.72,-14.5 54.72,-18 64.72,-21.5 64.72,-14.5\"/>\n</g>\n</g>\n</svg>\n",
            "text/plain": [
              "<graphviz.graphs.Digraph at 0x7e78aa6f9090>"
            ]
          },
          "metadata": {}
        },
        {
          "output_type": "stream",
          "name": "stdout",
          "text": [
            "\n",
            "\n",
            "-----------\n",
            "List Created\n",
            "-----------\n",
            "\n",
            "\n"
          ]
        },
        {
          "output_type": "display_data",
          "data": {
            "image/svg+xml": "<?xml version=\"1.0\" encoding=\"UTF-8\" standalone=\"no\"?>\n<!DOCTYPE svg PUBLIC \"-//W3C//DTD SVG 1.1//EN\"\n \"http://www.w3.org/Graphics/SVG/1.1/DTD/svg11.dtd\">\n<!-- Generated by graphviz version 2.43.0 (0)\n -->\n<!-- Title: %3 Pages: 1 -->\n<svg width=\"868pt\" height=\"44pt\"\n viewBox=\"0.00 0.00 868.15 44.00\" xmlns=\"http://www.w3.org/2000/svg\" xmlns:xlink=\"http://www.w3.org/1999/xlink\">\n<g id=\"graph0\" class=\"graph\" transform=\"scale(1 1) rotate(0) translate(4 40)\">\n<title>%3</title>\n<polygon fill=\"white\" stroke=\"transparent\" points=\"-4,4 -4,-40 864.15,-40 864.15,4 -4,4\"/>\n<!-- 10 -->\n<g id=\"node1\" class=\"node\">\n<title>10</title>\n<ellipse fill=\"chartreuse\" stroke=\"black\" cx=\"147.79\" cy=\"-18\" rx=\"57.39\" ry=\"18\"/>\n<text text-anchor=\"middle\" x=\"147.79\" y=\"-14.3\" font-family=\"Times,serif\" font-size=\"14.00\">10 (index=0)</text>\n</g>\n<!-- 7 -->\n<g id=\"node2\" class=\"node\">\n<title>7</title>\n<ellipse fill=\"none\" stroke=\"black\" cx=\"293.63\" cy=\"-18\" rx=\"52.79\" ry=\"18\"/>\n<text text-anchor=\"middle\" x=\"293.63\" y=\"-14.3\" font-family=\"Times,serif\" font-size=\"14.00\">7 (index=1)</text>\n</g>\n<!-- 10&#45;&gt;7 -->\n<g id=\"edge1\" class=\"edge\">\n<title>10&#45;&gt;7</title>\n<path fill=\"none\" stroke=\"black\" d=\"M201.13,-11.48C211.84,-11.22 223.18,-11.18 234.1,-11.36\"/>\n<polygon fill=\"black\" stroke=\"black\" points=\"234.32,-14.86 244.4,-11.59 234.48,-7.86 234.32,-14.86\"/>\n</g>\n<!-- 7&#45;&gt;10 -->\n<g id=\"edge3\" class=\"edge\">\n<title>7&#45;&gt;10</title>\n<path fill=\"none\" stroke=\"black\" d=\"M244.4,-24.41C233.75,-24.73 222.33,-24.82 211.22,-24.7\"/>\n<polygon fill=\"black\" stroke=\"black\" points=\"211.19,-21.2 201.13,-24.52 211.06,-28.2 211.19,-21.2\"/>\n</g>\n<!-- 4 -->\n<g id=\"node3\" class=\"node\">\n<title>4</title>\n<ellipse fill=\"none\" stroke=\"black\" cx=\"434.92\" cy=\"-18\" rx=\"52.79\" ry=\"18\"/>\n<text text-anchor=\"middle\" x=\"434.92\" y=\"-14.3\" font-family=\"Times,serif\" font-size=\"14.00\">4 (index=2)</text>\n</g>\n<!-- 7&#45;&gt;4 -->\n<g id=\"edge2\" class=\"edge\">\n<title>7&#45;&gt;4</title>\n<path fill=\"none\" stroke=\"black\" d=\"M342.96,-11.54C353.44,-11.25 364.63,-11.18 375.45,-11.33\"/>\n<polygon fill=\"black\" stroke=\"black\" points=\"375.61,-14.83 385.68,-11.54 375.76,-7.83 375.61,-14.83\"/>\n</g>\n<!-- 4&#45;&gt;7 -->\n<g id=\"edge5\" class=\"edge\">\n<title>4&#45;&gt;7</title>\n<path fill=\"none\" stroke=\"black\" d=\"M385.68,-24.46C375.2,-24.75 364.01,-24.82 353.19,-24.67\"/>\n<polygon fill=\"black\" stroke=\"black\" points=\"353.03,-21.17 342.96,-24.46 352.88,-28.17 353.03,-21.17\"/>\n</g>\n<!-- 5 -->\n<g id=\"node4\" class=\"node\">\n<title>5</title>\n<ellipse fill=\"none\" stroke=\"black\" cx=\"576.21\" cy=\"-18\" rx=\"52.79\" ry=\"18\"/>\n<text text-anchor=\"middle\" x=\"576.21\" y=\"-14.3\" font-family=\"Times,serif\" font-size=\"14.00\">5 (index=3)</text>\n</g>\n<!-- 4&#45;&gt;5 -->\n<g id=\"edge4\" class=\"edge\">\n<title>4&#45;&gt;5</title>\n<path fill=\"none\" stroke=\"black\" d=\"M484.25,-11.54C494.73,-11.25 505.92,-11.18 516.74,-11.33\"/>\n<polygon fill=\"black\" stroke=\"black\" points=\"516.9,-14.83 526.97,-11.54 517.05,-7.83 516.9,-14.83\"/>\n</g>\n<!-- 5&#45;&gt;4 -->\n<g id=\"edge7\" class=\"edge\">\n<title>5&#45;&gt;4</title>\n<path fill=\"none\" stroke=\"black\" d=\"M526.97,-24.46C516.49,-24.75 505.3,-24.82 494.48,-24.67\"/>\n<polygon fill=\"black\" stroke=\"black\" points=\"494.32,-21.17 484.25,-24.46 494.17,-28.17 494.32,-21.17\"/>\n</g>\n<!-- 9 -->\n<g id=\"node5\" class=\"node\">\n<title>9</title>\n<ellipse fill=\"lightpink\" stroke=\"black\" cx=\"717.5\" cy=\"-18\" rx=\"52.79\" ry=\"18\"/>\n<text text-anchor=\"middle\" x=\"717.5\" y=\"-14.3\" font-family=\"Times,serif\" font-size=\"14.00\">9 (index=4)</text>\n</g>\n<!-- 5&#45;&gt;9 -->\n<g id=\"edge6\" class=\"edge\">\n<title>5&#45;&gt;9</title>\n<path fill=\"none\" stroke=\"black\" d=\"M625.54,-11.54C636.02,-11.25 647.21,-11.18 658.03,-11.33\"/>\n<polygon fill=\"black\" stroke=\"black\" points=\"658.19,-14.83 668.26,-11.54 658.34,-7.83 658.19,-14.83\"/>\n</g>\n<!-- 9&#45;&gt;5 -->\n<g id=\"edge8\" class=\"edge\">\n<title>9&#45;&gt;5</title>\n<path fill=\"none\" stroke=\"black\" d=\"M668.26,-24.46C657.79,-24.75 646.59,-24.82 635.77,-24.67\"/>\n<polygon fill=\"black\" stroke=\"black\" points=\"635.61,-21.17 625.54,-24.46 635.46,-28.17 635.61,-21.17\"/>\n</g>\n<!-- End -->\n<g id=\"node7\" class=\"node\">\n<title>End</title>\n<ellipse fill=\"none\" stroke=\"black\" cx=\"833.15\" cy=\"-18\" rx=\"27\" ry=\"18\"/>\n<text text-anchor=\"middle\" x=\"833.15\" y=\"-14.3\" font-family=\"Times,serif\" font-size=\"14.00\">End</text>\n</g>\n<!-- 9&#45;&gt;End -->\n<g id=\"edge10\" class=\"edge\">\n<title>9&#45;&gt;End</title>\n<path fill=\"none\" stroke=\"black\" d=\"M770.34,-18C778.97,-18 787.75,-18 795.88,-18\"/>\n<polygon fill=\"black\" stroke=\"black\" points=\"796.14,-21.5 806.14,-18 796.14,-14.5 796.14,-21.5\"/>\n</g>\n<!-- Start -->\n<g id=\"node6\" class=\"node\">\n<title>Start</title>\n<ellipse fill=\"none\" stroke=\"black\" cx=\"27.3\" cy=\"-18\" rx=\"27.1\" ry=\"18\"/>\n<text text-anchor=\"middle\" x=\"27.3\" y=\"-14.3\" font-family=\"Times,serif\" font-size=\"14.00\">Start</text>\n</g>\n<!-- Start&#45;&gt;10 -->\n<g id=\"edge9\" class=\"edge\">\n<title>Start&#45;&gt;10</title>\n<path fill=\"none\" stroke=\"black\" d=\"M64.99,-18C73,-18 81.66,-18 90.24,-18\"/>\n<polygon fill=\"black\" stroke=\"black\" points=\"64.89,-14.5 54.89,-18 64.89,-21.5 64.89,-14.5\"/>\n</g>\n</g>\n</svg>\n",
            "text/plain": [
              "<graphviz.graphs.Digraph at 0x7e78aa6f81c0>"
            ]
          },
          "metadata": {}
        }
      ]
    },
    {
      "cell_type": "code",
      "source": [],
      "metadata": {
        "id": "oZoglps85AHh"
      },
      "execution_count": null,
      "outputs": []
    },
    {
      "cell_type": "markdown",
      "source": [
        "## Pop First"
      ],
      "metadata": {
        "id": "d739xOriAe9F"
      }
    },
    {
      "cell_type": "markdown",
      "source": [
        "### Diagram"
      ],
      "metadata": {
        "id": "t4KgBfVeBY21"
      }
    },
    {
      "cell_type": "markdown",
      "source": [
        "![image.png](data:image/png;base64,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)"
      ],
      "metadata": {
        "id": "6kXPZDDhCNz5"
      }
    },
    {
      "cell_type": "code",
      "source": [],
      "metadata": {
        "id": "iCKAJcmnAeAY"
      },
      "execution_count": null,
      "outputs": []
    },
    {
      "cell_type": "markdown",
      "source": [
        "### Code"
      ],
      "metadata": {
        "id": "BF5VYn_JBfSv"
      }
    },
    {
      "cell_type": "code",
      "source": [
        "import graphviz\n",
        "\n",
        "class Node:\n",
        "\n",
        "  def __init__(self, value):\n",
        "    self.value = value\n",
        "    self.next = None\n",
        "    self.prev = None\n",
        "\n",
        "class DoublyLinkedList:\n",
        "\n",
        "    def __init__(self, value):\n",
        "\n",
        "        new_node = Node(value)\n",
        "        self.head = new_node\n",
        "        self.tail = new_node\n",
        "        self.length = 1\n",
        "\n",
        "    def make_empty(self):\n",
        "\n",
        "        self.head = None\n",
        "        self.tail = None\n",
        "        self.length = 0\n",
        "\n",
        "    def print_list(self,msg = \"List Created\"):\n",
        "\n",
        "        print(\"\\n\")\n",
        "        print(\"-----------\")\n",
        "        print(msg)\n",
        "        print(\"-----------\")\n",
        "        print(\"\\n\")\n",
        "\n",
        "        if self.length == 0:\n",
        "            return \"Nothing to display\"\n",
        "\n",
        "\n",
        "        dot = graphviz.Digraph()\n",
        "        dot.attr(rankdir='LR')  # Change direction to horizontal\n",
        "        temp = self.head\n",
        "        index = 0\n",
        "\n",
        "        while temp is not None:\n",
        "            label = f\"{temp.value} (index={index})\"\n",
        "\n",
        "            if self.length == 1:\n",
        "                dot.node(str(temp.value), label, fillcolor=\"cyan\", style=\"filled\")\n",
        "                break\n",
        "            else:\n",
        "                if temp == self.head:\n",
        "                    dot.node(str(temp.value), label, fillcolor=\"chartreuse\", style=\"filled\")\n",
        "                elif temp == self.tail:\n",
        "                    dot.node(str(temp.value), label, fillcolor=\"lightpink\", style=\"filled\")\n",
        "                else:\n",
        "                    dot.node(str(temp.value), label)\n",
        "\n",
        "            if temp.next:\n",
        "                dot.edge(str(temp.value), str(temp.next.value))\n",
        "\n",
        "            if temp.prev:\n",
        "                dot.edge(str(temp.value), str(temp.prev.value))\n",
        "\n",
        "            temp = temp.next\n",
        "            index += 1\n",
        "\n",
        "        dot.edge(\"Start\", str(self.head.value), dir=\"back\")\n",
        "        dot.edge(str(self.tail.value), \"End\")\n",
        "\n",
        "        return dot\n",
        "\n",
        "    def append(self,value):\n",
        "\n",
        "        # create the new node\n",
        "        new_node = Node(value)\n",
        "\n",
        "        if self.length == 0:\n",
        "            self.tail = new_node\n",
        "            self.head = new_node\n",
        "        else:\n",
        "            self.tail.next = new_node\n",
        "            new_node.prev = self.tail\n",
        "            self.tail = new_node\n",
        "\n",
        "        self.length += 1\n",
        "\n",
        "    def pop(self):\n",
        "\n",
        "        if self.length == 0:\n",
        "            return None\n",
        "\n",
        "        temp = self.tail\n",
        "\n",
        "        if self.length == 1:\n",
        "            self.head = None\n",
        "            self.tail = None\n",
        "        else:\n",
        "            # disconnect the last node\n",
        "            self.tail = self.tail.prev\n",
        "            self.tail.next = None\n",
        "\n",
        "        temp.prev = None\n",
        "        self.length -= 1\n",
        "\n",
        "        return temp\n",
        "\n",
        "    def prepend(self,value):\n",
        "\n",
        "        new_node = Node(value)\n",
        "\n",
        "        if self.length == 0:\n",
        "            self.head = new_node\n",
        "            self.tail = new_node\n",
        "        else:\n",
        "            temp = self.head\n",
        "            new_node.next = temp\n",
        "            self.head = new_node\n",
        "            temp.prev = new_node\n",
        "\n",
        "        self.length += 1\n",
        "        return True\n",
        "\n",
        "    def pop_first(self):\n",
        "\n",
        "        if self.length == 0:\n",
        "            return None\n",
        "\n",
        "        temp = self.head\n",
        "\n",
        "        if self.length == 1:\n",
        "            self.head = None\n",
        "            self.tail = None\n",
        "        else:\n",
        "            self.head = temp.next\n",
        "            self.head.prev = None\n",
        "\n",
        "        temp.next = None\n",
        "        self.length -= 1\n",
        "        return temp"
      ],
      "metadata": {
        "id": "c48pKAjwBgBy"
      },
      "execution_count": null,
      "outputs": []
    },
    {
      "cell_type": "code",
      "source": [
        "# -----------------------\n",
        "# Test case : pop_first() | with no elements\n",
        "# -----------------------\n",
        "my_doubly_linked_list = DoublyLinkedList(1)\n",
        "my_doubly_linked_list.make_empty()\n",
        "display(my_doubly_linked_list.print_list(\"pop_first() | with no elements\"))\n",
        "\n",
        "ret_node = my_doubly_linked_list.pop_first()\n",
        "\n",
        "if ret_node:\n",
        "    print(\"\\n\")\n",
        "    print(f\"Popped node = {ret_node.value}\")\n",
        "display(my_doubly_linked_list.print_list(\"List Updated\"))\n",
        "\n",
        "# -----------------------\n",
        "# Test case : pop_first() | with 1 element\n",
        "# -----------------------\n",
        "my_doubly_linked_list = DoublyLinkedList(1)\n",
        "display(my_doubly_linked_list.print_list(\"pop_first() | with 1 element\"))\n",
        "\n",
        "ret_node = my_doubly_linked_list.pop_first()\n",
        "\n",
        "if ret_node:\n",
        "    print(\"\\n\")\n",
        "    print(f\"Popped node = {ret_node.value}\")\n",
        "display(my_doubly_linked_list.print_list(\"List Updated\"))\n",
        "\n",
        "# -----------------------\n",
        "# Test case : pop_first() | with multiple elements\n",
        "# -----------------------\n",
        "my_doubly_linked_list = DoublyLinkedList(1)\n",
        "my_doubly_linked_list.append(2)\n",
        "my_doubly_linked_list.append(3)\n",
        "my_doubly_linked_list.append(4)\n",
        "my_doubly_linked_list.append(5)\n",
        "display(my_doubly_linked_list.print_list(\"pop_first() | with multiple elements\"))\n",
        "\n",
        "ret_node = my_doubly_linked_list.pop_first()\n",
        "\n",
        "if ret_node:\n",
        "    print(\"\\n\")\n",
        "    print(f\"Popped node = {ret_node.value}\")\n",
        "display(my_doubly_linked_list.print_list(\"List Updated\"))"
      ],
      "metadata": {
        "colab": {
          "base_uri": "https://localhost:8080/",
          "height": 1000
        },
        "id": "0Ex8H8WwGk60",
        "outputId": "779629f9-b223-4e4f-d42c-3a6aa618d7ec"
      },
      "execution_count": null,
      "outputs": [
        {
          "output_type": "stream",
          "name": "stdout",
          "text": [
            "\n",
            "\n",
            "-----------\n",
            "pop_first() | with no elements\n",
            "-----------\n",
            "\n",
            "\n"
          ]
        },
        {
          "output_type": "display_data",
          "data": {
            "text/plain": [
              "'Nothing to display'"
            ],
            "application/vnd.google.colaboratory.intrinsic+json": {
              "type": "string"
            }
          },
          "metadata": {}
        },
        {
          "output_type": "stream",
          "name": "stdout",
          "text": [
            "\n",
            "\n",
            "-----------\n",
            "List Updated\n",
            "-----------\n",
            "\n",
            "\n"
          ]
        },
        {
          "output_type": "display_data",
          "data": {
            "text/plain": [
              "'Nothing to display'"
            ],
            "application/vnd.google.colaboratory.intrinsic+json": {
              "type": "string"
            }
          },
          "metadata": {}
        },
        {
          "output_type": "stream",
          "name": "stdout",
          "text": [
            "\n",
            "\n",
            "-----------\n",
            "pop_first() | with 1 element\n",
            "-----------\n",
            "\n",
            "\n"
          ]
        },
        {
          "output_type": "display_data",
          "data": {
            "image/svg+xml": "<?xml version=\"1.0\" encoding=\"UTF-8\" standalone=\"no\"?>\n<!DOCTYPE svg PUBLIC \"-//W3C//DTD SVG 1.1//EN\"\n \"http://www.w3.org/Graphics/SVG/1.1/DTD/svg11.dtd\">\n<!-- Generated by graphviz version 2.43.0 (0)\n -->\n<!-- Title: %3 Pages: 1 -->\n<svg width=\"294pt\" height=\"44pt\"\n viewBox=\"0.00 0.00 293.89 44.00\" xmlns=\"http://www.w3.org/2000/svg\" xmlns:xlink=\"http://www.w3.org/1999/xlink\">\n<g id=\"graph0\" class=\"graph\" transform=\"scale(1 1) rotate(0) translate(4 40)\">\n<title>%3</title>\n<polygon fill=\"white\" stroke=\"transparent\" points=\"-4,4 -4,-40 289.89,-40 289.89,4 -4,4\"/>\n<!-- 1 -->\n<g id=\"node1\" class=\"node\">\n<title>1</title>\n<ellipse fill=\"cyan\" stroke=\"black\" cx=\"143.24\" cy=\"-18\" rx=\"52.79\" ry=\"18\"/>\n<text text-anchor=\"middle\" x=\"143.24\" y=\"-14.3\" font-family=\"Times,serif\" font-size=\"14.00\">1 (index=0)</text>\n</g>\n<!-- End -->\n<g id=\"node3\" class=\"node\">\n<title>End</title>\n<ellipse fill=\"none\" stroke=\"black\" cx=\"258.89\" cy=\"-18\" rx=\"27\" ry=\"18\"/>\n<text text-anchor=\"middle\" x=\"258.89\" y=\"-14.3\" font-family=\"Times,serif\" font-size=\"14.00\">End</text>\n</g>\n<!-- 1&#45;&gt;End -->\n<g id=\"edge2\" class=\"edge\">\n<title>1&#45;&gt;End</title>\n<path fill=\"none\" stroke=\"black\" d=\"M196.07,-18C204.7,-18 213.49,-18 221.62,-18\"/>\n<polygon fill=\"black\" stroke=\"black\" points=\"221.87,-21.5 231.87,-18 221.87,-14.5 221.87,-21.5\"/>\n</g>\n<!-- Start -->\n<g id=\"node2\" class=\"node\">\n<title>Start</title>\n<ellipse fill=\"none\" stroke=\"black\" cx=\"27.3\" cy=\"-18\" rx=\"27.1\" ry=\"18\"/>\n<text text-anchor=\"middle\" x=\"27.3\" y=\"-14.3\" font-family=\"Times,serif\" font-size=\"14.00\">Start</text>\n</g>\n<!-- Start&#45;&gt;1 -->\n<g id=\"edge1\" class=\"edge\">\n<title>Start&#45;&gt;1</title>\n<path fill=\"none\" stroke=\"black\" d=\"M64.96,-18C73.07,-18 81.81,-18 90.4,-18\"/>\n<polygon fill=\"black\" stroke=\"black\" points=\"64.72,-14.5 54.72,-18 64.72,-21.5 64.72,-14.5\"/>\n</g>\n</g>\n</svg>\n",
            "text/plain": [
              "<graphviz.graphs.Digraph at 0x78b2b032b9a0>"
            ]
          },
          "metadata": {}
        },
        {
          "output_type": "stream",
          "name": "stdout",
          "text": [
            "\n",
            "\n",
            "Popped node = 1\n",
            "\n",
            "\n",
            "-----------\n",
            "List Updated\n",
            "-----------\n",
            "\n",
            "\n"
          ]
        },
        {
          "output_type": "display_data",
          "data": {
            "text/plain": [
              "'Nothing to display'"
            ],
            "application/vnd.google.colaboratory.intrinsic+json": {
              "type": "string"
            }
          },
          "metadata": {}
        },
        {
          "output_type": "stream",
          "name": "stdout",
          "text": [
            "\n",
            "\n",
            "-----------\n",
            "pop_first() | with multiple elements\n",
            "-----------\n",
            "\n",
            "\n"
          ]
        },
        {
          "output_type": "display_data",
          "data": {
            "image/svg+xml": "<?xml version=\"1.0\" encoding=\"UTF-8\" standalone=\"no\"?>\n<!DOCTYPE svg PUBLIC \"-//W3C//DTD SVG 1.1//EN\"\n \"http://www.w3.org/Graphics/SVG/1.1/DTD/svg11.dtd\">\n<!-- Generated by graphviz version 2.43.0 (0)\n -->\n<!-- Title: %3 Pages: 1 -->\n<svg width=\"859pt\" height=\"44pt\"\n viewBox=\"0.00 0.00 859.05 44.00\" xmlns=\"http://www.w3.org/2000/svg\" xmlns:xlink=\"http://www.w3.org/1999/xlink\">\n<g id=\"graph0\" class=\"graph\" transform=\"scale(1 1) rotate(0) translate(4 40)\">\n<title>%3</title>\n<polygon fill=\"white\" stroke=\"transparent\" points=\"-4,4 -4,-40 855.05,-40 855.05,4 -4,4\"/>\n<!-- 1 -->\n<g id=\"node1\" class=\"node\">\n<title>1</title>\n<ellipse fill=\"chartreuse\" stroke=\"black\" cx=\"143.24\" cy=\"-18\" rx=\"52.79\" ry=\"18\"/>\n<text text-anchor=\"middle\" x=\"143.24\" y=\"-14.3\" font-family=\"Times,serif\" font-size=\"14.00\">1 (index=0)</text>\n</g>\n<!-- 2 -->\n<g id=\"node2\" class=\"node\">\n<title>2</title>\n<ellipse fill=\"none\" stroke=\"black\" cx=\"284.53\" cy=\"-18\" rx=\"52.79\" ry=\"18\"/>\n<text text-anchor=\"middle\" x=\"284.53\" y=\"-14.3\" font-family=\"Times,serif\" font-size=\"14.00\">2 (index=1)</text>\n</g>\n<!-- 1&#45;&gt;2 -->\n<g id=\"edge1\" class=\"edge\">\n<title>1&#45;&gt;2</title>\n<path fill=\"none\" stroke=\"black\" d=\"M192.57,-11.54C203.05,-11.25 214.24,-11.18 225.06,-11.33\"/>\n<polygon fill=\"black\" stroke=\"black\" points=\"225.22,-14.83 235.29,-11.54 225.37,-7.83 225.22,-14.83\"/>\n</g>\n<!-- 2&#45;&gt;1 -->\n<g id=\"edge3\" class=\"edge\">\n<title>2&#45;&gt;1</title>\n<path fill=\"none\" stroke=\"black\" d=\"M235.29,-24.46C224.81,-24.75 213.62,-24.82 202.8,-24.67\"/>\n<polygon fill=\"black\" stroke=\"black\" points=\"202.64,-21.17 192.57,-24.46 202.49,-28.17 202.64,-21.17\"/>\n</g>\n<!-- 3 -->\n<g id=\"node3\" class=\"node\">\n<title>3</title>\n<ellipse fill=\"none\" stroke=\"black\" cx=\"425.82\" cy=\"-18\" rx=\"52.79\" ry=\"18\"/>\n<text text-anchor=\"middle\" x=\"425.82\" y=\"-14.3\" font-family=\"Times,serif\" font-size=\"14.00\">3 (index=2)</text>\n</g>\n<!-- 2&#45;&gt;3 -->\n<g id=\"edge2\" class=\"edge\">\n<title>2&#45;&gt;3</title>\n<path fill=\"none\" stroke=\"black\" d=\"M333.86,-11.54C344.34,-11.25 355.53,-11.18 366.35,-11.33\"/>\n<polygon fill=\"black\" stroke=\"black\" points=\"366.51,-14.83 376.58,-11.54 366.66,-7.83 366.51,-14.83\"/>\n</g>\n<!-- 3&#45;&gt;2 -->\n<g id=\"edge5\" class=\"edge\">\n<title>3&#45;&gt;2</title>\n<path fill=\"none\" stroke=\"black\" d=\"M376.58,-24.46C366.1,-24.75 354.91,-24.82 344.09,-24.67\"/>\n<polygon fill=\"black\" stroke=\"black\" points=\"343.93,-21.17 333.86,-24.46 343.78,-28.17 343.93,-21.17\"/>\n</g>\n<!-- 4 -->\n<g id=\"node4\" class=\"node\">\n<title>4</title>\n<ellipse fill=\"none\" stroke=\"black\" cx=\"567.11\" cy=\"-18\" rx=\"52.79\" ry=\"18\"/>\n<text text-anchor=\"middle\" x=\"567.11\" y=\"-14.3\" font-family=\"Times,serif\" font-size=\"14.00\">4 (index=3)</text>\n</g>\n<!-- 3&#45;&gt;4 -->\n<g id=\"edge4\" class=\"edge\">\n<title>3&#45;&gt;4</title>\n<path fill=\"none\" stroke=\"black\" d=\"M475.15,-11.54C485.63,-11.25 496.82,-11.18 507.64,-11.33\"/>\n<polygon fill=\"black\" stroke=\"black\" points=\"507.8,-14.83 517.87,-11.54 507.95,-7.83 507.8,-14.83\"/>\n</g>\n<!-- 4&#45;&gt;3 -->\n<g id=\"edge7\" class=\"edge\">\n<title>4&#45;&gt;3</title>\n<path fill=\"none\" stroke=\"black\" d=\"M517.87,-24.46C507.4,-24.75 496.2,-24.82 485.38,-24.67\"/>\n<polygon fill=\"black\" stroke=\"black\" points=\"485.22,-21.17 475.15,-24.46 485.07,-28.17 485.22,-21.17\"/>\n</g>\n<!-- 5 -->\n<g id=\"node5\" class=\"node\">\n<title>5</title>\n<ellipse fill=\"lightpink\" stroke=\"black\" cx=\"708.4\" cy=\"-18\" rx=\"52.79\" ry=\"18\"/>\n<text text-anchor=\"middle\" x=\"708.4\" y=\"-14.3\" font-family=\"Times,serif\" font-size=\"14.00\">5 (index=4)</text>\n</g>\n<!-- 4&#45;&gt;5 -->\n<g id=\"edge6\" class=\"edge\">\n<title>4&#45;&gt;5</title>\n<path fill=\"none\" stroke=\"black\" d=\"M616.44,-11.54C626.92,-11.25 638.11,-11.18 648.93,-11.33\"/>\n<polygon fill=\"black\" stroke=\"black\" points=\"649.09,-14.83 659.16,-11.54 649.24,-7.83 649.09,-14.83\"/>\n</g>\n<!-- 5&#45;&gt;4 -->\n<g id=\"edge8\" class=\"edge\">\n<title>5&#45;&gt;4</title>\n<path fill=\"none\" stroke=\"black\" d=\"M659.16,-24.46C648.69,-24.75 637.49,-24.82 626.67,-24.67\"/>\n<polygon fill=\"black\" stroke=\"black\" points=\"626.51,-21.17 616.44,-24.46 626.36,-28.17 626.51,-21.17\"/>\n</g>\n<!-- End -->\n<g id=\"node7\" class=\"node\">\n<title>End</title>\n<ellipse fill=\"none\" stroke=\"black\" cx=\"824.05\" cy=\"-18\" rx=\"27\" ry=\"18\"/>\n<text text-anchor=\"middle\" x=\"824.05\" y=\"-14.3\" font-family=\"Times,serif\" font-size=\"14.00\">End</text>\n</g>\n<!-- 5&#45;&gt;End -->\n<g id=\"edge10\" class=\"edge\">\n<title>5&#45;&gt;End</title>\n<path fill=\"none\" stroke=\"black\" d=\"M761.24,-18C769.87,-18 778.65,-18 786.78,-18\"/>\n<polygon fill=\"black\" stroke=\"black\" points=\"787.04,-21.5 797.04,-18 787.04,-14.5 787.04,-21.5\"/>\n</g>\n<!-- Start -->\n<g id=\"node6\" class=\"node\">\n<title>Start</title>\n<ellipse fill=\"none\" stroke=\"black\" cx=\"27.3\" cy=\"-18\" rx=\"27.1\" ry=\"18\"/>\n<text text-anchor=\"middle\" x=\"27.3\" y=\"-14.3\" font-family=\"Times,serif\" font-size=\"14.00\">Start</text>\n</g>\n<!-- Start&#45;&gt;1 -->\n<g id=\"edge9\" class=\"edge\">\n<title>Start&#45;&gt;1</title>\n<path fill=\"none\" stroke=\"black\" d=\"M64.96,-18C73.07,-18 81.81,-18 90.4,-18\"/>\n<polygon fill=\"black\" stroke=\"black\" points=\"64.72,-14.5 54.72,-18 64.72,-21.5 64.72,-14.5\"/>\n</g>\n</g>\n</svg>\n",
            "text/plain": [
              "<graphviz.graphs.Digraph at 0x78b2b0328850>"
            ]
          },
          "metadata": {}
        },
        {
          "output_type": "stream",
          "name": "stdout",
          "text": [
            "\n",
            "\n",
            "Popped node = 1\n",
            "\n",
            "\n",
            "-----------\n",
            "List Updated\n",
            "-----------\n",
            "\n",
            "\n"
          ]
        },
        {
          "output_type": "display_data",
          "data": {
            "image/svg+xml": "<?xml version=\"1.0\" encoding=\"UTF-8\" standalone=\"no\"?>\n<!DOCTYPE svg PUBLIC \"-//W3C//DTD SVG 1.1//EN\"\n \"http://www.w3.org/Graphics/SVG/1.1/DTD/svg11.dtd\">\n<!-- Generated by graphviz version 2.43.0 (0)\n -->\n<!-- Title: %3 Pages: 1 -->\n<svg width=\"718pt\" height=\"44pt\"\n viewBox=\"0.00 0.00 717.76 44.00\" xmlns=\"http://www.w3.org/2000/svg\" xmlns:xlink=\"http://www.w3.org/1999/xlink\">\n<g id=\"graph0\" class=\"graph\" transform=\"scale(1 1) rotate(0) translate(4 40)\">\n<title>%3</title>\n<polygon fill=\"white\" stroke=\"transparent\" points=\"-4,4 -4,-40 713.76,-40 713.76,4 -4,4\"/>\n<!-- 2 -->\n<g id=\"node1\" class=\"node\">\n<title>2</title>\n<ellipse fill=\"chartreuse\" stroke=\"black\" cx=\"143.24\" cy=\"-18\" rx=\"52.79\" ry=\"18\"/>\n<text text-anchor=\"middle\" x=\"143.24\" y=\"-14.3\" font-family=\"Times,serif\" font-size=\"14.00\">2 (index=0)</text>\n</g>\n<!-- 3 -->\n<g id=\"node2\" class=\"node\">\n<title>3</title>\n<ellipse fill=\"none\" stroke=\"black\" cx=\"284.53\" cy=\"-18\" rx=\"52.79\" ry=\"18\"/>\n<text text-anchor=\"middle\" x=\"284.53\" y=\"-14.3\" font-family=\"Times,serif\" font-size=\"14.00\">3 (index=1)</text>\n</g>\n<!-- 2&#45;&gt;3 -->\n<g id=\"edge1\" class=\"edge\">\n<title>2&#45;&gt;3</title>\n<path fill=\"none\" stroke=\"black\" d=\"M192.57,-11.54C203.05,-11.25 214.24,-11.18 225.06,-11.33\"/>\n<polygon fill=\"black\" stroke=\"black\" points=\"225.22,-14.83 235.29,-11.54 225.37,-7.83 225.22,-14.83\"/>\n</g>\n<!-- 3&#45;&gt;2 -->\n<g id=\"edge3\" class=\"edge\">\n<title>3&#45;&gt;2</title>\n<path fill=\"none\" stroke=\"black\" d=\"M235.29,-24.46C224.81,-24.75 213.62,-24.82 202.8,-24.67\"/>\n<polygon fill=\"black\" stroke=\"black\" points=\"202.64,-21.17 192.57,-24.46 202.49,-28.17 202.64,-21.17\"/>\n</g>\n<!-- 4 -->\n<g id=\"node3\" class=\"node\">\n<title>4</title>\n<ellipse fill=\"none\" stroke=\"black\" cx=\"425.82\" cy=\"-18\" rx=\"52.79\" ry=\"18\"/>\n<text text-anchor=\"middle\" x=\"425.82\" y=\"-14.3\" font-family=\"Times,serif\" font-size=\"14.00\">4 (index=2)</text>\n</g>\n<!-- 3&#45;&gt;4 -->\n<g id=\"edge2\" class=\"edge\">\n<title>3&#45;&gt;4</title>\n<path fill=\"none\" stroke=\"black\" d=\"M333.86,-11.54C344.34,-11.25 355.53,-11.18 366.35,-11.33\"/>\n<polygon fill=\"black\" stroke=\"black\" points=\"366.51,-14.83 376.58,-11.54 366.66,-7.83 366.51,-14.83\"/>\n</g>\n<!-- 4&#45;&gt;3 -->\n<g id=\"edge5\" class=\"edge\">\n<title>4&#45;&gt;3</title>\n<path fill=\"none\" stroke=\"black\" d=\"M376.58,-24.46C366.1,-24.75 354.91,-24.82 344.09,-24.67\"/>\n<polygon fill=\"black\" stroke=\"black\" points=\"343.93,-21.17 333.86,-24.46 343.78,-28.17 343.93,-21.17\"/>\n</g>\n<!-- 5 -->\n<g id=\"node4\" class=\"node\">\n<title>5</title>\n<ellipse fill=\"lightpink\" stroke=\"black\" cx=\"567.11\" cy=\"-18\" rx=\"52.79\" ry=\"18\"/>\n<text text-anchor=\"middle\" x=\"567.11\" y=\"-14.3\" font-family=\"Times,serif\" font-size=\"14.00\">5 (index=3)</text>\n</g>\n<!-- 4&#45;&gt;5 -->\n<g id=\"edge4\" class=\"edge\">\n<title>4&#45;&gt;5</title>\n<path fill=\"none\" stroke=\"black\" d=\"M475.15,-11.54C485.63,-11.25 496.82,-11.18 507.64,-11.33\"/>\n<polygon fill=\"black\" stroke=\"black\" points=\"507.8,-14.83 517.87,-11.54 507.95,-7.83 507.8,-14.83\"/>\n</g>\n<!-- 5&#45;&gt;4 -->\n<g id=\"edge6\" class=\"edge\">\n<title>5&#45;&gt;4</title>\n<path fill=\"none\" stroke=\"black\" d=\"M517.87,-24.46C507.4,-24.75 496.2,-24.82 485.38,-24.67\"/>\n<polygon fill=\"black\" stroke=\"black\" points=\"485.22,-21.17 475.15,-24.46 485.07,-28.17 485.22,-21.17\"/>\n</g>\n<!-- End -->\n<g id=\"node6\" class=\"node\">\n<title>End</title>\n<ellipse fill=\"none\" stroke=\"black\" cx=\"682.76\" cy=\"-18\" rx=\"27\" ry=\"18\"/>\n<text text-anchor=\"middle\" x=\"682.76\" y=\"-14.3\" font-family=\"Times,serif\" font-size=\"14.00\">End</text>\n</g>\n<!-- 5&#45;&gt;End -->\n<g id=\"edge8\" class=\"edge\">\n<title>5&#45;&gt;End</title>\n<path fill=\"none\" stroke=\"black\" d=\"M619.95,-18C628.58,-18 637.36,-18 645.49,-18\"/>\n<polygon fill=\"black\" stroke=\"black\" points=\"645.75,-21.5 655.75,-18 645.75,-14.5 645.75,-21.5\"/>\n</g>\n<!-- Start -->\n<g id=\"node5\" class=\"node\">\n<title>Start</title>\n<ellipse fill=\"none\" stroke=\"black\" cx=\"27.3\" cy=\"-18\" rx=\"27.1\" ry=\"18\"/>\n<text text-anchor=\"middle\" x=\"27.3\" y=\"-14.3\" font-family=\"Times,serif\" font-size=\"14.00\">Start</text>\n</g>\n<!-- Start&#45;&gt;2 -->\n<g id=\"edge7\" class=\"edge\">\n<title>Start&#45;&gt;2</title>\n<path fill=\"none\" stroke=\"black\" d=\"M64.96,-18C73.07,-18 81.81,-18 90.4,-18\"/>\n<polygon fill=\"black\" stroke=\"black\" points=\"64.72,-14.5 54.72,-18 64.72,-21.5 64.72,-14.5\"/>\n</g>\n</g>\n</svg>\n",
            "text/plain": [
              "<graphviz.graphs.Digraph at 0x78b2b0328ca0>"
            ]
          },
          "metadata": {}
        }
      ]
    },
    {
      "cell_type": "code",
      "source": [],
      "metadata": {
        "id": "EvznI1jEHw_n"
      },
      "execution_count": null,
      "outputs": []
    },
    {
      "cell_type": "markdown",
      "source": [
        "## Get"
      ],
      "metadata": {
        "id": "Ya_PMU9OqWw7"
      }
    },
    {
      "cell_type": "markdown",
      "source": [
        "### Diagram"
      ],
      "metadata": {
        "id": "x2TXUunfrL1y"
      }
    },
    {
      "cell_type": "markdown",
      "source": [
        "![image.png](data:image/png;base64,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)"
      ],
      "metadata": {
        "id": "jA8Ap3U7uq_P"
      }
    },
    {
      "cell_type": "code",
      "source": [
        "# code"
      ],
      "metadata": {
        "id": "QSRu7fMKqXr1"
      },
      "execution_count": 1,
      "outputs": []
    },
    {
      "cell_type": "markdown",
      "source": [
        "### Code"
      ],
      "metadata": {
        "id": "aZtrwTm9rRpF"
      }
    },
    {
      "cell_type": "code",
      "source": [
        "import graphviz\n",
        "\n",
        "class Node:\n",
        "\n",
        "  def __init__(self, value):\n",
        "    self.value = value\n",
        "    self.next = None\n",
        "    self.prev = None\n",
        "\n",
        "class DoublyLinkedList:\n",
        "\n",
        "    def __init__(self, value):\n",
        "\n",
        "        new_node = Node(value)\n",
        "        self.head = new_node\n",
        "        self.tail = new_node\n",
        "        self.length = 1\n",
        "\n",
        "    def make_empty(self):\n",
        "\n",
        "        self.head = None\n",
        "        self.tail = None\n",
        "        self.length = 0\n",
        "\n",
        "    def print_list(self,msg = \"List Created\"):\n",
        "\n",
        "        print(\"\\n\")\n",
        "        print(\"-----------\")\n",
        "        print(msg)\n",
        "        print(\"-----------\")\n",
        "        print(\"\\n\")\n",
        "\n",
        "        if self.length == 0:\n",
        "            return \"Nothing to display\"\n",
        "\n",
        "\n",
        "        dot = graphviz.Digraph()\n",
        "        dot.attr(rankdir='LR')  # Change direction to horizontal\n",
        "        temp = self.head\n",
        "        index = 0\n",
        "\n",
        "        while temp is not None:\n",
        "            label = f\"{temp.value} (index={index})\"\n",
        "\n",
        "            if self.length == 1:\n",
        "                dot.node(str(temp.value), label, fillcolor=\"cyan\", style=\"filled\")\n",
        "                break\n",
        "            else:\n",
        "                if temp == self.head:\n",
        "                    dot.node(str(temp.value), label, fillcolor=\"chartreuse\", style=\"filled\")\n",
        "                elif temp == self.tail:\n",
        "                    dot.node(str(temp.value), label, fillcolor=\"lightpink\", style=\"filled\")\n",
        "                else:\n",
        "                    dot.node(str(temp.value), label)\n",
        "\n",
        "            if temp.next:\n",
        "                dot.edge(str(temp.value), str(temp.next.value))\n",
        "\n",
        "            if temp.prev:\n",
        "                dot.edge(str(temp.value), str(temp.prev.value))\n",
        "\n",
        "            temp = temp.next\n",
        "            index += 1\n",
        "\n",
        "        dot.edge(\"Start\", str(self.head.value), dir=\"back\")\n",
        "        dot.edge(str(self.tail.value), \"End\")\n",
        "\n",
        "        return dot\n",
        "\n",
        "    def append(self,value):\n",
        "\n",
        "        # create the new node\n",
        "        new_node = Node(value)\n",
        "\n",
        "        if self.length == 0:\n",
        "            self.tail = new_node\n",
        "            self.head = new_node\n",
        "        else:\n",
        "            self.tail.next = new_node\n",
        "            new_node.prev = self.tail\n",
        "            self.tail = new_node\n",
        "\n",
        "        self.length += 1\n",
        "\n",
        "    def pop(self):\n",
        "\n",
        "        if self.length == 0:\n",
        "            return None\n",
        "\n",
        "        temp = self.tail\n",
        "\n",
        "        if self.length == 1:\n",
        "            self.head = None\n",
        "            self.tail = None\n",
        "        else:\n",
        "            # disconnect the last node\n",
        "            self.tail = self.tail.prev\n",
        "            self.tail.next = None\n",
        "\n",
        "        temp.prev = None\n",
        "        self.length -= 1\n",
        "\n",
        "        return temp\n",
        "\n",
        "    def prepend(self,value):\n",
        "\n",
        "        new_node = Node(value)\n",
        "\n",
        "        if self.length == 0:\n",
        "            self.head = new_node\n",
        "            self.tail = new_node\n",
        "        else:\n",
        "            temp = self.head\n",
        "            new_node.next = temp\n",
        "            self.head = new_node\n",
        "            temp.prev = new_node\n",
        "\n",
        "        self.length += 1\n",
        "        return True\n",
        "\n",
        "    def pop_first(self):\n",
        "\n",
        "        if self.length == 0:\n",
        "            return None\n",
        "\n",
        "        temp = self.head\n",
        "\n",
        "        if self.length == 1:\n",
        "            self.head = None\n",
        "            self.tail = None\n",
        "        else:\n",
        "            self.head = temp.next\n",
        "            self.head.prev = None\n",
        "\n",
        "        temp.next = None\n",
        "        self.length -= 1\n",
        "        return temp\n",
        "\n",
        "    def get(self,index):\n",
        "\n",
        "        if self.length == 0:\n",
        "            return None\n",
        "\n",
        "        if index < 0 or index >= self.length:\n",
        "            return None\n",
        "\n",
        "        temp = self.head\n",
        "        # optimize the pointer movement because we have node.prev also this time\n",
        "        if index < (self.length / 2):\n",
        "            for _ in range(index):\n",
        "                temp = temp.next\n",
        "        else:\n",
        "            temp = self.tail\n",
        "            for _ in range(self.length-1,index,-1):\n",
        "                temp = temp.prev\n",
        "        return temp"
      ],
      "metadata": {
        "id": "qu_GN-qRrQN_"
      },
      "execution_count": 13,
      "outputs": []
    },
    {
      "cell_type": "code",
      "source": [
        "# -----------------------\n",
        "# Test case : get(index) | with multiple elements\n",
        "# -----------------------\n",
        "my_doubly_linked_list = DoublyLinkedList(0)\n",
        "my_doubly_linked_list.append(1)\n",
        "my_doubly_linked_list.append(2)\n",
        "my_doubly_linked_list.append(3)\n",
        "my_doubly_linked_list.append(4)\n",
        "my_doubly_linked_list.append(5)\n",
        "my_doubly_linked_list.append(6)\n",
        "display(my_doubly_linked_list.print_list(\"get(index) | with multiple elements\"))\n",
        "\n",
        "node_2 = my_doubly_linked_list.get(2)\n",
        "\n",
        "if node_2:\n",
        "    print(\"\\n\")\n",
        "    print(f\"node_2 = {node_2.value}\")\n",
        "\n",
        "node_5 = my_doubly_linked_list.get(5)\n",
        "\n",
        "if node_2:\n",
        "    print(\"\\n\")\n",
        "    print(f\"node_5 = {node_5.value}\")\n",
        "\n",
        "node_6 = my_doubly_linked_list.get(6)\n",
        "\n",
        "if node_6:\n",
        "    print(\"\\n\")\n",
        "    print(f\"node_6 = {node_6.value}\")\n",
        "\n",
        "node_10 = my_doubly_linked_list.get(10)\n",
        "\n",
        "if node_10:\n",
        "    print(\"\\n\")\n",
        "    print(f\"node_10 = {node_10.value}\")\n",
        "else:\n",
        "    print(\"\\n\")\n",
        "    print(\"node_10 = None\")"
      ],
      "metadata": {
        "id": "4W3OgN4Rt3Wp",
        "outputId": "81f6a643-03d2-4659-f911-c341cc2621bc",
        "colab": {
          "base_uri": "https://localhost:8080/",
          "height": 430
        }
      },
      "execution_count": 11,
      "outputs": [
        {
          "output_type": "stream",
          "name": "stdout",
          "text": [
            "\n",
            "\n",
            "-----------\n",
            "get(index) | with multiple elements\n",
            "-----------\n",
            "\n",
            "\n"
          ]
        },
        {
          "output_type": "display_data",
          "data": {
            "image/svg+xml": "<?xml version=\"1.0\" encoding=\"UTF-8\" standalone=\"no\"?>\n<!DOCTYPE svg PUBLIC \"-//W3C//DTD SVG 1.1//EN\"\n \"http://www.w3.org/Graphics/SVG/1.1/DTD/svg11.dtd\">\n<!-- Generated by graphviz version 2.43.0 (0)\n -->\n<!-- Title: %3 Pages: 1 -->\n<svg width=\"1142pt\" height=\"44pt\"\n viewBox=\"0.00 0.00 1141.63 44.00\" xmlns=\"http://www.w3.org/2000/svg\" xmlns:xlink=\"http://www.w3.org/1999/xlink\">\n<g id=\"graph0\" class=\"graph\" transform=\"scale(1 1) rotate(0) translate(4 40)\">\n<title>%3</title>\n<polygon fill=\"white\" stroke=\"transparent\" points=\"-4,4 -4,-40 1137.63,-40 1137.63,4 -4,4\"/>\n<!-- 0 -->\n<g id=\"node1\" class=\"node\">\n<title>0</title>\n<ellipse fill=\"chartreuse\" stroke=\"black\" cx=\"143.24\" cy=\"-18\" rx=\"52.79\" ry=\"18\"/>\n<text text-anchor=\"middle\" x=\"143.24\" y=\"-14.3\" font-family=\"Times,serif\" font-size=\"14.00\">0 (index=0)</text>\n</g>\n<!-- 1 -->\n<g id=\"node2\" class=\"node\">\n<title>1</title>\n<ellipse fill=\"none\" stroke=\"black\" cx=\"284.53\" cy=\"-18\" rx=\"52.79\" ry=\"18\"/>\n<text text-anchor=\"middle\" x=\"284.53\" y=\"-14.3\" font-family=\"Times,serif\" font-size=\"14.00\">1 (index=1)</text>\n</g>\n<!-- 0&#45;&gt;1 -->\n<g id=\"edge1\" class=\"edge\">\n<title>0&#45;&gt;1</title>\n<path fill=\"none\" stroke=\"black\" d=\"M192.57,-11.54C203.05,-11.25 214.24,-11.18 225.06,-11.33\"/>\n<polygon fill=\"black\" stroke=\"black\" points=\"225.22,-14.83 235.29,-11.54 225.37,-7.83 225.22,-14.83\"/>\n</g>\n<!-- 1&#45;&gt;0 -->\n<g id=\"edge3\" class=\"edge\">\n<title>1&#45;&gt;0</title>\n<path fill=\"none\" stroke=\"black\" d=\"M235.29,-24.46C224.81,-24.75 213.62,-24.82 202.8,-24.67\"/>\n<polygon fill=\"black\" stroke=\"black\" points=\"202.64,-21.17 192.57,-24.46 202.49,-28.17 202.64,-21.17\"/>\n</g>\n<!-- 2 -->\n<g id=\"node3\" class=\"node\">\n<title>2</title>\n<ellipse fill=\"none\" stroke=\"black\" cx=\"425.82\" cy=\"-18\" rx=\"52.79\" ry=\"18\"/>\n<text text-anchor=\"middle\" x=\"425.82\" y=\"-14.3\" font-family=\"Times,serif\" font-size=\"14.00\">2 (index=2)</text>\n</g>\n<!-- 1&#45;&gt;2 -->\n<g id=\"edge2\" class=\"edge\">\n<title>1&#45;&gt;2</title>\n<path fill=\"none\" stroke=\"black\" d=\"M333.86,-11.54C344.34,-11.25 355.53,-11.18 366.35,-11.33\"/>\n<polygon fill=\"black\" stroke=\"black\" points=\"366.51,-14.83 376.58,-11.54 366.66,-7.83 366.51,-14.83\"/>\n</g>\n<!-- 2&#45;&gt;1 -->\n<g id=\"edge5\" class=\"edge\">\n<title>2&#45;&gt;1</title>\n<path fill=\"none\" stroke=\"black\" d=\"M376.58,-24.46C366.1,-24.75 354.91,-24.82 344.09,-24.67\"/>\n<polygon fill=\"black\" stroke=\"black\" points=\"343.93,-21.17 333.86,-24.46 343.78,-28.17 343.93,-21.17\"/>\n</g>\n<!-- 3 -->\n<g id=\"node4\" class=\"node\">\n<title>3</title>\n<ellipse fill=\"none\" stroke=\"black\" cx=\"567.11\" cy=\"-18\" rx=\"52.79\" ry=\"18\"/>\n<text text-anchor=\"middle\" x=\"567.11\" y=\"-14.3\" font-family=\"Times,serif\" font-size=\"14.00\">3 (index=3)</text>\n</g>\n<!-- 2&#45;&gt;3 -->\n<g id=\"edge4\" class=\"edge\">\n<title>2&#45;&gt;3</title>\n<path fill=\"none\" stroke=\"black\" d=\"M475.15,-11.54C485.63,-11.25 496.82,-11.18 507.64,-11.33\"/>\n<polygon fill=\"black\" stroke=\"black\" points=\"507.8,-14.83 517.87,-11.54 507.95,-7.83 507.8,-14.83\"/>\n</g>\n<!-- 3&#45;&gt;2 -->\n<g id=\"edge7\" class=\"edge\">\n<title>3&#45;&gt;2</title>\n<path fill=\"none\" stroke=\"black\" d=\"M517.87,-24.46C507.4,-24.75 496.2,-24.82 485.38,-24.67\"/>\n<polygon fill=\"black\" stroke=\"black\" points=\"485.22,-21.17 475.15,-24.46 485.07,-28.17 485.22,-21.17\"/>\n</g>\n<!-- 4 -->\n<g id=\"node5\" class=\"node\">\n<title>4</title>\n<ellipse fill=\"none\" stroke=\"black\" cx=\"708.4\" cy=\"-18\" rx=\"52.79\" ry=\"18\"/>\n<text text-anchor=\"middle\" x=\"708.4\" y=\"-14.3\" font-family=\"Times,serif\" font-size=\"14.00\">4 (index=4)</text>\n</g>\n<!-- 3&#45;&gt;4 -->\n<g id=\"edge6\" class=\"edge\">\n<title>3&#45;&gt;4</title>\n<path fill=\"none\" stroke=\"black\" d=\"M616.44,-11.54C626.92,-11.25 638.11,-11.18 648.93,-11.33\"/>\n<polygon fill=\"black\" stroke=\"black\" points=\"649.09,-14.83 659.16,-11.54 649.24,-7.83 649.09,-14.83\"/>\n</g>\n<!-- 4&#45;&gt;3 -->\n<g id=\"edge9\" class=\"edge\">\n<title>4&#45;&gt;3</title>\n<path fill=\"none\" stroke=\"black\" d=\"M659.16,-24.46C648.69,-24.75 637.49,-24.82 626.67,-24.67\"/>\n<polygon fill=\"black\" stroke=\"black\" points=\"626.51,-21.17 616.44,-24.46 626.36,-28.17 626.51,-21.17\"/>\n</g>\n<!-- 5 -->\n<g id=\"node6\" class=\"node\">\n<title>5</title>\n<ellipse fill=\"none\" stroke=\"black\" cx=\"849.69\" cy=\"-18\" rx=\"52.79\" ry=\"18\"/>\n<text text-anchor=\"middle\" x=\"849.69\" y=\"-14.3\" font-family=\"Times,serif\" font-size=\"14.00\">5 (index=5)</text>\n</g>\n<!-- 4&#45;&gt;5 -->\n<g id=\"edge8\" class=\"edge\">\n<title>4&#45;&gt;5</title>\n<path fill=\"none\" stroke=\"black\" d=\"M757.73,-11.54C768.21,-11.25 779.4,-11.18 790.22,-11.33\"/>\n<polygon fill=\"black\" stroke=\"black\" points=\"790.38,-14.83 800.45,-11.54 790.53,-7.83 790.38,-14.83\"/>\n</g>\n<!-- 5&#45;&gt;4 -->\n<g id=\"edge11\" class=\"edge\">\n<title>5&#45;&gt;4</title>\n<path fill=\"none\" stroke=\"black\" d=\"M800.45,-24.46C789.98,-24.75 778.79,-24.82 767.96,-24.67\"/>\n<polygon fill=\"black\" stroke=\"black\" points=\"767.8,-21.17 757.73,-24.46 767.65,-28.17 767.8,-21.17\"/>\n</g>\n<!-- 6 -->\n<g id=\"node7\" class=\"node\">\n<title>6</title>\n<ellipse fill=\"lightpink\" stroke=\"black\" cx=\"990.98\" cy=\"-18\" rx=\"52.79\" ry=\"18\"/>\n<text text-anchor=\"middle\" x=\"990.98\" y=\"-14.3\" font-family=\"Times,serif\" font-size=\"14.00\">6 (index=6)</text>\n</g>\n<!-- 5&#45;&gt;6 -->\n<g id=\"edge10\" class=\"edge\">\n<title>5&#45;&gt;6</title>\n<path fill=\"none\" stroke=\"black\" d=\"M899.02,-11.54C909.5,-11.25 920.69,-11.18 931.52,-11.33\"/>\n<polygon fill=\"black\" stroke=\"black\" points=\"931.67,-14.83 941.74,-11.54 931.82,-7.83 931.67,-14.83\"/>\n</g>\n<!-- 6&#45;&gt;5 -->\n<g id=\"edge12\" class=\"edge\">\n<title>6&#45;&gt;5</title>\n<path fill=\"none\" stroke=\"black\" d=\"M941.74,-24.46C931.27,-24.75 920.08,-24.82 909.25,-24.67\"/>\n<polygon fill=\"black\" stroke=\"black\" points=\"909.09,-21.17 899.02,-24.46 908.95,-28.17 909.09,-21.17\"/>\n</g>\n<!-- End -->\n<g id=\"node9\" class=\"node\">\n<title>End</title>\n<ellipse fill=\"none\" stroke=\"black\" cx=\"1106.63\" cy=\"-18\" rx=\"27\" ry=\"18\"/>\n<text text-anchor=\"middle\" x=\"1106.63\" y=\"-14.3\" font-family=\"Times,serif\" font-size=\"14.00\">End</text>\n</g>\n<!-- 6&#45;&gt;End -->\n<g id=\"edge14\" class=\"edge\">\n<title>6&#45;&gt;End</title>\n<path fill=\"none\" stroke=\"black\" d=\"M1043.82,-18C1052.45,-18 1061.23,-18 1069.37,-18\"/>\n<polygon fill=\"black\" stroke=\"black\" points=\"1069.62,-21.5 1079.62,-18 1069.62,-14.5 1069.62,-21.5\"/>\n</g>\n<!-- Start -->\n<g id=\"node8\" class=\"node\">\n<title>Start</title>\n<ellipse fill=\"none\" stroke=\"black\" cx=\"27.3\" cy=\"-18\" rx=\"27.1\" ry=\"18\"/>\n<text text-anchor=\"middle\" x=\"27.3\" y=\"-14.3\" font-family=\"Times,serif\" font-size=\"14.00\">Start</text>\n</g>\n<!-- Start&#45;&gt;0 -->\n<g id=\"edge13\" class=\"edge\">\n<title>Start&#45;&gt;0</title>\n<path fill=\"none\" stroke=\"black\" d=\"M64.96,-18C73.07,-18 81.81,-18 90.4,-18\"/>\n<polygon fill=\"black\" stroke=\"black\" points=\"64.72,-14.5 54.72,-18 64.72,-21.5 64.72,-14.5\"/>\n</g>\n</g>\n</svg>\n",
            "text/plain": [
              "<graphviz.graphs.Digraph at 0x7829c5b4bdf0>"
            ]
          },
          "metadata": {}
        },
        {
          "output_type": "stream",
          "name": "stdout",
          "text": [
            "\n",
            "\n",
            "node_2 = 2\n",
            "\n",
            "\n",
            "node_5 = 5\n",
            "\n",
            "\n",
            "node_6 = 6\n",
            "\n",
            "\n",
            "node_10 = None\n"
          ]
        }
      ]
    },
    {
      "cell_type": "code",
      "source": [
        "# -----------------------\n",
        "# Test case : get(index) | with empty LL\n",
        "# -----------------------\n",
        "my_doubly_linked_list = DoublyLinkedList(0)\n",
        "my_doubly_linked_list.make_empty()\n",
        "display(my_doubly_linked_list.print_list(\"get(index) | with empty LL\"))\n",
        "\n",
        "node = my_doubly_linked_list.get(2)\n",
        "\n",
        "if node:\n",
        "    print(\"\\n\")\n",
        "    print(f\"node_2 = {node.value}\")\n",
        "else:\n",
        "    print(\"\\n\")\n",
        "    print(\"node = None\")"
      ],
      "metadata": {
        "id": "R3b43I16wexU",
        "outputId": "fd4c5029-02a4-44b1-a940-6308ed41e30c",
        "colab": {
          "base_uri": "https://localhost:8080/",
          "height": 209
        }
      },
      "execution_count": 12,
      "outputs": [
        {
          "output_type": "stream",
          "name": "stdout",
          "text": [
            "\n",
            "\n",
            "-----------\n",
            "get(index) | with empty LL\n",
            "-----------\n",
            "\n",
            "\n"
          ]
        },
        {
          "output_type": "display_data",
          "data": {
            "text/plain": [
              "'Nothing to display'"
            ],
            "application/vnd.google.colaboratory.intrinsic+json": {
              "type": "string"
            }
          },
          "metadata": {}
        },
        {
          "output_type": "stream",
          "name": "stdout",
          "text": [
            "\n",
            "\n",
            "node = None\n"
          ]
        }
      ]
    },
    {
      "cell_type": "code",
      "source": [],
      "metadata": {
        "id": "24R7qcDSxXU5"
      },
      "execution_count": null,
      "outputs": []
    },
    {
      "cell_type": "markdown",
      "source": [
        "## Set"
      ],
      "metadata": {
        "id": "id1fuiJKxrDO"
      }
    },
    {
      "cell_type": "markdown",
      "source": [
        "### Code"
      ],
      "metadata": {
        "id": "DBVsFZI3yGEm"
      }
    },
    {
      "cell_type": "code",
      "source": [
        "import graphviz\n",
        "\n",
        "class Node:\n",
        "\n",
        "  def __init__(self, value):\n",
        "    self.value = value\n",
        "    self.next = None\n",
        "    self.prev = None\n",
        "\n",
        "class DoublyLinkedList:\n",
        "\n",
        "    def __init__(self, value):\n",
        "\n",
        "        new_node = Node(value)\n",
        "        self.head = new_node\n",
        "        self.tail = new_node\n",
        "        self.length = 1\n",
        "\n",
        "    def make_empty(self):\n",
        "\n",
        "        self.head = None\n",
        "        self.tail = None\n",
        "        self.length = 0\n",
        "\n",
        "    def print_list(self,msg = \"List Created\"):\n",
        "\n",
        "        print(\"\\n\")\n",
        "        print(\"-----------\")\n",
        "        print(msg)\n",
        "        print(\"-----------\")\n",
        "        print(\"\\n\")\n",
        "\n",
        "        if self.length == 0:\n",
        "            return \"Nothing to display\"\n",
        "\n",
        "\n",
        "        dot = graphviz.Digraph()\n",
        "        dot.attr(rankdir='LR')  # Change direction to horizontal\n",
        "        temp = self.head\n",
        "        index = 0\n",
        "\n",
        "        while temp is not None:\n",
        "            label = f\"{temp.value} (index={index})\"\n",
        "\n",
        "            if self.length == 1:\n",
        "                dot.node(str(temp.value), label, fillcolor=\"cyan\", style=\"filled\")\n",
        "                break\n",
        "            else:\n",
        "                if temp == self.head:\n",
        "                    dot.node(str(temp.value), label, fillcolor=\"chartreuse\", style=\"filled\")\n",
        "                elif temp == self.tail:\n",
        "                    dot.node(str(temp.value), label, fillcolor=\"lightpink\", style=\"filled\")\n",
        "                else:\n",
        "                    dot.node(str(temp.value), label)\n",
        "\n",
        "            if temp.next:\n",
        "                dot.edge(str(temp.value), str(temp.next.value))\n",
        "\n",
        "            if temp.prev:\n",
        "                dot.edge(str(temp.value), str(temp.prev.value))\n",
        "\n",
        "            temp = temp.next\n",
        "            index += 1\n",
        "\n",
        "        dot.edge(\"Start\", str(self.head.value), dir=\"back\")\n",
        "        dot.edge(str(self.tail.value), \"End\")\n",
        "\n",
        "        return dot\n",
        "\n",
        "    def append(self,value):\n",
        "\n",
        "        # create the new node\n",
        "        new_node = Node(value)\n",
        "\n",
        "        if self.length == 0:\n",
        "            self.tail = new_node\n",
        "            self.head = new_node\n",
        "        else:\n",
        "            self.tail.next = new_node\n",
        "            new_node.prev = self.tail\n",
        "            self.tail = new_node\n",
        "\n",
        "        self.length += 1\n",
        "\n",
        "    def pop(self):\n",
        "\n",
        "        if self.length == 0:\n",
        "            return None\n",
        "\n",
        "        temp = self.tail\n",
        "\n",
        "        if self.length == 1:\n",
        "            self.head = None\n",
        "            self.tail = None\n",
        "        else:\n",
        "            # disconnect the last node\n",
        "            self.tail = self.tail.prev\n",
        "            self.tail.next = None\n",
        "\n",
        "        temp.prev = None\n",
        "        self.length -= 1\n",
        "\n",
        "        return temp\n",
        "\n",
        "    def prepend(self,value):\n",
        "\n",
        "        new_node = Node(value)\n",
        "\n",
        "        if self.length == 0:\n",
        "            self.head = new_node\n",
        "            self.tail = new_node\n",
        "        else:\n",
        "            temp = self.head\n",
        "            new_node.next = temp\n",
        "            self.head = new_node\n",
        "            temp.prev = new_node\n",
        "\n",
        "        self.length += 1\n",
        "        return True\n",
        "\n",
        "    def pop_first(self):\n",
        "\n",
        "        if self.length == 0:\n",
        "            return None\n",
        "\n",
        "        temp = self.head\n",
        "\n",
        "        if self.length == 1:\n",
        "            self.head = None\n",
        "            self.tail = None\n",
        "        else:\n",
        "            self.head = temp.next\n",
        "            self.head.prev = None\n",
        "\n",
        "        temp.next = None\n",
        "        self.length -= 1\n",
        "        return temp\n",
        "\n",
        "    def get(self,index):\n",
        "\n",
        "        if self.length == 0:\n",
        "            return None\n",
        "\n",
        "        if index < 0 or index >= self.length:\n",
        "            return None\n",
        "\n",
        "        temp = self.head\n",
        "        # optimize the pointer movement because we have node.prev also this time\n",
        "        if index < (self.length / 2):\n",
        "            for _ in range(index):\n",
        "                temp = temp.next\n",
        "        else:\n",
        "            temp = self.tail\n",
        "            for _ in range(self.length-1,index,-1):\n",
        "                temp = temp.prev\n",
        "        return temp\n",
        "\n",
        "    def set_value(self,index,value):\n",
        "        temp = self.get(index)\n",
        "        if temp:\n",
        "            temp.value = value\n",
        "        else:\n",
        "            return False\n",
        "        return True"
      ],
      "metadata": {
        "id": "2atfcy5axqQZ"
      },
      "execution_count": 14,
      "outputs": []
    },
    {
      "cell_type": "code",
      "source": [
        "# -----------------------\n",
        "# Test case : set(index,value) | with multiple elements\n",
        "# -----------------------\n",
        "my_doubly_linked_list = DoublyLinkedList(0)\n",
        "my_doubly_linked_list.append(1)\n",
        "my_doubly_linked_list.append(2)\n",
        "my_doubly_linked_list.append(3)\n",
        "my_doubly_linked_list.append(4)\n",
        "my_doubly_linked_list.append(5)\n",
        "my_doubly_linked_list.append(6)\n",
        "display(my_doubly_linked_list.print_list(\"set(index,value) | with multiple elements\"))\n",
        "my_doubly_linked_list.set_value(5,15)\n",
        "display(my_doubly_linked_list.print_list(\"node_5 = 15\"))"
      ],
      "metadata": {
        "id": "uXdZZ3MUylcC",
        "outputId": "6913f553-ca24-4e8a-fd19-90bc601be21d",
        "colab": {
          "base_uri": "https://localhost:8080/",
          "height": 406
        }
      },
      "execution_count": 15,
      "outputs": [
        {
          "output_type": "stream",
          "name": "stdout",
          "text": [
            "\n",
            "\n",
            "-----------\n",
            "set(index,value) | with multiple elements\n",
            "-----------\n",
            "\n",
            "\n"
          ]
        },
        {
          "output_type": "display_data",
          "data": {
            "image/svg+xml": "<?xml version=\"1.0\" encoding=\"UTF-8\" standalone=\"no\"?>\n<!DOCTYPE svg PUBLIC \"-//W3C//DTD SVG 1.1//EN\"\n \"http://www.w3.org/Graphics/SVG/1.1/DTD/svg11.dtd\">\n<!-- Generated by graphviz version 2.43.0 (0)\n -->\n<!-- Title: %3 Pages: 1 -->\n<svg width=\"1142pt\" height=\"44pt\"\n viewBox=\"0.00 0.00 1141.63 44.00\" xmlns=\"http://www.w3.org/2000/svg\" xmlns:xlink=\"http://www.w3.org/1999/xlink\">\n<g id=\"graph0\" class=\"graph\" transform=\"scale(1 1) rotate(0) translate(4 40)\">\n<title>%3</title>\n<polygon fill=\"white\" stroke=\"transparent\" points=\"-4,4 -4,-40 1137.63,-40 1137.63,4 -4,4\"/>\n<!-- 0 -->\n<g id=\"node1\" class=\"node\">\n<title>0</title>\n<ellipse fill=\"chartreuse\" stroke=\"black\" cx=\"143.24\" cy=\"-18\" rx=\"52.79\" ry=\"18\"/>\n<text text-anchor=\"middle\" x=\"143.24\" y=\"-14.3\" font-family=\"Times,serif\" font-size=\"14.00\">0 (index=0)</text>\n</g>\n<!-- 1 -->\n<g id=\"node2\" class=\"node\">\n<title>1</title>\n<ellipse fill=\"none\" stroke=\"black\" cx=\"284.53\" cy=\"-18\" rx=\"52.79\" ry=\"18\"/>\n<text text-anchor=\"middle\" x=\"284.53\" y=\"-14.3\" font-family=\"Times,serif\" font-size=\"14.00\">1 (index=1)</text>\n</g>\n<!-- 0&#45;&gt;1 -->\n<g id=\"edge1\" class=\"edge\">\n<title>0&#45;&gt;1</title>\n<path fill=\"none\" stroke=\"black\" d=\"M192.57,-11.54C203.05,-11.25 214.24,-11.18 225.06,-11.33\"/>\n<polygon fill=\"black\" stroke=\"black\" points=\"225.22,-14.83 235.29,-11.54 225.37,-7.83 225.22,-14.83\"/>\n</g>\n<!-- 1&#45;&gt;0 -->\n<g id=\"edge3\" class=\"edge\">\n<title>1&#45;&gt;0</title>\n<path fill=\"none\" stroke=\"black\" d=\"M235.29,-24.46C224.81,-24.75 213.62,-24.82 202.8,-24.67\"/>\n<polygon fill=\"black\" stroke=\"black\" points=\"202.64,-21.17 192.57,-24.46 202.49,-28.17 202.64,-21.17\"/>\n</g>\n<!-- 2 -->\n<g id=\"node3\" class=\"node\">\n<title>2</title>\n<ellipse fill=\"none\" stroke=\"black\" cx=\"425.82\" cy=\"-18\" rx=\"52.79\" ry=\"18\"/>\n<text text-anchor=\"middle\" x=\"425.82\" y=\"-14.3\" font-family=\"Times,serif\" font-size=\"14.00\">2 (index=2)</text>\n</g>\n<!-- 1&#45;&gt;2 -->\n<g id=\"edge2\" class=\"edge\">\n<title>1&#45;&gt;2</title>\n<path fill=\"none\" stroke=\"black\" d=\"M333.86,-11.54C344.34,-11.25 355.53,-11.18 366.35,-11.33\"/>\n<polygon fill=\"black\" stroke=\"black\" points=\"366.51,-14.83 376.58,-11.54 366.66,-7.83 366.51,-14.83\"/>\n</g>\n<!-- 2&#45;&gt;1 -->\n<g id=\"edge5\" class=\"edge\">\n<title>2&#45;&gt;1</title>\n<path fill=\"none\" stroke=\"black\" d=\"M376.58,-24.46C366.1,-24.75 354.91,-24.82 344.09,-24.67\"/>\n<polygon fill=\"black\" stroke=\"black\" points=\"343.93,-21.17 333.86,-24.46 343.78,-28.17 343.93,-21.17\"/>\n</g>\n<!-- 3 -->\n<g id=\"node4\" class=\"node\">\n<title>3</title>\n<ellipse fill=\"none\" stroke=\"black\" cx=\"567.11\" cy=\"-18\" rx=\"52.79\" ry=\"18\"/>\n<text text-anchor=\"middle\" x=\"567.11\" y=\"-14.3\" font-family=\"Times,serif\" font-size=\"14.00\">3 (index=3)</text>\n</g>\n<!-- 2&#45;&gt;3 -->\n<g id=\"edge4\" class=\"edge\">\n<title>2&#45;&gt;3</title>\n<path fill=\"none\" stroke=\"black\" d=\"M475.15,-11.54C485.63,-11.25 496.82,-11.18 507.64,-11.33\"/>\n<polygon fill=\"black\" stroke=\"black\" points=\"507.8,-14.83 517.87,-11.54 507.95,-7.83 507.8,-14.83\"/>\n</g>\n<!-- 3&#45;&gt;2 -->\n<g id=\"edge7\" class=\"edge\">\n<title>3&#45;&gt;2</title>\n<path fill=\"none\" stroke=\"black\" d=\"M517.87,-24.46C507.4,-24.75 496.2,-24.82 485.38,-24.67\"/>\n<polygon fill=\"black\" stroke=\"black\" points=\"485.22,-21.17 475.15,-24.46 485.07,-28.17 485.22,-21.17\"/>\n</g>\n<!-- 4 -->\n<g id=\"node5\" class=\"node\">\n<title>4</title>\n<ellipse fill=\"none\" stroke=\"black\" cx=\"708.4\" cy=\"-18\" rx=\"52.79\" ry=\"18\"/>\n<text text-anchor=\"middle\" x=\"708.4\" y=\"-14.3\" font-family=\"Times,serif\" font-size=\"14.00\">4 (index=4)</text>\n</g>\n<!-- 3&#45;&gt;4 -->\n<g id=\"edge6\" class=\"edge\">\n<title>3&#45;&gt;4</title>\n<path fill=\"none\" stroke=\"black\" d=\"M616.44,-11.54C626.92,-11.25 638.11,-11.18 648.93,-11.33\"/>\n<polygon fill=\"black\" stroke=\"black\" points=\"649.09,-14.83 659.16,-11.54 649.24,-7.83 649.09,-14.83\"/>\n</g>\n<!-- 4&#45;&gt;3 -->\n<g id=\"edge9\" class=\"edge\">\n<title>4&#45;&gt;3</title>\n<path fill=\"none\" stroke=\"black\" d=\"M659.16,-24.46C648.69,-24.75 637.49,-24.82 626.67,-24.67\"/>\n<polygon fill=\"black\" stroke=\"black\" points=\"626.51,-21.17 616.44,-24.46 626.36,-28.17 626.51,-21.17\"/>\n</g>\n<!-- 5 -->\n<g id=\"node6\" class=\"node\">\n<title>5</title>\n<ellipse fill=\"none\" stroke=\"black\" cx=\"849.69\" cy=\"-18\" rx=\"52.79\" ry=\"18\"/>\n<text text-anchor=\"middle\" x=\"849.69\" y=\"-14.3\" font-family=\"Times,serif\" font-size=\"14.00\">5 (index=5)</text>\n</g>\n<!-- 4&#45;&gt;5 -->\n<g id=\"edge8\" class=\"edge\">\n<title>4&#45;&gt;5</title>\n<path fill=\"none\" stroke=\"black\" d=\"M757.73,-11.54C768.21,-11.25 779.4,-11.18 790.22,-11.33\"/>\n<polygon fill=\"black\" stroke=\"black\" points=\"790.38,-14.83 800.45,-11.54 790.53,-7.83 790.38,-14.83\"/>\n</g>\n<!-- 5&#45;&gt;4 -->\n<g id=\"edge11\" class=\"edge\">\n<title>5&#45;&gt;4</title>\n<path fill=\"none\" stroke=\"black\" d=\"M800.45,-24.46C789.98,-24.75 778.79,-24.82 767.96,-24.67\"/>\n<polygon fill=\"black\" stroke=\"black\" points=\"767.8,-21.17 757.73,-24.46 767.65,-28.17 767.8,-21.17\"/>\n</g>\n<!-- 6 -->\n<g id=\"node7\" class=\"node\">\n<title>6</title>\n<ellipse fill=\"lightpink\" stroke=\"black\" cx=\"990.98\" cy=\"-18\" rx=\"52.79\" ry=\"18\"/>\n<text text-anchor=\"middle\" x=\"990.98\" y=\"-14.3\" font-family=\"Times,serif\" font-size=\"14.00\">6 (index=6)</text>\n</g>\n<!-- 5&#45;&gt;6 -->\n<g id=\"edge10\" class=\"edge\">\n<title>5&#45;&gt;6</title>\n<path fill=\"none\" stroke=\"black\" d=\"M899.02,-11.54C909.5,-11.25 920.69,-11.18 931.52,-11.33\"/>\n<polygon fill=\"black\" stroke=\"black\" points=\"931.67,-14.83 941.74,-11.54 931.82,-7.83 931.67,-14.83\"/>\n</g>\n<!-- 6&#45;&gt;5 -->\n<g id=\"edge12\" class=\"edge\">\n<title>6&#45;&gt;5</title>\n<path fill=\"none\" stroke=\"black\" d=\"M941.74,-24.46C931.27,-24.75 920.08,-24.82 909.25,-24.67\"/>\n<polygon fill=\"black\" stroke=\"black\" points=\"909.09,-21.17 899.02,-24.46 908.95,-28.17 909.09,-21.17\"/>\n</g>\n<!-- End -->\n<g id=\"node9\" class=\"node\">\n<title>End</title>\n<ellipse fill=\"none\" stroke=\"black\" cx=\"1106.63\" cy=\"-18\" rx=\"27\" ry=\"18\"/>\n<text text-anchor=\"middle\" x=\"1106.63\" y=\"-14.3\" font-family=\"Times,serif\" font-size=\"14.00\">End</text>\n</g>\n<!-- 6&#45;&gt;End -->\n<g id=\"edge14\" class=\"edge\">\n<title>6&#45;&gt;End</title>\n<path fill=\"none\" stroke=\"black\" d=\"M1043.82,-18C1052.45,-18 1061.23,-18 1069.37,-18\"/>\n<polygon fill=\"black\" stroke=\"black\" points=\"1069.62,-21.5 1079.62,-18 1069.62,-14.5 1069.62,-21.5\"/>\n</g>\n<!-- Start -->\n<g id=\"node8\" class=\"node\">\n<title>Start</title>\n<ellipse fill=\"none\" stroke=\"black\" cx=\"27.3\" cy=\"-18\" rx=\"27.1\" ry=\"18\"/>\n<text text-anchor=\"middle\" x=\"27.3\" y=\"-14.3\" font-family=\"Times,serif\" font-size=\"14.00\">Start</text>\n</g>\n<!-- Start&#45;&gt;0 -->\n<g id=\"edge13\" class=\"edge\">\n<title>Start&#45;&gt;0</title>\n<path fill=\"none\" stroke=\"black\" d=\"M64.96,-18C73.07,-18 81.81,-18 90.4,-18\"/>\n<polygon fill=\"black\" stroke=\"black\" points=\"64.72,-14.5 54.72,-18 64.72,-21.5 64.72,-14.5\"/>\n</g>\n</g>\n</svg>\n",
            "text/plain": [
              "<graphviz.graphs.Digraph at 0x7829c5bfe9e0>"
            ]
          },
          "metadata": {}
        },
        {
          "output_type": "stream",
          "name": "stdout",
          "text": [
            "\n",
            "\n",
            "-----------\n",
            "node_5 = 15\n",
            "-----------\n",
            "\n",
            "\n"
          ]
        },
        {
          "output_type": "display_data",
          "data": {
            "image/svg+xml": "<?xml version=\"1.0\" encoding=\"UTF-8\" standalone=\"no\"?>\n<!DOCTYPE svg PUBLIC \"-//W3C//DTD SVG 1.1//EN\"\n \"http://www.w3.org/Graphics/SVG/1.1/DTD/svg11.dtd\">\n<!-- Generated by graphviz version 2.43.0 (0)\n -->\n<!-- Title: %3 Pages: 1 -->\n<svg width=\"1151pt\" height=\"44pt\"\n viewBox=\"0.00 0.00 1150.73 44.00\" xmlns=\"http://www.w3.org/2000/svg\" xmlns:xlink=\"http://www.w3.org/1999/xlink\">\n<g id=\"graph0\" class=\"graph\" transform=\"scale(1 1) rotate(0) translate(4 40)\">\n<title>%3</title>\n<polygon fill=\"white\" stroke=\"transparent\" points=\"-4,4 -4,-40 1146.73,-40 1146.73,4 -4,4\"/>\n<!-- 0 -->\n<g id=\"node1\" class=\"node\">\n<title>0</title>\n<ellipse fill=\"chartreuse\" stroke=\"black\" cx=\"143.24\" cy=\"-18\" rx=\"52.79\" ry=\"18\"/>\n<text text-anchor=\"middle\" x=\"143.24\" y=\"-14.3\" font-family=\"Times,serif\" font-size=\"14.00\">0 (index=0)</text>\n</g>\n<!-- 1 -->\n<g id=\"node2\" class=\"node\">\n<title>1</title>\n<ellipse fill=\"none\" stroke=\"black\" cx=\"284.53\" cy=\"-18\" rx=\"52.79\" ry=\"18\"/>\n<text text-anchor=\"middle\" x=\"284.53\" y=\"-14.3\" font-family=\"Times,serif\" font-size=\"14.00\">1 (index=1)</text>\n</g>\n<!-- 0&#45;&gt;1 -->\n<g id=\"edge1\" class=\"edge\">\n<title>0&#45;&gt;1</title>\n<path fill=\"none\" stroke=\"black\" d=\"M192.57,-11.54C203.05,-11.25 214.24,-11.18 225.06,-11.33\"/>\n<polygon fill=\"black\" stroke=\"black\" points=\"225.22,-14.83 235.29,-11.54 225.37,-7.83 225.22,-14.83\"/>\n</g>\n<!-- 1&#45;&gt;0 -->\n<g id=\"edge3\" class=\"edge\">\n<title>1&#45;&gt;0</title>\n<path fill=\"none\" stroke=\"black\" d=\"M235.29,-24.46C224.81,-24.75 213.62,-24.82 202.8,-24.67\"/>\n<polygon fill=\"black\" stroke=\"black\" points=\"202.64,-21.17 192.57,-24.46 202.49,-28.17 202.64,-21.17\"/>\n</g>\n<!-- 2 -->\n<g id=\"node3\" class=\"node\">\n<title>2</title>\n<ellipse fill=\"none\" stroke=\"black\" cx=\"425.82\" cy=\"-18\" rx=\"52.79\" ry=\"18\"/>\n<text text-anchor=\"middle\" x=\"425.82\" y=\"-14.3\" font-family=\"Times,serif\" font-size=\"14.00\">2 (index=2)</text>\n</g>\n<!-- 1&#45;&gt;2 -->\n<g id=\"edge2\" class=\"edge\">\n<title>1&#45;&gt;2</title>\n<path fill=\"none\" stroke=\"black\" d=\"M333.86,-11.54C344.34,-11.25 355.53,-11.18 366.35,-11.33\"/>\n<polygon fill=\"black\" stroke=\"black\" points=\"366.51,-14.83 376.58,-11.54 366.66,-7.83 366.51,-14.83\"/>\n</g>\n<!-- 2&#45;&gt;1 -->\n<g id=\"edge5\" class=\"edge\">\n<title>2&#45;&gt;1</title>\n<path fill=\"none\" stroke=\"black\" d=\"M376.58,-24.46C366.1,-24.75 354.91,-24.82 344.09,-24.67\"/>\n<polygon fill=\"black\" stroke=\"black\" points=\"343.93,-21.17 333.86,-24.46 343.78,-28.17 343.93,-21.17\"/>\n</g>\n<!-- 3 -->\n<g id=\"node4\" class=\"node\">\n<title>3</title>\n<ellipse fill=\"none\" stroke=\"black\" cx=\"567.11\" cy=\"-18\" rx=\"52.79\" ry=\"18\"/>\n<text text-anchor=\"middle\" x=\"567.11\" y=\"-14.3\" font-family=\"Times,serif\" font-size=\"14.00\">3 (index=3)</text>\n</g>\n<!-- 2&#45;&gt;3 -->\n<g id=\"edge4\" class=\"edge\">\n<title>2&#45;&gt;3</title>\n<path fill=\"none\" stroke=\"black\" d=\"M475.15,-11.54C485.63,-11.25 496.82,-11.18 507.64,-11.33\"/>\n<polygon fill=\"black\" stroke=\"black\" points=\"507.8,-14.83 517.87,-11.54 507.95,-7.83 507.8,-14.83\"/>\n</g>\n<!-- 3&#45;&gt;2 -->\n<g id=\"edge7\" class=\"edge\">\n<title>3&#45;&gt;2</title>\n<path fill=\"none\" stroke=\"black\" d=\"M517.87,-24.46C507.4,-24.75 496.2,-24.82 485.38,-24.67\"/>\n<polygon fill=\"black\" stroke=\"black\" points=\"485.22,-21.17 475.15,-24.46 485.07,-28.17 485.22,-21.17\"/>\n</g>\n<!-- 4 -->\n<g id=\"node5\" class=\"node\">\n<title>4</title>\n<ellipse fill=\"none\" stroke=\"black\" cx=\"708.4\" cy=\"-18\" rx=\"52.79\" ry=\"18\"/>\n<text text-anchor=\"middle\" x=\"708.4\" y=\"-14.3\" font-family=\"Times,serif\" font-size=\"14.00\">4 (index=4)</text>\n</g>\n<!-- 3&#45;&gt;4 -->\n<g id=\"edge6\" class=\"edge\">\n<title>3&#45;&gt;4</title>\n<path fill=\"none\" stroke=\"black\" d=\"M616.44,-11.54C626.92,-11.25 638.11,-11.18 648.93,-11.33\"/>\n<polygon fill=\"black\" stroke=\"black\" points=\"649.09,-14.83 659.16,-11.54 649.24,-7.83 649.09,-14.83\"/>\n</g>\n<!-- 4&#45;&gt;3 -->\n<g id=\"edge9\" class=\"edge\">\n<title>4&#45;&gt;3</title>\n<path fill=\"none\" stroke=\"black\" d=\"M659.16,-24.46C648.69,-24.75 637.49,-24.82 626.67,-24.67\"/>\n<polygon fill=\"black\" stroke=\"black\" points=\"626.51,-21.17 616.44,-24.46 626.36,-28.17 626.51,-21.17\"/>\n</g>\n<!-- 15 -->\n<g id=\"node6\" class=\"node\">\n<title>15</title>\n<ellipse fill=\"none\" stroke=\"black\" cx=\"854.24\" cy=\"-18\" rx=\"57.39\" ry=\"18\"/>\n<text text-anchor=\"middle\" x=\"854.24\" y=\"-14.3\" font-family=\"Times,serif\" font-size=\"14.00\">15 (index=5)</text>\n</g>\n<!-- 4&#45;&gt;15 -->\n<g id=\"edge8\" class=\"edge\">\n<title>4&#45;&gt;15</title>\n<path fill=\"none\" stroke=\"black\" d=\"M757.7,-11.58C768.32,-11.27 779.72,-11.18 790.81,-11.3\"/>\n<polygon fill=\"black\" stroke=\"black\" points=\"790.82,-14.8 800.88,-11.48 790.94,-7.8 790.82,-14.8\"/>\n</g>\n<!-- 15&#45;&gt;4 -->\n<g id=\"edge11\" class=\"edge\">\n<title>15&#45;&gt;4</title>\n<path fill=\"none\" stroke=\"black\" d=\"M800.88,-24.52C790.19,-24.78 778.87,-24.82 767.98,-24.65\"/>\n<polygon fill=\"black\" stroke=\"black\" points=\"767.78,-21.14 757.7,-24.42 767.62,-28.14 767.78,-21.14\"/>\n</g>\n<!-- 6 -->\n<g id=\"node7\" class=\"node\">\n<title>6</title>\n<ellipse fill=\"lightpink\" stroke=\"black\" cx=\"1000.08\" cy=\"-18\" rx=\"52.79\" ry=\"18\"/>\n<text text-anchor=\"middle\" x=\"1000.08\" y=\"-14.3\" font-family=\"Times,serif\" font-size=\"14.00\">6 (index=6)</text>\n</g>\n<!-- 15&#45;&gt;6 -->\n<g id=\"edge10\" class=\"edge\">\n<title>15&#45;&gt;6</title>\n<path fill=\"none\" stroke=\"black\" d=\"M907.58,-11.48C918.29,-11.22 929.63,-11.18 940.55,-11.36\"/>\n<polygon fill=\"black\" stroke=\"black\" points=\"940.77,-14.86 950.85,-11.59 940.93,-7.86 940.77,-14.86\"/>\n</g>\n<!-- 6&#45;&gt;15 -->\n<g id=\"edge12\" class=\"edge\">\n<title>6&#45;&gt;15</title>\n<path fill=\"none\" stroke=\"black\" d=\"M950.85,-24.41C940.21,-24.73 928.78,-24.82 917.67,-24.7\"/>\n<polygon fill=\"black\" stroke=\"black\" points=\"917.64,-21.2 907.58,-24.52 917.52,-28.2 917.64,-21.2\"/>\n</g>\n<!-- End -->\n<g id=\"node9\" class=\"node\">\n<title>End</title>\n<ellipse fill=\"none\" stroke=\"black\" cx=\"1115.73\" cy=\"-18\" rx=\"27\" ry=\"18\"/>\n<text text-anchor=\"middle\" x=\"1115.73\" y=\"-14.3\" font-family=\"Times,serif\" font-size=\"14.00\">End</text>\n</g>\n<!-- 6&#45;&gt;End -->\n<g id=\"edge14\" class=\"edge\">\n<title>6&#45;&gt;End</title>\n<path fill=\"none\" stroke=\"black\" d=\"M1052.92,-18C1061.55,-18 1070.33,-18 1078.47,-18\"/>\n<polygon fill=\"black\" stroke=\"black\" points=\"1078.72,-21.5 1088.72,-18 1078.72,-14.5 1078.72,-21.5\"/>\n</g>\n<!-- Start -->\n<g id=\"node8\" class=\"node\">\n<title>Start</title>\n<ellipse fill=\"none\" stroke=\"black\" cx=\"27.3\" cy=\"-18\" rx=\"27.1\" ry=\"18\"/>\n<text text-anchor=\"middle\" x=\"27.3\" y=\"-14.3\" font-family=\"Times,serif\" font-size=\"14.00\">Start</text>\n</g>\n<!-- Start&#45;&gt;0 -->\n<g id=\"edge13\" class=\"edge\">\n<title>Start&#45;&gt;0</title>\n<path fill=\"none\" stroke=\"black\" d=\"M64.96,-18C73.07,-18 81.81,-18 90.4,-18\"/>\n<polygon fill=\"black\" stroke=\"black\" points=\"64.72,-14.5 54.72,-18 64.72,-21.5 64.72,-14.5\"/>\n</g>\n</g>\n</svg>\n",
            "text/plain": [
              "<graphviz.graphs.Digraph at 0x7829c5bfd030>"
            ]
          },
          "metadata": {}
        }
      ]
    },
    {
      "cell_type": "code",
      "source": [
        "# -----------------------\n",
        "# Test case : set(index,value) | with empty LL\n",
        "# -----------------------\n",
        "my_doubly_linked_list = DoublyLinkedList(0)\n",
        "my_doubly_linked_list.make_empty()\n",
        "display(my_doubly_linked_list.print_list(\"set(index,value) | empty LL\"))\n",
        "my_doubly_linked_list.set_value(5,15)\n",
        "display(my_doubly_linked_list.print_list(\"node_5 = 15\"))"
      ],
      "metadata": {
        "id": "npWpxlbAy9US",
        "outputId": "0ca6ce4d-281f-4d2a-e508-671bca150295",
        "colab": {
          "base_uri": "https://localhost:8080/",
          "height": 296
        }
      },
      "execution_count": 16,
      "outputs": [
        {
          "output_type": "stream",
          "name": "stdout",
          "text": [
            "\n",
            "\n",
            "-----------\n",
            "set(index,value) | empty LL\n",
            "-----------\n",
            "\n",
            "\n"
          ]
        },
        {
          "output_type": "display_data",
          "data": {
            "text/plain": [
              "'Nothing to display'"
            ],
            "application/vnd.google.colaboratory.intrinsic+json": {
              "type": "string"
            }
          },
          "metadata": {}
        },
        {
          "output_type": "stream",
          "name": "stdout",
          "text": [
            "\n",
            "\n",
            "-----------\n",
            "node_5 = 15\n",
            "-----------\n",
            "\n",
            "\n"
          ]
        },
        {
          "output_type": "display_data",
          "data": {
            "text/plain": [
              "'Nothing to display'"
            ],
            "application/vnd.google.colaboratory.intrinsic+json": {
              "type": "string"
            }
          },
          "metadata": {}
        }
      ]
    },
    {
      "cell_type": "code",
      "source": [
        "# -----------------------\n",
        "# Test case : set(index,value) | with index out of scope\n",
        "# -----------------------\n",
        "my_doubly_linked_list = DoublyLinkedList(0)\n",
        "my_doubly_linked_list.append(1)\n",
        "my_doubly_linked_list.append(2)\n",
        "my_doubly_linked_list.append(3)\n",
        "my_doubly_linked_list.append(4)\n",
        "my_doubly_linked_list.append(5)\n",
        "my_doubly_linked_list.append(6)\n",
        "display(my_doubly_linked_list.print_list(\"set(index,value) | with index out of scope\"))\n",
        "node_10 = my_doubly_linked_list.set_value(10,20)\n",
        "\n",
        "if node_10:\n",
        "    display(my_doubly_linked_list.print_list(\"node_10 = 20\"))\n",
        "else:\n",
        "    print(\"\\n\")\n",
        "    print(node_10)"
      ],
      "metadata": {
        "id": "bTrzhpjezOgy",
        "outputId": "983995b0-88f0-4ca4-cd79-a741f029ae3a",
        "colab": {
          "base_uri": "https://localhost:8080/",
          "height": 273
        }
      },
      "execution_count": 19,
      "outputs": [
        {
          "output_type": "stream",
          "name": "stdout",
          "text": [
            "\n",
            "\n",
            "-----------\n",
            "set(index,value) | with index out of scope\n",
            "-----------\n",
            "\n",
            "\n"
          ]
        },
        {
          "output_type": "display_data",
          "data": {
            "image/svg+xml": "<?xml version=\"1.0\" encoding=\"UTF-8\" standalone=\"no\"?>\n<!DOCTYPE svg PUBLIC \"-//W3C//DTD SVG 1.1//EN\"\n \"http://www.w3.org/Graphics/SVG/1.1/DTD/svg11.dtd\">\n<!-- Generated by graphviz version 2.43.0 (0)\n -->\n<!-- Title: %3 Pages: 1 -->\n<svg width=\"1142pt\" height=\"44pt\"\n viewBox=\"0.00 0.00 1141.63 44.00\" xmlns=\"http://www.w3.org/2000/svg\" xmlns:xlink=\"http://www.w3.org/1999/xlink\">\n<g id=\"graph0\" class=\"graph\" transform=\"scale(1 1) rotate(0) translate(4 40)\">\n<title>%3</title>\n<polygon fill=\"white\" stroke=\"transparent\" points=\"-4,4 -4,-40 1137.63,-40 1137.63,4 -4,4\"/>\n<!-- 0 -->\n<g id=\"node1\" class=\"node\">\n<title>0</title>\n<ellipse fill=\"chartreuse\" stroke=\"black\" cx=\"143.24\" cy=\"-18\" rx=\"52.79\" ry=\"18\"/>\n<text text-anchor=\"middle\" x=\"143.24\" y=\"-14.3\" font-family=\"Times,serif\" font-size=\"14.00\">0 (index=0)</text>\n</g>\n<!-- 1 -->\n<g id=\"node2\" class=\"node\">\n<title>1</title>\n<ellipse fill=\"none\" stroke=\"black\" cx=\"284.53\" cy=\"-18\" rx=\"52.79\" ry=\"18\"/>\n<text text-anchor=\"middle\" x=\"284.53\" y=\"-14.3\" font-family=\"Times,serif\" font-size=\"14.00\">1 (index=1)</text>\n</g>\n<!-- 0&#45;&gt;1 -->\n<g id=\"edge1\" class=\"edge\">\n<title>0&#45;&gt;1</title>\n<path fill=\"none\" stroke=\"black\" d=\"M192.57,-11.54C203.05,-11.25 214.24,-11.18 225.06,-11.33\"/>\n<polygon fill=\"black\" stroke=\"black\" points=\"225.22,-14.83 235.29,-11.54 225.37,-7.83 225.22,-14.83\"/>\n</g>\n<!-- 1&#45;&gt;0 -->\n<g id=\"edge3\" class=\"edge\">\n<title>1&#45;&gt;0</title>\n<path fill=\"none\" stroke=\"black\" d=\"M235.29,-24.46C224.81,-24.75 213.62,-24.82 202.8,-24.67\"/>\n<polygon fill=\"black\" stroke=\"black\" points=\"202.64,-21.17 192.57,-24.46 202.49,-28.17 202.64,-21.17\"/>\n</g>\n<!-- 2 -->\n<g id=\"node3\" class=\"node\">\n<title>2</title>\n<ellipse fill=\"none\" stroke=\"black\" cx=\"425.82\" cy=\"-18\" rx=\"52.79\" ry=\"18\"/>\n<text text-anchor=\"middle\" x=\"425.82\" y=\"-14.3\" font-family=\"Times,serif\" font-size=\"14.00\">2 (index=2)</text>\n</g>\n<!-- 1&#45;&gt;2 -->\n<g id=\"edge2\" class=\"edge\">\n<title>1&#45;&gt;2</title>\n<path fill=\"none\" stroke=\"black\" d=\"M333.86,-11.54C344.34,-11.25 355.53,-11.18 366.35,-11.33\"/>\n<polygon fill=\"black\" stroke=\"black\" points=\"366.51,-14.83 376.58,-11.54 366.66,-7.83 366.51,-14.83\"/>\n</g>\n<!-- 2&#45;&gt;1 -->\n<g id=\"edge5\" class=\"edge\">\n<title>2&#45;&gt;1</title>\n<path fill=\"none\" stroke=\"black\" d=\"M376.58,-24.46C366.1,-24.75 354.91,-24.82 344.09,-24.67\"/>\n<polygon fill=\"black\" stroke=\"black\" points=\"343.93,-21.17 333.86,-24.46 343.78,-28.17 343.93,-21.17\"/>\n</g>\n<!-- 3 -->\n<g id=\"node4\" class=\"node\">\n<title>3</title>\n<ellipse fill=\"none\" stroke=\"black\" cx=\"567.11\" cy=\"-18\" rx=\"52.79\" ry=\"18\"/>\n<text text-anchor=\"middle\" x=\"567.11\" y=\"-14.3\" font-family=\"Times,serif\" font-size=\"14.00\">3 (index=3)</text>\n</g>\n<!-- 2&#45;&gt;3 -->\n<g id=\"edge4\" class=\"edge\">\n<title>2&#45;&gt;3</title>\n<path fill=\"none\" stroke=\"black\" d=\"M475.15,-11.54C485.63,-11.25 496.82,-11.18 507.64,-11.33\"/>\n<polygon fill=\"black\" stroke=\"black\" points=\"507.8,-14.83 517.87,-11.54 507.95,-7.83 507.8,-14.83\"/>\n</g>\n<!-- 3&#45;&gt;2 -->\n<g id=\"edge7\" class=\"edge\">\n<title>3&#45;&gt;2</title>\n<path fill=\"none\" stroke=\"black\" d=\"M517.87,-24.46C507.4,-24.75 496.2,-24.82 485.38,-24.67\"/>\n<polygon fill=\"black\" stroke=\"black\" points=\"485.22,-21.17 475.15,-24.46 485.07,-28.17 485.22,-21.17\"/>\n</g>\n<!-- 4 -->\n<g id=\"node5\" class=\"node\">\n<title>4</title>\n<ellipse fill=\"none\" stroke=\"black\" cx=\"708.4\" cy=\"-18\" rx=\"52.79\" ry=\"18\"/>\n<text text-anchor=\"middle\" x=\"708.4\" y=\"-14.3\" font-family=\"Times,serif\" font-size=\"14.00\">4 (index=4)</text>\n</g>\n<!-- 3&#45;&gt;4 -->\n<g id=\"edge6\" class=\"edge\">\n<title>3&#45;&gt;4</title>\n<path fill=\"none\" stroke=\"black\" d=\"M616.44,-11.54C626.92,-11.25 638.11,-11.18 648.93,-11.33\"/>\n<polygon fill=\"black\" stroke=\"black\" points=\"649.09,-14.83 659.16,-11.54 649.24,-7.83 649.09,-14.83\"/>\n</g>\n<!-- 4&#45;&gt;3 -->\n<g id=\"edge9\" class=\"edge\">\n<title>4&#45;&gt;3</title>\n<path fill=\"none\" stroke=\"black\" d=\"M659.16,-24.46C648.69,-24.75 637.49,-24.82 626.67,-24.67\"/>\n<polygon fill=\"black\" stroke=\"black\" points=\"626.51,-21.17 616.44,-24.46 626.36,-28.17 626.51,-21.17\"/>\n</g>\n<!-- 5 -->\n<g id=\"node6\" class=\"node\">\n<title>5</title>\n<ellipse fill=\"none\" stroke=\"black\" cx=\"849.69\" cy=\"-18\" rx=\"52.79\" ry=\"18\"/>\n<text text-anchor=\"middle\" x=\"849.69\" y=\"-14.3\" font-family=\"Times,serif\" font-size=\"14.00\">5 (index=5)</text>\n</g>\n<!-- 4&#45;&gt;5 -->\n<g id=\"edge8\" class=\"edge\">\n<title>4&#45;&gt;5</title>\n<path fill=\"none\" stroke=\"black\" d=\"M757.73,-11.54C768.21,-11.25 779.4,-11.18 790.22,-11.33\"/>\n<polygon fill=\"black\" stroke=\"black\" points=\"790.38,-14.83 800.45,-11.54 790.53,-7.83 790.38,-14.83\"/>\n</g>\n<!-- 5&#45;&gt;4 -->\n<g id=\"edge11\" class=\"edge\">\n<title>5&#45;&gt;4</title>\n<path fill=\"none\" stroke=\"black\" d=\"M800.45,-24.46C789.98,-24.75 778.79,-24.82 767.96,-24.67\"/>\n<polygon fill=\"black\" stroke=\"black\" points=\"767.8,-21.17 757.73,-24.46 767.65,-28.17 767.8,-21.17\"/>\n</g>\n<!-- 6 -->\n<g id=\"node7\" class=\"node\">\n<title>6</title>\n<ellipse fill=\"lightpink\" stroke=\"black\" cx=\"990.98\" cy=\"-18\" rx=\"52.79\" ry=\"18\"/>\n<text text-anchor=\"middle\" x=\"990.98\" y=\"-14.3\" font-family=\"Times,serif\" font-size=\"14.00\">6 (index=6)</text>\n</g>\n<!-- 5&#45;&gt;6 -->\n<g id=\"edge10\" class=\"edge\">\n<title>5&#45;&gt;6</title>\n<path fill=\"none\" stroke=\"black\" d=\"M899.02,-11.54C909.5,-11.25 920.69,-11.18 931.52,-11.33\"/>\n<polygon fill=\"black\" stroke=\"black\" points=\"931.67,-14.83 941.74,-11.54 931.82,-7.83 931.67,-14.83\"/>\n</g>\n<!-- 6&#45;&gt;5 -->\n<g id=\"edge12\" class=\"edge\">\n<title>6&#45;&gt;5</title>\n<path fill=\"none\" stroke=\"black\" d=\"M941.74,-24.46C931.27,-24.75 920.08,-24.82 909.25,-24.67\"/>\n<polygon fill=\"black\" stroke=\"black\" points=\"909.09,-21.17 899.02,-24.46 908.95,-28.17 909.09,-21.17\"/>\n</g>\n<!-- End -->\n<g id=\"node9\" class=\"node\">\n<title>End</title>\n<ellipse fill=\"none\" stroke=\"black\" cx=\"1106.63\" cy=\"-18\" rx=\"27\" ry=\"18\"/>\n<text text-anchor=\"middle\" x=\"1106.63\" y=\"-14.3\" font-family=\"Times,serif\" font-size=\"14.00\">End</text>\n</g>\n<!-- 6&#45;&gt;End -->\n<g id=\"edge14\" class=\"edge\">\n<title>6&#45;&gt;End</title>\n<path fill=\"none\" stroke=\"black\" d=\"M1043.82,-18C1052.45,-18 1061.23,-18 1069.37,-18\"/>\n<polygon fill=\"black\" stroke=\"black\" points=\"1069.62,-21.5 1079.62,-18 1069.62,-14.5 1069.62,-21.5\"/>\n</g>\n<!-- Start -->\n<g id=\"node8\" class=\"node\">\n<title>Start</title>\n<ellipse fill=\"none\" stroke=\"black\" cx=\"27.3\" cy=\"-18\" rx=\"27.1\" ry=\"18\"/>\n<text text-anchor=\"middle\" x=\"27.3\" y=\"-14.3\" font-family=\"Times,serif\" font-size=\"14.00\">Start</text>\n</g>\n<!-- Start&#45;&gt;0 -->\n<g id=\"edge13\" class=\"edge\">\n<title>Start&#45;&gt;0</title>\n<path fill=\"none\" stroke=\"black\" d=\"M64.96,-18C73.07,-18 81.81,-18 90.4,-18\"/>\n<polygon fill=\"black\" stroke=\"black\" points=\"64.72,-14.5 54.72,-18 64.72,-21.5 64.72,-14.5\"/>\n</g>\n</g>\n</svg>\n",
            "text/plain": [
              "<graphviz.graphs.Digraph at 0x7829c5bfc640>"
            ]
          },
          "metadata": {}
        },
        {
          "output_type": "stream",
          "name": "stdout",
          "text": [
            "\n",
            "\n",
            "False\n"
          ]
        }
      ]
    },
    {
      "cell_type": "code",
      "source": [],
      "metadata": {
        "id": "1eFkJXp3zj9a"
      },
      "execution_count": null,
      "outputs": []
    },
    {
      "cell_type": "markdown",
      "source": [
        "## insert"
      ],
      "metadata": {
        "id": "qSoj5hDeBxk7"
      }
    },
    {
      "cell_type": "markdown",
      "source": [
        "### code"
      ],
      "metadata": {
        "id": "rUGOsIKVB0pc"
      }
    },
    {
      "cell_type": "code",
      "source": [
        "import graphviz\n",
        "import random\n",
        "\n",
        "class Node:\n",
        "\n",
        "  def __init__(self, value):\n",
        "    self.value = value\n",
        "    self.next = None\n",
        "    self.prev = None\n",
        "\n",
        "class DoublyLinkedList:\n",
        "\n",
        "    def __init__(self, value):\n",
        "\n",
        "        new_node = Node(value)\n",
        "        self.head = new_node\n",
        "        self.tail = new_node\n",
        "        self.length = 1\n",
        "\n",
        "    def make_empty(self):\n",
        "\n",
        "        self.head = None\n",
        "        self.tail = None\n",
        "        self.length = 0\n",
        "\n",
        "    def print_list(self,msg = \"List Created\"):\n",
        "\n",
        "        print(\"\\n\")\n",
        "        print(\"-----------\")\n",
        "        print(msg)\n",
        "        print(\"-----------\")\n",
        "        print(\"\\n\")\n",
        "\n",
        "        if self.length == 0:\n",
        "            return \"Nothing to display\"\n",
        "\n",
        "\n",
        "        dot = graphviz.Digraph()\n",
        "        dot.attr(rankdir='LR')  # Change direction to horizontal\n",
        "        temp = self.head\n",
        "        index = 0\n",
        "\n",
        "        while temp is not None:\n",
        "            label = f\"{temp.value} (index={index})\"\n",
        "\n",
        "            if self.length == 1:\n",
        "                dot.node(str(temp.value), label, fillcolor=\"cyan\", style=\"filled\")\n",
        "                break\n",
        "            else:\n",
        "                if temp == self.head:\n",
        "                    dot.node(str(temp.value), label, fillcolor=\"chartreuse\", style=\"filled\")\n",
        "                elif temp == self.tail:\n",
        "                    dot.node(str(temp.value), label, fillcolor=\"lightpink\", style=\"filled\")\n",
        "                else:\n",
        "                    dot.node(str(temp.value), label)\n",
        "\n",
        "            if temp.next:\n",
        "                dot.edge(str(temp.value), str(temp.next.value))\n",
        "\n",
        "            if temp.prev:\n",
        "                dot.edge(str(temp.value), str(temp.prev.value))\n",
        "\n",
        "            temp = temp.next\n",
        "            index += 1\n",
        "\n",
        "        dot.edge(\"Start\", str(self.head.value), dir=\"back\")\n",
        "        dot.edge(str(self.tail.value), \"End\")\n",
        "\n",
        "        return dot\n",
        "\n",
        "    def append(self,value):\n",
        "\n",
        "        # create the new node\n",
        "        new_node = Node(value)\n",
        "\n",
        "        if self.length == 0:\n",
        "            self.tail = new_node\n",
        "            self.head = new_node\n",
        "        else:\n",
        "            self.tail.next = new_node\n",
        "            new_node.prev = self.tail\n",
        "            self.tail = new_node\n",
        "\n",
        "        self.length += 1\n",
        "\n",
        "    def pop(self):\n",
        "\n",
        "        if self.length == 0:\n",
        "            return None\n",
        "\n",
        "        temp = self.tail\n",
        "\n",
        "        if self.length == 1:\n",
        "            self.head = None\n",
        "            self.tail = None\n",
        "        else:\n",
        "            # disconnect the last node\n",
        "            self.tail = self.tail.prev\n",
        "            self.tail.next = None\n",
        "\n",
        "        temp.prev = None\n",
        "        self.length -= 1\n",
        "\n",
        "        return temp\n",
        "\n",
        "    def prepend(self,value):\n",
        "\n",
        "        new_node = Node(value)\n",
        "\n",
        "        if self.length == 0:\n",
        "            self.head = new_node\n",
        "            self.tail = new_node\n",
        "        else:\n",
        "            temp = self.head\n",
        "            new_node.next = temp\n",
        "            self.head = new_node\n",
        "            temp.prev = new_node\n",
        "\n",
        "        self.length += 1\n",
        "        return True\n",
        "\n",
        "    def pop_first(self):\n",
        "\n",
        "        if self.length == 0:\n",
        "            return None\n",
        "\n",
        "        temp = self.head\n",
        "\n",
        "        if self.length == 1:\n",
        "            self.head = None\n",
        "            self.tail = None\n",
        "        else:\n",
        "            self.head = temp.next\n",
        "            self.head.prev = None\n",
        "\n",
        "        temp.next = None\n",
        "        self.length -= 1\n",
        "        return temp\n",
        "\n",
        "    def get(self,index):\n",
        "\n",
        "        if self.length == 0:\n",
        "            return None\n",
        "\n",
        "        if index < 0 or index >= self.length:\n",
        "            return None\n",
        "\n",
        "        temp = self.head\n",
        "        # optimize the pointer movement because we have node.prev also this time\n",
        "        if index < (self.length / 2):\n",
        "            for _ in range(index):\n",
        "                temp = temp.next\n",
        "        else:\n",
        "            temp = self.tail\n",
        "            for _ in range(self.length-1,index,-1):\n",
        "                temp = temp.prev\n",
        "        return temp\n",
        "\n",
        "    def set_value(self,index,value):\n",
        "        temp = self.get(index)\n",
        "        if temp:\n",
        "            temp.value = value\n",
        "        else:\n",
        "            return False\n",
        "        return True\n",
        "\n",
        "    def insert(self,index,value):\n",
        "\n",
        "        if index == 0:\n",
        "            return self.prepend(value)\n",
        "\n",
        "        elif index == (self.length -1):\n",
        "            return self.append(value)\n",
        "\n",
        "        else:\n",
        "            # create a new node\n",
        "            new_node = Node(value)\n",
        "            curr_node = self.get(index)\n",
        "            prev_node = curr_node.prev\n",
        "\n",
        "            if curr_node:\n",
        "                # ops on new node\n",
        "                new_node.next = curr_node\n",
        "                new_node.prev = prev_node\n",
        "\n",
        "                # ops of curr\n",
        "                curr_node.prev = new_node\n",
        "            else:\n",
        "                return False\n",
        "\n",
        "        self.length += 1\n",
        "        return True"
      ],
      "metadata": {
        "id": "v6ODC4s2Bz_9"
      },
      "execution_count": 28,
      "outputs": []
    },
    {
      "cell_type": "code",
      "source": [
        "import random\n",
        "\n",
        "def create_double_link_list(num=5):\n",
        "    low = 10\n",
        "    high = 100\n",
        "    array = []\n",
        "\n",
        "    for _ in range(num):\n",
        "        array.append(random.randint(low,high))\n",
        "\n",
        "    for index,num in enumerate(array):\n",
        "        if index == 0:\n",
        "            my_double_ll = DoublyLinkedList(num)\n",
        "        else:\n",
        "            my_double_ll.append(num)\n",
        "\n",
        "    return my_double_ll"
      ],
      "metadata": {
        "id": "vrP4zfgdBw6z"
      },
      "execution_count": 18,
      "outputs": []
    },
    {
      "cell_type": "code",
      "source": [
        "my_doubly_linked_list = None\n",
        "my_doubly_linked_list = create_double_link_list(4)\n",
        "display(my_doubly_linked_list.print_list())"
      ],
      "metadata": {
        "id": "i8MSKAkiDQUN",
        "outputId": "0317a9b3-b8e6-4c99-b70a-9c976134ae52",
        "colab": {
          "base_uri": "https://localhost:8080/",
          "height": 201
        }
      },
      "execution_count": 31,
      "outputs": [
        {
          "output_type": "stream",
          "name": "stdout",
          "text": [
            "\n",
            "\n",
            "-----------\n",
            "List Created\n",
            "-----------\n",
            "\n",
            "\n"
          ]
        },
        {
          "output_type": "display_data",
          "data": {
            "image/svg+xml": "<?xml version=\"1.0\" encoding=\"UTF-8\" standalone=\"no\"?>\n<!DOCTYPE svg PUBLIC \"-//W3C//DTD SVG 1.1//EN\"\n \"http://www.w3.org/Graphics/SVG/1.1/DTD/svg11.dtd\">\n<!-- Generated by graphviz version 2.43.0 (0)\n -->\n<!-- Title: %3 Pages: 1 -->\n<svg width=\"754pt\" height=\"44pt\"\n viewBox=\"0.00 0.00 754.15 44.00\" xmlns=\"http://www.w3.org/2000/svg\" xmlns:xlink=\"http://www.w3.org/1999/xlink\">\n<g id=\"graph0\" class=\"graph\" transform=\"scale(1 1) rotate(0) translate(4 40)\">\n<title>%3</title>\n<polygon fill=\"white\" stroke=\"transparent\" points=\"-4,4 -4,-40 750.15,-40 750.15,4 -4,4\"/>\n<!-- 60 -->\n<g id=\"node1\" class=\"node\">\n<title>60</title>\n<ellipse fill=\"chartreuse\" stroke=\"black\" cx=\"147.79\" cy=\"-18\" rx=\"57.39\" ry=\"18\"/>\n<text text-anchor=\"middle\" x=\"147.79\" y=\"-14.3\" font-family=\"Times,serif\" font-size=\"14.00\">60 (index=0)</text>\n</g>\n<!-- 59 -->\n<g id=\"node2\" class=\"node\">\n<title>59</title>\n<ellipse fill=\"none\" stroke=\"black\" cx=\"298.18\" cy=\"-18\" rx=\"57.39\" ry=\"18\"/>\n<text text-anchor=\"middle\" x=\"298.18\" y=\"-14.3\" font-family=\"Times,serif\" font-size=\"14.00\">59 (index=1)</text>\n</g>\n<!-- 60&#45;&gt;59 -->\n<g id=\"edge1\" class=\"edge\">\n<title>60&#45;&gt;59</title>\n<path fill=\"none\" stroke=\"black\" d=\"M201.52,-11.51C212.13,-11.25 223.38,-11.18 234.29,-11.32\"/>\n<polygon fill=\"black\" stroke=\"black\" points=\"234.55,-14.83 244.62,-11.51 234.68,-7.83 234.55,-14.83\"/>\n</g>\n<!-- 59&#45;&gt;60 -->\n<g id=\"edge3\" class=\"edge\">\n<title>59&#45;&gt;60</title>\n<path fill=\"none\" stroke=\"black\" d=\"M244.62,-24.49C234.02,-24.75 222.77,-24.82 211.86,-24.68\"/>\n<polygon fill=\"black\" stroke=\"black\" points=\"211.59,-21.18 201.52,-24.49 211.46,-28.18 211.59,-21.18\"/>\n</g>\n<!-- 56 -->\n<g id=\"node3\" class=\"node\">\n<title>56</title>\n<ellipse fill=\"none\" stroke=\"black\" cx=\"448.57\" cy=\"-18\" rx=\"57.39\" ry=\"18\"/>\n<text text-anchor=\"middle\" x=\"448.57\" y=\"-14.3\" font-family=\"Times,serif\" font-size=\"14.00\">56 (index=2)</text>\n</g>\n<!-- 59&#45;&gt;56 -->\n<g id=\"edge2\" class=\"edge\">\n<title>59&#45;&gt;56</title>\n<path fill=\"none\" stroke=\"black\" d=\"M351.91,-11.51C362.52,-11.25 373.77,-11.18 384.68,-11.32\"/>\n<polygon fill=\"black\" stroke=\"black\" points=\"384.94,-14.83 395.01,-11.51 385.07,-7.83 384.94,-14.83\"/>\n</g>\n<!-- 56&#45;&gt;59 -->\n<g id=\"edge5\" class=\"edge\">\n<title>56&#45;&gt;59</title>\n<path fill=\"none\" stroke=\"black\" d=\"M395.01,-24.49C384.41,-24.75 373.16,-24.82 362.25,-24.68\"/>\n<polygon fill=\"black\" stroke=\"black\" points=\"361.98,-21.18 351.91,-24.49 361.85,-28.18 361.98,-21.18\"/>\n</g>\n<!-- 13 -->\n<g id=\"node4\" class=\"node\">\n<title>13</title>\n<ellipse fill=\"lightpink\" stroke=\"black\" cx=\"598.96\" cy=\"-18\" rx=\"57.39\" ry=\"18\"/>\n<text text-anchor=\"middle\" x=\"598.96\" y=\"-14.3\" font-family=\"Times,serif\" font-size=\"14.00\">13 (index=3)</text>\n</g>\n<!-- 56&#45;&gt;13 -->\n<g id=\"edge4\" class=\"edge\">\n<title>56&#45;&gt;13</title>\n<path fill=\"none\" stroke=\"black\" d=\"M502.3,-11.51C512.91,-11.25 524.16,-11.18 535.07,-11.32\"/>\n<polygon fill=\"black\" stroke=\"black\" points=\"535.33,-14.83 545.39,-11.51 535.46,-7.83 535.33,-14.83\"/>\n</g>\n<!-- 13&#45;&gt;56 -->\n<g id=\"edge6\" class=\"edge\">\n<title>13&#45;&gt;56</title>\n<path fill=\"none\" stroke=\"black\" d=\"M545.39,-24.49C534.8,-24.75 523.55,-24.82 512.64,-24.68\"/>\n<polygon fill=\"black\" stroke=\"black\" points=\"512.37,-21.18 502.3,-24.49 512.24,-28.18 512.37,-21.18\"/>\n</g>\n<!-- End -->\n<g id=\"node6\" class=\"node\">\n<title>End</title>\n<ellipse fill=\"none\" stroke=\"black\" cx=\"719.15\" cy=\"-18\" rx=\"27\" ry=\"18\"/>\n<text text-anchor=\"middle\" x=\"719.15\" y=\"-14.3\" font-family=\"Times,serif\" font-size=\"14.00\">End</text>\n</g>\n<!-- 13&#45;&gt;End -->\n<g id=\"edge8\" class=\"edge\">\n<title>13&#45;&gt;End</title>\n<path fill=\"none\" stroke=\"black\" d=\"M656.29,-18C664.97,-18 673.73,-18 681.82,-18\"/>\n<polygon fill=\"black\" stroke=\"black\" points=\"682.01,-21.5 692.01,-18 682.01,-14.5 682.01,-21.5\"/>\n</g>\n<!-- Start -->\n<g id=\"node5\" class=\"node\">\n<title>Start</title>\n<ellipse fill=\"none\" stroke=\"black\" cx=\"27.3\" cy=\"-18\" rx=\"27.1\" ry=\"18\"/>\n<text text-anchor=\"middle\" x=\"27.3\" y=\"-14.3\" font-family=\"Times,serif\" font-size=\"14.00\">Start</text>\n</g>\n<!-- Start&#45;&gt;60 -->\n<g id=\"edge7\" class=\"edge\">\n<title>Start&#45;&gt;60</title>\n<path fill=\"none\" stroke=\"black\" d=\"M64.99,-18C73,-18 81.66,-18 90.24,-18\"/>\n<polygon fill=\"black\" stroke=\"black\" points=\"64.89,-14.5 54.89,-18 64.89,-21.5 64.89,-14.5\"/>\n</g>\n</g>\n</svg>\n",
            "text/plain": [
              "<graphviz.graphs.Digraph at 0x7ddd19cef1c0>"
            ]
          },
          "metadata": {}
        }
      ]
    },
    {
      "cell_type": "code",
      "source": [
        "my_doubly_linked_list.insert(0,10)\n",
        "display(my_doubly_linked_list.print_list())"
      ],
      "metadata": {
        "id": "MNFAJOjZDXYA",
        "outputId": "e6102c63-53de-4d1c-f9d7-e9e274094fc6",
        "colab": {
          "base_uri": "https://localhost:8080/",
          "height": 201
        }
      },
      "execution_count": 32,
      "outputs": [
        {
          "output_type": "stream",
          "name": "stdout",
          "text": [
            "\n",
            "\n",
            "-----------\n",
            "List Created\n",
            "-----------\n",
            "\n",
            "\n"
          ]
        },
        {
          "output_type": "display_data",
          "data": {
            "image/svg+xml": "<?xml version=\"1.0\" encoding=\"UTF-8\" standalone=\"no\"?>\n<!DOCTYPE svg PUBLIC \"-//W3C//DTD SVG 1.1//EN\"\n \"http://www.w3.org/Graphics/SVG/1.1/DTD/svg11.dtd\">\n<!-- Generated by graphviz version 2.43.0 (0)\n -->\n<!-- Title: %3 Pages: 1 -->\n<svg width=\"905pt\" height=\"44pt\"\n viewBox=\"0.00 0.00 904.54 44.00\" xmlns=\"http://www.w3.org/2000/svg\" xmlns:xlink=\"http://www.w3.org/1999/xlink\">\n<g id=\"graph0\" class=\"graph\" transform=\"scale(1 1) rotate(0) translate(4 40)\">\n<title>%3</title>\n<polygon fill=\"white\" stroke=\"transparent\" points=\"-4,4 -4,-40 900.54,-40 900.54,4 -4,4\"/>\n<!-- 10 -->\n<g id=\"node1\" class=\"node\">\n<title>10</title>\n<ellipse fill=\"chartreuse\" stroke=\"black\" cx=\"147.79\" cy=\"-18\" rx=\"57.39\" ry=\"18\"/>\n<text text-anchor=\"middle\" x=\"147.79\" y=\"-14.3\" font-family=\"Times,serif\" font-size=\"14.00\">10 (index=0)</text>\n</g>\n<!-- 60 -->\n<g id=\"node2\" class=\"node\">\n<title>60</title>\n<ellipse fill=\"none\" stroke=\"black\" cx=\"298.18\" cy=\"-18\" rx=\"57.39\" ry=\"18\"/>\n<text text-anchor=\"middle\" x=\"298.18\" y=\"-14.3\" font-family=\"Times,serif\" font-size=\"14.00\">60 (index=1)</text>\n</g>\n<!-- 10&#45;&gt;60 -->\n<g id=\"edge1\" class=\"edge\">\n<title>10&#45;&gt;60</title>\n<path fill=\"none\" stroke=\"black\" d=\"M201.52,-11.51C212.13,-11.25 223.38,-11.18 234.29,-11.32\"/>\n<polygon fill=\"black\" stroke=\"black\" points=\"234.55,-14.83 244.62,-11.51 234.68,-7.83 234.55,-14.83\"/>\n</g>\n<!-- 60&#45;&gt;10 -->\n<g id=\"edge3\" class=\"edge\">\n<title>60&#45;&gt;10</title>\n<path fill=\"none\" stroke=\"black\" d=\"M244.62,-24.49C234.02,-24.75 222.77,-24.82 211.86,-24.68\"/>\n<polygon fill=\"black\" stroke=\"black\" points=\"211.59,-21.18 201.52,-24.49 211.46,-28.18 211.59,-21.18\"/>\n</g>\n<!-- 59 -->\n<g id=\"node3\" class=\"node\">\n<title>59</title>\n<ellipse fill=\"none\" stroke=\"black\" cx=\"448.57\" cy=\"-18\" rx=\"57.39\" ry=\"18\"/>\n<text text-anchor=\"middle\" x=\"448.57\" y=\"-14.3\" font-family=\"Times,serif\" font-size=\"14.00\">59 (index=2)</text>\n</g>\n<!-- 60&#45;&gt;59 -->\n<g id=\"edge2\" class=\"edge\">\n<title>60&#45;&gt;59</title>\n<path fill=\"none\" stroke=\"black\" d=\"M351.91,-11.51C362.52,-11.25 373.77,-11.18 384.68,-11.32\"/>\n<polygon fill=\"black\" stroke=\"black\" points=\"384.94,-14.83 395.01,-11.51 385.07,-7.83 384.94,-14.83\"/>\n</g>\n<!-- 59&#45;&gt;60 -->\n<g id=\"edge5\" class=\"edge\">\n<title>59&#45;&gt;60</title>\n<path fill=\"none\" stroke=\"black\" d=\"M395.01,-24.49C384.41,-24.75 373.16,-24.82 362.25,-24.68\"/>\n<polygon fill=\"black\" stroke=\"black\" points=\"361.98,-21.18 351.91,-24.49 361.85,-28.18 361.98,-21.18\"/>\n</g>\n<!-- 56 -->\n<g id=\"node4\" class=\"node\">\n<title>56</title>\n<ellipse fill=\"none\" stroke=\"black\" cx=\"598.96\" cy=\"-18\" rx=\"57.39\" ry=\"18\"/>\n<text text-anchor=\"middle\" x=\"598.96\" y=\"-14.3\" font-family=\"Times,serif\" font-size=\"14.00\">56 (index=3)</text>\n</g>\n<!-- 59&#45;&gt;56 -->\n<g id=\"edge4\" class=\"edge\">\n<title>59&#45;&gt;56</title>\n<path fill=\"none\" stroke=\"black\" d=\"M502.3,-11.51C512.91,-11.25 524.16,-11.18 535.07,-11.32\"/>\n<polygon fill=\"black\" stroke=\"black\" points=\"535.33,-14.83 545.39,-11.51 535.46,-7.83 535.33,-14.83\"/>\n</g>\n<!-- 56&#45;&gt;59 -->\n<g id=\"edge7\" class=\"edge\">\n<title>56&#45;&gt;59</title>\n<path fill=\"none\" stroke=\"black\" d=\"M545.39,-24.49C534.8,-24.75 523.55,-24.82 512.64,-24.68\"/>\n<polygon fill=\"black\" stroke=\"black\" points=\"512.37,-21.18 502.3,-24.49 512.24,-28.18 512.37,-21.18\"/>\n</g>\n<!-- 13 -->\n<g id=\"node5\" class=\"node\">\n<title>13</title>\n<ellipse fill=\"lightpink\" stroke=\"black\" cx=\"749.35\" cy=\"-18\" rx=\"57.39\" ry=\"18\"/>\n<text text-anchor=\"middle\" x=\"749.35\" y=\"-14.3\" font-family=\"Times,serif\" font-size=\"14.00\">13 (index=4)</text>\n</g>\n<!-- 56&#45;&gt;13 -->\n<g id=\"edge6\" class=\"edge\">\n<title>56&#45;&gt;13</title>\n<path fill=\"none\" stroke=\"black\" d=\"M652.69,-11.51C663.3,-11.25 674.55,-11.18 685.46,-11.32\"/>\n<polygon fill=\"black\" stroke=\"black\" points=\"685.72,-14.83 695.78,-11.51 685.85,-7.83 685.72,-14.83\"/>\n</g>\n<!-- 13&#45;&gt;56 -->\n<g id=\"edge8\" class=\"edge\">\n<title>13&#45;&gt;56</title>\n<path fill=\"none\" stroke=\"black\" d=\"M695.78,-24.49C685.19,-24.75 673.94,-24.82 663.03,-24.68\"/>\n<polygon fill=\"black\" stroke=\"black\" points=\"662.76,-21.18 652.69,-24.49 662.63,-28.18 662.76,-21.18\"/>\n</g>\n<!-- End -->\n<g id=\"node7\" class=\"node\">\n<title>End</title>\n<ellipse fill=\"none\" stroke=\"black\" cx=\"869.54\" cy=\"-18\" rx=\"27\" ry=\"18\"/>\n<text text-anchor=\"middle\" x=\"869.54\" y=\"-14.3\" font-family=\"Times,serif\" font-size=\"14.00\">End</text>\n</g>\n<!-- 13&#45;&gt;End -->\n<g id=\"edge10\" class=\"edge\">\n<title>13&#45;&gt;End</title>\n<path fill=\"none\" stroke=\"black\" d=\"M806.68,-18C815.36,-18 824.12,-18 832.21,-18\"/>\n<polygon fill=\"black\" stroke=\"black\" points=\"832.4,-21.5 842.4,-18 832.4,-14.5 832.4,-21.5\"/>\n</g>\n<!-- Start -->\n<g id=\"node6\" class=\"node\">\n<title>Start</title>\n<ellipse fill=\"none\" stroke=\"black\" cx=\"27.3\" cy=\"-18\" rx=\"27.1\" ry=\"18\"/>\n<text text-anchor=\"middle\" x=\"27.3\" y=\"-14.3\" font-family=\"Times,serif\" font-size=\"14.00\">Start</text>\n</g>\n<!-- Start&#45;&gt;10 -->\n<g id=\"edge9\" class=\"edge\">\n<title>Start&#45;&gt;10</title>\n<path fill=\"none\" stroke=\"black\" d=\"M64.99,-18C73,-18 81.66,-18 90.24,-18\"/>\n<polygon fill=\"black\" stroke=\"black\" points=\"64.89,-14.5 54.89,-18 64.89,-21.5 64.89,-14.5\"/>\n</g>\n</g>\n</svg>\n",
            "text/plain": [
              "<graphviz.graphs.Digraph at 0x7ddd00be9ae0>"
            ]
          },
          "metadata": {}
        }
      ]
    },
    {
      "cell_type": "code",
      "source": [
        "my_doubly_linked_list.insert(4,34)\n",
        "display(my_doubly_linked_list.print_list())"
      ],
      "metadata": {
        "id": "EKDFCn14DsNG",
        "outputId": "fc3fe6f7-6a11-4a9d-c7b0-6abd2e42c494",
        "colab": {
          "base_uri": "https://localhost:8080/",
          "height": 221
        }
      },
      "execution_count": 33,
      "outputs": [
        {
          "output_type": "stream",
          "name": "stdout",
          "text": [
            "\n",
            "\n",
            "-----------\n",
            "List Created\n",
            "-----------\n",
            "\n",
            "\n"
          ]
        },
        {
          "output_type": "display_data",
          "data": {
            "image/svg+xml": "<?xml version=\"1.0\" encoding=\"UTF-8\" standalone=\"no\"?>\n<!DOCTYPE svg PUBLIC \"-//W3C//DTD SVG 1.1//EN\"\n \"http://www.w3.org/Graphics/SVG/1.1/DTD/svg11.dtd\">\n<!-- Generated by graphviz version 2.43.0 (0)\n -->\n<!-- Title: %3 Pages: 1 -->\n<svg width=\"1055pt\" height=\"44pt\"\n viewBox=\"0.00 0.00 1054.93 44.00\" xmlns=\"http://www.w3.org/2000/svg\" xmlns:xlink=\"http://www.w3.org/1999/xlink\">\n<g id=\"graph0\" class=\"graph\" transform=\"scale(1 1) rotate(0) translate(4 40)\">\n<title>%3</title>\n<polygon fill=\"white\" stroke=\"transparent\" points=\"-4,4 -4,-40 1050.93,-40 1050.93,4 -4,4\"/>\n<!-- 10 -->\n<g id=\"node1\" class=\"node\">\n<title>10</title>\n<ellipse fill=\"chartreuse\" stroke=\"black\" cx=\"147.79\" cy=\"-18\" rx=\"57.39\" ry=\"18\"/>\n<text text-anchor=\"middle\" x=\"147.79\" y=\"-14.3\" font-family=\"Times,serif\" font-size=\"14.00\">10 (index=0)</text>\n</g>\n<!-- 60 -->\n<g id=\"node2\" class=\"node\">\n<title>60</title>\n<ellipse fill=\"none\" stroke=\"black\" cx=\"298.18\" cy=\"-18\" rx=\"57.39\" ry=\"18\"/>\n<text text-anchor=\"middle\" x=\"298.18\" y=\"-14.3\" font-family=\"Times,serif\" font-size=\"14.00\">60 (index=1)</text>\n</g>\n<!-- 10&#45;&gt;60 -->\n<g id=\"edge1\" class=\"edge\">\n<title>10&#45;&gt;60</title>\n<path fill=\"none\" stroke=\"black\" d=\"M201.52,-11.51C212.13,-11.25 223.38,-11.18 234.29,-11.32\"/>\n<polygon fill=\"black\" stroke=\"black\" points=\"234.55,-14.83 244.62,-11.51 234.68,-7.83 234.55,-14.83\"/>\n</g>\n<!-- 60&#45;&gt;10 -->\n<g id=\"edge3\" class=\"edge\">\n<title>60&#45;&gt;10</title>\n<path fill=\"none\" stroke=\"black\" d=\"M244.62,-24.49C234.02,-24.75 222.77,-24.82 211.86,-24.68\"/>\n<polygon fill=\"black\" stroke=\"black\" points=\"211.59,-21.18 201.52,-24.49 211.46,-28.18 211.59,-21.18\"/>\n</g>\n<!-- 59 -->\n<g id=\"node3\" class=\"node\">\n<title>59</title>\n<ellipse fill=\"none\" stroke=\"black\" cx=\"448.57\" cy=\"-18\" rx=\"57.39\" ry=\"18\"/>\n<text text-anchor=\"middle\" x=\"448.57\" y=\"-14.3\" font-family=\"Times,serif\" font-size=\"14.00\">59 (index=2)</text>\n</g>\n<!-- 60&#45;&gt;59 -->\n<g id=\"edge2\" class=\"edge\">\n<title>60&#45;&gt;59</title>\n<path fill=\"none\" stroke=\"black\" d=\"M351.91,-11.51C362.52,-11.25 373.77,-11.18 384.68,-11.32\"/>\n<polygon fill=\"black\" stroke=\"black\" points=\"384.94,-14.83 395.01,-11.51 385.07,-7.83 384.94,-14.83\"/>\n</g>\n<!-- 59&#45;&gt;60 -->\n<g id=\"edge5\" class=\"edge\">\n<title>59&#45;&gt;60</title>\n<path fill=\"none\" stroke=\"black\" d=\"M395.01,-24.49C384.41,-24.75 373.16,-24.82 362.25,-24.68\"/>\n<polygon fill=\"black\" stroke=\"black\" points=\"361.98,-21.18 351.91,-24.49 361.85,-28.18 361.98,-21.18\"/>\n</g>\n<!-- 56 -->\n<g id=\"node4\" class=\"node\">\n<title>56</title>\n<ellipse fill=\"none\" stroke=\"black\" cx=\"598.96\" cy=\"-18\" rx=\"57.39\" ry=\"18\"/>\n<text text-anchor=\"middle\" x=\"598.96\" y=\"-14.3\" font-family=\"Times,serif\" font-size=\"14.00\">56 (index=3)</text>\n</g>\n<!-- 59&#45;&gt;56 -->\n<g id=\"edge4\" class=\"edge\">\n<title>59&#45;&gt;56</title>\n<path fill=\"none\" stroke=\"black\" d=\"M502.3,-11.51C512.91,-11.25 524.16,-11.18 535.07,-11.32\"/>\n<polygon fill=\"black\" stroke=\"black\" points=\"535.33,-14.83 545.39,-11.51 535.46,-7.83 535.33,-14.83\"/>\n</g>\n<!-- 56&#45;&gt;59 -->\n<g id=\"edge7\" class=\"edge\">\n<title>56&#45;&gt;59</title>\n<path fill=\"none\" stroke=\"black\" d=\"M545.39,-24.49C534.8,-24.75 523.55,-24.82 512.64,-24.68\"/>\n<polygon fill=\"black\" stroke=\"black\" points=\"512.37,-21.18 502.3,-24.49 512.24,-28.18 512.37,-21.18\"/>\n</g>\n<!-- 13 -->\n<g id=\"node5\" class=\"node\">\n<title>13</title>\n<ellipse fill=\"none\" stroke=\"black\" cx=\"749.35\" cy=\"-18\" rx=\"57.39\" ry=\"18\"/>\n<text text-anchor=\"middle\" x=\"749.35\" y=\"-14.3\" font-family=\"Times,serif\" font-size=\"14.00\">13 (index=4)</text>\n</g>\n<!-- 56&#45;&gt;13 -->\n<g id=\"edge6\" class=\"edge\">\n<title>56&#45;&gt;13</title>\n<path fill=\"none\" stroke=\"black\" d=\"M652.69,-11.51C663.3,-11.25 674.55,-11.18 685.46,-11.32\"/>\n<polygon fill=\"black\" stroke=\"black\" points=\"685.72,-14.83 695.78,-11.51 685.85,-7.83 685.72,-14.83\"/>\n</g>\n<!-- 13&#45;&gt;56 -->\n<g id=\"edge9\" class=\"edge\">\n<title>13&#45;&gt;56</title>\n<path fill=\"none\" stroke=\"black\" d=\"M695.78,-24.49C685.19,-24.75 673.94,-24.82 663.03,-24.68\"/>\n<polygon fill=\"black\" stroke=\"black\" points=\"662.76,-21.18 652.69,-24.49 662.63,-28.18 662.76,-21.18\"/>\n</g>\n<!-- 34 -->\n<g id=\"node6\" class=\"node\">\n<title>34</title>\n<ellipse fill=\"lightpink\" stroke=\"black\" cx=\"899.74\" cy=\"-18\" rx=\"57.39\" ry=\"18\"/>\n<text text-anchor=\"middle\" x=\"899.74\" y=\"-14.3\" font-family=\"Times,serif\" font-size=\"14.00\">34 (index=5)</text>\n</g>\n<!-- 13&#45;&gt;34 -->\n<g id=\"edge8\" class=\"edge\">\n<title>13&#45;&gt;34</title>\n<path fill=\"none\" stroke=\"black\" d=\"M803.08,-11.51C813.69,-11.25 824.94,-11.18 835.85,-11.32\"/>\n<polygon fill=\"black\" stroke=\"black\" points=\"836.11,-14.83 846.17,-11.51 836.24,-7.83 836.11,-14.83\"/>\n</g>\n<!-- 34&#45;&gt;13 -->\n<g id=\"edge10\" class=\"edge\">\n<title>34&#45;&gt;13</title>\n<path fill=\"none\" stroke=\"black\" d=\"M846.17,-24.49C835.58,-24.75 824.33,-24.82 813.42,-24.68\"/>\n<polygon fill=\"black\" stroke=\"black\" points=\"813.15,-21.18 803.08,-24.49 813.02,-28.18 813.15,-21.18\"/>\n</g>\n<!-- End -->\n<g id=\"node8\" class=\"node\">\n<title>End</title>\n<ellipse fill=\"none\" stroke=\"black\" cx=\"1019.93\" cy=\"-18\" rx=\"27\" ry=\"18\"/>\n<text text-anchor=\"middle\" x=\"1019.93\" y=\"-14.3\" font-family=\"Times,serif\" font-size=\"14.00\">End</text>\n</g>\n<!-- 34&#45;&gt;End -->\n<g id=\"edge12\" class=\"edge\">\n<title>34&#45;&gt;End</title>\n<path fill=\"none\" stroke=\"black\" d=\"M957.07,-18C965.75,-18 974.51,-18 982.6,-18\"/>\n<polygon fill=\"black\" stroke=\"black\" points=\"982.79,-21.5 992.79,-18 982.79,-14.5 982.79,-21.5\"/>\n</g>\n<!-- Start -->\n<g id=\"node7\" class=\"node\">\n<title>Start</title>\n<ellipse fill=\"none\" stroke=\"black\" cx=\"27.3\" cy=\"-18\" rx=\"27.1\" ry=\"18\"/>\n<text text-anchor=\"middle\" x=\"27.3\" y=\"-14.3\" font-family=\"Times,serif\" font-size=\"14.00\">Start</text>\n</g>\n<!-- Start&#45;&gt;10 -->\n<g id=\"edge11\" class=\"edge\">\n<title>Start&#45;&gt;10</title>\n<path fill=\"none\" stroke=\"black\" d=\"M64.99,-18C73,-18 81.66,-18 90.24,-18\"/>\n<polygon fill=\"black\" stroke=\"black\" points=\"64.89,-14.5 54.89,-18 64.89,-21.5 64.89,-14.5\"/>\n</g>\n</g>\n</svg>\n",
            "text/plain": [
              "<graphviz.graphs.Digraph at 0x7ddd00beb8e0>"
            ]
          },
          "metadata": {}
        }
      ]
    },
    {
      "cell_type": "code",
      "source": [
        "my_doubly_linked_list.make_empty()\n",
        "display(my_doubly_linked_list.print_list())"
      ],
      "metadata": {
        "id": "ESgdC9iqEW-R",
        "outputId": "8c20847e-3e1e-4b75-9f6d-c04a6a0b27a9",
        "colab": {
          "base_uri": "https://localhost:8080/",
          "height": 157
        }
      },
      "execution_count": 34,
      "outputs": [
        {
          "output_type": "stream",
          "name": "stdout",
          "text": [
            "\n",
            "\n",
            "-----------\n",
            "List Created\n",
            "-----------\n",
            "\n",
            "\n"
          ]
        },
        {
          "output_type": "display_data",
          "data": {
            "text/plain": [
              "'Nothing to display'"
            ],
            "application/vnd.google.colaboratory.intrinsic+json": {
              "type": "string"
            }
          },
          "metadata": {}
        }
      ]
    },
    {
      "cell_type": "code",
      "source": [
        "my_doubly_linked_list.insert(0,10)\n",
        "display(my_doubly_linked_list.print_list())"
      ],
      "metadata": {
        "id": "evP8IiZHEfUp",
        "outputId": "e87464cc-7f3d-4b5e-cfa3-7f419fe604eb",
        "colab": {
          "base_uri": "https://localhost:8080/",
          "height": 201
        }
      },
      "execution_count": 35,
      "outputs": [
        {
          "output_type": "stream",
          "name": "stdout",
          "text": [
            "\n",
            "\n",
            "-----------\n",
            "List Created\n",
            "-----------\n",
            "\n",
            "\n"
          ]
        },
        {
          "output_type": "display_data",
          "data": {
            "image/svg+xml": "<?xml version=\"1.0\" encoding=\"UTF-8\" standalone=\"no\"?>\n<!DOCTYPE svg PUBLIC \"-//W3C//DTD SVG 1.1//EN\"\n \"http://www.w3.org/Graphics/SVG/1.1/DTD/svg11.dtd\">\n<!-- Generated by graphviz version 2.43.0 (0)\n -->\n<!-- Title: %3 Pages: 1 -->\n<svg width=\"303pt\" height=\"44pt\"\n viewBox=\"0.00 0.00 302.99 44.00\" xmlns=\"http://www.w3.org/2000/svg\" xmlns:xlink=\"http://www.w3.org/1999/xlink\">\n<g id=\"graph0\" class=\"graph\" transform=\"scale(1 1) rotate(0) translate(4 40)\">\n<title>%3</title>\n<polygon fill=\"white\" stroke=\"transparent\" points=\"-4,4 -4,-40 298.99,-40 298.99,4 -4,4\"/>\n<!-- 10 -->\n<g id=\"node1\" class=\"node\">\n<title>10</title>\n<ellipse fill=\"cyan\" stroke=\"black\" cx=\"147.79\" cy=\"-18\" rx=\"57.39\" ry=\"18\"/>\n<text text-anchor=\"middle\" x=\"147.79\" y=\"-14.3\" font-family=\"Times,serif\" font-size=\"14.00\">10 (index=0)</text>\n</g>\n<!-- End -->\n<g id=\"node3\" class=\"node\">\n<title>End</title>\n<ellipse fill=\"none\" stroke=\"black\" cx=\"267.99\" cy=\"-18\" rx=\"27\" ry=\"18\"/>\n<text text-anchor=\"middle\" x=\"267.99\" y=\"-14.3\" font-family=\"Times,serif\" font-size=\"14.00\">End</text>\n</g>\n<!-- 10&#45;&gt;End -->\n<g id=\"edge2\" class=\"edge\">\n<title>10&#45;&gt;End</title>\n<path fill=\"none\" stroke=\"black\" d=\"M205.12,-18C213.8,-18 222.56,-18 230.65,-18\"/>\n<polygon fill=\"black\" stroke=\"black\" points=\"230.84,-21.5 240.84,-18 230.84,-14.5 230.84,-21.5\"/>\n</g>\n<!-- Start -->\n<g id=\"node2\" class=\"node\">\n<title>Start</title>\n<ellipse fill=\"none\" stroke=\"black\" cx=\"27.3\" cy=\"-18\" rx=\"27.1\" ry=\"18\"/>\n<text text-anchor=\"middle\" x=\"27.3\" y=\"-14.3\" font-family=\"Times,serif\" font-size=\"14.00\">Start</text>\n</g>\n<!-- Start&#45;&gt;10 -->\n<g id=\"edge1\" class=\"edge\">\n<title>Start&#45;&gt;10</title>\n<path fill=\"none\" stroke=\"black\" d=\"M64.99,-18C73,-18 81.66,-18 90.24,-18\"/>\n<polygon fill=\"black\" stroke=\"black\" points=\"64.89,-14.5 54.89,-18 64.89,-21.5 64.89,-14.5\"/>\n</g>\n</g>\n</svg>\n",
            "text/plain": [
              "<graphviz.graphs.Digraph at 0x7ddd19ceec80>"
            ]
          },
          "metadata": {}
        }
      ]
    },
    {
      "cell_type": "code",
      "source": [],
      "metadata": {
        "id": "BIvaQ7ieFrt7"
      },
      "execution_count": null,
      "outputs": []
    },
    {
      "cell_type": "markdown",
      "source": [
        "## remove"
      ],
      "metadata": {
        "id": "bbUQvhMII_8E"
      }
    },
    {
      "cell_type": "markdown",
      "source": [
        "### Code"
      ],
      "metadata": {
        "id": "98knaRiGJCJ2"
      }
    },
    {
      "cell_type": "code",
      "source": [
        "import graphviz\n",
        "import random\n",
        "\n",
        "class Node:\n",
        "\n",
        "  def __init__(self, value):\n",
        "    self.value = value\n",
        "    self.next = None\n",
        "    self.prev = None\n",
        "\n",
        "class DoublyLinkedList:\n",
        "\n",
        "    def __init__(self, value):\n",
        "\n",
        "        new_node = Node(value)\n",
        "        self.head = new_node\n",
        "        self.tail = new_node\n",
        "        self.length = 1\n",
        "\n",
        "    def make_empty(self):\n",
        "\n",
        "        self.head = None\n",
        "        self.tail = None\n",
        "        self.length = 0\n",
        "\n",
        "    def print_list(self,msg = \"List Created\"):\n",
        "\n",
        "        print(\"\\n\")\n",
        "        print(\"-----------\")\n",
        "        print(msg)\n",
        "        print(\"-----------\")\n",
        "        print(\"\\n\")\n",
        "\n",
        "        if self.length == 0:\n",
        "            return \"Nothing to display\"\n",
        "\n",
        "\n",
        "        dot = graphviz.Digraph()\n",
        "        dot.attr(rankdir='LR')  # Change direction to horizontal\n",
        "        temp = self.head\n",
        "        index = 0\n",
        "\n",
        "        while temp is not None:\n",
        "            label = f\"{temp.value} (index={index})\"\n",
        "\n",
        "            if self.length == 1:\n",
        "                dot.node(str(temp.value), label, fillcolor=\"cyan\", style=\"filled\")\n",
        "                break\n",
        "            else:\n",
        "                if temp == self.head:\n",
        "                    dot.node(str(temp.value), label, fillcolor=\"chartreuse\", style=\"filled\")\n",
        "                elif temp == self.tail:\n",
        "                    dot.node(str(temp.value), label, fillcolor=\"lightpink\", style=\"filled\")\n",
        "                else:\n",
        "                    dot.node(str(temp.value), label)\n",
        "\n",
        "            if temp.next:\n",
        "                dot.edge(str(temp.value), str(temp.next.value))\n",
        "\n",
        "            if temp.prev:\n",
        "                dot.edge(str(temp.value), str(temp.prev.value))\n",
        "\n",
        "            temp = temp.next\n",
        "            index += 1\n",
        "\n",
        "        dot.edge(\"Start\", str(self.head.value), dir=\"back\")\n",
        "        dot.edge(str(self.tail.value), \"End\")\n",
        "\n",
        "        return dot\n",
        "\n",
        "    def append(self,value):\n",
        "\n",
        "        # create the new node\n",
        "        new_node = Node(value)\n",
        "\n",
        "        if self.length == 0:\n",
        "            self.tail = new_node\n",
        "            self.head = new_node\n",
        "        else:\n",
        "            self.tail.next = new_node\n",
        "            new_node.prev = self.tail\n",
        "            self.tail = new_node\n",
        "\n",
        "        self.length += 1\n",
        "\n",
        "    def pop(self):\n",
        "\n",
        "        if self.length == 0:\n",
        "            return None\n",
        "\n",
        "        temp = self.tail\n",
        "\n",
        "        if self.length == 1:\n",
        "            self.head = None\n",
        "            self.tail = None\n",
        "        else:\n",
        "            # disconnect the last node\n",
        "            self.tail = self.tail.prev\n",
        "            self.tail.next = None\n",
        "\n",
        "        temp.prev = None\n",
        "        self.length -= 1\n",
        "\n",
        "        return temp\n",
        "\n",
        "    def prepend(self,value):\n",
        "\n",
        "        new_node = Node(value)\n",
        "\n",
        "        if self.length == 0:\n",
        "            self.head = new_node\n",
        "            self.tail = new_node\n",
        "        else:\n",
        "            temp = self.head\n",
        "            new_node.next = temp\n",
        "            self.head = new_node\n",
        "            temp.prev = new_node\n",
        "\n",
        "        self.length += 1\n",
        "        return True\n",
        "\n",
        "    def pop_first(self):\n",
        "\n",
        "        if self.length == 0:\n",
        "            return None\n",
        "\n",
        "        temp = self.head\n",
        "\n",
        "        if self.length == 1:\n",
        "            self.head = None\n",
        "            self.tail = None\n",
        "        else:\n",
        "            self.head = temp.next\n",
        "            self.head.prev = None\n",
        "\n",
        "        temp.next = None\n",
        "        self.length -= 1\n",
        "        return temp\n",
        "\n",
        "    def get(self,index):\n",
        "\n",
        "        if self.length == 0:\n",
        "            return None\n",
        "\n",
        "        if index < 0 or index >= self.length:\n",
        "            return None\n",
        "\n",
        "        temp = self.head\n",
        "        # optimize the pointer movement because we have node.prev also this time\n",
        "        if index < (self.length / 2):\n",
        "            for _ in range(index):\n",
        "                temp = temp.next\n",
        "        else:\n",
        "            temp = self.tail\n",
        "            for _ in range(self.length-1,index,-1):\n",
        "                temp = temp.prev\n",
        "        return temp\n",
        "\n",
        "    def set_value(self,index,value):\n",
        "        temp = self.get(index)\n",
        "        if temp:\n",
        "            temp.value = value\n",
        "        else:\n",
        "            return False\n",
        "        return True\n",
        "\n",
        "    def insert(self,index,value):\n",
        "\n",
        "        if index == 0:\n",
        "            return self.prepend(value)\n",
        "\n",
        "        elif index == (self.length -1):\n",
        "            return self.append(value)\n",
        "\n",
        "        else:\n",
        "            # create a new node\n",
        "            new_node = Node(value)\n",
        "            curr_node = self.get(index)\n",
        "            prev_node = curr_node.prev\n",
        "\n",
        "            if curr_node:\n",
        "                # ops on new node\n",
        "                new_node.next = curr_node\n",
        "                new_node.prev = prev_node\n",
        "\n",
        "                # ops of curr\n",
        "                curr_node.prev = new_node\n",
        "            else:\n",
        "                return False\n",
        "\n",
        "        self.length += 1\n",
        "        return True\n",
        "\n",
        "    def remove(self,index):\n",
        "\n",
        "        if index == 0:\n",
        "            return self.pop_first()\n",
        "\n",
        "        elif index == (self.length-1):\n",
        "            return self.pop()\n",
        "\n",
        "        else:\n",
        "            current = self.get(index)\n",
        "\n",
        "            if current:\n",
        "                before = current.prev\n",
        "                after = current.next\n",
        "\n",
        "                before.next = after\n",
        "                after.prev = before\n",
        "\n",
        "                current.next = None\n",
        "                current.prev = None\n",
        "            else:\n",
        "                return None\n",
        "\n",
        "        self.length -= 1\n",
        "        return current\n",
        ""
      ],
      "metadata": {
        "id": "iBsN3l9hJAxy"
      },
      "execution_count": 42,
      "outputs": []
    },
    {
      "cell_type": "code",
      "source": [
        "my_doubly_linked_list = None\n",
        "my_doubly_linked_list = create_double_link_list()\n",
        "display(my_doubly_linked_list.print_list())"
      ],
      "metadata": {
        "id": "VK12T4KWJ6Op",
        "outputId": "d2b0b466-a194-47b1-bd95-040ca3a568eb",
        "colab": {
          "base_uri": "https://localhost:8080/",
          "height": 221
        }
      },
      "execution_count": 43,
      "outputs": [
        {
          "output_type": "stream",
          "name": "stdout",
          "text": [
            "\n",
            "\n",
            "-----------\n",
            "List Created\n",
            "-----------\n",
            "\n",
            "\n"
          ]
        },
        {
          "output_type": "display_data",
          "data": {
            "image/svg+xml": "<?xml version=\"1.0\" encoding=\"UTF-8\" standalone=\"no\"?>\n<!DOCTYPE svg PUBLIC \"-//W3C//DTD SVG 1.1//EN\"\n \"http://www.w3.org/Graphics/SVG/1.1/DTD/svg11.dtd\">\n<!-- Generated by graphviz version 2.43.0 (0)\n -->\n<!-- Title: %3 Pages: 1 -->\n<svg width=\"914pt\" height=\"44pt\"\n viewBox=\"0.00 0.00 913.64 44.00\" xmlns=\"http://www.w3.org/2000/svg\" xmlns:xlink=\"http://www.w3.org/1999/xlink\">\n<g id=\"graph0\" class=\"graph\" transform=\"scale(1 1) rotate(0) translate(4 40)\">\n<title>%3</title>\n<polygon fill=\"white\" stroke=\"transparent\" points=\"-4,4 -4,-40 909.64,-40 909.64,4 -4,4\"/>\n<!-- 32 -->\n<g id=\"node1\" class=\"node\">\n<title>32</title>\n<ellipse fill=\"chartreuse\" stroke=\"black\" cx=\"147.79\" cy=\"-18\" rx=\"57.39\" ry=\"18\"/>\n<text text-anchor=\"middle\" x=\"147.79\" y=\"-14.3\" font-family=\"Times,serif\" font-size=\"14.00\">32 (index=0)</text>\n</g>\n<!-- 27 -->\n<g id=\"node2\" class=\"node\">\n<title>27</title>\n<ellipse fill=\"none\" stroke=\"black\" cx=\"298.18\" cy=\"-18\" rx=\"57.39\" ry=\"18\"/>\n<text text-anchor=\"middle\" x=\"298.18\" y=\"-14.3\" font-family=\"Times,serif\" font-size=\"14.00\">27 (index=1)</text>\n</g>\n<!-- 32&#45;&gt;27 -->\n<g id=\"edge1\" class=\"edge\">\n<title>32&#45;&gt;27</title>\n<path fill=\"none\" stroke=\"black\" d=\"M201.52,-11.51C212.13,-11.25 223.38,-11.18 234.29,-11.32\"/>\n<polygon fill=\"black\" stroke=\"black\" points=\"234.55,-14.83 244.62,-11.51 234.68,-7.83 234.55,-14.83\"/>\n</g>\n<!-- 27&#45;&gt;32 -->\n<g id=\"edge3\" class=\"edge\">\n<title>27&#45;&gt;32</title>\n<path fill=\"none\" stroke=\"black\" d=\"M244.62,-24.49C234.02,-24.75 222.77,-24.82 211.86,-24.68\"/>\n<polygon fill=\"black\" stroke=\"black\" points=\"211.59,-21.18 201.52,-24.49 211.46,-28.18 211.59,-21.18\"/>\n</g>\n<!-- 100 -->\n<g id=\"node3\" class=\"node\">\n<title>100</title>\n<ellipse fill=\"none\" stroke=\"black\" cx=\"453.12\" cy=\"-18\" rx=\"61.99\" ry=\"18\"/>\n<text text-anchor=\"middle\" x=\"453.12\" y=\"-14.3\" font-family=\"Times,serif\" font-size=\"14.00\">100 (index=2)</text>\n</g>\n<!-- 27&#45;&gt;100 -->\n<g id=\"edge2\" class=\"edge\">\n<title>27&#45;&gt;100</title>\n<path fill=\"none\" stroke=\"black\" d=\"M351.81,-11.55C362.6,-11.27 374.08,-11.19 385.29,-11.3\"/>\n<polygon fill=\"black\" stroke=\"black\" points=\"385.42,-14.8 395.47,-11.46 385.53,-7.8 385.42,-14.8\"/>\n</g>\n<!-- 100&#45;&gt;27 -->\n<g id=\"edge5\" class=\"edge\">\n<title>100&#45;&gt;27</title>\n<path fill=\"none\" stroke=\"black\" d=\"M395.47,-24.54C384.53,-24.78 373.01,-24.81 361.89,-24.65\"/>\n<polygon fill=\"black\" stroke=\"black\" points=\"361.88,-21.15 351.81,-24.45 361.74,-28.15 361.88,-21.15\"/>\n</g>\n<!-- 12 -->\n<g id=\"node4\" class=\"node\">\n<title>12</title>\n<ellipse fill=\"none\" stroke=\"black\" cx=\"608.06\" cy=\"-18\" rx=\"57.39\" ry=\"18\"/>\n<text text-anchor=\"middle\" x=\"608.06\" y=\"-14.3\" font-family=\"Times,serif\" font-size=\"14.00\">12 (index=3)</text>\n</g>\n<!-- 100&#45;&gt;12 -->\n<g id=\"edge4\" class=\"edge\">\n<title>100&#45;&gt;12</title>\n<path fill=\"none\" stroke=\"black\" d=\"M511.07,-11.45C521.99,-11.22 533.49,-11.19 544.57,-11.35\"/>\n<polygon fill=\"black\" stroke=\"black\" points=\"544.54,-14.85 554.61,-11.56 544.69,-7.85 544.54,-14.85\"/>\n</g>\n<!-- 12&#45;&gt;100 -->\n<g id=\"edge7\" class=\"edge\">\n<title>12&#45;&gt;100</title>\n<path fill=\"none\" stroke=\"black\" d=\"M554.61,-24.44C543.87,-24.73 532.41,-24.81 521.23,-24.7\"/>\n<polygon fill=\"black\" stroke=\"black\" points=\"521.12,-21.2 511.07,-24.55 521.01,-28.2 521.12,-21.2\"/>\n</g>\n<!-- 90 -->\n<g id=\"node5\" class=\"node\">\n<title>90</title>\n<ellipse fill=\"lightpink\" stroke=\"black\" cx=\"758.45\" cy=\"-18\" rx=\"57.39\" ry=\"18\"/>\n<text text-anchor=\"middle\" x=\"758.45\" y=\"-14.3\" font-family=\"Times,serif\" font-size=\"14.00\">90 (index=4)</text>\n</g>\n<!-- 12&#45;&gt;90 -->\n<g id=\"edge6\" class=\"edge\">\n<title>12&#45;&gt;90</title>\n<path fill=\"none\" stroke=\"black\" d=\"M661.79,-11.51C672.4,-11.25 683.64,-11.18 694.56,-11.32\"/>\n<polygon fill=\"black\" stroke=\"black\" points=\"694.82,-14.83 704.88,-11.51 694.95,-7.83 694.82,-14.83\"/>\n</g>\n<!-- 90&#45;&gt;12 -->\n<g id=\"edge8\" class=\"edge\">\n<title>90&#45;&gt;12</title>\n<path fill=\"none\" stroke=\"black\" d=\"M704.88,-24.49C694.29,-24.75 683.04,-24.82 672.13,-24.68\"/>\n<polygon fill=\"black\" stroke=\"black\" points=\"671.86,-21.18 661.79,-24.49 671.73,-28.18 671.86,-21.18\"/>\n</g>\n<!-- End -->\n<g id=\"node7\" class=\"node\">\n<title>End</title>\n<ellipse fill=\"none\" stroke=\"black\" cx=\"878.64\" cy=\"-18\" rx=\"27\" ry=\"18\"/>\n<text text-anchor=\"middle\" x=\"878.64\" y=\"-14.3\" font-family=\"Times,serif\" font-size=\"14.00\">End</text>\n</g>\n<!-- 90&#45;&gt;End -->\n<g id=\"edge10\" class=\"edge\">\n<title>90&#45;&gt;End</title>\n<path fill=\"none\" stroke=\"black\" d=\"M815.78,-18C824.46,-18 833.22,-18 841.31,-18\"/>\n<polygon fill=\"black\" stroke=\"black\" points=\"841.49,-21.5 851.49,-18 841.49,-14.5 841.49,-21.5\"/>\n</g>\n<!-- Start -->\n<g id=\"node6\" class=\"node\">\n<title>Start</title>\n<ellipse fill=\"none\" stroke=\"black\" cx=\"27.3\" cy=\"-18\" rx=\"27.1\" ry=\"18\"/>\n<text text-anchor=\"middle\" x=\"27.3\" y=\"-14.3\" font-family=\"Times,serif\" font-size=\"14.00\">Start</text>\n</g>\n<!-- Start&#45;&gt;32 -->\n<g id=\"edge9\" class=\"edge\">\n<title>Start&#45;&gt;32</title>\n<path fill=\"none\" stroke=\"black\" d=\"M64.99,-18C73,-18 81.66,-18 90.24,-18\"/>\n<polygon fill=\"black\" stroke=\"black\" points=\"64.89,-14.5 54.89,-18 64.89,-21.5 64.89,-14.5\"/>\n</g>\n</g>\n</svg>\n",
            "text/plain": [
              "<graphviz.graphs.Digraph at 0x7ddce6c500a0>"
            ]
          },
          "metadata": {}
        }
      ]
    },
    {
      "cell_type": "code",
      "source": [
        "removed_node = my_doubly_linked_list.remove(0)\n",
        "print(f\"Removed Node 0 = {removed_node.value}\")\n",
        "display(my_doubly_linked_list.print_list())"
      ],
      "metadata": {
        "id": "qOyiAlhlJ8V_",
        "outputId": "6660c6ae-e6e8-46d3-9061-49ff99a22b09",
        "colab": {
          "base_uri": "https://localhost:8080/",
          "height": 219
        }
      },
      "execution_count": 44,
      "outputs": [
        {
          "output_type": "stream",
          "name": "stdout",
          "text": [
            "Removed Node 0 = 32\n",
            "\n",
            "\n",
            "-----------\n",
            "List Created\n",
            "-----------\n",
            "\n",
            "\n"
          ]
        },
        {
          "output_type": "display_data",
          "data": {
            "image/svg+xml": "<?xml version=\"1.0\" encoding=\"UTF-8\" standalone=\"no\"?>\n<!DOCTYPE svg PUBLIC \"-//W3C//DTD SVG 1.1//EN\"\n \"http://www.w3.org/Graphics/SVG/1.1/DTD/svg11.dtd\">\n<!-- Generated by graphviz version 2.43.0 (0)\n -->\n<!-- Title: %3 Pages: 1 -->\n<svg width=\"763pt\" height=\"44pt\"\n viewBox=\"0.00 0.00 763.25 44.00\" xmlns=\"http://www.w3.org/2000/svg\" xmlns:xlink=\"http://www.w3.org/1999/xlink\">\n<g id=\"graph0\" class=\"graph\" transform=\"scale(1 1) rotate(0) translate(4 40)\">\n<title>%3</title>\n<polygon fill=\"white\" stroke=\"transparent\" points=\"-4,4 -4,-40 759.25,-40 759.25,4 -4,4\"/>\n<!-- 27 -->\n<g id=\"node1\" class=\"node\">\n<title>27</title>\n<ellipse fill=\"chartreuse\" stroke=\"black\" cx=\"147.79\" cy=\"-18\" rx=\"57.39\" ry=\"18\"/>\n<text text-anchor=\"middle\" x=\"147.79\" y=\"-14.3\" font-family=\"Times,serif\" font-size=\"14.00\">27 (index=0)</text>\n</g>\n<!-- 100 -->\n<g id=\"node2\" class=\"node\">\n<title>100</title>\n<ellipse fill=\"none\" stroke=\"black\" cx=\"302.73\" cy=\"-18\" rx=\"61.99\" ry=\"18\"/>\n<text text-anchor=\"middle\" x=\"302.73\" y=\"-14.3\" font-family=\"Times,serif\" font-size=\"14.00\">100 (index=1)</text>\n</g>\n<!-- 27&#45;&gt;100 -->\n<g id=\"edge1\" class=\"edge\">\n<title>27&#45;&gt;100</title>\n<path fill=\"none\" stroke=\"black\" d=\"M201.42,-11.55C212.21,-11.27 223.69,-11.19 234.9,-11.3\"/>\n<polygon fill=\"black\" stroke=\"black\" points=\"235.03,-14.8 245.08,-11.46 235.14,-7.8 235.03,-14.8\"/>\n</g>\n<!-- 100&#45;&gt;27 -->\n<g id=\"edge3\" class=\"edge\">\n<title>100&#45;&gt;27</title>\n<path fill=\"none\" stroke=\"black\" d=\"M245.08,-24.54C234.14,-24.78 222.62,-24.81 211.5,-24.65\"/>\n<polygon fill=\"black\" stroke=\"black\" points=\"211.49,-21.15 201.42,-24.45 211.35,-28.15 211.49,-21.15\"/>\n</g>\n<!-- 12 -->\n<g id=\"node3\" class=\"node\">\n<title>12</title>\n<ellipse fill=\"none\" stroke=\"black\" cx=\"457.67\" cy=\"-18\" rx=\"57.39\" ry=\"18\"/>\n<text text-anchor=\"middle\" x=\"457.67\" y=\"-14.3\" font-family=\"Times,serif\" font-size=\"14.00\">12 (index=2)</text>\n</g>\n<!-- 100&#45;&gt;12 -->\n<g id=\"edge2\" class=\"edge\">\n<title>100&#45;&gt;12</title>\n<path fill=\"none\" stroke=\"black\" d=\"M360.68,-11.45C371.6,-11.22 383.1,-11.19 394.18,-11.35\"/>\n<polygon fill=\"black\" stroke=\"black\" points=\"394.15,-14.85 404.22,-11.56 394.3,-7.85 394.15,-14.85\"/>\n</g>\n<!-- 12&#45;&gt;100 -->\n<g id=\"edge5\" class=\"edge\">\n<title>12&#45;&gt;100</title>\n<path fill=\"none\" stroke=\"black\" d=\"M404.22,-24.44C393.48,-24.73 382.02,-24.81 370.84,-24.7\"/>\n<polygon fill=\"black\" stroke=\"black\" points=\"370.73,-21.2 360.68,-24.55 370.62,-28.2 370.73,-21.2\"/>\n</g>\n<!-- 90 -->\n<g id=\"node4\" class=\"node\">\n<title>90</title>\n<ellipse fill=\"lightpink\" stroke=\"black\" cx=\"608.06\" cy=\"-18\" rx=\"57.39\" ry=\"18\"/>\n<text text-anchor=\"middle\" x=\"608.06\" y=\"-14.3\" font-family=\"Times,serif\" font-size=\"14.00\">90 (index=3)</text>\n</g>\n<!-- 12&#45;&gt;90 -->\n<g id=\"edge4\" class=\"edge\">\n<title>12&#45;&gt;90</title>\n<path fill=\"none\" stroke=\"black\" d=\"M511.4,-11.51C522.01,-11.25 533.25,-11.18 544.17,-11.32\"/>\n<polygon fill=\"black\" stroke=\"black\" points=\"544.43,-14.83 554.49,-11.51 544.56,-7.83 544.43,-14.83\"/>\n</g>\n<!-- 90&#45;&gt;12 -->\n<g id=\"edge6\" class=\"edge\">\n<title>90&#45;&gt;12</title>\n<path fill=\"none\" stroke=\"black\" d=\"M554.49,-24.49C543.9,-24.75 532.65,-24.82 521.74,-24.68\"/>\n<polygon fill=\"black\" stroke=\"black\" points=\"521.47,-21.18 511.4,-24.49 521.34,-28.18 521.47,-21.18\"/>\n</g>\n<!-- End -->\n<g id=\"node6\" class=\"node\">\n<title>End</title>\n<ellipse fill=\"none\" stroke=\"black\" cx=\"728.25\" cy=\"-18\" rx=\"27\" ry=\"18\"/>\n<text text-anchor=\"middle\" x=\"728.25\" y=\"-14.3\" font-family=\"Times,serif\" font-size=\"14.00\">End</text>\n</g>\n<!-- 90&#45;&gt;End -->\n<g id=\"edge8\" class=\"edge\">\n<title>90&#45;&gt;End</title>\n<path fill=\"none\" stroke=\"black\" d=\"M665.39,-18C674.07,-18 682.83,-18 690.92,-18\"/>\n<polygon fill=\"black\" stroke=\"black\" points=\"691.1,-21.5 701.1,-18 691.1,-14.5 691.1,-21.5\"/>\n</g>\n<!-- Start -->\n<g id=\"node5\" class=\"node\">\n<title>Start</title>\n<ellipse fill=\"none\" stroke=\"black\" cx=\"27.3\" cy=\"-18\" rx=\"27.1\" ry=\"18\"/>\n<text text-anchor=\"middle\" x=\"27.3\" y=\"-14.3\" font-family=\"Times,serif\" font-size=\"14.00\">Start</text>\n</g>\n<!-- Start&#45;&gt;27 -->\n<g id=\"edge7\" class=\"edge\">\n<title>Start&#45;&gt;27</title>\n<path fill=\"none\" stroke=\"black\" d=\"M64.99,-18C73,-18 81.66,-18 90.24,-18\"/>\n<polygon fill=\"black\" stroke=\"black\" points=\"64.89,-14.5 54.89,-18 64.89,-21.5 64.89,-14.5\"/>\n</g>\n</g>\n</svg>\n",
            "text/plain": [
              "<graphviz.graphs.Digraph at 0x7ddce6c505e0>"
            ]
          },
          "metadata": {}
        }
      ]
    },
    {
      "cell_type": "code",
      "source": [
        "removed_node = my_doubly_linked_list.remove(2)\n",
        "print(f\"Removed Node 2 = {removed_node.value}\")\n",
        "display(my_doubly_linked_list.print_list())"
      ],
      "metadata": {
        "id": "PGJZqi-hKNbX",
        "outputId": "7ccb1d35-05ea-4c8b-c210-d43b6d55bdaa",
        "colab": {
          "base_uri": "https://localhost:8080/",
          "height": 219
        }
      },
      "execution_count": 45,
      "outputs": [
        {
          "output_type": "stream",
          "name": "stdout",
          "text": [
            "Removed Node 2 = 12\n",
            "\n",
            "\n",
            "-----------\n",
            "List Created\n",
            "-----------\n",
            "\n",
            "\n"
          ]
        },
        {
          "output_type": "display_data",
          "data": {
            "image/svg+xml": "<?xml version=\"1.0\" encoding=\"UTF-8\" standalone=\"no\"?>\n<!DOCTYPE svg PUBLIC \"-//W3C//DTD SVG 1.1//EN\"\n \"http://www.w3.org/Graphics/SVG/1.1/DTD/svg11.dtd\">\n<!-- Generated by graphviz version 2.43.0 (0)\n -->\n<!-- Title: %3 Pages: 1 -->\n<svg width=\"613pt\" height=\"44pt\"\n viewBox=\"0.00 0.00 612.86 44.00\" xmlns=\"http://www.w3.org/2000/svg\" xmlns:xlink=\"http://www.w3.org/1999/xlink\">\n<g id=\"graph0\" class=\"graph\" transform=\"scale(1 1) rotate(0) translate(4 40)\">\n<title>%3</title>\n<polygon fill=\"white\" stroke=\"transparent\" points=\"-4,4 -4,-40 608.86,-40 608.86,4 -4,4\"/>\n<!-- 27 -->\n<g id=\"node1\" class=\"node\">\n<title>27</title>\n<ellipse fill=\"chartreuse\" stroke=\"black\" cx=\"147.79\" cy=\"-18\" rx=\"57.39\" ry=\"18\"/>\n<text text-anchor=\"middle\" x=\"147.79\" y=\"-14.3\" font-family=\"Times,serif\" font-size=\"14.00\">27 (index=0)</text>\n</g>\n<!-- 100 -->\n<g id=\"node2\" class=\"node\">\n<title>100</title>\n<ellipse fill=\"none\" stroke=\"black\" cx=\"302.73\" cy=\"-18\" rx=\"61.99\" ry=\"18\"/>\n<text text-anchor=\"middle\" x=\"302.73\" y=\"-14.3\" font-family=\"Times,serif\" font-size=\"14.00\">100 (index=1)</text>\n</g>\n<!-- 27&#45;&gt;100 -->\n<g id=\"edge1\" class=\"edge\">\n<title>27&#45;&gt;100</title>\n<path fill=\"none\" stroke=\"black\" d=\"M201.42,-11.55C212.21,-11.27 223.69,-11.19 234.9,-11.3\"/>\n<polygon fill=\"black\" stroke=\"black\" points=\"235.03,-14.8 245.08,-11.46 235.14,-7.8 235.03,-14.8\"/>\n</g>\n<!-- 100&#45;&gt;27 -->\n<g id=\"edge3\" class=\"edge\">\n<title>100&#45;&gt;27</title>\n<path fill=\"none\" stroke=\"black\" d=\"M245.08,-24.54C234.14,-24.78 222.62,-24.81 211.5,-24.65\"/>\n<polygon fill=\"black\" stroke=\"black\" points=\"211.49,-21.15 201.42,-24.45 211.35,-28.15 211.49,-21.15\"/>\n</g>\n<!-- 90 -->\n<g id=\"node3\" class=\"node\">\n<title>90</title>\n<ellipse fill=\"lightpink\" stroke=\"black\" cx=\"457.67\" cy=\"-18\" rx=\"57.39\" ry=\"18\"/>\n<text text-anchor=\"middle\" x=\"457.67\" y=\"-14.3\" font-family=\"Times,serif\" font-size=\"14.00\">90 (index=2)</text>\n</g>\n<!-- 100&#45;&gt;90 -->\n<g id=\"edge2\" class=\"edge\">\n<title>100&#45;&gt;90</title>\n<path fill=\"none\" stroke=\"black\" d=\"M360.68,-11.45C371.6,-11.22 383.1,-11.19 394.18,-11.35\"/>\n<polygon fill=\"black\" stroke=\"black\" points=\"394.15,-14.85 404.22,-11.56 394.3,-7.85 394.15,-14.85\"/>\n</g>\n<!-- 90&#45;&gt;100 -->\n<g id=\"edge4\" class=\"edge\">\n<title>90&#45;&gt;100</title>\n<path fill=\"none\" stroke=\"black\" d=\"M404.22,-24.44C393.48,-24.73 382.02,-24.81 370.84,-24.7\"/>\n<polygon fill=\"black\" stroke=\"black\" points=\"370.73,-21.2 360.68,-24.55 370.62,-28.2 370.73,-21.2\"/>\n</g>\n<!-- End -->\n<g id=\"node5\" class=\"node\">\n<title>End</title>\n<ellipse fill=\"none\" stroke=\"black\" cx=\"577.86\" cy=\"-18\" rx=\"27\" ry=\"18\"/>\n<text text-anchor=\"middle\" x=\"577.86\" y=\"-14.3\" font-family=\"Times,serif\" font-size=\"14.00\">End</text>\n</g>\n<!-- 90&#45;&gt;End -->\n<g id=\"edge6\" class=\"edge\">\n<title>90&#45;&gt;End</title>\n<path fill=\"none\" stroke=\"black\" d=\"M515,-18C523.68,-18 532.44,-18 540.53,-18\"/>\n<polygon fill=\"black\" stroke=\"black\" points=\"540.72,-21.5 550.72,-18 540.72,-14.5 540.72,-21.5\"/>\n</g>\n<!-- Start -->\n<g id=\"node4\" class=\"node\">\n<title>Start</title>\n<ellipse fill=\"none\" stroke=\"black\" cx=\"27.3\" cy=\"-18\" rx=\"27.1\" ry=\"18\"/>\n<text text-anchor=\"middle\" x=\"27.3\" y=\"-14.3\" font-family=\"Times,serif\" font-size=\"14.00\">Start</text>\n</g>\n<!-- Start&#45;&gt;27 -->\n<g id=\"edge5\" class=\"edge\">\n<title>Start&#45;&gt;27</title>\n<path fill=\"none\" stroke=\"black\" d=\"M64.99,-18C73,-18 81.66,-18 90.24,-18\"/>\n<polygon fill=\"black\" stroke=\"black\" points=\"64.89,-14.5 54.89,-18 64.89,-21.5 64.89,-14.5\"/>\n</g>\n</g>\n</svg>\n",
            "text/plain": [
              "<graphviz.graphs.Digraph at 0x7ddce6c50310>"
            ]
          },
          "metadata": {}
        }
      ]
    },
    {
      "cell_type": "code",
      "source": [
        "removed_node = my_doubly_linked_list.remove(10)\n",
        "if removed_node:\n",
        "    print(f\"Removed Node 10 = {removed_node.value}\")\n",
        "display(my_doubly_linked_list.print_list())"
      ],
      "metadata": {
        "id": "Ul-62aiGKRoW",
        "outputId": "8e97abe6-739d-449c-da39-b3edbad53e7b",
        "colab": {
          "base_uri": "https://localhost:8080/",
          "height": 201
        }
      },
      "execution_count": 47,
      "outputs": [
        {
          "output_type": "stream",
          "name": "stdout",
          "text": [
            "\n",
            "\n",
            "-----------\n",
            "List Created\n",
            "-----------\n",
            "\n",
            "\n"
          ]
        },
        {
          "output_type": "display_data",
          "data": {
            "image/svg+xml": "<?xml version=\"1.0\" encoding=\"UTF-8\" standalone=\"no\"?>\n<!DOCTYPE svg PUBLIC \"-//W3C//DTD SVG 1.1//EN\"\n \"http://www.w3.org/Graphics/SVG/1.1/DTD/svg11.dtd\">\n<!-- Generated by graphviz version 2.43.0 (0)\n -->\n<!-- Title: %3 Pages: 1 -->\n<svg width=\"613pt\" height=\"44pt\"\n viewBox=\"0.00 0.00 612.86 44.00\" xmlns=\"http://www.w3.org/2000/svg\" xmlns:xlink=\"http://www.w3.org/1999/xlink\">\n<g id=\"graph0\" class=\"graph\" transform=\"scale(1 1) rotate(0) translate(4 40)\">\n<title>%3</title>\n<polygon fill=\"white\" stroke=\"transparent\" points=\"-4,4 -4,-40 608.86,-40 608.86,4 -4,4\"/>\n<!-- 27 -->\n<g id=\"node1\" class=\"node\">\n<title>27</title>\n<ellipse fill=\"chartreuse\" stroke=\"black\" cx=\"147.79\" cy=\"-18\" rx=\"57.39\" ry=\"18\"/>\n<text text-anchor=\"middle\" x=\"147.79\" y=\"-14.3\" font-family=\"Times,serif\" font-size=\"14.00\">27 (index=0)</text>\n</g>\n<!-- 100 -->\n<g id=\"node2\" class=\"node\">\n<title>100</title>\n<ellipse fill=\"none\" stroke=\"black\" cx=\"302.73\" cy=\"-18\" rx=\"61.99\" ry=\"18\"/>\n<text text-anchor=\"middle\" x=\"302.73\" y=\"-14.3\" font-family=\"Times,serif\" font-size=\"14.00\">100 (index=1)</text>\n</g>\n<!-- 27&#45;&gt;100 -->\n<g id=\"edge1\" class=\"edge\">\n<title>27&#45;&gt;100</title>\n<path fill=\"none\" stroke=\"black\" d=\"M201.42,-11.55C212.21,-11.27 223.69,-11.19 234.9,-11.3\"/>\n<polygon fill=\"black\" stroke=\"black\" points=\"235.03,-14.8 245.08,-11.46 235.14,-7.8 235.03,-14.8\"/>\n</g>\n<!-- 100&#45;&gt;27 -->\n<g id=\"edge3\" class=\"edge\">\n<title>100&#45;&gt;27</title>\n<path fill=\"none\" stroke=\"black\" d=\"M245.08,-24.54C234.14,-24.78 222.62,-24.81 211.5,-24.65\"/>\n<polygon fill=\"black\" stroke=\"black\" points=\"211.49,-21.15 201.42,-24.45 211.35,-28.15 211.49,-21.15\"/>\n</g>\n<!-- 90 -->\n<g id=\"node3\" class=\"node\">\n<title>90</title>\n<ellipse fill=\"lightpink\" stroke=\"black\" cx=\"457.67\" cy=\"-18\" rx=\"57.39\" ry=\"18\"/>\n<text text-anchor=\"middle\" x=\"457.67\" y=\"-14.3\" font-family=\"Times,serif\" font-size=\"14.00\">90 (index=2)</text>\n</g>\n<!-- 100&#45;&gt;90 -->\n<g id=\"edge2\" class=\"edge\">\n<title>100&#45;&gt;90</title>\n<path fill=\"none\" stroke=\"black\" d=\"M360.68,-11.45C371.6,-11.22 383.1,-11.19 394.18,-11.35\"/>\n<polygon fill=\"black\" stroke=\"black\" points=\"394.15,-14.85 404.22,-11.56 394.3,-7.85 394.15,-14.85\"/>\n</g>\n<!-- 90&#45;&gt;100 -->\n<g id=\"edge4\" class=\"edge\">\n<title>90&#45;&gt;100</title>\n<path fill=\"none\" stroke=\"black\" d=\"M404.22,-24.44C393.48,-24.73 382.02,-24.81 370.84,-24.7\"/>\n<polygon fill=\"black\" stroke=\"black\" points=\"370.73,-21.2 360.68,-24.55 370.62,-28.2 370.73,-21.2\"/>\n</g>\n<!-- End -->\n<g id=\"node5\" class=\"node\">\n<title>End</title>\n<ellipse fill=\"none\" stroke=\"black\" cx=\"577.86\" cy=\"-18\" rx=\"27\" ry=\"18\"/>\n<text text-anchor=\"middle\" x=\"577.86\" y=\"-14.3\" font-family=\"Times,serif\" font-size=\"14.00\">End</text>\n</g>\n<!-- 90&#45;&gt;End -->\n<g id=\"edge6\" class=\"edge\">\n<title>90&#45;&gt;End</title>\n<path fill=\"none\" stroke=\"black\" d=\"M515,-18C523.68,-18 532.44,-18 540.53,-18\"/>\n<polygon fill=\"black\" stroke=\"black\" points=\"540.72,-21.5 550.72,-18 540.72,-14.5 540.72,-21.5\"/>\n</g>\n<!-- Start -->\n<g id=\"node4\" class=\"node\">\n<title>Start</title>\n<ellipse fill=\"none\" stroke=\"black\" cx=\"27.3\" cy=\"-18\" rx=\"27.1\" ry=\"18\"/>\n<text text-anchor=\"middle\" x=\"27.3\" y=\"-14.3\" font-family=\"Times,serif\" font-size=\"14.00\">Start</text>\n</g>\n<!-- Start&#45;&gt;27 -->\n<g id=\"edge5\" class=\"edge\">\n<title>Start&#45;&gt;27</title>\n<path fill=\"none\" stroke=\"black\" d=\"M64.99,-18C73,-18 81.66,-18 90.24,-18\"/>\n<polygon fill=\"black\" stroke=\"black\" points=\"64.89,-14.5 54.89,-18 64.89,-21.5 64.89,-14.5\"/>\n</g>\n</g>\n</svg>\n",
            "text/plain": [
              "<graphviz.graphs.Digraph at 0x7ddce6c06740>"
            ]
          },
          "metadata": {}
        }
      ]
    },
    {
      "cell_type": "code",
      "source": [],
      "metadata": {
        "id": "vpZNFSvsKWRO"
      },
      "execution_count": null,
      "outputs": []
    }
  ]
}
