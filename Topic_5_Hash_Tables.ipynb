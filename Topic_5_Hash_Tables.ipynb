{
  "nbformat": 4,
  "nbformat_minor": 0,
  "metadata": {
    "colab": {
      "provenance": [],
      "authorship_tag": "ABX9TyMF4xlmdC7uie0Bn5LyQ2WZ",
      "include_colab_link": true
    },
    "kernelspec": {
      "name": "python3",
      "display_name": "Python 3"
    },
    "language_info": {
      "name": "python"
    }
  },
  "cells": [
    {
      "cell_type": "markdown",
      "metadata": {
        "id": "view-in-github",
        "colab_type": "text"
      },
      "source": [
        "<a href=\"https://colab.research.google.com/github/niladribanerjee80/DSA_Scott_Barett/blob/main/Topic_5_Hash_Tables.ipynb\" target=\"_parent\"><img src=\"https://colab.research.google.com/assets/colab-badge.svg\" alt=\"Open In Colab\"/></a>"
      ]
    },
    {
      "cell_type": "markdown",
      "source": [
        "# HT Constructor"
      ],
      "metadata": {
        "id": "6T3X1QB2foN1"
      }
    },
    {
      "cell_type": "code",
      "execution_count": 3,
      "metadata": {
        "id": "VmevF26KfdJr"
      },
      "outputs": [],
      "source": [
        "class HashTable:\n",
        "\n",
        "    def __init__(self,size=7):\n",
        "        self.data_map = [None] * size\n",
        "\n",
        "    def __hash(self,key):\n",
        "        my_hash = 0\n",
        "\n",
        "        for letter in key:\n",
        "            my_hash = (my_hash + ord(letter) * 23) % len(self.data_map)\n",
        "\n",
        "        # my_hash should be between 0-6\n",
        "        return my_hash\n",
        "\n",
        "    def print_table(self):\n",
        "        for i, val in enumerate(self.data_map):\n",
        "            print(i,\": \",val)"
      ]
    },
    {
      "cell_type": "code",
      "source": [
        "my_hash_table = HashTable()\n",
        "my_hash_table.print_table()"
      ],
      "metadata": {
        "colab": {
          "base_uri": "https://localhost:8080/"
        },
        "id": "-0Ro4VYVf2X3",
        "outputId": "812b831a-cd8a-440f-a733-da8a8c549d47"
      },
      "execution_count": 4,
      "outputs": [
        {
          "output_type": "stream",
          "name": "stdout",
          "text": [
            "0 :  None\n",
            "1 :  None\n",
            "2 :  None\n",
            "3 :  None\n",
            "4 :  None\n",
            "5 :  None\n",
            "6 :  None\n"
          ]
        }
      ]
    },
    {
      "cell_type": "markdown",
      "source": [
        "# HT set\n",
        "\n",
        "---\n",
        "\n",
        "* Now let's set the key-value pair in our hash table\n",
        "* set_item('bolts',1400) --> hash function --> address [0-6]\n",
        "* it needs to create the output = ['bolts',1400] and then it sits there in the index\n"
      ],
      "metadata": {
        "id": "sy1SqI0LiNRS"
      }
    },
    {
      "cell_type": "code",
      "source": [
        "class HashTable:\n",
        "\n",
        "    def __init__(self,size=7):\n",
        "        self.data_map = [None] * size\n",
        "\n",
        "    def __hash(self,key):\n",
        "        my_hash = 0\n",
        "\n",
        "        for letter in key:\n",
        "            my_hash = (my_hash + ord(letter) * 23) % len(self.data_map)\n",
        "\n",
        "        # my_hash should be between 0-6\n",
        "        return my_hash\n",
        "\n",
        "    def print_table(self):\n",
        "        for i, val in enumerate(self.data_map):\n",
        "            print(i,\": \",val)\n",
        "\n",
        "    def set_item(self,key,value):\n",
        "        index = self.__hash(key)\n",
        "\n",
        "        if self.data_map[index] == None:\n",
        "            # initialize the space with blank list\n",
        "            self.data_map[index] = []\n",
        "\n",
        "        self.data_map[index].append([key,value])"
      ],
      "metadata": {
        "id": "9GwHnLimgSKX"
      },
      "execution_count": 8,
      "outputs": []
    },
    {
      "cell_type": "code",
      "source": [
        "my_hash_table = HashTable()\n",
        "\n",
        "my_hash_table.set_item('bolts',1400)\n",
        "my_hash_table.set_item('washers',50)\n",
        "my_hash_table.set_item('lumber',70)\n",
        "\n",
        "my_hash_table.print_table()"
      ],
      "metadata": {
        "colab": {
          "base_uri": "https://localhost:8080/"
        },
        "id": "MfZro_3yjYzy",
        "outputId": "3498b31f-ef27-44b1-ad11-0b401f736bcf"
      },
      "execution_count": 9,
      "outputs": [
        {
          "output_type": "stream",
          "name": "stdout",
          "text": [
            "0 :  None\n",
            "1 :  None\n",
            "2 :  None\n",
            "3 :  None\n",
            "4 :  [['bolts', 1400], ['washers', 50]]\n",
            "5 :  None\n",
            "6 :  [['lumber', 70]]\n"
          ]
        }
      ]
    },
    {
      "cell_type": "markdown",
      "source": [
        "# HT get\n",
        "\n",
        "\n",
        "---\n",
        "* get_item('washers') --> hash --> 4\n",
        "* return value = 50\n",
        "* if index returned found no list item, it should return None\n"
      ],
      "metadata": {
        "id": "8E9Q85UiliuT"
      }
    },
    {
      "cell_type": "code",
      "source": [
        "class HashTable:\n",
        "\n",
        "    def __init__(self,size=7):\n",
        "        self.data_map = [None] * size\n",
        "\n",
        "    def __hash(self,key):\n",
        "        my_hash = 0\n",
        "\n",
        "        for letter in key:\n",
        "            my_hash = (my_hash + ord(letter) * 23) % len(self.data_map)\n",
        "\n",
        "        # my_hash should be between 0-6\n",
        "        return my_hash\n",
        "\n",
        "    def print_table(self):\n",
        "        for i, val in enumerate(self.data_map):\n",
        "            print(i,\": \",val)\n",
        "\n",
        "    def set_item(self,key,value):\n",
        "        index = self.__hash(key)\n",
        "\n",
        "        if self.data_map[index] == None:\n",
        "            # initialize the space with blank list\n",
        "            self.data_map[index] = []\n",
        "\n",
        "        self.data_map[index].append([key,value])\n",
        "\n",
        "    def get_item(self, key):\n",
        "        index = self.__hash(key)\n",
        "\n",
        "        if self.data_map[index] is not None:\n",
        "            for item in self.data_map[index]:\n",
        "                if item[0] == key:\n",
        "                    return item[1]\n",
        "        return None"
      ],
      "metadata": {
        "id": "HWStkY63keB7"
      },
      "execution_count": 12,
      "outputs": []
    },
    {
      "cell_type": "code",
      "source": [
        "my_hash_table = HashTable()\n",
        "\n",
        "my_hash_table.set_item('bolts',1400)\n",
        "my_hash_table.set_item('washers',50)\n",
        "my_hash_table.set_item('lumber',70)\n",
        "\n",
        "my_hash_table.print_table()"
      ],
      "metadata": {
        "colab": {
          "base_uri": "https://localhost:8080/"
        },
        "id": "o5g1zQMGm1_z",
        "outputId": "1da57362-7ea0-431b-a60e-0644d553bd09"
      },
      "execution_count": 13,
      "outputs": [
        {
          "output_type": "stream",
          "name": "stdout",
          "text": [
            "0 :  None\n",
            "1 :  None\n",
            "2 :  None\n",
            "3 :  None\n",
            "4 :  [['bolts', 1400], ['washers', 50]]\n",
            "5 :  None\n",
            "6 :  [['lumber', 70]]\n"
          ]
        }
      ]
    },
    {
      "cell_type": "code",
      "source": [
        "my_hash_table.get_item('bolts')"
      ],
      "metadata": {
        "colab": {
          "base_uri": "https://localhost:8080/"
        },
        "id": "iskoK6pxni_o",
        "outputId": "fe36fab3-5782-4c66-e53d-36c0304ae2fa"
      },
      "execution_count": 14,
      "outputs": [
        {
          "output_type": "execute_result",
          "data": {
            "text/plain": [
              "1400"
            ]
          },
          "metadata": {},
          "execution_count": 14
        }
      ]
    },
    {
      "cell_type": "code",
      "source": [
        "my_hash_table.get_item('lumber')"
      ],
      "metadata": {
        "colab": {
          "base_uri": "https://localhost:8080/"
        },
        "id": "SOtp0SATnmId",
        "outputId": "7b48b7da-97c1-4cbc-a1d5-8e5845f15538"
      },
      "execution_count": 15,
      "outputs": [
        {
          "output_type": "execute_result",
          "data": {
            "text/plain": [
              "70"
            ]
          },
          "metadata": {},
          "execution_count": 15
        }
      ]
    },
    {
      "cell_type": "markdown",
      "source": [
        "# HT Keys\n",
        "\n",
        "---\n",
        "* get all keys\n",
        "\n"
      ],
      "metadata": {
        "id": "kprNzW_eGsVK"
      }
    },
    {
      "cell_type": "code",
      "source": [
        "class HashTable:\n",
        "\n",
        "    def __init__(self,size=7):\n",
        "        self.data_map = [None] * size\n",
        "\n",
        "    def __hash(self,key):\n",
        "        my_hash = 0\n",
        "\n",
        "        for letter in key:\n",
        "            my_hash = (my_hash + ord(letter) * 23) % len(self.data_map)\n",
        "\n",
        "        # my_hash should be between 0-6\n",
        "        return my_hash\n",
        "\n",
        "    def print_table(self):\n",
        "        for i, val in enumerate(self.data_map):\n",
        "            print(i,\": \",val)\n",
        "\n",
        "    def set_item(self,key,value):\n",
        "        index = self.__hash(key)\n",
        "\n",
        "        if self.data_map[index] == None:\n",
        "            # initialize the space with blank list\n",
        "            self.data_map[index] = []\n",
        "\n",
        "        self.data_map[index].append([key,value])\n",
        "\n",
        "    def get_item(self, key):\n",
        "        index = self.__hash(key)\n",
        "\n",
        "        if self.data_map[index] is not None:\n",
        "            for item in self.data_map[index]:\n",
        "                if item[0] == key:\n",
        "                    return item[1]\n",
        "        return None\n",
        "\n",
        "    def keys(self):\n",
        "        all_keys = []\n",
        "        for element in self.data_map:\n",
        "            if element is not None:\n",
        "                for item in element:\n",
        "                    all_keys.append(item[0])\n",
        "        return all_keys"
      ],
      "metadata": {
        "id": "8jCp35x3no7C"
      },
      "execution_count": 1,
      "outputs": []
    },
    {
      "cell_type": "code",
      "source": [
        "my_hash_table = HashTable()\n",
        "\n",
        "my_hash_table.set_item('bolts',1400)\n",
        "my_hash_table.set_item('washers',50)\n",
        "my_hash_table.set_item('lumber',70)\n",
        "\n",
        "my_hash_table.print_table()"
      ],
      "metadata": {
        "colab": {
          "base_uri": "https://localhost:8080/"
        },
        "id": "B7C-g_DLno_J",
        "outputId": "101288a1-4fc5-4760-a3ac-4ef927ae17e7"
      },
      "execution_count": 2,
      "outputs": [
        {
          "output_type": "stream",
          "name": "stdout",
          "text": [
            "0 :  None\n",
            "1 :  None\n",
            "2 :  None\n",
            "3 :  None\n",
            "4 :  [['bolts', 1400], ['washers', 50]]\n",
            "5 :  None\n",
            "6 :  [['lumber', 70]]\n"
          ]
        }
      ]
    },
    {
      "cell_type": "code",
      "source": [
        "keys = my_hash_table.keys()\n",
        "print(keys)"
      ],
      "metadata": {
        "colab": {
          "base_uri": "https://localhost:8080/"
        },
        "id": "WdUDFGQAHT0r",
        "outputId": "c519c935-bc37-4c7b-c274-6196988dbb94"
      },
      "execution_count": 3,
      "outputs": [
        {
          "output_type": "stream",
          "name": "stdout",
          "text": [
            "['bolts', 'washers', 'lumber']\n"
          ]
        }
      ]
    },
    {
      "cell_type": "code",
      "source": [],
      "metadata": {
        "id": "OYUXKl3BHYeb"
      },
      "execution_count": null,
      "outputs": []
    }
  ]
}