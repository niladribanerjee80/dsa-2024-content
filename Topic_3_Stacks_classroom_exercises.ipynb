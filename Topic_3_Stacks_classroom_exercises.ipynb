{
  "nbformat": 4,
  "nbformat_minor": 0,
  "metadata": {
    "colab": {
      "provenance": [],
      "authorship_tag": "ABX9TyNhUUepA/iCC2eSjUCV4CZr",
      "include_colab_link": true
    },
    "kernelspec": {
      "name": "python3",
      "display_name": "Python 3"
    },
    "language_info": {
      "name": "python"
    }
  },
  "cells": [
    {
      "cell_type": "markdown",
      "metadata": {
        "id": "view-in-github",
        "colab_type": "text"
      },
      "source": [
        "<a href=\"https://colab.research.google.com/github/niladribanerjee80/DSA_Scott_Barett/blob/main/Topic_3_Stacks_classroom_exercises.ipynb\" target=\"_parent\"><img src=\"https://colab.research.google.com/assets/colab-badge.svg\" alt=\"Open In Colab\"/></a>"
      ]
    },
    {
      "cell_type": "markdown",
      "source": [
        "# Stack : Constructor"
      ],
      "metadata": {
        "id": "OdkuADZhuBAz"
      }
    },
    {
      "cell_type": "code",
      "execution_count": null,
      "metadata": {
        "id": "mb4bA6iZc9Gn"
      },
      "outputs": [],
      "source": [
        "# class Node:\n",
        "    ## WRITE NODE CONSTRUCTOR HERE ##\n",
        "    #                               #\n",
        "    #                               #\n",
        "    #                               #\n",
        "    #                               #\n",
        "    #################################\n",
        "\n",
        "# class Stack:\n",
        "    ## WRITE STACK CONSTRUCTOR HERE ##\n",
        "    #                                #\n",
        "    #                                #\n",
        "    #                                #\n",
        "    #                                #\n",
        "    ##################################"
      ]
    },
    {
      "cell_type": "code",
      "source": [
        "my_stack = Stack(4)\n",
        "\n",
        "print('Top:', my_stack.top.value)\n",
        "print('Height:', my_stack.height)\n",
        "\n",
        "\n",
        "\n",
        "\"\"\"\n",
        "    EXPECTED OUTPUT:\n",
        "    ----------------\n",
        "    Top: 4\n",
        "    Height: 1\n",
        "\n",
        "\"\"\""
      ],
      "metadata": {
        "id": "ccPKbgiKuOZc"
      },
      "execution_count": null,
      "outputs": []
    },
    {
      "cell_type": "code",
      "source": [],
      "metadata": {
        "id": "4QoPWFEbtbzR"
      },
      "execution_count": null,
      "outputs": []
    },
    {
      "cell_type": "code",
      "source": [],
      "metadata": {
        "id": "J5OLyQQUtb3G"
      },
      "execution_count": null,
      "outputs": []
    },
    {
      "cell_type": "code",
      "source": [],
      "metadata": {
        "id": "XP5iwuxWtb69"
      },
      "execution_count": null,
      "outputs": []
    },
    {
      "cell_type": "code",
      "source": [],
      "metadata": {
        "id": "sb8z9Ps5tb-o"
      },
      "execution_count": null,
      "outputs": []
    },
    {
      "cell_type": "code",
      "source": [],
      "metadata": {
        "id": "y0AB5rpItcCR"
      },
      "execution_count": null,
      "outputs": []
    },
    {
      "cell_type": "markdown",
      "source": [
        "# Stack : Push"
      ],
      "metadata": {
        "id": "cQvdaX8auFUK"
      }
    },
    {
      "cell_type": "code",
      "source": [
        "class Node:\n",
        "    def __init__(self, value):\n",
        "        self.value = value\n",
        "        self.next = None\n",
        "\n",
        "\n",
        "class Stack:\n",
        "    def __init__(self, value):\n",
        "        new_node = Node(value)\n",
        "        self.top = new_node\n",
        "        self.height = 1\n",
        "\n",
        "    def print_stack(self):\n",
        "        temp = self.top\n",
        "        while temp is not None:\n",
        "            print(temp.value)\n",
        "            temp = temp.next\n",
        "\n",
        "    ### WRITE PUSH METHOD HERE ###\n",
        "    #                            #\n",
        "    #                            #\n",
        "    #                            #\n",
        "    #                            #\n",
        "    ##############################"
      ],
      "metadata": {
        "id": "-nPt_DH6uE1d"
      },
      "execution_count": null,
      "outputs": []
    },
    {
      "cell_type": "code",
      "source": [
        "my_stack = Stack(2)\n",
        "\n",
        "print('Stack before push(1):')\n",
        "my_stack.print_stack()\n",
        "\n",
        "my_stack.push(1)\n",
        "\n",
        "print('\\nStack after push(1):')\n",
        "my_stack.print_stack()\n",
        "\n",
        "\n",
        "\n",
        "\"\"\"\n",
        "    EXPECTED OUTPUT:\n",
        "    ----------------\n",
        "    Stack before push(1):\n",
        "    2\n",
        "\n",
        "    Stack after push(1):\n",
        "    1\n",
        "    2\n",
        "\n",
        "\"\"\""
      ],
      "metadata": {
        "id": "PZKK8bALub1P"
      },
      "execution_count": null,
      "outputs": []
    },
    {
      "cell_type": "code",
      "source": [],
      "metadata": {
        "id": "2D2Z5eA1tduo"
      },
      "execution_count": null,
      "outputs": []
    },
    {
      "cell_type": "code",
      "source": [],
      "metadata": {
        "id": "8sJEPALRtd3_"
      },
      "execution_count": null,
      "outputs": []
    },
    {
      "cell_type": "code",
      "source": [],
      "metadata": {
        "id": "dg5pkH3Qtd72"
      },
      "execution_count": null,
      "outputs": []
    },
    {
      "cell_type": "code",
      "source": [],
      "metadata": {
        "id": "_yGd6wsytd_R"
      },
      "execution_count": null,
      "outputs": []
    },
    {
      "cell_type": "code",
      "source": [],
      "metadata": {
        "id": "LF-V2L2KteDA"
      },
      "execution_count": null,
      "outputs": []
    },
    {
      "cell_type": "code",
      "source": [],
      "metadata": {
        "id": "iFfWa09lteGn"
      },
      "execution_count": null,
      "outputs": []
    },
    {
      "cell_type": "code",
      "source": [],
      "metadata": {
        "id": "qe9AoKEpteKL"
      },
      "execution_count": null,
      "outputs": []
    },
    {
      "cell_type": "code",
      "source": [],
      "metadata": {
        "id": "wA1pU1mPteN0"
      },
      "execution_count": null,
      "outputs": []
    },
    {
      "cell_type": "code",
      "source": [],
      "metadata": {
        "id": "1EPG-OR0teRR"
      },
      "execution_count": null,
      "outputs": []
    },
    {
      "cell_type": "code",
      "source": [],
      "metadata": {
        "id": "JBFu0B68teVJ"
      },
      "execution_count": null,
      "outputs": []
    },
    {
      "cell_type": "markdown",
      "source": [
        "# Stack pop"
      ],
      "metadata": {
        "id": "8_j3WpVuucrp"
      }
    },
    {
      "cell_type": "code",
      "source": [
        "class Node:\n",
        "    def __init__(self, value):\n",
        "        self.value = value\n",
        "        self.next = None\n",
        "\n",
        "\n",
        "class Stack:\n",
        "    def __init__(self, value):\n",
        "        new_node = Node(value)\n",
        "        self.top = new_node\n",
        "        self.height = 1\n",
        "\n",
        "    def print_stack(self):\n",
        "        temp = self.top\n",
        "        while temp is not None:\n",
        "            print(temp.value)\n",
        "            temp = temp.next\n",
        "\n",
        "    def push(self, value):\n",
        "        new_node = Node(value)\n",
        "        if self.height == 0:\n",
        "            self.top = new_node\n",
        "        else:\n",
        "            new_node.next = self.top\n",
        "            self.top = new_node\n",
        "        self.height += 1\n",
        "        return True\n",
        "\n",
        "    ### WRITE POP METHOD HERE ###\n",
        "    #                           #\n",
        "    #                           #\n",
        "    #                           #\n",
        "    #                           #\n",
        "    #############################"
      ],
      "metadata": {
        "id": "o_tfseocuehL"
      },
      "execution_count": null,
      "outputs": []
    },
    {
      "cell_type": "code",
      "source": [
        "my_stack = Stack(4)\n",
        "my_stack.push(3)\n",
        "my_stack.push(2)\n",
        "my_stack.push(1)\n",
        "\n",
        "print('Stack before pop():')\n",
        "my_stack.print_stack()\n",
        "\n",
        "print('\\nPopped node:')\n",
        "print(my_stack.pop().value)\n",
        "\n",
        "print('\\nStack after pop():')\n",
        "my_stack.print_stack()\n",
        "\n",
        "\n",
        "\n",
        "\"\"\"\n",
        "    EXPECTED OUTPUT:\n",
        "    ----------------\n",
        "    Stack before pop():\n",
        "    1\n",
        "    2\n",
        "    3\n",
        "    4\n",
        "\n",
        "    Popped node:\n",
        "    1\n",
        "\n",
        "    Stack after pop():\n",
        "    2\n",
        "    3\n",
        "    4\n",
        "\n",
        "\"\"\""
      ],
      "metadata": {
        "id": "3_DI-zfaukwF"
      },
      "execution_count": null,
      "outputs": []
    },
    {
      "cell_type": "code",
      "source": [],
      "metadata": {
        "id": "1dRRrXg5up5l"
      },
      "execution_count": null,
      "outputs": []
    },
    {
      "cell_type": "code",
      "source": [],
      "metadata": {
        "id": "ows_CWr5tjKG"
      },
      "execution_count": null,
      "outputs": []
    },
    {
      "cell_type": "markdown",
      "source": [
        "# Queue : constructor"
      ],
      "metadata": {
        "id": "68GP9ZnGuzKM"
      }
    },
    {
      "cell_type": "code",
      "source": [
        "# class Node:\n",
        "    ## WRITE NODE CONSTRUCTOR HERE ##\n",
        "    #                               #\n",
        "    #                               #\n",
        "    #                               #\n",
        "    #                               #\n",
        "    #################################\n",
        "\n",
        "# class Queue:\n",
        "    ## WRITE QUEUE CONSTRUCTOR HERE ##\n",
        "    #                                #\n",
        "    #                                #\n",
        "    #                                #\n",
        "    #                                #\n",
        "    ##################################"
      ],
      "metadata": {
        "id": "M0GEjBixu01z"
      },
      "execution_count": null,
      "outputs": []
    },
    {
      "cell_type": "code",
      "source": [
        "my_queue = Queue(4)\n",
        "\n",
        "print('First:', my_queue.first.value)\n",
        "print('Last:', my_queue.last.value)\n",
        "print('Length:', my_queue.length)\n",
        "\n",
        "\n",
        "\"\"\"\n",
        "    EXPECTED OUTPUT:\n",
        "    ----------------\n",
        "    First: 4\n",
        "    Last: 4\n",
        "    Length: 1\n",
        "\n",
        "\"\"\""
      ],
      "metadata": {
        "id": "ghvfEmVPu1tD"
      },
      "execution_count": null,
      "outputs": []
    },
    {
      "cell_type": "code",
      "source": [],
      "metadata": {
        "id": "APwBQb-Bu5rJ"
      },
      "execution_count": null,
      "outputs": []
    },
    {
      "cell_type": "code",
      "source": [],
      "metadata": {
        "id": "AVxGD68itkWr"
      },
      "execution_count": null,
      "outputs": []
    },
    {
      "cell_type": "code",
      "source": [],
      "metadata": {
        "id": "fMHajE02tkaf"
      },
      "execution_count": null,
      "outputs": []
    },
    {
      "cell_type": "code",
      "source": [],
      "metadata": {
        "id": "Ob7iHh1AtkeJ"
      },
      "execution_count": null,
      "outputs": []
    },
    {
      "cell_type": "code",
      "source": [],
      "metadata": {
        "id": "uaupC7p0tkiA"
      },
      "execution_count": null,
      "outputs": []
    },
    {
      "cell_type": "code",
      "source": [],
      "metadata": {
        "id": "4jHWbXNPtklp"
      },
      "execution_count": null,
      "outputs": []
    },
    {
      "cell_type": "code",
      "source": [],
      "metadata": {
        "id": "3o1gU4sdtkpG"
      },
      "execution_count": null,
      "outputs": []
    },
    {
      "cell_type": "markdown",
      "source": [
        "# Queue : enqueue"
      ],
      "metadata": {
        "id": "F0XID09Lu5Gp"
      }
    },
    {
      "cell_type": "code",
      "source": [
        "class Node:\n",
        "    def __init__(self, value):\n",
        "        self.value = value\n",
        "        self.next = None\n",
        "\n",
        "\n",
        "class Queue:\n",
        "    def __init__(self, value):\n",
        "        new_node = Node(value)\n",
        "        self.first = new_node\n",
        "        self.last = new_node\n",
        "        self.length = 1\n",
        "\n",
        "    def print_queue(self):\n",
        "        temp = self.first\n",
        "        while temp is not None:\n",
        "            print(temp.value)\n",
        "            temp = temp.next\n",
        "\n",
        "    ## WRITE ENQUEUE METHOD HERE ##\n",
        "    #                             #\n",
        "    #                             #\n",
        "    #                             #\n",
        "    #                             #\n",
        "    ###############################\n"
      ],
      "metadata": {
        "id": "SLitnMzMu78a"
      },
      "execution_count": null,
      "outputs": []
    },
    {
      "cell_type": "code",
      "source": [
        "my_queue = Queue(1)\n",
        "\n",
        "print('Queue before enqueue(2):')\n",
        "my_queue.print_queue()\n",
        "\n",
        "my_queue.enqueue(2)\n",
        "\n",
        "print('\\nQueue after enqueue(2):')\n",
        "my_queue.print_queue()\n",
        "\n",
        "\n",
        "\n",
        "\"\"\"\n",
        "    EXPECTED OUTPUT:\n",
        "    ----------------\n",
        "    Queue before enqueue(2):\n",
        "    1\n",
        "\n",
        "    Queue after enqueue(2):\n",
        "    1\n",
        "    2\n",
        "\n",
        "\"\"\""
      ],
      "metadata": {
        "id": "Q2LBtwjfu_9v"
      },
      "execution_count": null,
      "outputs": []
    },
    {
      "cell_type": "code",
      "source": [],
      "metadata": {
        "id": "vPSVW7yYvBhk"
      },
      "execution_count": null,
      "outputs": []
    },
    {
      "cell_type": "markdown",
      "source": [
        "# Queue : Dequeue"
      ],
      "metadata": {
        "id": "ybAZrJ_-vDSx"
      }
    },
    {
      "cell_type": "code",
      "source": [
        "class Node:\n",
        "    def __init__(self, value):\n",
        "        self.value = value\n",
        "        self.next = None\n",
        "\n",
        "\n",
        "class Queue:\n",
        "    def __init__(self, value):\n",
        "        new_node = Node(value)\n",
        "        self.first = new_node\n",
        "        self.last = new_node\n",
        "        self.length = 1\n",
        "\n",
        "    def print_queue(self):\n",
        "        temp = self.first\n",
        "        while temp is not None:\n",
        "            print(temp.value)\n",
        "            temp = temp.next\n",
        "\n",
        "    def enqueue(self, value):\n",
        "        new_node = Node(value)\n",
        "        if self.first is None:\n",
        "            self.first = new_node\n",
        "            self.last = new_node\n",
        "        else:\n",
        "            self.last.next = new_node\n",
        "            self.last = new_node\n",
        "        self.length += 1\n",
        "        return True\n",
        "\n",
        "    ## WRITE DEQUEUE METHOD HERE ##\n",
        "    #                             #\n",
        "    #                             #\n",
        "    #                             #\n",
        "    #                             #\n",
        "    ###############################"
      ],
      "metadata": {
        "id": "uMNEa75rvEoo"
      },
      "execution_count": null,
      "outputs": []
    },
    {
      "cell_type": "code",
      "source": [
        "my_queue = Queue(1)\n",
        "my_queue.enqueue(2)\n",
        "\n",
        "# (2) Items - Returns 2 Node\n",
        "print(my_queue.dequeue().value)\n",
        "# (1) Item -  Returns 1 Node\n",
        "print(my_queue.dequeue().value)\n",
        "# (0) Items - Returns None\n",
        "print(my_queue.dequeue())\n",
        "\n",
        "\n",
        "\n",
        "\"\"\"\n",
        "    EXPECTED OUTPUT:\n",
        "    ----------------\n",
        "    1\n",
        "    2\n",
        "    None\n",
        "\n",
        "\"\"\""
      ],
      "metadata": {
        "id": "ROtne3lFvHhj"
      },
      "execution_count": null,
      "outputs": []
    }
  ]
}