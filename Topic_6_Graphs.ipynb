{
  "nbformat": 4,
  "nbformat_minor": 0,
  "metadata": {
    "colab": {
      "provenance": [],
      "authorship_tag": "ABX9TyPu5rNURBPWXP/5Ti7G0mVs",
      "include_colab_link": true
    },
    "kernelspec": {
      "name": "python3",
      "display_name": "Python 3"
    },
    "language_info": {
      "name": "python"
    }
  },
  "cells": [
    {
      "cell_type": "markdown",
      "metadata": {
        "id": "view-in-github",
        "colab_type": "text"
      },
      "source": [
        "<a href=\"https://colab.research.google.com/github/niladribanerjee80/DSA_Scott_Barett/blob/main/Topic_6_Graphs.ipynb\" target=\"_parent\"><img src=\"https://colab.research.google.com/assets/colab-badge.svg\" alt=\"Open In Colab\"/></a>"
      ]
    },
    {
      "cell_type": "markdown",
      "source": [
        "# Initialize Adj List and Add vertex"
      ],
      "metadata": {
        "id": "ENOdJ3D7G1W0"
      }
    },
    {
      "cell_type": "code",
      "execution_count": 1,
      "metadata": {
        "id": "5arF6kMdFoYo"
      },
      "outputs": [],
      "source": [
        "class Graph:\n",
        "\n",
        "    def __init__(self):\n",
        "        self.adj_list = {}\n",
        "\n",
        "    def print_graph(self):\n",
        "\n",
        "        for vertex in self.adj_list:\n",
        "            print(vertex, \":\", self.adj_list[vertex])\n",
        "\n",
        "    def add_vertex(self,vertex):\n",
        "        if vertex not in self.adj_list.keys():\n",
        "            self.adj_list[vertex] = []\n",
        "            return True\n",
        "        return False\n"
      ]
    },
    {
      "cell_type": "code",
      "source": [
        "my_graph = Graph()\n",
        "\n",
        "my_graph.add_vertex(1)\n",
        "my_graph.add_vertex(2)\n",
        "\n",
        "my_graph.print_graph()"
      ],
      "metadata": {
        "colab": {
          "base_uri": "https://localhost:8080/"
        },
        "id": "8F4TOb2qGnHt",
        "outputId": "090c743f-77a9-4a92-9ec4-c6de101a2396"
      },
      "execution_count": 2,
      "outputs": [
        {
          "output_type": "stream",
          "name": "stdout",
          "text": [
            "1 : []\n",
            "2 : []\n"
          ]
        }
      ]
    },
    {
      "cell_type": "markdown",
      "source": [
        "# Add edges\n",
        "\n",
        "\n",
        "---\n",
        "\n",
        "* 1 : [2]\n",
        "* 2 : [1]\n"
      ],
      "metadata": {
        "id": "QamWAT6MG7bQ"
      }
    },
    {
      "cell_type": "code",
      "source": [
        "class Graph:\n",
        "\n",
        "    def __init__(self):\n",
        "        self.adj_list = {}\n",
        "\n",
        "    def print_graph(self):\n",
        "\n",
        "        for vertex in self.adj_list:\n",
        "            print(vertex, \":\", self.adj_list[vertex])\n",
        "\n",
        "    def add_vertex(self,vertex):\n",
        "        if vertex not in self.adj_list.keys():\n",
        "            self.adj_list[vertex] = []\n",
        "            return True\n",
        "        return False\n",
        "\n",
        "    def add_edge(self,v1, v2):\n",
        "        if v1 in self.adj_list.keys() and v2 in self.adj_list.keys():\n",
        "            if v2 not in self.adj_list[v1]:\n",
        "                self.adj_list[v1].append(v2)\n",
        "\n",
        "            if v1 not in self.adj_list[v2]:\n",
        "                self.adj_list[v2].append(v1)\n",
        "            return True\n",
        "        return False"
      ],
      "metadata": {
        "id": "G9lWe4I1Gy4y"
      },
      "execution_count": 8,
      "outputs": []
    },
    {
      "cell_type": "code",
      "source": [
        "my_graph = Graph()\n",
        "\n",
        "my_graph.add_vertex(1)\n",
        "my_graph.add_vertex(2)\n",
        "\n",
        "my_graph.add_edge(1,2)\n",
        "my_graph.print_graph()"
      ],
      "metadata": {
        "colab": {
          "base_uri": "https://localhost:8080/"
        },
        "id": "Db-p4AFtHuMe",
        "outputId": "bea140b5-526c-46e6-ec25-e42ece7eea9a"
      },
      "execution_count": 9,
      "outputs": [
        {
          "output_type": "stream",
          "name": "stdout",
          "text": [
            "1 : [2]\n",
            "2 : [1]\n"
          ]
        }
      ]
    },
    {
      "cell_type": "markdown",
      "source": [
        "# Remove edges"
      ],
      "metadata": {
        "id": "c1ONc5XsJFy_"
      }
    },
    {
      "cell_type": "code",
      "source": [
        "class Graph:\n",
        "\n",
        "    def __init__(self):\n",
        "        self.adj_list = {}\n",
        "\n",
        "    def print_graph(self):\n",
        "\n",
        "        for vertex in self.adj_list:\n",
        "            print(vertex, \":\", self.adj_list[vertex])\n",
        "\n",
        "    def add_vertex(self,vertex):\n",
        "        if vertex not in self.adj_list.keys():\n",
        "            self.adj_list[vertex] = []\n",
        "            return True\n",
        "        return False\n",
        "\n",
        "    def add_edge(self,v1, v2):\n",
        "        if v1 in self.adj_list.keys() and v2 in self.adj_list.keys():\n",
        "            if v2 not in self.adj_list[v1]:\n",
        "                self.adj_list[v1].append(v2)\n",
        "\n",
        "            if v1 not in self.adj_list[v2]:\n",
        "                self.adj_list[v2].append(v1)\n",
        "            return True\n",
        "        return False\n",
        "\n",
        "    def remove_edge(self,v1,v2):\n",
        "\n",
        "        status_1 = False\n",
        "        status_2 = False\n",
        "\n",
        "        # first check if the vertex exist\n",
        "        if v1 in self.adj_list.keys():\n",
        "            # check if the edge exists\n",
        "            if v2 in self.adj_list[v1]:\n",
        "                self.adj_list[v1].remove(v2)\n",
        "                status_1 = True\n",
        "\n",
        "        # first check if the vertex exist\n",
        "        if v2 in self.adj_list.keys():\n",
        "            # check if the edge exists\n",
        "            if v1 in self.adj_list[v2]:\n",
        "                self.adj_list[v2].remove(v1)\n",
        "                status_2 = True\n",
        "\n",
        "        if status_1 and status_2:\n",
        "            return True\n",
        "        else:\n",
        "            return False"
      ],
      "metadata": {
        "id": "fdGso9UNHzZ8"
      },
      "execution_count": 11,
      "outputs": []
    },
    {
      "cell_type": "code",
      "source": [
        "my_graph = Graph()\n",
        "\n",
        "my_graph.add_vertex(1)\n",
        "my_graph.add_vertex(2)\n",
        "\n",
        "my_graph.add_edge(1,2)\n",
        "print(\"After adding edge 1<->2\")\n",
        "my_graph.print_graph()\n",
        "print(\"\\n\")\n",
        "\n",
        "my_graph.remove_edge(1,2)\n",
        "print(\"After removing edge 1<->2\")\n",
        "my_graph.print_graph()"
      ],
      "metadata": {
        "colab": {
          "base_uri": "https://localhost:8080/"
        },
        "id": "kM7C6o-VKbGX",
        "outputId": "9b4f0305-ed91-41be-f4f5-7fca84642e9d"
      },
      "execution_count": 13,
      "outputs": [
        {
          "output_type": "stream",
          "name": "stdout",
          "text": [
            "After adding edge 1<->2\n",
            "1 : [2]\n",
            "2 : [1]\n",
            "\n",
            "\n",
            "After removing edge 1<->2\n",
            "1 : []\n",
            "2 : []\n"
          ]
        }
      ]
    },
    {
      "cell_type": "code",
      "source": [
        "my_graph = Graph()\n",
        "\n",
        "my_graph.add_vertex(\"A\")\n",
        "my_graph.add_vertex(\"B\")\n",
        "my_graph.add_vertex(\"C\")\n",
        "\n",
        "my_graph.add_edge(\"A\",\"B\")\n",
        "my_graph.add_edge(\"B\",\"C\")\n",
        "my_graph.add_edge(\"C\",\"A\")\n",
        "my_graph.print_graph()\n",
        "print(\"\\n\")\n",
        "\n",
        "my_graph.remove_edge(\"A\",\"B\")\n",
        "print(\"After removing edge A,B\")\n",
        "my_graph.print_graph()"
      ],
      "metadata": {
        "colab": {
          "base_uri": "https://localhost:8080/"
        },
        "id": "fOnhU_oYKbJ-",
        "outputId": "86226540-3c6e-4ac6-dd78-3aea1a0cd609"
      },
      "execution_count": 14,
      "outputs": [
        {
          "output_type": "stream",
          "name": "stdout",
          "text": [
            "A : ['B', 'C']\n",
            "B : ['A', 'C']\n",
            "C : ['B', 'A']\n",
            "\n",
            "\n",
            "After removing edge A,B\n",
            "A : ['C']\n",
            "B : ['C']\n",
            "C : ['B', 'A']\n"
          ]
        }
      ]
    },
    {
      "cell_type": "code",
      "source": [
        "my_graph = Graph()\n",
        "\n",
        "my_graph.add_vertex(\"A\")\n",
        "my_graph.add_vertex(\"B\")\n",
        "my_graph.add_vertex(\"C\")\n",
        "my_graph.add_vertex(\"D\")\n",
        "\n",
        "my_graph.add_edge(\"A\",\"B\")\n",
        "my_graph.add_edge(\"B\",\"C\")\n",
        "my_graph.add_edge(\"C\",\"A\")\n",
        "my_graph.print_graph()\n",
        "print(\"\\n\")\n",
        "\n",
        "my_graph.remove_edge(\"A\",\"D\")\n",
        "print(\"After removing edge A,D\")\n",
        "my_graph.print_graph()"
      ],
      "metadata": {
        "colab": {
          "base_uri": "https://localhost:8080/"
        },
        "id": "0r6YBa7zKW_6",
        "outputId": "e9ac82ad-1a0e-49d0-cc81-89b08c90aac6"
      },
      "execution_count": 16,
      "outputs": [
        {
          "output_type": "stream",
          "name": "stdout",
          "text": [
            "A : ['B', 'C']\n",
            "B : ['A', 'C']\n",
            "C : ['B', 'A']\n",
            "D : []\n",
            "\n",
            "\n",
            "After removing edge A,D\n",
            "A : ['B', 'C']\n",
            "B : ['A', 'C']\n",
            "C : ['B', 'A']\n",
            "D : []\n"
          ]
        }
      ]
    },
    {
      "cell_type": "markdown",
      "source": [
        "# Remove vertex"
      ],
      "metadata": {
        "id": "K3DT4QLihb6P"
      }
    },
    {
      "cell_type": "code",
      "source": [
        "class Graph:\n",
        "\n",
        "    def __init__(self):\n",
        "        self.adj_list = {}\n",
        "\n",
        "    def print_graph(self):\n",
        "\n",
        "        for vertex in self.adj_list:\n",
        "            print(vertex, \":\", self.adj_list[vertex])\n",
        "\n",
        "    def add_vertex(self,vertex):\n",
        "        if vertex not in self.adj_list.keys():\n",
        "            self.adj_list[vertex] = []\n",
        "            return True\n",
        "        return False\n",
        "\n",
        "    def add_edge(self,v1, v2):\n",
        "        if v1 in self.adj_list.keys() and v2 in self.adj_list.keys():\n",
        "            if v2 not in self.adj_list[v1]:\n",
        "                self.adj_list[v1].append(v2)\n",
        "\n",
        "            if v1 not in self.adj_list[v2]:\n",
        "                self.adj_list[v2].append(v1)\n",
        "            return True\n",
        "        return False\n",
        "\n",
        "    def remove_edge(self,v1,v2):\n",
        "\n",
        "        status_1 = False\n",
        "        status_2 = False\n",
        "\n",
        "        # first check if the vertex exist\n",
        "        if v1 in self.adj_list.keys():\n",
        "            # check if the edge exists\n",
        "            if v2 in self.adj_list[v1]:\n",
        "                self.adj_list[v1].remove(v2)\n",
        "                status_1 = True\n",
        "\n",
        "        # first check if the vertex exist\n",
        "        if v2 in self.adj_list.keys():\n",
        "            # check if the edge exists\n",
        "            if v1 in self.adj_list[v2]:\n",
        "                self.adj_list[v2].remove(v1)\n",
        "                status_2 = True\n",
        "\n",
        "        if status_1 and status_2:\n",
        "            return True\n",
        "        else:\n",
        "            return False\n",
        "\n",
        "    def remove_vertex(self, vertex):\n",
        "        if vertex in self.adj_list.keys():\n",
        "            for other_vertex in self.adj_list[vertex]:\n",
        "                self.adj_list[other_vertex].remove(vertex)\n",
        "\n",
        "            del self.adj_list[vertex]\n",
        "            return True\n",
        "        return False"
      ],
      "metadata": {
        "id": "BdBNFUFdL-EU"
      },
      "execution_count": 17,
      "outputs": []
    },
    {
      "cell_type": "code",
      "source": [
        "my_graph = Graph()\n",
        "\n",
        "my_graph.add_vertex(\"A\")\n",
        "my_graph.add_vertex(\"B\")\n",
        "my_graph.add_vertex(\"C\")\n",
        "my_graph.add_vertex(\"D\")\n",
        "\n",
        "my_graph.add_edge(\"A\",\"B\")\n",
        "my_graph.add_edge(\"B\",\"D\")\n",
        "my_graph.add_edge(\"D\",\"C\")\n",
        "my_graph.add_edge(\"D\",\"A\")\n",
        "my_graph.add_edge(\"C\",\"A\")\n",
        "my_graph.print_graph()\n",
        "print(\"\\n\")\n",
        "\n",
        "my_graph.remove_vertex('D')\n",
        "my_graph.print_graph()"
      ],
      "metadata": {
        "colab": {
          "base_uri": "https://localhost:8080/"
        },
        "id": "_AqO_yxrhddH",
        "outputId": "3c5a42e8-0c0d-4c38-a7cc-dcfec63dc5c6"
      },
      "execution_count": 19,
      "outputs": [
        {
          "output_type": "stream",
          "name": "stdout",
          "text": [
            "A : ['B', 'D', 'C']\n",
            "B : ['A', 'D']\n",
            "C : ['D', 'A']\n",
            "D : ['B', 'C', 'A']\n",
            "\n",
            "\n",
            "A : ['B', 'C']\n",
            "B : ['A']\n",
            "C : ['A']\n"
          ]
        }
      ]
    },
    {
      "cell_type": "code",
      "source": [],
      "metadata": {
        "id": "pJKjn6Rxiuu1"
      },
      "execution_count": null,
      "outputs": []
    }
  ]
}