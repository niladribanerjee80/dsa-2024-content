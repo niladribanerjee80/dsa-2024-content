{
  "nbformat": 4,
  "nbformat_minor": 0,
  "metadata": {
    "colab": {
      "provenance": [],
      "authorship_tag": "ABX9TyO3BV6kaeXTMSZFntThw1Dn",
      "include_colab_link": true
    },
    "kernelspec": {
      "name": "python3",
      "display_name": "Python 3"
    },
    "language_info": {
      "name": "python"
    }
  },
  "cells": [
    {
      "cell_type": "markdown",
      "metadata": {
        "id": "view-in-github",
        "colab_type": "text"
      },
      "source": [
        "<a href=\"https://colab.research.google.com/github/niladribanerjee80/DSA_Scott_Barett/blob/main/Topic_5_Hash_Tables_classroom_exercises.ipynb\" target=\"_parent\"><img src=\"https://colab.research.google.com/assets/colab-badge.svg\" alt=\"Open In Colab\"/></a>"
      ]
    },
    {
      "cell_type": "markdown",
      "source": [
        "# HT: Constructor\n",
        "\n",
        "\n",
        "---\n",
        "\n",
        "Create a HashTable class that represents a hash table data structure with a fixed-size array implementation.\n",
        "\n",
        "The HashTable class should have the following components:\n",
        "\n",
        "An __init__ method that initializes a new hash table with a given size (default size is 7). The __init__ method should perform the following task:\n",
        "\n",
        "Create a list named data_map of length size, initialized with None values, which will be used to store the key-value pairs in the hash table. Set the data_map attribute of the HashTable class to this list."
      ],
      "metadata": {
        "id": "v66BgqZg_0ht"
      }
    },
    {
      "cell_type": "code",
      "execution_count": null,
      "metadata": {
        "id": "P4ph0nuU_fQV"
      },
      "outputs": [],
      "source": [
        "class HashTable:\n",
        "\n",
        "    # write your code here for constructor\n",
        "\n",
        "    def __hash(self, key):\n",
        "        my_hash = 0\n",
        "        for letter in key:\n",
        "            my_hash = (my_hash + ord(letter) * 23) % len(self.data_map)\n",
        "        return my_hash\n",
        "\n",
        "    def print_table(self):\n",
        "        for i, val in enumerate(self.data_map):\n",
        "            print(i, \": \", val)"
      ]
    },
    {
      "cell_type": "code",
      "source": [
        "my_hash_table = HashTable()\n",
        "my_hash_table.print_table()\n",
        "\n",
        "# \"\"\"\n",
        "#     EXPECTED OUTPUT:\n",
        "#     ----------------\n",
        "#     0 :  None\n",
        "#     1 :  None\n",
        "#     2 :  None\n",
        "#     3 :  None\n",
        "#     4 :  None\n",
        "#     5 :  None\n",
        "#     6 :  None\n",
        "\n",
        "# \"\"\""
      ],
      "metadata": {
        "id": "SdR4sJ0r_vwh"
      },
      "execution_count": null,
      "outputs": []
    },
    {
      "cell_type": "code",
      "source": [],
      "metadata": {
        "id": "bDRJ4gq2AB2O"
      },
      "execution_count": null,
      "outputs": []
    },
    {
      "cell_type": "markdown",
      "source": [
        "# HT Set\n",
        "\n",
        "---\n",
        "\n",
        "Implement the set_item method for the HashTable class that inserts a key-value pair into the hash table.\n",
        "\n",
        "The method should perform the following tasks:\n",
        "\n",
        "Calculate the hash value of the given key by calling the private __hash method (to be implemented separately) and store the result in a variable named index.\n",
        "\n",
        "Check if the data_map list at the calculated index is None:\n",
        "\n",
        "If it is, create an empty list at that index in data_map.\n",
        "\n",
        "Append the key-value pair as a list containing two elements [key, value] to the list at the calculated index in data_map."
      ],
      "metadata": {
        "id": "Q5kbSZ-OABFq"
      }
    },
    {
      "cell_type": "code",
      "source": [
        "class HashTable:\n",
        "\n",
        "    # write your code from above for constructor\n",
        "\n",
        "    def print_table(self):\n",
        "        for i, val in enumerate(self.data_map):\n",
        "            print(i, \": \", val)\n",
        "\n",
        "    def __hash(self, key):\n",
        "        my_hash = 0\n",
        "        for letter in key:\n",
        "            my_hash = (my_hash + ord(letter) * 23) % len(self.data_map)\n",
        "        return my_hash\n",
        "\n",
        "    # write your code here"
      ],
      "metadata": {
        "id": "jjxzT9tLAGh3"
      },
      "execution_count": null,
      "outputs": []
    },
    {
      "cell_type": "code",
      "source": [
        "my_hash_table = HashTable()\n",
        "\n",
        "my_hash_table.set_item('bolts', 1400)\n",
        "my_hash_table.set_item('washers', 50)\n",
        "my_hash_table.set_item('lumber', 70)\n",
        "\n",
        "my_hash_table.print_table()\n",
        "\n",
        "\n",
        "# \"\"\"\n",
        "#     EXPECTED OUTPUT:\n",
        "#     ----------------\n",
        "#     0 :  None\n",
        "#     1 :  None\n",
        "#     2 :  None\n",
        "#     3 :  None\n",
        "#     4 :  [['bolts', 1400], ['washers', 50]]\n",
        "#     5 :  None\n",
        "#     6 :  [['lumber', 70]]\n",
        "\n",
        "# \"\"\""
      ],
      "metadata": {
        "id": "Wvj1tNmNAIoq"
      },
      "execution_count": null,
      "outputs": []
    },
    {
      "cell_type": "code",
      "source": [],
      "metadata": {
        "id": "eRuBfXcRAXLT"
      },
      "execution_count": null,
      "outputs": []
    },
    {
      "cell_type": "markdown",
      "source": [
        "# HT Get\n",
        "\n",
        "\n",
        "---\n",
        "\n",
        "Implement the get_item method for the HashTable class that retrieves the value associated with a given key from the hash table.\n",
        "\n",
        "The method should perform the following tasks:\n",
        "\n",
        "Calculate the hash value of the given key by calling the private __hash method and store the result in a variable named index.\n",
        "\n",
        "Check if the data_map list at the calculated index is not None:\n",
        "\n",
        "If it is not, iterate through the key-value pairs stored in the list at the calculated index in data_map:\n",
        "\n",
        "For each key-value pair, compare the stored key (located at position 0) with the given key.\n",
        "\n",
        "If a match is found, return the corresponding value (located at position 1) of the key-value pair.\n",
        "\n",
        "If the given key is not found in the hash table, return None.\n"
      ],
      "metadata": {
        "id": "J4H6W1uOAXhS"
      }
    },
    {
      "cell_type": "code",
      "source": [
        "class HashTable:\n",
        "\n",
        "    # write your code from above for constructor\n",
        "\n",
        "    def __hash(self, key):\n",
        "        my_hash = 0\n",
        "        for letter in key:\n",
        "            my_hash = (my_hash + ord(letter) * 23) % len(self.data_map)\n",
        "        return my_hash\n",
        "\n",
        "    def print_table(self):\n",
        "        for i, val in enumerate(self.data_map):\n",
        "            print(i, \": \", val)\n",
        "\n",
        "    # write your code from above for set_item\n",
        "\n",
        "    # write your code here"
      ],
      "metadata": {
        "id": "XdeX6ndQAfP5"
      },
      "execution_count": null,
      "outputs": []
    },
    {
      "cell_type": "code",
      "source": [
        "my_hash_table = HashTable()\n",
        "\n",
        "my_hash_table.set_item('bolts', 1400)\n",
        "my_hash_table.set_item('washers', 50)\n",
        "\n",
        "print('Bolts:', my_hash_table.get_item('bolts'))\n",
        "print('Washers:', my_hash_table.get_item('washers'))\n",
        "print('Lumber:', my_hash_table.get_item('lumber'))\n",
        "\n",
        "\n",
        "\n",
        "# \"\"\"\n",
        "#     EXPECTED OUTPUT:\n",
        "#     ----------------\n",
        "#     Bolts: 1400\n",
        "#     Washers: 50\n",
        "#     Lumber: None\n",
        "\n",
        "# \"\"\""
      ],
      "metadata": {
        "id": "GBvjGovXAqCp"
      },
      "execution_count": null,
      "outputs": []
    },
    {
      "cell_type": "markdown",
      "source": [
        "# HT Keys\n",
        "\n",
        "---\n",
        "\n",
        "Implement the keys method for the HashTable class that returns a list of all the keys present in the hash table.\n",
        "\n",
        "The method should perform the following tasks:\n",
        "\n",
        "Create an empty list named all_keys that will store the keys present in the hash table.\n",
        "\n",
        "Iterate through the data_map list:\n",
        "\n",
        "For each non-None element in data_map, iterate through the key-value pairs stored in the nested list.\n",
        "\n",
        "For each key-value pair, append the key (located at position 0) to the all_keys list.\n",
        "\n",
        "Return the all_keys list containing all the keys present in the hash table.\n"
      ],
      "metadata": {
        "id": "baqMmH_1A7HF"
      }
    },
    {
      "cell_type": "code",
      "source": [
        "class HashTable:\n",
        "\n",
        "    # write your code for HT constructor from above\n",
        "\n",
        "    def __hash(self, key):\n",
        "        my_hash = 0\n",
        "        for letter in key:\n",
        "            my_hash = (my_hash + ord(letter) * 23) % len(self.data_map)\n",
        "        return my_hash\n",
        "\n",
        "    def print_table(self):\n",
        "        for i, val in enumerate(self.data_map):\n",
        "            print(i, \": \", val)\n",
        "\n",
        "    # write your code from above for set_item\n",
        "\n",
        "    # write your code from above for get_item\n",
        "\n",
        "    # write your code here"
      ],
      "metadata": {
        "id": "c49gXla7A8ac"
      },
      "execution_count": null,
      "outputs": []
    },
    {
      "cell_type": "code",
      "source": [
        "my_hash_table = HashTable()\n",
        "\n",
        "my_hash_table.set_item('bolts', 1400)\n",
        "my_hash_table.set_item('washers', 50)\n",
        "my_hash_table.set_item('lumber', 70)\n",
        "\n",
        "print(my_hash_table.keys())\n",
        "\n",
        "\n",
        "\n",
        "# \"\"\"\n",
        "#     EXPECTED OUTPUT:\n",
        "#     ----------------\n",
        "#     ['bolts', 'washers', 'lumber']\n",
        "\n",
        "# \"\"\""
      ],
      "metadata": {
        "id": "JdsYE1atA-jw"
      },
      "execution_count": null,
      "outputs": []
    }
  ]
}