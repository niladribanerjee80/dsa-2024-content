{
  "nbformat": 4,
  "nbformat_minor": 0,
  "metadata": {
    "colab": {
      "provenance": [],
      "authorship_tag": "ABX9TyMSmaHtqucokTXjIhogSOk/",
      "include_colab_link": true
    },
    "kernelspec": {
      "name": "python3",
      "display_name": "Python 3"
    },
    "language_info": {
      "name": "python"
    }
  },
  "cells": [
    {
      "cell_type": "markdown",
      "metadata": {
        "id": "view-in-github",
        "colab_type": "text"
      },
      "source": [
        "<a href=\"https://colab.research.google.com/github/niladribanerjee80/DSA_Scott_Barett/blob/main/Topic_7_Heaps.ipynb\" target=\"_parent\"><img src=\"https://colab.research.google.com/assets/colab-badge.svg\" alt=\"Open In Colab\"/></a>"
      ]
    },
    {
      "cell_type": "markdown",
      "source": [
        "# Constructor, Insert"
      ],
      "metadata": {
        "id": "xlm5nBeCqBEz"
      }
    },
    {
      "cell_type": "code",
      "execution_count": null,
      "metadata": {
        "id": "DTFMnae8NXSU"
      },
      "outputs": [],
      "source": [
        "class MaxHeap:\n",
        "\n",
        "    def __init__(self):\n",
        "        self.heap = []\n",
        "\n",
        "    def _left_child(self,index):\n",
        "        return 2*index + 1\n",
        "\n",
        "    def _right_child(self,index):\n",
        "        return 2*index + 2\n",
        "\n",
        "    def _parent(self,index):\n",
        "        return (index-1)//2\n",
        "\n",
        "    def _swap(self,index1,index2):\n",
        "        self.heap[index1], self.heap[index2] = self.heap[index2], self.heap[index1]\n",
        "\n",
        "    def insert(self,value):\n",
        "        self.heap.append(value)\n",
        "        current = len(self.heap)-1\n",
        "        while current > 0:\n",
        "            if value > self.heap[self._parent(current)]:\n",
        "                # go for swap\n",
        "                self._swap(current,self._parent(current))\n",
        "                current = self._parent(current)\n",
        "            else:\n",
        "                break"
      ]
    },
    {
      "cell_type": "code",
      "source": [
        "myheap = MaxHeap()\n",
        "\n",
        "myheap.insert(99)\n",
        "myheap.insert(72)\n",
        "myheap.insert(61)\n",
        "myheap.insert(58)\n",
        "\n",
        "print(myheap.heap)\n",
        "\n",
        "myheap.insert(100)\n",
        "print(myheap.heap)\n",
        "\n",
        "myheap.insert(75)\n",
        "print(myheap.heap)"
      ],
      "metadata": {
        "colab": {
          "base_uri": "https://localhost:8080/"
        },
        "id": "NaMEojF1Ns9T",
        "outputId": "75baf884-8fd4-49e4-a2fd-498ccde7d18b"
      },
      "execution_count": null,
      "outputs": [
        {
          "output_type": "stream",
          "name": "stdout",
          "text": [
            "[99, 72, 61, 58]\n",
            "[100, 99, 61, 58, 72]\n",
            "[100, 99, 75, 58, 72, 61]\n"
          ]
        }
      ]
    },
    {
      "cell_type": "code",
      "source": [],
      "metadata": {
        "id": "ICdkVlFsOaaD"
      },
      "execution_count": null,
      "outputs": []
    },
    {
      "cell_type": "markdown",
      "source": [
        "# Remove"
      ],
      "metadata": {
        "id": "WWBFOa_ZqFI0"
      }
    },
    {
      "cell_type": "code",
      "source": [
        "class MaxHeap:\n",
        "\n",
        "    def __init__(self):\n",
        "        self.heap = []\n",
        "\n",
        "    def _left_child(self,index):\n",
        "        return 2*index + 1\n",
        "\n",
        "    def _right_child(self,index):\n",
        "        return 2*index + 2\n",
        "\n",
        "    def _parent(self,index):\n",
        "        return (index-1)//2\n",
        "\n",
        "    def _swap(self,index1,index2):\n",
        "        self.heap[index1], self.heap[index2] = self.heap[index2], self.heap[index1]\n",
        "\n",
        "    def insert(self,value):\n",
        "        self.heap.append(value)\n",
        "        current = len(self.heap)-1\n",
        "        while current > 0:\n",
        "            if value > self.heap[self._parent(current)]:\n",
        "                # go for swap\n",
        "                self._swap(current,self._parent(current))\n",
        "                current = self._parent(current)\n",
        "            else:\n",
        "                break\n",
        "\n",
        "    def _sink_down(self,index):\n",
        "        max_index = index\n",
        "\n",
        "        while True:\n",
        "            left_index = self._left_child(index)\n",
        "            right_index = self._right_child(index)\n",
        "\n",
        "            if (left_index < len(self.heap)) and self.heap[left_index] > self.heap[max_index]:\n",
        "                max_index = left_index\n",
        "\n",
        "            if (right_index < len(self.heap)) and self.heap[right_index] > self.heap[max_index]:\n",
        "                max_index = right_index\n",
        "\n",
        "            if max_index != index:\n",
        "                # swap\n",
        "                self._swap(index,max_index)\n",
        "                index = max_index\n",
        "            else:\n",
        "                return\n",
        "\n",
        "    def remove(self):\n",
        "        if len(self.heap) == 0:\n",
        "            return None\n",
        "\n",
        "        if len(self.heap) == 1:\n",
        "            return self.heap.pop()\n",
        "\n",
        "        max_value = self.heap[0]\n",
        "        self.heap[0] = self.heap.pop()\n",
        "\n",
        "        self._sink_down(0)\n",
        "\n",
        "        return max_value\n",
        ""
      ],
      "metadata": {
        "id": "BCd5e7JwqGHk"
      },
      "execution_count": 2,
      "outputs": []
    },
    {
      "cell_type": "code",
      "source": [
        "myheap = MaxHeap()\n",
        "\n",
        "myheap.insert(95)\n",
        "myheap.insert(75)\n",
        "myheap.insert(80)\n",
        "myheap.insert(60)\n",
        "myheap.insert(50)\n",
        "myheap.insert(50)\n",
        "myheap.insert(65)\n",
        "\n",
        "print(myheap.heap)\n",
        "\n",
        "removed_node = myheap.remove()\n",
        "print(\"Removed node = \",removed_node)\n",
        "print(myheap.heap)\n",
        "print(\"-----\")\n",
        "removed_node = myheap.remove()\n",
        "print(\"Removed node = \",removed_node)\n",
        "print(myheap.heap)"
      ],
      "metadata": {
        "colab": {
          "base_uri": "https://localhost:8080/"
        },
        "id": "iE7HPBfnrUcr",
        "outputId": "1a0b5181-b5c8-40f9-c376-9e8602cf0654"
      },
      "execution_count": 6,
      "outputs": [
        {
          "output_type": "stream",
          "name": "stdout",
          "text": [
            "[95, 75, 80, 60, 50, 50, 65]\n",
            "Removed node =  95\n",
            "[80, 75, 65, 60, 50, 50]\n",
            "-----\n",
            "Removed node =  80\n",
            "[75, 60, 65, 50, 50]\n"
          ]
        }
      ]
    },
    {
      "cell_type": "code",
      "source": [],
      "metadata": {
        "id": "dpHDxB8DvRaF"
      },
      "execution_count": null,
      "outputs": []
    }
  ]
}