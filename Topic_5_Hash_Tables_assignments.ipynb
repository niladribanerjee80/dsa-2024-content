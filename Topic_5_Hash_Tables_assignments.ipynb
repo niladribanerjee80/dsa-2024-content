{
  "nbformat": 4,
  "nbformat_minor": 0,
  "metadata": {
    "colab": {
      "provenance": [],
      "authorship_tag": "ABX9TyMwzh96gMLmLqWbClJgPLhc",
      "include_colab_link": true
    },
    "kernelspec": {
      "name": "python3",
      "display_name": "Python 3"
    },
    "language_info": {
      "name": "python"
    }
  },
  "cells": [
    {
      "cell_type": "markdown",
      "metadata": {
        "id": "view-in-github",
        "colab_type": "text"
      },
      "source": [
        "<a href=\"https://colab.research.google.com/github/niladribanerjee80/DSA_Scott_Barett/blob/main/Topic_5_Hash_Tables_assignments.ipynb\" target=\"_parent\"><img src=\"https://colab.research.google.com/assets/colab-badge.svg\" alt=\"Open In Colab\"/></a>"
      ]
    },
    {
      "cell_type": "markdown",
      "source": [
        "# Item In Common\n",
        "\n",
        "\n",
        "---\n",
        "\n",
        "Write a function item_in_common(list1, list2) that takes two lists as input and returns True if there is at least one common item between the two lists, False otherwise.\n",
        "\n",
        "Use a dictionary to solve the problem that creates an O(n) time complexity.\n",
        "\n"
      ],
      "metadata": {
        "id": "pg4KGFpiB0eV"
      }
    },
    {
      "cell_type": "code",
      "execution_count": null,
      "metadata": {
        "id": "ncpLiAdMBtdO"
      },
      "outputs": [],
      "source": [
        "def item_in_common(list1, list2):\n",
        "    # write your code here"
      ]
    },
    {
      "cell_type": "code",
      "source": [
        "list1 = [1,3,5]\n",
        "list2 = [2,4,5]\n",
        "\n",
        "print(item_in_common(list1, list2))\n",
        "\n",
        "# \"\"\"\n",
        "#     EXPECTED OUTPUT:\n",
        "#     ----------------\n",
        "#     True\n",
        "\n",
        "# \"\"\""
      ],
      "metadata": {
        "id": "PL2g9DZlCBos"
      },
      "execution_count": null,
      "outputs": []
    },
    {
      "cell_type": "markdown",
      "source": [
        "# Find Duplicates\n",
        "\n",
        "\n",
        "---\n",
        "find_duplicates()\n",
        "\n",
        "\n",
        "Problem: Given an array of integers nums, find all the duplicates in the array using a hash table (dictionary).\n",
        "\n",
        "\n",
        "Input:\n",
        "\n",
        "A list of integers nums.\n",
        "\n",
        "\n",
        "Output:\n",
        "\n",
        "A list of integers representing the numbers in the input array nums that appear more than once. If no duplicates are found in the input array, return an empty list [].\n",
        "\n",
        "Input: nums = [4, 3, 2, 7, 8, 2, 3, 1]\n",
        "Output: [2, 3]\n",
        "Explanation: The numbers 2 and 3 appear more than once in the input array.\n",
        "\n",
        "Input: nums = [1, 2, 3, 4, 5]\n",
        "Output: []\n",
        "Explanation: There are no duplicates in the input array, so the function returns an empty list [].\n",
        "\n",
        "Input: nums = [3, 3, 3, 3, 3]\n",
        "Output: [3]\n",
        "Explanation: The number 3 appears more than once in the input array.\n",
        "\n",
        "Input: nums = [-1, 0, 1, 0, -1, -1, 2, 2]\n",
        "Output: [-1, 0, 2]\n",
        "Explanation: The numbers -1, 0, and 2 appear more than once in the input array.\n",
        "\n",
        "Input: nums = []\n",
        "Output: []\n",
        "Explanation: There are no numbers in the input array, so the function returns an empty list [].\n"
      ],
      "metadata": {
        "id": "WwvvfS4gCP6f"
      }
    },
    {
      "cell_type": "code",
      "source": [
        "# WRITE FIND_DUPLICATES FUNCTION HERE #\n",
        "#                                     #\n",
        "#                                     #\n",
        "#                                     #\n",
        "#                                     #\n",
        "#######################################"
      ],
      "metadata": {
        "id": "Lg9rR8COCcZ0"
      },
      "execution_count": null,
      "outputs": []
    },
    {
      "cell_type": "code",
      "source": [
        "print ( find_duplicates([1, 2, 3, 4, 5]) )\n",
        "print ( find_duplicates([1, 1, 2, 2, 3]) )\n",
        "print ( find_duplicates([1, 1, 1, 1, 1]) )\n",
        "print ( find_duplicates([1, 2, 3, 3, 3, 4, 4, 5]) )\n",
        "print ( find_duplicates([1, 1, 2, 2, 2, 3, 3, 3, 3]) )\n",
        "print ( find_duplicates([1, 1, 1, 2, 2, 2, 3, 3, 3, 3]) )\n",
        "print ( find_duplicates([]) )\n",
        "\n",
        "# \"\"\"\n",
        "#     EXPECTED OUTPUT:\n",
        "#     ----------------\n",
        "#     []\n",
        "#     [1, 2]\n",
        "#     [1]\n",
        "#     [3, 4]\n",
        "#     [1, 2, 3]\n",
        "#     [1, 2, 3]\n",
        "#     []\n",
        "\n",
        "# \"\"\""
      ],
      "metadata": {
        "id": "o3zJ7Ps5Chyn"
      },
      "execution_count": null,
      "outputs": []
    },
    {
      "cell_type": "code",
      "source": [],
      "metadata": {
        "id": "ZjlW5ENuClFO"
      },
      "execution_count": null,
      "outputs": []
    },
    {
      "cell_type": "markdown",
      "source": [
        "# First Non-Repeating Character\n",
        "\n",
        "\n",
        "---\n",
        "\n",
        "You have been given a string of lowercase letters.\n",
        "\n",
        "Write a function called first_non_repeating_char(string) that finds the first non-repeating character in the given string using a hash table (dictionary). If there is no non-repeating character in the string, the function should return None.\n",
        "\n",
        "For example, if the input string is \"leetcode\", the function should return \"l\" because \"l\" is the first character that appears only once in the string. Similarly, if the input string is \"hello\", the function should return \"h\" because \"h\" is the first non-repeating character in the string.\n",
        "\n",
        "\n"
      ],
      "metadata": {
        "id": "HtG-axnZCoeQ"
      }
    },
    {
      "cell_type": "code",
      "source": [
        "# WRITE THE FUNCTION HERE #\n",
        "#                         #\n",
        "#                         #\n",
        "#                         #\n",
        "#                         #\n",
        "###########################"
      ],
      "metadata": {
        "id": "bV2Qn7YXCt8O"
      },
      "execution_count": null,
      "outputs": []
    },
    {
      "cell_type": "code",
      "source": [
        "print( first_non_repeating_char('leetcode') )\n",
        "\n",
        "print( first_non_repeating_char('hello') )\n",
        "\n",
        "print( first_non_repeating_char('aabbcc') )\n",
        "\n",
        "\n",
        "\n",
        "# \"\"\"\n",
        "#     EXPECTED OUTPUT:\n",
        "#     ----------------\n",
        "#     l\n",
        "#     h\n",
        "#     None\n",
        "\n",
        "# \"\"\""
      ],
      "metadata": {
        "id": "9GB_ZkGKCw13"
      },
      "execution_count": null,
      "outputs": []
    },
    {
      "cell_type": "markdown",
      "source": [
        "# Group Anagrams\n",
        "\n",
        "\n",
        "---\n",
        "\n",
        "You have been given an array of strings, where each string may contain only lowercase English letters. You need to write a function group_anagrams(strings) that groups the anagrams in the array together using a hash table (dictionary). The function should return a list of lists, where each inner list contains a group of anagrams.\n",
        "\n",
        "For example, if the input array is [\"eat\", \"tea\", \"tan\", \"ate\", \"nat\", \"bat\"], the function should return [[\"eat\",\"tea\",\"ate\"],[\"tan\",\"nat\"],[\"bat\"]] because the first three strings are anagrams of each other, the next two strings are anagrams of each other, and the last string has no anagrams in the input array.\n",
        "\n",
        "You need to implement the group_anagrams(strings) function and return a list of lists, where each inner list contains a group of anagrams according to the above requirements."
      ],
      "metadata": {
        "id": "A0sOdDyJC0EW"
      }
    },
    {
      "cell_type": "code",
      "source": [
        "# WRITE GROUP_ANAGRAMS FUNCTION HERE #\n",
        "#                                    #\n",
        "#                                    #\n",
        "#                                    #\n",
        "#                                    #\n",
        "######################################"
      ],
      "metadata": {
        "id": "vglO_GRmC6d9"
      },
      "execution_count": null,
      "outputs": []
    },
    {
      "cell_type": "code",
      "source": [
        "print(\"1st set:\")\n",
        "print( group_anagrams([\"eat\", \"tea\", \"tan\", \"ate\", \"nat\", \"bat\"]) )\n",
        "\n",
        "print(\"\\n2nd set:\")\n",
        "print( group_anagrams([\"abc\", \"cba\", \"bac\", \"foo\", \"bar\"]) )\n",
        "\n",
        "print(\"\\n3rd set:\")\n",
        "print( group_anagrams([\"listen\", \"silent\", \"triangle\", \"integral\", \"garden\", \"ranged\"]) )\n",
        "\n",
        "\n",
        "\n",
        "# \"\"\"\n",
        "#     EXPECTED OUTPUT:\n",
        "#     ----------------\n",
        "#     1st set:\n",
        "#     [['eat', 'tea', 'ate'], ['tan', 'nat'], ['bat']]\n",
        "\n",
        "#     2nd set:\n",
        "#     [['abc', 'cba', 'bac'], ['foo'], ['bar']]\n",
        "\n",
        "#     3rd set:\n",
        "#     [['listen', 'silent'], ['triangle', 'integral'], ['garden', 'ranged']]\n",
        "\n",
        "# \"\"\""
      ],
      "metadata": {
        "id": "oyaF3t8AC-Ii"
      },
      "execution_count": null,
      "outputs": []
    },
    {
      "cell_type": "markdown",
      "source": [
        "# Two Sum\n",
        "\n",
        "\n",
        "---\n",
        "\n",
        "two_sum()\n",
        "\n",
        "Problem:\n",
        "Given an array of integers nums and a target integer target, find the indices of two numbers in the array that add up to the target.\n",
        "\n",
        "The main challenge here is to implement this function in one pass through the array. This means you should not iterate over the array more than once. Therefore, your solution should have a time complexity of O(n), where n is the number of elements in nums.\n",
        "\n",
        "\n",
        "\n",
        "Input:\n",
        "\n",
        "A list of integers nums .\n",
        "\n",
        "A target integer target.\n",
        "\n",
        "\n",
        "\n",
        "Output:\n",
        "\n",
        "A list of two integers representing the indices of the two numbers in the input array nums that add up to the target. If no two numbers in the input array add up to the target, return an empty list [].\n",
        "\n",
        "\n",
        "\n",
        "Example:\n",
        "\n",
        "\n",
        "\n",
        "Input: nums = [5, 1, 7, 2, 9, 3], target = 10\n",
        "Output: [1, 4]\n",
        "Explanation: The numbers at indices 1 and 4 in the array add up to the target 10.\n",
        "\n",
        "Input: nums = [3, 2, 4], target = 6\n",
        "Output: [1, 2]\n",
        "Explanation: The numbers at indices 1 and 2 in the array add up to the target 6.\n",
        "\n",
        "Input: nums = [3, 3], target = 6\n",
        "Output: [0, 1]\n",
        "Explanation: The numbers at indices 0 and 1 in the array add up to the target 6.\n",
        "\n",
        "Input: nums = [2, 1, 2, 7, 11, 15], target = 9\n",
        "Output: [2, 3]\n",
        "Explanation: Notice there are two 2s in the array.  The second one will be used.\n",
        "\n",
        "Input: nums = [1, 2, 3, 4, 5], target = 10\n",
        "Output: []\n",
        "Explanation: There are no two numbers in the array add up to the target 10.\n",
        "\n",
        "Input: nums = [], target = 0\n",
        "Output: []\n",
        "Explanation: There are no numbers in the input array, so the function returns an empty list [].\n",
        "\n"
      ],
      "metadata": {
        "id": "_v7n8wzEDAYD"
      }
    },
    {
      "cell_type": "code",
      "source": [
        "# WRITE TWO_SUM FUNCTION HERE #\n",
        "#                             #\n",
        "#                             #\n",
        "#                             #\n",
        "#                             #\n",
        "###############################"
      ],
      "metadata": {
        "id": "tn0LVT5KDIpc"
      },
      "execution_count": null,
      "outputs": []
    },
    {
      "cell_type": "code",
      "source": [
        "print(two_sum([5, 1, 7, 2, 9, 3], 10))\n",
        "print(two_sum([4, 2, 11, 7, 6, 3], 9))\n",
        "print(two_sum([10, 15, 5, 2, 8, 1, 7], 12))\n",
        "print(two_sum([1, 3, 5, 7, 9], 10))\n",
        "print ( two_sum([1, 2, 3, 4, 5], 10) )\n",
        "print ( two_sum([1, 2, 3, 4, 5], 7) )\n",
        "print ( two_sum([1, 2, 3, 4, 5], 3) )\n",
        "print ( two_sum([], 0) )\n",
        "\n",
        "\n",
        "\n",
        "# \"\"\"\n",
        "#     EXPECTED OUTPUT:\n",
        "#     ----------------\n",
        "#     [1, 4]\n",
        "#     [1, 3]\n",
        "#     [0, 3]\n",
        "#     [1, 3]\n",
        "#     []\n",
        "#     [2, 3]\n",
        "#     [0, 1]\n",
        "#     []\n",
        "\n",
        "# \"\"\""
      ],
      "metadata": {
        "id": "vIYXXpo2DMp_"
      },
      "execution_count": null,
      "outputs": []
    },
    {
      "cell_type": "code",
      "source": [],
      "metadata": {
        "id": "pwF3bl3DDUJN"
      },
      "execution_count": null,
      "outputs": []
    }
  ]
}