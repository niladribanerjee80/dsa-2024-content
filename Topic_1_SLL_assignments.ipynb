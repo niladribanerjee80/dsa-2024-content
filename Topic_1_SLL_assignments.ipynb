{
  "nbformat": 4,
  "nbformat_minor": 0,
  "metadata": {
    "colab": {
      "provenance": [],
      "include_colab_link": true
    },
    "kernelspec": {
      "name": "python3",
      "display_name": "Python 3"
    },
    "language_info": {
      "name": "python"
    }
  },
  "cells": [
    {
      "cell_type": "markdown",
      "metadata": {
        "id": "view-in-github",
        "colab_type": "text"
      },
      "source": [
        "<a href=\"https://colab.research.google.com/github/niladribanerjee80/DSA_Scott_Barett/blob/main/Topic_1_SLL_assignments.ipynb\" target=\"_parent\"><img src=\"https://colab.research.google.com/assets/colab-badge.svg\" alt=\"Open In Colab\"/></a>"
      ]
    },
    {
      "cell_type": "markdown",
      "source": [
        "# How to Save your codes in GitHub\n",
        "\n",
        "* **Step** : File -> Save a copy in GitHub\n",
        "* **Repository** : < will be provided to you >\n",
        "* **Branch** : < your name >\n",
        "* **Commit message** : for 1st time submission, keep it what comes by default. for next iterations if applicable, ensure you provide the change description in brief\n",
        "* **CheckBox** : Include a Link to Colab (keep this checkbox ticked all the time)\n",
        "\n",
        "* **ENSURE YOU RUN THE TEST CASES BEFORE YOU SUBMIT THE CODE**\n"
      ],
      "metadata": {
        "id": "IK74j5NLC0ch"
      }
    },
    {
      "cell_type": "markdown",
      "source": [
        "# Assignment 1 : Find Middle Node\n",
        "\n",
        "---\n",
        "\n",
        "Implement the find_middle_node method for the LinkedList class.\n",
        "Note: this LinkedList implementation does not have a length member variable.\n",
        "\n",
        "Keep in mind the following requirements:\n",
        "\n",
        "* If the linked list has an even number of nodes, return the first node of the second half of the list.\n",
        "\n",
        "* The method should use a two-pointer approach, where one pointer (slow) moves one node at a time and the other pointer (fast) moves two nodes at a time.\n",
        "\n",
        "* When the fast pointer reaches the end of the list or has no next node, the slow pointer should be at the middle node of the list.\n",
        "\n",
        "* The method should return the middle node when the number of nodes is odd or the first node of the second half of the list if the list has an even number of nodes.\n",
        "\n",
        "* The method should only traverse the linked list once. In other words, you can only use one loop.\n",
        "\n",
        "\n",
        "\n",
        "\n"
      ],
      "metadata": {
        "id": "V-zSQS3w_I6C"
      }
    },
    {
      "cell_type": "code",
      "source": [
        "class Node:\n",
        "    def __init__(self, value):\n",
        "        self.value = value\n",
        "        self.next = None\n",
        "\n",
        "\n",
        "class LinkedList:\n",
        "\n",
        "    def __init__(self, value):\n",
        "        new_node = Node(value)\n",
        "        self.head = new_node\n",
        "        self.tail = new_node\n",
        "        self.length = 1\n",
        "\n",
        "    def append(self, value):\n",
        "        new_node = Node(value)\n",
        "        if self.head == None:\n",
        "            self.head = new_node\n",
        "            self.tail = new_node\n",
        "        else:\n",
        "            self.tail.next = new_node\n",
        "            self.tail = new_node\n",
        "\n",
        "        self.length += 1\n",
        "        return True\n",
        "\n",
        "    # < write your code here >"
      ],
      "metadata": {
        "id": "QtUDyKFiAG_E"
      },
      "execution_count": null,
      "outputs": []
    },
    {
      "cell_type": "markdown",
      "source": [
        "## Test case 1 - what is it\n",
        "* ensure you run the test cases before submission"
      ],
      "metadata": {
        "id": "Y5gTkPjbGQdA"
      }
    },
    {
      "cell_type": "code",
      "source": [
        "my_linked_list = LinkedList(1)\n",
        "my_linked_list.append(2)\n",
        "my_linked_list.append(3)\n",
        "my_linked_list.append(4)\n",
        "my_linked_list.append(5)\n",
        "\n",
        "print( my_linked_list.find_middle_node().value )\n",
        "\n",
        "\n",
        "# \"\"\"\n",
        "#     EXPECTED OUTPUT:\n",
        "#     ----------------\n",
        "#     3\n",
        "\n",
        "# \"\"\""
      ],
      "metadata": {
        "id": "mZkgNjVyxGPJ"
      },
      "execution_count": null,
      "outputs": []
    },
    {
      "cell_type": "markdown",
      "source": [
        "## Test case 2 - what is it\n",
        "* ensure you run the test cases before submission"
      ],
      "metadata": {
        "id": "SfBMIoKeGf33"
      }
    },
    {
      "cell_type": "code",
      "source": [
        "my_linked_list = LinkedList(1)\n",
        "my_linked_list.append(2)\n",
        "my_linked_list.append(3)\n",
        "my_linked_list.append(4)\n",
        "my_linked_list.append(5)\n",
        "my_linked_list.append(6)\n",
        "\n",
        "print( my_linked_list.find_middle_node().value )\n",
        "\n",
        "\n",
        "\"\"\"\n",
        "    EXPECTED OUTPUT:\n",
        "    ----------------\n",
        "    4\n",
        "\n",
        "\"\"\""
      ],
      "metadata": {
        "id": "ZEZqu6KkxIdm"
      },
      "execution_count": null,
      "outputs": []
    },
    {
      "cell_type": "code",
      "source": [],
      "metadata": {
        "id": "rJUBNuQ8wogk"
      },
      "execution_count": null,
      "outputs": []
    },
    {
      "cell_type": "markdown",
      "source": [
        "# Assignment 2 : Floyd Detection Algorithm\n",
        "\n",
        "\n",
        "---\n",
        "\n",
        "* Write a method called has_loop that is part of the linked list class.<br>\n",
        " - The method should be able to detect if there is a cycle or loop present in the linked list.\n",
        "\n",
        "* You are required to use Floyd's cycle-finding algorithm (also known as the \"tortoise and the hare\" algorithm) to detect the loop.\n",
        "\n",
        "\n",
        "* This algorithm uses two pointers:\n",
        " - a slow pointer and\n",
        " - a fast pointer\n",
        "\n",
        " The slow pointer moves one step at a time, while the fast pointer moves two steps at a time.\n",
        "\n",
        " If there is a loop in the linked list, the two pointers will eventually meet at some point.\n",
        "\n",
        " If there is no loop, the fast pointer will reach the end of the list.\n",
        "\n",
        "* Explain why this happens in paper and upload as image as part of Solution Pack. Will explain this in class as well\n",
        "\n",
        "* Also find the first node of the Cycle. Make the changes in has_loop function to achieve this if required.\n",
        "\n",
        "### **Guidelines**\n",
        "\n",
        "* Create two pointers, slow and fast, both initially pointing to the head of the linked list.\n",
        "\n",
        "* Traverse the list with the slow pointer moving one step at a time, while the fast pointer moves two steps at a time.\n",
        "\n",
        "* If there is a loop in the list, the fast pointer will eventually meet the slow pointer. If this occurs, the method should return True.\n",
        "\n",
        "* If the fast pointer reaches the end of the list or encounters a None value, it means there is no loop in the list. In this case, the method should return False."
      ],
      "metadata": {
        "id": "wU4F8oUNwaXo"
      }
    },
    {
      "cell_type": "markdown",
      "source": [
        "![Screenshot 2024-09-15 at 10.52.39 AM.png](data:image/png;base64,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)"
      ],
      "metadata": {
        "id": "obk6KmL1wsfW"
      }
    },
    {
      "cell_type": "markdown",
      "source": [
        "![Screenshot 2024-09-15 at 10.53.05 AM.png](data:image/png;base64,iVBORw0KGgoAAAANSUhEUgAAAWYAAAEjCAYAAAABs6vJAAABJ2lDQ1BrQ0dDb2xvclNwYWNlQWRvYmVSR0IxOTk4AAAokWNgYFJILCjIYRJgYMjNKykKcndSiIiMUmB/wcDJwM/AxWDKwJqYXFzgGBDgwwAEMBoVfLvGwAiiL+uCzMKUxwu4UlKLk4H0HyDOTi4oKmFgYMwAspXLSwpA7B4gWyQpG8xeAGIXAR0IZG8BsdMh7BNgNRD2HbCakCBnIPsDkM2XBGYzgeziS4ewBUBsqL0gIOiYkp+UqgDyvYahpaWFJol+IAhKUitKQLRzfkFlUWZ6RomCIzCkUhU885L1dBSMDIxMGBhA4Q5R/TkQHJ6MYmcQYgiAEJsjwcDgv5SBgeUPQsykl4FhgQ4DA/9UhJiaIQODgD4Dw745yaVFZVBjGJmMGRgI8QEmMUpaLo0VswAAAFZlWElmTU0AKgAAAAgAAYdpAAQAAAABAAAAGgAAAAAAA5KGAAcAAAASAAAARKACAAQAAAABAAABZqADAAQAAAABAAABIwAAAABBU0NJSQAAAFNjcmVlbnNob3Sub/N5AAAB1mlUWHRYTUw6Y29tLmFkb2JlLnhtcAAAAAAAPHg6eG1wbWV0YSB4bWxuczp4PSJhZG9iZTpuczptZXRhLyIgeDp4bXB0az0iWE1QIENvcmUgNi4wLjAiPgogICA8cmRmOlJERiB4bWxuczpyZGY9Imh0dHA6Ly93d3cudzMub3JnLzE5OTkvMDIvMjItcmRmLXN5bnRheC1ucyMiPgogICAgICA8cmRmOkRlc2NyaXB0aW9uIHJkZjphYm91dD0iIgogICAgICAgICAgICB4bWxuczpleGlmPSJodHRwOi8vbnMuYWRvYmUuY29tL2V4aWYvMS4wLyI+CiAgICAgICAgIDxleGlmOlBpeGVsWURpbWVuc2lvbj4yOTE8L2V4aWY6UGl4ZWxZRGltZW5zaW9uPgogICAgICAgICA8ZXhpZjpQaXhlbFhEaW1lbnNpb24+MzU4PC9leGlmOlBpeGVsWERpbWVuc2lvbj4KICAgICAgICAgPGV4aWY6VXNlckNvbW1lbnQ+U2NyZWVuc2hvdDwvZXhpZjpVc2VyQ29tbWVudD4KICAgICAgPC9yZGY6RGVzY3JpcHRpb24+CiAgIDwvcmRmOlJERj4KPC94OnhtcG1ldGE+CqeY2GEAAEAASURBVHgB7H0HYNTHlf4nbVXvQkhC9A421TYYMMYYG/cStxS39OJc7pJcyiWX/k+uJL7LJe6Ja9wbNsaYYtM7BtN7Feq9b9P+vzernxBCQiuxu9qVZkDa1e6vzO9787558+bNmygvy4iRI6CLRkAjoBHQCIQHAtHhUQ1dC42ARkAjoBEwENDEbCChXzUCGgGNQJggoIk5TAShq6ER0AhoBAwENDEbSOhXjYBGQCMQJghoYg4TQehqaAQ0AhoBAwFNzAYS+lUjoBHQCIQJApqYw0QQuhoaAY2ARsBAQBOzgYR+1QhoBDQCYYKA2f96eGGOsiA6mlzu9f+sPn1kFOBp9sDj9fTpx9QPF2kIeGGKMsEUTfXWuuoTHnW1ubkZbq+Lf/OPMC/+E7PXiyp3MbwOUyQ8V0hgF/FaLFbYLLEhuZ++iUbALwRIxnWeSrgb+Ybq2u/JWRRVbCe7Bwmm1IjgL7+I2cKet6i8EA9d8zUMTB2orMSIeDq/WnHPDxJ5Hyw4gLUHP2F3zPYfFf49cc+fVp8ZCQhE0xpsaGrE7LHzMW3EZXA1u/lJf2+XHO2TwwoqC/DSJ88hJSk17Ee5XRIzU2nwoSyoqazD9JGXYXTuGArbpYUtWioGicmE1QdXIjpKu+sjgbj6eh2j2A6dTW4MyxyJay69Fg6Po9+3TeEwi8mKg2f248n3HkNaSjo8nvB2P3aLTchDvtL6xvig/72KsPu9IdL/xB5RT+zt9z6MtuKKLNLqFjFHGc/W30dGlHcU3RYGHG3Fr99rBMIHAa2o4SOL7tWkW8TcvUvrozUCGgGNgEagJwhoYu4JavocjYBGQCMQRAQ0MQcRXH1pjYBGQCPQEwQ0MfcENX2ORkAjoBEIIgKamIMIrr60RkAjoBHoCQJBJ+ZIC26PtPr2ROj6HI1AOCPg08H+HVHS5QKTngrQ4XIgv/QUc2uYMWTAEBVe1tNrheK8RkcjzpTnI8Yag5z03FDcUt9DI9BvERDylX9GrLW8yt8VtRUorirCgOQBSE1IRTPXC0hoan8rQbOYS6tL8fSSp/D3FU/D7QnvZaHSIE6VnsSf33kUz3/yd1VfvXqkv6mCft5QISBEK5yw8cB69VPfVA9ZsCWrZz89sg2/eO5n2Lh/Q79eJxAkYmZP6G1GGcnZ43Yr0L3s9MJ5QUYz61tUUcT6eny9eOtqmlA1V30fjUB4I9BquVKRxZjpSREClsx3Mjr94ZP/gscW/R+OFx/zXYqE3ehpQEnzGTi8TT2+R0/qFW7nBMWV0VZkQnhS2n4WbiBIfWSFtfwy6huOddR10gj0BgKKTKNNKKkuwTPLnsDQzOG47YrbYbXYeuRmkOvFxyRgzMjRSLVmIDEuUT2WcARzLqGp2gk3Dbr+XIJCzOcCepaSW3tcHiDCuVBpPVYO4yUudLzqvc/ehgfL/86v39Hx558hF+z8Ghequ/5OI9C3EIhSboYGZz0+2bMczuEuNF/erEhZdKm9rrXXr7a6K3ot+ctTE9Lwxwf/TJiiEG+P71twBeBpgk7MIhRJru90O1FaVYJGZyPsnGAT577FZDlHqEKDkrbQzeTzlXUVqGmoVtwYa4tDWmIae2irSnZtkLbRAOoa61BVXwWHk8MfCj6BvXEqj5ch03mNRoZLnOgrqylTx9usdgxIGqAanuL2tgQfAID1JTQCkY5AM4m0qr4O9Y0NSLKnwuVx8e9qNDkdKrui6Jv4h0X3HG4HquqqUNdUq3TVbrFTd9MRY4ulceUbPfvw8Co9F9unmf+i+U+XswgEnZitZgtKqoqxaMM7WL3zEyUME4dFMyfNxEPzvoqkuKRW8hROrKbAP9j+HlZsXY6aOhIzi8lkxozxM/GFeV9CBgm9mcQtjaDB0YAN+9fhlc1/R22JU+WJFrK28J43zLwRd868C0LqQs5GB3G67DReXP4cdh7eoY43mU2YPHYSrhg5S9qINpIFA100Ai0ICOEWVRXiNy/9UkVMmOwm7M/fh+8//l3qYDRSGDnxu4f+gKT4JBzMP4APtr2HrXu2KvIWnRNdT8q24yc3/RbDsoYr3ZVrNrma8N/v/Adio2Pw9Zu+TUOKCex1aUUgaMQsngr5qaDl+4tXf4bCwkLcOut2RZLv7HoJ7+18XRHo1xZ8SyWxFvIUv9Kzy57ByytewtwpV+PB67+siPLjvcvw9qbXUdtYg5/e++++7a1IwBsPbsB/vfoH5A7KwR1X3cyeOQMF5WeweNc7eOLdx2G3xODOK+9SrhAh8jrO/j7x/l+w6uAyTBkxHVePvQ4nS07gleUvYcveLWi01rDj6N++rdaWod9oBIiAkKv4kieMuIT6V41PT25DWloqxgwcp6zleHscv7egvKYCv//Hb7Hv5F58aeGDGDFwJA0fN5Z99iEKKs7gJ0/9EE/88zMk8hSl02I9NzY1oM5Z27Lxhoa7LQJBI2bjJqX1xbC4bPjTN/4Ho5hkXyzakRTa797/GT7d+ynKLy/DgNQsWJiMf/3edXhz/au4ee6N+MaC73K3lGwVxzhxyCVgx4ul6z/AtVOux5XjZqlwm2EDhuHnX/olLh0+GYkxiWo4JZN3uYxD/sWb/4oVuz/EdTw+gd+ZaXVv3LcOa/euxrXTbsBX538Tg9Lz4HK7MG3UdDy35gkUVNUpS9you37VCPR3BMRgknji79z4XZwoOY6tf9uCnIxB+Np134TdblfuQtHpZhph91/vI+Tc9EHKTUllUruo/OtL/4SK6mp1fnJ8suIAsZYkWb0apbb87u9Yt33+oDl2DFdtc5Qbv37odxibN57wUwz84ooxMzE6faLyN1c3VKkeVPzK245sQUZCFuZNuA4ZSZmKND2Md5Redu7Ya5EUm4pdJ3b6elheZ8iAoZg1/iokxdAdwp5drF0ZJl0ydBLiopLQVOviPXx+Z6fHqa4fZ43HZSNnIDs1x3e8KRozx1yJuy77IsweqxqetQVIv9cI9HcERLekyKjTeJX3hl9Y9DrOHot5l8xXOik6qDYppu7KVnSzR12tDKlqzgMZHKAupH91ikBQLWaR4/CUMcjLGKxmYqVnFSHbrDbkpQ1BWdl2NVkggqx11OJQ0X7YE0worizGuv1rhcOFyvkahcLyAphivSisLFT+KzMnDuVbOaa+qY6ThZXK5yx7nNU21CArbSC8TWwGtKDl+jV0g0iPn5aQjlEDR6sOQq4rRfxgUke7J1ZNPqoP9S+NgEagFQEfNbf+yTfnfyJkLSNQ0cXaxlrlR6YCwulythhOnBtq0bm2V9Lvz0cgeMTs4zwZzSihKCZsEaYI0GL23VoRbzRnc2UJd+0J2KJi8NRHf+Vu3GeNeXUNswe1nBm2j7YpopWGIW6L7Ue349X1L+LI0SPspZvlU04weJGZlcH3vDr/S2NwcLKhpL4ISdwlV6JC2tZHYDGsgvMh0p9oBDQCXSEgOlZUUYh3Nr2FZZuWqkl+tSaAxNyc2ARLIiOkqK+6+IdA8Ii5g/sLUXbUY8pIScLkEk0McXOZ8e90fYifyleEuoU4feQpuSxkA9RmkvAmLtv87Uu/hstej28v/D7GDhpH0rUrC/o/3/m973TpIFQnEaU2lZXdrOVi8pHvyr7D5Lf83f6zs9/qdxoBjUBHCIhOl9WU4kfP/AAHTx3A7XPvxPxJC1TElYTEfvTpUry56jXtJuwIvE4+Cykxd1IH1ZNKnGNOSi7yC08r10I6XQ7K4m1zkjQAsWzFfyWxyO9tWIRqTxn+3+1/4o7A89V3EjNdzfhnnwWsGFlZ1nGcPR6YmI3C4iKU1ZapREVyjOooeJhY7M1REobX5ob6rUZAI3AOAqIeYgkrQ4nv5W/Ro72n9jAyowwLGab6yM3fU4tGJAGRhZPu2xK2qiM7Msr4xflF6yAN1WCVrkxP43u+igMilsQ8Nnc8SmqLsO3YJlq9vsQmInT5kcYgccsyiSeuEEmC4qY/y10HZKVkqd5YCFuC348VHUWt0xcDLU1Hzo+1xtK3PIakXIJPj21Vfi/xPcu1JJxnOXv1Jm+Db2IxWJjo62oEIhgB0ReZ2xHdlIUkZs7NKGOJ+isLSkT3MrnOQIwg0UVxXUgys/1n9iLaKmaWofQXBkGnqQGCYjEr+Ft6PVl911GJVkIV2uQ/niDkOWv8bKzcuQzvbnkTVrMNM0bNho0xlLJqUFIBfrjpA9xz9ecxnhEesgowLT0NSemJWLJtsVpZJKuM9p/ei5dXvoR4awKiHL5KSIMwRXGRyriZeGv7y1izfxXSEzIxaegUNpwSvL3hdRwrOI6E2ERlrXdUX/2ZRqC/IiDGi5BsfEw8F3hl4lTVMZUVbkLeRBRUnsHkYVOQydWz4mbccWI7Nh/chCGZQ7mGoVzp4uaCNUhOSjsPPpl0l5C5tpY0P4Ilzqzcleed0I8+CAoxi6dWhcuw1yyvL1dwKvJtA6z0sBIi5yLpUjLq+OFZI/Ctm76Lx977M55453E8Z3mOE30SIynXc8NhrccXrr1fOYKFhD834x5s5cKQd1a/hY844SDHOjgDfM/V99DyLsWhk4dUgxLBu5tduHTIZHxpzsP4+9Kn8ejx/1akL3XIy8zDA9c+jJeWP69mlKWTaF/fNlXXbzUC/Q4BGbEmMix1+rDLmRHuz/jTa//FCXwr/ciJeOJ7f6OxNBHzps7H65+8ip8c/yFdGFal01PGTMEDM7+G55c+qybgDeBEx4QbEswJPO7spKDH7YWjmrzgYFZK4+B++BocYiai6VyF9/DCLyvLV5ZIi9Vq9IwyJLrl8tsxg/HDQ7KGKdilV5Yyc+yVGJUzmpbvfqYGPK2WcMZyaJTDuOOhPDYjMRNuL1fn8fDRXLDyzD8/h+1HtqO0pkQR7ejc0aqR7Du1F2XjS9lwkn335vWlh35g7ldwxYhZOJC/X8VRZ6UMVD2+DL9iGYspk4ftc3ioiulfGoF+jICymqlJd825B2PyxuB40THlghzDCXdZji0j468v/BYXf83GkYJDtITdyKLOTh05TRlSybEpmDj0UoWgkLLVasXXr/+WqDGSE3yLTmRCf+rIqfjNQ7/HGOpxf7aOogiSd8TIEZ02OQEx1hKLfYf24aUfv4rRg8bARevTINnOTpTvhYAFebGe2xfl4uB3Xoa2SRKTtsXw/YqgpEijkM+k15aftqXtsXJPOVayV0WzoYjQ5fj2vi2V3IjPpToLqSPfyXFC3FJ8PXjX/bUcsXbPKjy+4s+I9kbzKnJHXTQCvYeAtO3Kiip85bqv43Oz7+acjMOnhwGsUqv+cFgp+mfot9J5Tr6LTss/mYhX+kddM3MnI3kvP0ZR+kYl8qjP5AyuKeD1VCfAc+TzQGiUcJgYWwfPHMBX/vgg8vK44pf+8HAuwbGY+cQCs5F3QoBuXy70nRCrcLVxngDbKvx211KCZ0NQwpS7trwX14cU4xpt7y/3Nj5vluN4TamhTChKMb5Tf+hfGgGNwDkItOoPmVRGrz7tadF56pChP0qfRLF4nBCh8blxsfb6Jocaei4KaVzXOL4/vQaNmAXE9oJoC+wFv/NJpe3hfl/LuK7xes5FWv5o+11n7zs6T3+mEdAInKvX7cmzQ30Sxu2gtD3W+Lqjz4zv+tNr8MLl+hOK+lk1AhoBjUAAEdDEHEAw9aU0AhoBjUAgENDEHAgU9TU0AhoBjUAAEdDE3EMwZQZZF42ARkAjEAwEgjr5F4wKh8s11XyGZudwEYeuh0agTyHgPzGThCQETkLX5Ke/F8FCivHa3/HQzx9eCEi7lGXUSl9b2mp41TB0tTE4K5J4q0tilrBhEXKUlQnpHfUqCb0vBrmTGJjQ4d3LdyIxE4Im7pAiRfVV/R2SXpaIvr1qiYgycVmzu0ntkSmJ62XT1P5chJBl9XEDky9FmxWhEQ4xrMJXYbtc+ScClVzJ1a4yjEgbh7joeG0xCygtpdZZg/LGMk3MBiD6tVcREKpxeBqQHpeBdPtAtdIufOkndFBJ59TgrsXJ6uOwm+KUsRm6u3f/Tn4Rs1xWAsmbnA1cwtO/e9+zEPt63GhzNCxWDjzarUg8e5x+pxEIPQJO5hf3yqpjPZQ7C76pGTa77F4U/qVLV4bxCOLOsDOncZTN+ES/CgLS7gUbXTQC4YSAjdkXxf2oy1kEREsjxc/sNzHL4wkBqQ747LPqdxoBjUAYIqB1NQyF0o0qab9EN8DSh2oENAIagVAgoIk5FCjre2gENAIagW4goIm5G2DpQzUCGgGNQCgQ6JaPORQVMu4hvmxzdBRsZpOaWpOtni5UvBITxJOcnmYm2O7i4AtdSH+nEdAIdBsBE3XVysT4Ep3kj67KMQ7u96d1tWOow5aYKWeUN7nQVHraR8wd1/+cT72wISU1GfZYyzmf6z80AhqB4CEgNlFVhQN1dZV8J7sbXbiI2STRpba0LKTYw5aCLvwQQf42LFExUWqVtfW4fvIozJl4DfcPk+1MOkFCSZnf8dXJHvjNtbtRVFUDr44r7gQw/bFGIHAIiFq63W5MG5uFhdOuVttJdaV6MqC1mKKx7NODWL//JHent9FyDlyd+sKVwpKYxYXRWFuNS4dn495507iTtmxxztIRObch5gaHC8s2HUWRt6bjY/uCxPQzaATCCQFhYS77HpyWgM9dNQVmk4nkzAoaetlBXWUrT5vFjNOlFVi9Yx+i4+zapdEOp7Ak5tY6UrhGAhI19umsV235XB0rJ3d2XOuF9RuNgEYgkAiIyvl+ZK1DiwXViR6qGGs5uvV7Ob71j0BWK2KvpaMyIlZ0uuIaAY1AX0VAE3Nflax+Lo1AGCPQVeRGGFc9JFXTxBwSmPVNNAIaAY2A/whoYvYfK32kRkAjoBEICQKamEMCs76JRkAjoBHwHwFNzP5jpY/UCGgENAIhQUATc0hg1jfRCGgENAL+I6CJ2X+s9JEaAY2ARiAkCGhiDgnM+iYaAY2ARsB/BDQx+4+VPlIjoBHQCIQEAU3MIYFZ30QjoBHQCPiPgCZm/7HSR2oENAIagZAgoIk5JDDrm2gENAIaAf8R0MTsP1b6SI2ARkAjEBIENDGHBGZ9E42ARkAj4D8Cmpj9x0ofqRHQCGgEQoKAJuaQwKxvohHQCGgE/EegTxKz3gvB/wagj9QIXBQCWtkuCr7OTg6LraVkjz8zNwoTGcsmM7JRY5TsJdbVro4dPJUpxgyb1eQ7v+V7ua6LG7U260bUAWL6I42A/wjIRsmin4auisJ6ndRX/y+hjpTdp0S9o/nLao6GqTnKt7kUL+z2NsPTz5W114lZBFpQUIGGxuo2oo1Bc7MTTpebn3VD5BSqh9c5eOQUz5Nzz5aMrIFIiLGB+0DqohHQCPQAAdHE6to6lJWWtjmbhOq1o3kylU/I1NTmqwu8lR1MXO5mlJY3oqzyNI90tB6dnJSElNSUfr0LYBQ3MPWOGDmiFZRQvhFB1zndmD12MC4fNUhZtdKDirXcyB2vJ43IxZyJI+Cmtass6C4q53R5sIJbohdWVPmOpPBVz8xfH316AAeLyhHL3Xn7eWfcBYr6a43A+QiIz9PF7a1HD8zA3EuH0VySfz798lLPRmZnYNbE4TBx9NuVrsqmyWazCat2HsaeEwWwUifJ7jTGeCFedN3eE9h3qhjRtMz7a+lVi1kEaKZhW1JaiYnXXY7pYwaLfM4pHjaGrgRtnGC1mHDjFeNb/hRW9rkw3lv/GQ6X1SCeDcDT7vrGufpVI6AR6BwBURsr3Y2nC6sxeH4yrpk6ju5Hsqiws+8Xddc/5RJ99niaMeeSEern7F29WP3ZISxau0tZ31G0vv274tkr9JV3vdolNVOQMXEWnCqtwE+efBNrdx1RwhUBy3f+CrqtMOQcdT57X5fbgzdXb8ejb66EpdnnY+6vgm6LkX6vEeguAqI34gZ0eJvw368tx4rt+6hn/Ix6djG62vbcVTsP4XcvfICSmlqYrOZ+S8oim14lZqmACMZst6PRA5LzGyTnw/LxRRUhZrPJhMUbd+F/3/oYnmgTotnba//yRcGqT+7nCAg5R5vNqHM141fPvoe1uw9zIlDM2p6bO2JwiwW9kq7Gf/m/V1Dv9pKUrT0yyvqSeHqdmAVMcS056Ac2W2Pwb0+/hc37j6vZWiHt7hYhZZvFgk92HMQ///U1mG2cSGT/0/0rdffO+niNQN9HQHTVS0PHGhuPe37xONbvPabIuSf6JboqpLxq50F899EXkZ6RARd5QO7R30uvTv61B1+5q9xOpMfb8e8P3IzLxw5VVq76vP3BnfwtQ6sPN+3GNx99CXmDcuhTlqFWJwfrjzUCGoEeISAWnZ0TeGVlpXj0O/fh6smj1WSdv7qq3I3UzdWfHcZvn3+fo1ozR80+ou5RhfrYSWFFzIKtxEk6mxqRnRKHf/vSTYqc/cVcojLeXrMd//naMsTGJ2hS9hc4fZxGoAcIyNyfRA9Y4MEP7lmABdPGwUSy9o+co/Dxp/vxR+pqRYMDXpNFj2rbyCAsXBlt6qPI1BoTg+LqRvz4iTewxg+fs/S+bs7yvrV6G/66aDXsHGZpS7ktqvq9RiDwCMhIlC5hNHmi8OgbMiG4n2HMEtd84SGquC8+ofvidy8uRnmDk+xOn3LgqxfRVww7YhY0ZdVPlMWKZvaiP2W0hkHOHQlPGoGVExIfcKLvT2+uUEMimeTT7ouIbpe68hGCgOial/HGDSTnn/3tXazefQhWTgh2Rs5CystJ4I88+gJcEg9nknUFHWl2hAAQpGqGJTHLs4qoGhjjbLbZ8fNn3sam/cdUCElbIRqkLD31I39+GTZayox61r1vkBqLvqxGoCMExAhqJuHGJybhrp//FZ/sOtSaYsE43iDqj1X0xcvIzc6mpe3Tc+MY/XoWgbDzMZ+tmu8d5c21+E5kJtqVz3nG+OGqhxU/lptLOt/fsBPf+8trGJSbrd0X7cHTf2sEQoiAmhDkIq+qykr8/qt3YP7UsWqFn5CyjIIl+uIP/1gCpzcaTTS1xXrWpWMEwtZiNqoroxyT1Yaiqgb89oX3sXHvUTW54GAejdc+3oL/9/JSTcoGWPpVI9CLCIhbo4nGUhwn3v+Lk3ofbtmj5n5kDYGQ8h9fX6ZioJ3UYE3KFxZU2FvMRvUlh4bX5YTJ68Jvv3InzpRV4rFFa3yzufKdcaB+1QhoBHoVAYnW4Jpr2E1e/Oi+hYhj8rCfcX0CtbfFp9yr1YuIm0cMMQuaIm8L01IVFTUiNs6tembtU46IdqYr2c8QEF2VZV21VVVwOM3IzIxnvkdtQPnbDHo1iZG/lTSOE6vYwfFSdk6CmvV1MkROW8oGOvpVIxA+CIheitGUlpbOlYJAo1MyRIZP/cK9JhFFzAKm+KaamJxIF42ARiC8ERBybqRLg+tPNCl3U1RhP/nXzefRh2sENAIagYhHQBNzxItQP4BGQCPQ1xDQxNzXJKqfRyOgEYh4BDQxR7wI9QNoBDQCfQ2BiJn8U3uMtUzr+nYbE1FwtxL5rdba+973NQFF2vP4Jt59CwjOysknKWNZrpZUpEm1e/XtSFcNmWtd9Q/LsCRmWUxiYoITicAQznU3u+H0NMHhboSHm+l6WzbAjmLto23NsJnjYDPZYGFO16go7lTC7c+NH/9g0Ed1HwHpEkVO0dwdRnKKSYLzZm7n5WRIY6N69dSTpltCpKKt3JnCFs1FB3FMcmPlRggiX07Yi6y47ZdPcVsO7n5l9Bm9ggCTjTFa2SQ7BLXoqoe66hBd5Y+H66697haZcv2BOSYKFosNtmg7k+tbVZthtnRfG2A7kO67tcH0yvOEz03DhJh9ArYwm5wIutZZharyani4hY0koEpMjsfAlFzE2eOQYElsFaqTLF3nqkWDowFl1aUoKClsRTY9Kw3xVsY785/b46L4RfBa8VsBuog3QsbmaIsi4oqGEtRXNkkWGy6dj0JGZjpyEvOQYE9ATHQccyUwexg31HV4GlHjrEF9Yz13MT+DBqZ1FTU0JwKZCdlMum5nPgU3O2EhaS2rixBPkE9t0VUaQdIhNzrrUVxVgOZ6H63Gp8cgN3kw4myxiLMk0GiyKwPLyQ67wV2HuqY6lNQVofB0kSLmKJsXSUlJSLKnqI7aKbqqSDrIjxHml+/1lX+i5FZau2JpHck/DC9jHkfmjcDMMXO4Jfpo5KblIik+GfH2eFjMFpKyhb0zXePkWFF4FwUpFnVDUz0qaitRVFGAI4WHsfXYFuzcuwPmWC5IGZCLRFsSHC4HQyolBloTdE/apYxIBP+KhgoUnCpEXGIspoyaiqnDpmNo5nBkJGciOS4JMdwizMR0jhaSt+RJkM7Rw3hWkZXL40R1fQ3Ka8qRX3Ya+/P3YsOhtSjIL0RSagIGpmcra9rhagJ3GdIljBCQUZHNbIPT7UB+QT6aGh0YOnwwrhx5FUbnjEVOWg5S4lOQGJOk9tw00yo2k7xF3TxUbLeHHS9/6knOVfXVPl0tOowtRzdhzwHm1XC7MWhILhJoUDnZTmQ01V9LrxCzuCg4skEzE5440Qh3oxfJmXG47dJ7MX7wRFrH2STiBJWZSswq8UupH57U6qfkZ+o6Mh7mMULW6m+2Ajd9HfUk6qLKQuw7uRfLti3FqeJTsCWxofCfN1rWJPkIo78K3t/nFmUUf5K4lOrr6mH2WjBtwlRcyY5zxMCRSE/MUEQcJQkSRKZUJjlWndMiL5+8+b3853F0fvj6Rh4nZF1VX8Wd0k9i+5GtWLNzNUqrSpGYGsejxFcll5UL6tIbCCj5K8GKXrnQWNWEwdlDMGfiVbhk6GRFxmI0mdkRSxH9VKNTikzkZuhraxugPEX+8re0Bw+NqwZHPUoqi3Ew/wBW712FfUf2wES3h80Sw9wavqfub20gpMQsQjbRgpLhLOh7SotLx+SRU3DlhNkYNmA44mPilb9Kci57lYK3UUglR/7qoCihtT1UiJ8/0gCkpxaSPl16ChsOrsf2Q5tRWl8ivAE7Lbtmft/m1A6u3j8/Ep+h/Kuva+COMDYMpLvhinEzcfnIGRiYOpBKYycwMgcgRCwSaEFRiUjOPL+0HtMGcJkToJoqJRVrqrKuEocKDuDDz97DmcIi1DRVw8rNdWXLInFz6BI6BGQ063KKG9CDZGsahg0ejOsuuRnDsoYjKTaJoyJfQnwZubbKVqqnxNlRCxCyZhHlaymKsHmCGlnxc3F1nC49jdUHlmP3wb0odZRwXokJkZgISd2lzbnGNfria8iIWSzaZrocampqMXTAMFxGBZ9zyVXKOrZytxJRZZ96iw+rY6F2VwC+xiIE7VN8l9tFK7oIWw9uxrqDa3Dg+AGkpiazIUWRwGVGMTD37W49w+14GX7W1dYzZ249rhg2GzMumYEpQ6arYaqhjIYiBlJWci35J9duaGrAEQ5zN+xdh5WHPkRdeRMT4WSqobBx73DDra/UR2RgptuqpKwIOXQDzhl3NWaNm0O34iB2yDalJkZnLMcGoohMjWvJq4ykymrKsOXwRqzZTSv6zG4kxaTCzHzP0kErizsQNw7TawSdmEWA4pd0OpzKdXHjZTdjwZSFyErOUsPaUOIi/bQ0Ixluy2Thmt2r8cSaR2FrSkB6ehpcza6WI0JZq/C5l1i/4kMsr6pAXupg3D77Tvr6ZyHWSkd9YPSvew9LgUlnerBoP5ZuXooPty0mOWdwVCXbEfVf/2P3QOzO0dRVzgs46EMuLSrDvdd8HtdMuhaDM4Yo67g7VwrUsSLmstoSrN27mvnXX4XT0oTkmBTmy2nq0+QcZGL2MozNjrL6IiRHZeAnn/+Z8iHLUEZcDGoSL1AS7MZ1pLOQe5vZYRwtPIQnlzyO3Sd3ISU5RU1OiQXd34r4/GOscTh28ihumXMbHpj7EDISM1s6K/JyL2EiBCxkIa8f71qJpygrid6wxVpVG+qdHqMvtg4hZStKSkowcMBA/OC2H2Ni3iWcgJXdR3rPQhVdlbYn4bOnSk7ir0v/jPU71mH4kGGM9OHu2n1RFHymoBGzUmR6BxpqGzD/sgW4b84X1USRKFVvKXlbGYrApYj1VVVfiZdXv4CV+5bC7LHBxOGS+LP6S1G+eGbs8zJG/Bu3fAtXjputhqy9qZBtsW+VFZXzcMEh/H3pMzhScggWO7e8pxy1a6MtWt1/L64D6Zjd9OVeSZfFfVd/AQOTB6pOua2LoftXDtwZImeZYJTQ2CVb3sfrq19FlJUTidwIti/qalCIWRTdza2fJOb4nrn3Ye7EqzmBY+vVnrezJiICl4kHh9OB9fvX4qUVL6KK4WCx8bEtFllnZ/aNz2Vs0OCux/CUUfjmjY9gRPYINUMTjmSnZMWRTnltOV5Y/izWH1tD04LuF5NM4vafjjRwLY+LftjZieVpYrTM7VPuwY2X36wiomRSPBwMqLbPashfDIYN+9bj5bUvoLj+DGLNCX1u9BRgYvYJ2u3yIMWWii8v/BomD5uiejUBNdwE3Vbo8l7qeJgx0H9b8iQOFR7krr/xqjNpf1xf+Fue1cwOqc5ZixmjZ+GLsx9EdmourU8JJQxvV47UT2LSP/psCV5d+yKcLpeKEumLllMw25pM8lY3ldNnm4EHr3kIs0ZfzbUCYbLmrIsHF9fWgfz9eH7VM9hz8jNkJGTB2ezkWeHddrt4rNavA0jMPr8tF2jC0+DBv9//G4zKGaVuFO6EbKBh9MgFlQX4v3f/R4Vt2WPtpKq+NdEkzxnDcLeC2lNYOPFWPDjvKyr8KZLatDyDEPTafZzA/fD/lIyiOKztK4pptMlgvUooXI2jkiGrmfi3O3/FmPQRyo8fKboqnkapa1FVER597z/x6fEtdL8Movulb5CztOSAFF/UsAklRSX43Zf/A+PyxingIkbQREHqKj1xdmo2vn3LIxiUmse1/jJE7lvDZCsnPfPrDmPOyPn42oJvcbWehAwGpBmE7CIiKyHn2eOuwsPzv86weBfMsn6fn+lyYQSkQ2v01CM1IR0/uv1nGJMzJrJIWR6P7VXpKhej/fzuX2HSkGmoaCxWrpkLP31kfBsQYlZKQgJr5gq+P3/3cQxn7xupiwEUOTNgPocxm9+4+duIp5/c65LRQIQxVyftT1lKXBI9NW82vnvTvzCnQZxq4J0cHtYfq9WGrKHMYdwz40uodJarSJuwrnQvV061YvZdcUxS8pWrv4nR2WPU8mdp95FWpM6SjkGWgP/TTd/HyAFjGUbXSM6OvGdpj/1FE7NA4OFGixZY8Z3b/gljuWZeVnBFMjSqkdLyGk1L4ms3fUPFdUrvHOkCl0lZyW8wLG0Evn/Tj5AYm6gmTSJRKVsbMhua5OW4efqtuP6SG1BeUc6wr8jwk7Y+QwjfSFY3Z6MLt029E5ePmqHuHMnyN8g5h/MjX7zqQSTbUmhKhxDQIN3qoolZ6uWN9uCWGbdi2shpYRl50SPsWnqWqSOm4ds3/hNKS0vVcvEeXStMTnI73UiPy8BXFn4d6UkZfUdWxNdOn/mXr/4Wrhp/NSoqKn1ujTDBPTyq4VXpVs+cOYMbpt+EGy67yZffIpItqBZgVcfC57h0yGTcO+uLquOxc/2EuLoitVw0MYsPdljKSK7mu15ZLhFtKreXIoUtwl0w6XrcM/s+lJeV04cVmdaYuGI81gbceuXtGD1ojHquSLaU2otKRjQx9hg8fP1XMDR3CGod1b22gKl93cLhb2m3RQ2nMWXMVNx71X3MEyO5TvpWkbzQcy65GgumX48TlYdURxSpT3gRxCyr+rhu3hWtwuISmdSkLyl6q0BJzpKk5ZYZd2D00FEMcK+JOJeGuA/FTz4y8RLMHn+VIqy+Jit5HolvzUjKxE3TboXJyw60OXItptb2F4A3FD+8bMOW+lh85+bvISEmMWLnFS4Eh8TeW5ka+K4r70FCdIpKIxqp7sceE7Ms3zxeehh3zb1bTfZF8rDhQsIWwUq4XAaH/tdOuB6W5hiukpKmHhlFaiqLCNycB3h44VdUBr/IqHn3a+lLlNXMlKSzMXPkbJVno69M2nYfjbNnSKfV0NCIhziaGJI5RCUI6msdszyt0lV2QGkJafj1F36PeibiEqMkcrT1rMx6RMwys19VVYVLsqZi/qQFauVcRD79WRwu+E4asfzMHD8b44dMUNZGpPTEstNIUWkx7phzV5/uQA0BipzimD52wbSFKseGOUJdT8bzXOyr4OF0uDA6dwxmjZ/Tp+YVOsJGnldGTpcOm6xcGtU1dGlJsv4IKz0iZrFM5IGlB06OT+2Tw6KO5JjE3TkWTrsBTfUOtRVSuI8SRE41zgoS8nBcP+WG1py3HT1bX/tsFCNq5nAisLS+UKWw7GvP5+/zSMZAWDwMKZzHCd90Dvb7gXuHJrJEIC2YfD0yUzLR5GpQ1rS/mIXDcd0mZkl0LxEK1067DlOGTWUcoSviHrqnwIuVPHHwpZg4YiInl2roIug2fD29dQ/O8y2PlzzGd868h5niMpSvXCyKvl6EfCRK47qpN6Cxwq0s53DvRIMhEyFl2XEmy5qL6SMv880t9OWhbRsQZRejIcz7PnXw5dwUNvI6o24zizRwq9WqhkVqO5nIe+Y24uveW8nFEMtNJm+7/A6czj+tNoXt3hV6drRE/XSXTsVarnfUYcLICZjKMEZJPN5fivI1MglPXkYe7p53D45zhl5ygve3IruR17pqMG/afI5sGd/bj3RVdsYxc4eVWRNnIyFJklzJRhjBLaKjgTIAukXMYm01NjVidN5oTKCvVZS9P1hghjgFeAnLGpM7FuPHjkV1bVXQVwTKPS1cQOHgogCz7Kvnd+EuEE4npgydipS4FJ9fvB9YywY8oiBiOFzDORC7K974uF+9RnPSl9tbYtqI6b5E991pPhGOlPGoQwcMxVBmToyWKJ0gFrlfA1PnitEqHOHlIruLKd0iZnYHapHF2NwJzK+Qwg64H3XBLSgL6PExCbj38gdQWVkVVP+lCFsmbq6eMAS3XD4OpSWlHKL7N5Ehe7UlxSbjkuGTVOfZnzpQEZU8r0wCDc3iNmZjr+BkdWWYu55aGliAXiRzXEFRAWZOmIWslIEBs+QCVL2QXUY2ir1szBVoZFSKlRPhwSqSNrWkpAZzx+XhnisnoplphE1C0DLc7UHpHjFzL0yr165mPGXvt2AquzyQ8dOd5zLO6Skgft2LWF869FLkDMzx5RnotqPBr7v4yMXtRFq8DT+8dz4euG4GCguLuyRnFTFCSykvZSiGpA9T4X7+3TFwR7WVQ1BlcYEqy31juNPyFaNmoqnJQTy719wvcOmw/8pEEqqppRtj3HVq04PeNqKM9hBq4CQiQ3ZiMTWbgppHRXTOyxFKjM2Kr9wwC/fMu4wrUCuQ2LKZQ3efu1stVYZGafHpyEsf3N37dOt4aUQSeysbQoqv1N8i50nSezlPOo5gFOmMJHFKZtIAXDpoMqrKg73CjMmhGJsZZ7fip1+6EQ8tnKlWIFpVisuOn1AsbS9n4gfnDWLScw7je9Zpd3zxLj5VCijyo0KIX1d+RB5Sh94gaMFuDFc6DhyYxRwu/WOiWkjC6WpCVl5ma4ik6qy7kF0wvjZkLu1BdDrU9RBOyEwZgLGjxqod1yVaI1iluUF2+45iDho7/umOefji9bOwe/9hxFnNbPvdu6vfjhfZaboJDcjNzeLKoYTu3aWbR8sGnEdKDuNM6RmMzB3JTG+5F7yCgC8C93g8OFl+ktufn1TZ4YZxGBusIv7LEazb6n0fK8vW59Py/Q7UPcUlrPb4Zucka1qYPBvfuX0eF064sXTLfphtdnYS50s8ShSAo5vJeS2+xUBVqKvrsCoig8r6CpypOIPyulJuwOtFQmw8d1jOU0NqNWHc1XUC9L1yZ3ASMCN5AIYkD8PO4zs4EZTQKx1EgB7Jr8sICRaW5+P2y+9WiarE/dYrhe1B9LKgogAl1cVqPmZAUhYyKY9gjrbbP6ssP79ixEx8tO4jjBs9jgn1uYca6xW4IpuAMESPexZLET6yk4x/cPd8/hWFV5atR1JyMkeu1GN1RNe//CZmsXwq68owheEnVgs32wp0kRrz4QrKC7By53JsPLQOu07swFeZL/j+eQ9dUJBiVZdVl2H17k9IlJ/gQMEeXMNVet+/7Ye0nMWv5C8cfj4U6ymWWF5mHmx2G+oam+ClBWtYB35epcvDTLyPmzol3Y4U2T5JeuNv3TZP9cBLNu+FLS6e2e/Iwq2Fk14kZhMSkM1ctaEspTUlWL79I2w7vA0nS4+jqCYfsvF4RnqGcqtMHDYB98/9MmLtsXymAMukkwcVUhJ3Rm76IHx2fGcnR/Wtj4UMmxujMH7QBBUq6PQ4L6g/wXh6ka/oZSFJ+Q+v/BZ1zbXcvs2JuYwtf3D+l9XEbCjIWeohlvqwgSPVYzo9XtRz27vAEjOTaJFJxXRVHECW9ogbjeT8ryRnmRd6beVmmGxMYeFn5kM/iVmGphaYnHbVwMVXpwLXAyZRcQ+4sPngRvxjzXM4kn8EKUmpMMf5tq8XcKWxdVSEIPed2o1nVj2OQ8eOIIbEZbaZOWx1Bk31VcOnwuek5uCSvGEorqU1wLwhgaYaGXQ1J8QgOdHXFUtDlntkJMXjkTuuYacTjReXbULWgAHMQ+sjZ6mb2+tCckoiErkgJhRFGqM0/vV71+HFVX9nmNoQXMvETxINIptn7ji9jRZcIXZv2MZ46gG4fcbnQkYUgocsy87OyIY1hgYF69rXi+imKaEZuRmD2F5653kFd4fbgVc2vojTFSfVHppNjU7U1dcp8rqQTgdaPtI+B9BKnzJuGGxsAynNdC0E+CYWujBimWUzllEZwlTy08zRrJWk/NUbZ5E/o/DSsg3kp3g4efOuOiU/iVl2i2DOZVqfKVyHHtDCSjq5GeQLHz+L11a8irjYWNw9+/M4WnwIRUdO+x5AUOyAl2XWfdGmd/DUe48z9WgzbppxCxd+1GLVgY94QvB8SfL8sjfegNRU/Oahz5Egq4J2P2lUCexspKGTX1QRbklNiMMP7pGJHQueXrwGA7OyFDnLMLaaWwZJvogYySDWCXa+KwXmt9xCio33u4tZ+BZOuwkyZJW6SP3nFF2F37z0S4zIGIvXPn4VV18yn/VPVd+pE4P4y+jMcrnxgZ0TMU5aS5G4RNdfiKQTqnfXYnjmKLUrvRguvVUOnNqHddvX0x05CtnpOVi6fUnIqyJ6I6OmpLhEPPUv36Cl3sg6BIcbZEQbxzZm5GcxyDeJ+ivk7CFRP/nux8jLzSZPXTjU2C9iFv+y9H6J2Tb2CDEBszrUMIPKW1NbjUVr3sW0idPwwNyHMSRrKP79jR8x+46h8ufLUwBvaGrAorXvIDcvF99a8F3GVk/E31Y8hWZxsMp+7EEsQpJR3B4gMzmDuRlE0OqDoNxRyE3IuLXwVvJZjM1Ccl6gwsJe+3gb4hIlw58JdXW1tOYHscPwS7ytl+3pG2mIUp/rJPUr5SkNUiZIDd/msKzhmD9tARZtfwuNTNRf01CjEs1IciiRYyhKErfPsntorbjZiQbBExeKZ/DvHtRVWqYZnOwUl5HCWBprCIvodV1DHV5b9QqKygrxo3t+SldjKV4pezmEtTj3VlEwY2BKDmJjytlWqa9BgoR9AJ++rbKyHrxXQowdj9x+NQ0DDx57exlGDM1DIzM+dlYPvzRXXBcVjhJcPfg6tdT1vBufi4Hff4lSikJLytDfPPx7jKQfSPJR1DbVkpMvHHModYixxeBH9/2UJJSLtMQ0ron3+XiUsrfDxu9K+Xmgjyij4XKZ0WyXeEWRtD/Slor5c9zZinSkV0J+MlSS12/eejVTHDZjyZa9iGEDaK6PVkuwxcdnkOPZqwXnnZcdoXi2VSdC2RjRNEoMBCuWsqp3VfOIGEZp+CJmQkXK8sRxjE6RCBVZCdeXi7LSXFFqQwQrM0CK/NVnIXpoxQ0U+tbDm7HnxG7Mmz4fVzCO+O11b4WoBh3dhrUiGTtcNo6aPNQbMaT8JQhDX43Xjq/fqtNU7Y60W+QgE4Lfv/samM3ReOmj9YiL50Q0DamOauInMUehrqkaKfHJ9KUGdhgggrSarZgyfIpSat+2VOJL7ai654IiM/wTBk9U5xlLjjsisXPPCtRfAr+XTn7pQDim6EgaHd7K7wM7PLvth6JwQoRJsTH4xq1zFWaLN+yDyU5/F5eOh7oIOUuROkmR+nHtGaobq9XEW4IlBWkDM5HEdmQcow4M8i9pSyp0r3XSWuoXODkEufrdu7yC3id/CR0NtStDwtGKa4rx/qZFCvPbrriD7jYaC2JK9mYhLh4PJ99E7PzxX/rGkcZrRw9xoe98x4suiCFlt1rwXVrOVobz/mPFRpgsrFMHI1u/WFaGqi6OABO5ksywhDqq3sV8JoITBepu7956nkDt44OLqUY3zxWwO+7xunmhHh9u4JXeMiF4x1WT2AJFMTlzyuJPB9fjm3dwotTHF0cusZtelNeW4Y3NL2Hz0bUoKirGF665Hwl2WgohFpZ04pI7or+UmF6Qv8hbXFmrP/sYu07uxNXT52Fc3njfHqBsF71V1J35y+P2yw4NWjUFAh85m/DwDTPxxWtn0u3USO8AtaHFmDFu7ldNlcuBw6NYhh2p9yFWKqOyYfkqLozeNsBUywOXyce2TAh62MHRkpfPQ9xZ5ZflYzvD5Tz0MQspbzm0SYVMTRoyXe3HNpkjI+lMjQ4lVDIVwjAWHYkO9CJPBPmRfQK3cRQaSoyFWGRUcrz4GB5b8mcMSx+BG6fcrLawUsZciNvhOSC36Adz7Z3zcW/84Wt3XIQSY+OE4JVKRx9bvh0ZsRbmHjoLkp819T2ZsQy7Pbv3xgOGyz19Mca9wIAdACBWqJVRGl9aMBvHTjF8j6PHUPpxpUqHCw7iHytfQFVNFa0A+tXsdqSkpKj8Ig6XA42ORti5MCbURUgqWKO9UD/Lhe8nbZEupBY//oWPDdy3UXSb1Dvq8eLHzyGKlunCGTepsMlQGwYXeiLRh3ApQsHxJOe7507B3xdvR1TsuSavX8RsDDsdLsYGtzO5w+VBe6se4g0PuVnawcOKXGQ5aHFlLf702kdMjC7hUr5FKaEk58nM0f3T+36uIkUcnIw9U5mPLfs3Yy1XSK77bC13aL4Z989/wJeGsoPnCNZH4muV8Mr+Ubwq86OhtyF5ZvpP1+9biw83LsHkkVMxjyGRYsi1+rhbrFajLqFsk633jD5rkRqf9carb8TGFZFM5/D0+2vhtfkWpLStnd/EbIrjihnm9+2NYWhvgNf1PX0wRjE0r7eHxT5SjkZ+aSV+9+IHWLptD64c26QeIdQKkMywtEnc1sco0l7mTZiPtza/rpR2w4E1SElLwOevfDCkVp1MKkuuDCm9LS8Dm2C+Njkp/7aaHsSbSRsrqCzAuxvegTXezHmEL9KtlszQRKeqg0zMe1rMVWkPEkoZxXkQCzdODUUxbMnoaJ/8Q3HPzu4hdREDqqSyBo8tWoWPtuxBPCOWJMa5bfGPmHk1C9NjVDXI8LT7E3Rtb9jX3kdztY9PA9qZBCF6UJ+go1FQVo1fP/ceDuRXqvwUjQ4fMYeoGq23aW+liQshnbun3HHF3Vwyv0qR8Y79n+G2aY2M7QxdnmSxlp3MweIrvSOrVpCC+abl0RqdDT5dVRMNwbuhyFva4MEz+1HjqMJgrkHYdnQrPj2+XamF0I2Zbo6jJccwMDsLJyqO4fmP/64idb58zVe5Ii8rNBEbrIjJxKXY5/Jf8IDp4MrCneJiqmemw/996xN8uHkXbLFxoGl33tF+EnMzUqwD1WSO9HbWaIZ49OYTnvcYLR+c/3ydHRmQz8WNYYo+mxD7YmQuVW9/vvFZZ49ldJKVtQ20lN/Hp8cKkMBl0B4mDqprrAm520nqI6X9pJMsckhirPrY3HHYcWw7ks1M3B9Ct4Lsau7kAinxcftQ7gxRVf3I/kURiBzqGuuo8CFyqvJ+pbWlyC/MV0uu9x/cfx6GkkB+8KA8HDp5CNt2b1P+/pun3daaKzroIzuK3GwS+bMIRgFuAnI5Q387urSohmzL10R38C9fWII3Vm7EIK4AbHTJRLiq1Tm//CJmWWqYYEvE/oJdavLGZg58XghVKwWY/JK/2tTWeCufG+/VCfyljm33uTrGd6D8FlDOO48fXUwRMBksx2BxDtdaiu+Oxl/df+3o/I4+kyuL8kkYY1V9E/7fSx9g7Z5jSEhM5PJ2dpypQGFVoRo+GstDu1+b7p3hs5zOXVhi1F2IuoETQ8eKj3KZeCxsnPwL6eQUK1LDjqqO+zRKUGZwEsJ2D69gHS1yMHMiqYSb0DrozpDMasEsilAZdHvNJddiVNYoWr9Sg7bFt05h1Z6VeH3LC9wg91rcOv1ORjtHYzhXhIqLI+ikLHeIaobF4luOHRWkVcGqvXfANeojfllaXYc/vr4Cry5fj2FDBtE13Lkb1C9iFqglFKamolb1xMlcINAO/baS6NF7D3NxeBkuIkosVrlKksSHEZ+UpJJsJrAiQCPkybiJfK8mGHis+BElTlCIWM5vu1gl0Okm5R5OTxN2HTtGZa9kzdg6lWSMmgXmVQg4Oy0ZeQNSWy+vSJm9b1FFDX7/0mJ8vPMI0womsT5MLEifd3JMOnONHOZqQFdwMgG2ezSRSy2J7/2t7+LSwZMxJHMoYrgc2Jfsyme9fbD9PZSXV6iVidPHTQ/ZAhhpu1I/yXzXZKpThNCu+n3qT2kbEsOcz0nXWi59j2VHKLrVfhQT6IdOYw6djISM8y4r+MvGuEfPHIGjDEi/JFNt4ix80iwEKYoU9CK72Tiw/dBuWs3kmVZNCuyNPZxgzmBa2ZE5mcTbd215OnlbyIm+v767Ch9s/AxDB1+YlOVMv4hZWFgE7qIzX/Kq5qZfOD+yXLg7RQh0yfbFqGDcq4lp8Vz8u76xAQPicnGcvqlX1ryklEsI+44Zd3EFom8POyHkNXtX4WjREa4etLEBunG67BTSY7NQxmu9uu5llfWsyd2IG6YwfIcJ/qWRXmwxiDG/rAT/u4iEU0lijhIoA9vIuKIaXnMzHrpmKh5mEhRDyLKi63RJJX7z3CJsO3IGiUk+Upbnko4qxhSLkwUnlZVq48oiUY5gFYUFK9pI6+zdTW9zgu9DDB88DJOGTFXuCwmh2nV0J/bkf0blcGMEraq5E5gZj762YNbLeF6pnxBzfmk+mupdiGWSLLHq+moRTG3MdHimOB/FVcUYmJZN19bFt/mu8BKc3R14S6U9ij5L0i+TGO9mrpaloRXFCbBgJq036it4yG725TXl+OFT5JHYTHCfKX4dWCsqymaCmytc75p3Of75znmqIxRMxH1RXFWrSHnZtn2IT0hEg7NzS9mot5/ELFasi6kEo3Ci5DgmDZ2sgDUucjGv0pM7SPjPfvAMquoqiZcPMHkoUZ+SgjJs/GwD38ny42ZmJrvGlwCHpCyE/o/lL+LwmUPKZyVnGOcVoQQ7D+xQ5zWTjC/Nm4QhGUN9M8JGd3YRFZc0l6dKT+FYySkGiyepTuEiLtfhqVLNhlonqut9fmwlaIYgSZjNr0nK+06XqMkDF7EwihwjxF1XX8+OroKdGP0aQSwiP1G+tPg0fGHOA1zl9w+sYE7mdZ+uVysApSNsZLKp1IxU3HTFrbj9yju5+0umSCqItTr30h62E0mmI0n7fQoZunufW5NQ/UVd4YKw40XU1TYRMsG+e2dUJ+40sSYlN7dHEox3dmCQKigd85nyMzh0qghjR6fBqSbsA1sJM/XuVINMMItFLgMBHyk3ce/NP9F9sZQTfbEkZWmC/tCPn8TscxPEmhKwee8mXD/lBpVAKBA4ygNIxrpHv/0XOLmBoSi6Utq2uiNPoh4oSiUsUm4PfmRh7oNfPfhb1NbXKjLq7DzJNCeJ0t20qAMxpJPOA1nwAABAAElEQVT7yHVOFZ+Ex8H38WLatq1wIJARAbJJRcl2SL6wI/lbTfS9wIm+owXMLyzD1HPvK8e4mI+50VrDZPUnMHTgMJ4f2EZ43tPx8uJiuoN5luex4zxVclKFT0ncu2QmTGGKT9lNRnaikegIIXKpZyiKLCqpdFTjZOVxNhjfsv9Q3Lc37yH4mpO9jIzYihsuu1ElpRc9640ibc9FRp41fjayv5WDganZIQuTk+eV+8tIe3/+PlhTxLjj6CHA+X7UfUTv6uWd4CykbOKI1YmfPbsYb368CUOYAdMfS1muIMVvYpZZTDHLqxoqVXRGrm2Q7woB+C1KOiJrhFLWrpqPDIelkRlqPSg9D9EZXW/ZYpwXgOrSOmfIC4foe0/tUkmdgm39CSaKlOsa6FP+AGs40ZfIFJ9tLeW2z6V6a48V2xm2NJN5mWU1YCiIUEhX0mteOjwVl3rPxjJL3aROZxNNGdJrW+vAv5d7ii9TOgqZeIy3J6pOIfB3Cq8riuEibsCVez7kDkDfVK5HiYwJegfdAQzS7qRdDOSmEjk0jry0nAPhTuzgVh1+JM8saWZX7V+JoekjFUl3eGAAPoxS0XjStqNQJAu93lihSHkoSbneD/dF2yr4TcxyUjOT0Ve5ynDgzD5l/QRS2Q2lbVu5jt63v6f0hqqT6ujgNp+1P6/NV916K8ouE4knaS3vPb0bycmpQW9oMhQsrPDFKW88cFL5lF2c6LtQEQ9eQdkZRm1UqM0oL3RswL5jmxRrrTOfZqBk4Hd9WR/pNPcc3436mgZuOEBibuP28fs6EXigWGycm6bxsJuEmNOrTyDkKIaR0WRD2g7YBk6XnURpYTnS6E5zc74pKEX42OxRI0SZ6HuCi0eWbdmtLOXukrLUj2Nw/4sQhIshHruP7WLCZ2dArQ8Rlj8/7WsrQu/Jee2v4+/fci/xWW86uF5tmyR/B6vIJJWVoWVFVfX48RMfYOPBU0ign6orUhYyMplN3JT2FPad3EchB34/wgs9c2fyuNA5wfhO5gGq66uwdO8iJDGUUCy3/lLEfTBwQDbe37CIE+m9H43Stk2EUgaysfO6Q6tVKlyJZQ9WEYMt2mrivE49/vrOJ1i2fR/s3I+zO+6LtnXrFjHz3rx5NA4VHyRZFKmIh2AP49tWNhzei8+ylLsxPPfhsxiYnh3UoZE8b7TZjMWbDmPfmSJGFMR16r5oj41Et8jml7tPSDRE/yEkAwelKJTVnpO7cfJEPuKoJP2prcrIJYlpeo8VHMOJ4hMhcWUZ2IfLq8i7khPg+4/sV/HcwVxwI7vV52XEY8lnx7D406PceJXLrJXR2DM0ukfMfFC7OQYnz5zEtkNbOKS3KN9hz24dmWeJwm85tBFNzsaQTWIkJ9tgsTHpeTcgE6s+PjEem49vxCkO5SRHstS9vxTpQOsaa/H2xje5zVIGO1BjOXZ/QQBc6diEhLQ4fLxnuVpsQvXtN8Vo67s5D1QmAdQhWVXEdJ40XBOZwlM8+hdTukXMciPphWwJFqzctVxNAoZ0BdfFPGkAzhW3SUl1CV7d8CL37Bqu3DkBuGyXl5DeuF2Oky7PER0UX3hlRSVW7lzucztdXFvp8p7hdsDO4zux49B2JFmT+fz9iJVaBCGr6szcl3LXkc9wghE6F8kV4SbeLusjy9I3cOf2pgbJGxP8xi9eTUmpLPp6saXbxCxDpARbMg4W7MXyHdyNWupw8fW42OcIyfluBsZ/sncZ6mspaEoh0OvtA/0Q4sJIS0tV2/wcKTgMMxfBGJZEoO8Vbterqq/EB5vfQ2p6Ghzchb0/FvHrerlitobhguv2rOH+lK5+IX9p4xKNs+v4ZxCL2RZjVQZlJLWBbhOzPJwMCwekDcTzS5+l/+q4L4a4r1sk7HwKmdpw1Y5VsNlt9PWezZERrgI3fKombv74+CePqhC/vp4sXpRSQrI2HtyAY2VH1Co4A4dwlVMw6yXPLguOVh1YgcNFB1V8bV/vnKWNy4bOb256jS4F8fT2iOaCKZYur93jGkfTaSMujRfXPEd/a5Naedfl3SL0AAmxkmHhR1uXMBF9CWOXZVgU/KFRIOCSmNGk+CTs3LWHOxdviZRqX9Sjl9aUYsXWZWqVmSzT789FBrMSoVNaWo6Pti3t84Nb6XSEmJd9+iF27t+BuJg4knN3ZmfCo7X0mJhF4WUp8tbdW9TOBX01PtQYFu07tQdrDq2CJYY5HiLKdROFRncTcrJy8OLy55FfdrrPup6UtUzZfLDlfRwuPsQJU7puwkPPerUWYlRkpGfgg03vMyf2x312IljkL3Nee0/vYRa3/8TQvCFM7BX+I9uOGkePiVn8Vw0uBu0zm9Ib617lMOmQUvi+NmyU3reSOTxeWvE8ampqfJEoEabuIisPU8zUuCvx9oY3lUtDGnFfKtLuJG5ZVjsu/2wp4uL7drKi7spOFmINyMrE/yz6IxeI7fflluljbUDaeVFlIZ5d9jSycwa2bIwQGSPb9vLsMTHLhdTkAvfRKm4opD/nVVQ3VKvFDO1vEql/SxRGg6MBf3z/DzhYeICZoeJ90Q0R+ECSJUIWmmzYsx5rdq9W7/sKORukfJzzHU++/xizILrP5k6JQFkFo8rK10wjgwNd/O3DpxWB9aX5BmnLDU31eGf9WzheeBxWZtgT/3KklosiZnloEbjENm/Zsxnvbnw7UnHosN6yZ9nr61/BhiNrmJuCK8ekVUdwiaJvPNoahWc/egY7j+9QM9d9gZzFUpYUl7/9x69Q767lLDyVso9Zg4FoduLSiE+Mw8my43hh2XPMoV0biMv2+jWMNiw+9E92rYQ11sqEZaKrkWktC6AXTcxyESHnFOaMeH7p37F42/u0VkISzS23DkoRQXsZi7jys+V4c/2ryEsa0pqAJyg3DNFFlfOCErfH2/DIn7+p8lhLWJHRsENUjYDfRpLU/P7tX6K2uQpmqzliRzUBB6aDC4pxYebS4fWH1uLVVS+rCJZInh+Stis7Km0+uBFPr/wrLHaZV4h8N11AiFl6JokVHTJ4KP742n9wCfG7HE5G5korEarsgrJ272o1WZYYk0JfelOfWdKqno+DvDzuovAvf/824zw/60B9I+Qj6p/kwnh8xZ9xsvwkV2LSUuqHy8+7Ky2JUkigW+6dT1/D6xtf9bXtSOQy1lncjeu48/q/v/sDJHMXFV9i10h8mHOlGMUexzti5IhzP72Iv6zRVjTWNeGeq+7DddMWIs4epywy8UeHexEhS/L9VbtX4sUVL6DR06AssL7QA7fHXvyLsiNNYkwCvn7tI5gyYqra/EAwiIQi7Uk2Anjm48ew8dAG7trCdka1jOThayhxN+Rc1ViGO6ffh3tnfwGxDC0TCzQyWgBU+12x+yM8tfIx2KJjGG3CpdB01/SFEnBiFlCivTTEuYPCgqnX4Y6Zn1M5emVWOFzJWRqjhNnUy+TB5rewaMNb1O8oFW7Vl32VEnjv5mqwBEsiHlrwZVw5YY4vsoaNO1xlJaNU6VTyy/Px6Fv/haPVBxFjFlLWpbsICDkLCdfV12H26Ll48LovIz0pXaVGDVf5i66K/GVS/r2N72LRp2+qFbgmrqsQa7mvlKAQs4AT7TWhrqYO08ddhm9c920MSBmgdjKQ74zeWt73djFIuZQ5MB5d8h/YwxzL8aZECrsv2snno6120aaR0VjnoGI+jIXTbuT+iVaVkS6clFOkYbQbyZj3pzf+G01oVIsnInEBwfmS6L1PZPLU7eB+jANG4as3fh1DM4cpXVXEHUYjXdFVSZxWw+ivf3z8AlbsXMZdfHzLrfuatgaNmMX0kpCVgvpj8DpM+OODj+HSIZfyU/6T4VIvC1zqIEUEfYDbzvzvW39CUW0B4uMTuAeh+JQD5H7vPX3r1p0lsmb/oX24fe4deHj+VzEgOYv+2vAY5cjwVEY0Mm+xbMdSPL34SUbJJMDNbbd8Chkpg+9uiSSkB6tdeZhLOJk70Dxyy/dw2ajLVecs2Pe6rlLKYs6Z2QZOlJzAXxb/D3Yc3IHsLMYqc/frvui+CiIxS7tiDyd+H25d0FjbiJtm3oxrJ1+P7LQcNRxpwVsODHmRmWjZ/HX5juV4f9s73DC0EbFxsoeeLOHtf4ouHVWMJQb5NccxyD4cX7r2AUwbeRniY+JDLpv2N3QzLlk2AX5r/WtYsX8p0uNle/jIjvxp/4zh8LdYznXuKlSX1uEL8x6gK5K6yj36ejuDpLTNitpyrNu7Fk8vfwweiwuZsdmtI/BwwC7QdQgyMfuqK0MiL/PhVXO/wJFZo0nO1+GK0TORyp2VJcGKsqL52xiqBvoh5fpybVlgIeFCMmm0/vBqrNuxnjtN70F8UiwsnLSUOM/+XEQBLEwV6mjiJqrcsHJi7qVYyM08R2eP5iSuj6B9FmrwUDJkJVaaTE7ml+Vj5afLsf74alSUVSlLWWTYd7yJwcOyJ1cW15ZYz5XllVzSPBRXjZ6HmeNnKVekELS0EZ/92pOrd32O0b7U4hfeSKJuth/ZztWcH+LA6QOcoIxVk9R93YAKCTGLOMQGFfeAy+GCicmkM6wDcM30a3HZiMsp9CyVO1is2NZZVTaQntqt0niMIgIW8pcUmOU15dhyZBNW0krOrzwBt7MZMbGydNcXZGOc099fBXlJtO/mNmJmSzRGZY7DTVfcjLGDxjEJeBK/9W2waSjRxQx128pKLDa5loReni45xTzSK7hScR1qnTXwWj1qki/SF/lEStsSWThcjYjyRCM1Ng0LGGE1Y8xMZCYPUBtEtNXVi5G/4GG0ATGclK62GE+7TuzEO2veUrslecwuWK02xQlntTtS0Ox+PUNGzEbVFEETXoncqGmqQawlDgumXIfZY+diUEYeYm2x6lBRQBG+YUEZ56tXXkTIwRBo2++kkcg/Y/jVyJ1GJHHPlkOb8cqqF1XGsaTkRNVTqAm+/iDltgB1473CkoMI6dSqa6swJmcCFk6/AZcOnYSMpEzOIVhVp+YjS5k3ECUzbtBRt9r6ZctBYp0xTyFJQK5RXV+NI4WH8cnuFfh460ru0xaNhDiRla8LMDoC4w76NbgI+DRJ4I9CeV0p7J54LJx5A2aNnYOhWcO463i80jVpHzIBaxhVcl5rMd62Eb0hRzlOyZ+WuLxv4nqBM4y22Xp4MxMuLcaZqlNqI2EVbcEpn470vfU+fexNyIm5LX4S8yxCyi/IR2NjI2ZPmY0rRs7EyNzRyreVGJOoFg209sgUrhIOhS3ylkT1vkag/lKkIMPfuqY6lTv5yJnD2Hh4Hbbu24qm5nqMyBmtbu+kRdamnbStkn5/HgJCuNEqr3GtsxpFZ0q4FTZw25w7MGnYFAwbOJwknYE4axyF0Y0JUzK4yKGKQ9VTpSe5aeweLN+9BMdPnURsJpAXP1b5EH1bQol8delNBERXxZrNLz+FuooGTB07DVdNmIvRg8ZgYGqOGknZGM2jXBCsqOh1K5H61FPpqqHL8r1M5tY5apm3owhHC45g25EtnPP5ECa607Izc9jm7C2bHIi29q820KvEbDQ0C/ejk2XclfUVqKusR3SMF0OyhmBw0nBGBwxkHHQS4uPikEjrKd6awBApG3LS4nGCW5I3uetR3ViNuroGVNdVobSmGGdq8rH/xD5m9I/ihF4MUpJS1a1k52Bdeo5ANJVDoljEMiquOgNPQxQGZKQhOSYb3/vcdZgzcQKaHBZ4PHKM+CNld27f/aJo9UZHeziSccNicaKRJP+Hl5fgs9P7cezECZXDIymJcrYlcqTkJimHR0RIz9Hqg2dSlrJdmZBvRUMpGqocamQ6eNBgDErOw4CkgSqqI4GRTXHcODiBspTl0kLGknem3lnPfRhrqKt1HB3VKF3NrzqNEwXH0dDAPTQ5OMqMz1EjLxcXegl599diDocHFyUEf2RolJSTpPJUlNWWobCwmFTgmxyMtnlJzAloqnXjq7fMx+RRw7F023YuBtmMZrMbDXXNanJPhGmNs2BgRrZqQDJE1oQcGCnLkNLIb5uZRHyTozlZCO4pxxGJcxQSuSQ2NkaSxwght7VwWkwmnq8Imn82MzRr99FdcJOsc3JyeY5XuUzEipZiWFbqD/0rPBCg3CSEUkqiPQUpA9n5cvgk0U1FpQX0efl0NcrCCJ/YGM4J0C1J+cr2VlHNFkXOkgHO42A7YPvwMjOllbktkhKTVK4dratnxRwWxGxUR1bZNbOnlBJjjkdciig0nRV8kUFyUWkJvv+5+XjouomwMVnNN26bzoZRjxc+2oi8nBzmtPCdK0MoEbL86BIcBAx8xYISd1IUh7rUNDV8FXkJAfuKvIocjSJzA/ybFjU1mcdx9aFHj2QMdCLlVUZNhk9ZcpRYE2VizidnnwuDnTitZJpFfCRJOUvDibKOtycgKkaOkx+hdf7wWh7OJ+lyFoGwIuaz1RKRCbmKUjMWmgIt5tY4P7r7Wnz9lrnstX1CzEiMx7/eez19Uib8bfEaDMrNRqNLk3FbHIP+XvGvT06+e51PxJ3XQXaXsHX+tf4mIhAQXW31J7etMXtoE9hhtxRfK+Fvw79lfKFfz0MgbInZV1PG1XLCoaGuHt+8eRYevGEW02966Kv09cxiYdtpOf/ovutVr/vW6k8Rl5BA18V5z6k/0AhoBDQCEYNA2BKzUK+ZpNzY0IC7r5qkLGX5u+2oWPyQQs5mEvW3b7ta+aY/3LIXFsY7anKOmDaoK6oR0Ai0Q6Ab8U3tzgzin1IpE0m3hO6LL1w9Bd+9cz5XnnFI5DOUz7mzImd+ksI93r5BN8fCy8YzIU8dlxfrJbvnAKX/0AhoBCIGgbAjZuFecVUUl5biR/dei0dIyrEkZfFPdVbkHPk+Izke37l9Hu6YMwWn8wu4eCVsBwSdPYr+XCOgEdAIqGCHMILB55YopaX8k3uvw9dvvkq5M/ypoEHOqQmx+PHnr2dI3Vycyj+jLWd/wNPHaAQ0AmGFQFiZlBJ9IT5lmei7//qZaqIvqmWizx/UhJx9PudofP+u+Vzo4ME7a3fAxmB394VMbn8uro/RCGgENAIhQiAsiFm5L+hTbmiox+fnTlETfRZzz3zExoSgnP/NW+eqMJ4lm3ZzNxK7nhAMUaPSt9EIaAQuDoFe9zEbVm5xaRkeXnA5vnPHNV36lLt6ZCFnMZDFrfENukNuumIiaqurmXSn1x+3q6rr7zUCGgGNAHrVYhZSlp8GdzN+cf+N+OL8y1tjlOXziynG+WpC8M5rmL7SjMfe2Yzc3GS6SHSg88Vgq8/VCGgEgotArxKzPJqTJJnNRPWny6rxqxeWqBwJirDFtcGNQn/wuWuYAzZe+Y67gkIs5T3HC/DqJ9uZPMWslnnKkk8LLWWn24PYNO5Qokm5Kxj19xoBjUAvI9CrxCzuBiHNcm479fSiT1T+ZS4roRVNl0OUhTvh1uC7t16lyFqWfBpWcGeYyfdVdY14c+VGOCzcE66uhp9ITjTJVGVFTm4qCb6zs/XnGgGNgEYgPBDoVWIWCAxyzmWei7bEK6v59h73JTDyHeUfYCaT75yRWYlocPqS7suZEq3h1qzsH4j6KI2ARqBXEeh1YpanF3Ju6/dVBM1MZXD6so51y8htOVhIWNwkumgENAIagUhDQIcpRJrEdH01AhqBPo+AJuY+L2L9gBoBjUCkIaCJOdIkpuurEdAI9HkENDH3eRHrB9QIaAQiDQFNzJEmMV1fjYBGoM8joIm5z4tYP6BGQCMQaQiERbhcpIHWn+urQhmNgHOGJp7ddLUnqPjsAi7YPKcw5FwXjUC/RkATc78Wf/cf3tHEnci5q7GsqPRtwimLd+SjbrCpL1Cd17BxdacLbqfsbm6ws0tlApTNErpxxe4/iD5DIxDGCGhiDmPhhFvVmkm+mYlxzNIH5iHhUndyqcluRrx5kNoUV4ja3yJ5tkflpeB0VROaHULMJHeebjF7UO1sRr3DCRP3ePT/iv7eWR+nEQh/BDQxh7+MwqKGJhJpdVUDbp42GvczPatHWcjMX0J2djM7YGYKE001N6u/u6qw5D2Jj7Hhx1+4AW5uZqDIl7+EiM+UVeGbTy5CLJfW66IR6K8IaGLur5Lv5nMLEaenxeFvi1dh9KAMfH4eyVlcGuTPKL54+dod37CQ8OCMFFULOTeaBF9UUYOfPfUumrmU3mSx6Nwm3ZSRPrzvIKCJue/IMuhP4vJ4MXzIIPzkyTfRxDwm98ybDhsJtNU93M0aCCFLEQv6WFE5fszrVjLVa0qMHQ6Ss1jjumgE+iMCOlyuP0r9Ip653unB4EG5eGLRaryyfAsampw9vppY2GIpnyquwK+ffx8HCisRp0m5x3jqE/sOAtpi7juyDNmTNLg8MFvteO6jDfQPe/HFBTNg7eYejULKZrozCsqr8CNayvsLKxAXG6vcF9pSDpko9Y3CFAFNzGEqmHCvlof+i6hoCx5ftApmkwkPLpzJyT81jddl1Q1Szi+rxD2/eBx1jPCIbyHlLk/WB2gE+gEC2pXRD4QcjEcUCnbxV0JSMn761Jt4cdkmFT7nz73EfSGW8ud//SSaTDa6L2zn5OP25xr6GI1AX0ZAW8x9WboheLZ6Lg4ZPWIofv3ce3C43LiXE4KxNmvndyaZHyssxb/97R1Ucx+EuJhoOBhup90XnUOmv+l/CGiLuf/JPOBPXMcFIlkDBuBvH6zFy8s3o76DCUFjou9kcTl++fx72JdfBrvdxl1mfLHQAa+UvqBGIIIR0BZzBAsvnKrexPA2s8WGF5ZtVOFzD1w/kxvtcokgi+FTPkOf8vf+7xWcKK9DLH3KvkUq4fQUui4agfBAICKIWUezhkdj6aoWHgYmR5ut+MvbK7m02oyHFl6pVgPKYpLTpZX43M//Ake0laQcoxePdAWm/r5fIxB2xGyQsM/nGE/hyCf8EbNLfSnTTm2L7wz5lINiHmN4Z+Rz+dT3fdsz9PvAISDoRkeZYGJSoyhiL4tF0tMH4N+eekvJ7EvXXaFI+eHf/x0ecywSbXZayrL82gsPmknc8ltJTkkrcDXTV9IIRC4CYUHMDLxSCw1EqV1uF5f4RsFjjWL+BSqu18RcDFY43cw2xvder5k/knlMzhL/pEwceRAd7WbYFomY5ybEpcDjYXIcWfsQLUNsszq6mUuI29N65Iou9DUXEhbyjSKIzuYmRLnZfIh5U1Q9zA12JjKKoaVsVeFzt1x1PRavr8XgAQ3YergSGZmTENOcj/piNzyUscPlhNPSALPZxvAOcjjlaGIstCnaRJmrvHWhf0B9R41AmCAQRTL0jhg5oleqI1axidZWg6sWrnqSawyQkzgIGXFZGJYzDEMyh2POJWNgM8cx2Q0VlnaZJGUQYjaK5ANW5MxvzSY3KuoqsX7vQZws34NT+cUorS9BaXUJnFxCHM/MaBaT5GCQxDmaog0M/Xk1R5tp6bpRX1uv4pUzM9MwwJ6L7AHZGJ0zBgNTs5Ecm4I4eywx9pGzycROVDKEsoh9LAmL5BoNjkbUNtaghHI5UnwIJ/NPoriuEMVVhXA0uWBPsCKGMvd4aU0bF/BdRv/WCPQLBHqNmK1U3obGRlRUlGNI7mBMHjKdaSBHYmz2eKQkpMJuscPUMnkkkhBPBs1e+d+uCFH7SPZsagWvIoFGRwNKa0px4PQB7D+5FztOb0NJRTGSkhMRa06Aq5mmmi6dIiC4SkcmZFpWVYLUuAxcMngSxuSOxfghEzAgOYuhcbG0en0jEpFOW/m07/yMb32f80he38OMdA5XEyrrynHozGEcOLUPO/M/xbHTRxkjHY/EmGRGbvR82XenD6e/0AiEMQIhJ2axvGQy6NDRw8jLGYTPz7kf00ZehqyULLozosXrKOaVKj2NbVWnG2RNqpDrujwunCk/jXX712HxxkUobDyJIWmjFDl7aEH39F5hLNuLqhodFhyp2HGs4gBinEm4Y87nMGfCXAwZMFR1msotZGB8tkfs9j3PdqqkbV5HUoeW1ZRh2+EteHf921yqvRtDsoaJD0XJUMup2xDrEyIQgZARs1hLMkFUVVcBd6MX377tEcwafxXSEtLUcNVNq0yOCYbiCYnItaVTEGutsKIAH+34EG98/DriU+kXjbJyoN2SFzgChRjIKgtO0fznpoO+prION864BTdfdgvyMgbTjx9NC5c4CSGr0Utb+/jiayHXlX/mKLO6VwXbyrq9a/DCR8+i0VqHJEtqi5xaeu6Lv6W+gkYgLBEICTGbaLE6mhwc9sZh9ri5uGH6TchJy1GWsfgRg0HGHaFtEIr4tYVgjhcfwxvrX8Vnh3ai2eybJOzPPk2Rk4wsopzRGDt4HG6bcScmDr5EuSo8KqG9+PMDS8adyolfSEcgpbCiEEu2L8aq7SvRgHpYrbKyMPj1UDfXvzQCvYBAUIlZciIICVZVVuOSoZNwM62vSUMnw8bMZMYQtheemTaZT63FxVHXWIctBzdh0dZ3cKzgKJKZ+6E/+p4tTEhUXl6O3OxcLJiwEPMmzUdKfIqyYMWKFUu6t4pEgrjcTuw69hne3vQa9p/eh9gY7piiRzm9JRJ93yAjEDRiFlIW67O0uBT3X/swbrzsJqTGp4WVoWMQjvg1T5efwtvr38KSTYtJTjmccHIoAg8y/r1+eaFbM0m5tLQUl4+ZgfvmfRHDs4arsLXWHqzXa8kKsDcVeZXXlOOj7UvwyscvMwQvTXWiEl6ni0agLyEQFGKWiaMmT72aTf/hTT/D3InXqJn9sFL0NlIU692YIPxg6/v40xv/haF5Q6n0TlXlNof2rbfkMwv97qXlZbj1itvx8PVfhY3Z3kLpXuopoBv2rccPn/xnDB86jJazV4fV9RRIfV5YIhBwYhYLzOP2ICE2Hl9b8B1cPuoKTiRxYo8WdG8Oh7tC37CeTZx4WvrpEjy5+K+wx9kYNi3f9M0i6/UaGxqxcMqN+NL8B2G1WP9/e1cCHmV1rt/MTDJZJgtZSSBhCYR9XxUQWUUQRBCqttZ6W6u1i8tte69tvd3vrU/vba+3fbRV21rt5lJFQRZFFBEFWYSwypaFLfs6mcyS5X7vmQwECGSSzJJJzskTEv7M/59z3vOf93znO9+iVEyB0CN3FVGT2Eh/enIvfvryD2CQ340tB7tdfa6+XyPQHRDw+C/7pC08PHI6HOgTnYivLXoIU4ZMVYdslEa7Mymz8572NYht87xxC3D/4gdhaBTPNvEkDJ521SfDcsVDlPpCFiCbzYbFk5bi8/O+GFKkzA7RQ3ScnFv8++2Pi6enOKO0WPVc0Vl9QSMQggj4jJjVQZqrWjy/LHhg8TcwYfBEBUcoSF+tx43tNRjCMGf8XHx+zt1odDQqJ4vWnwn132k2WFJaglunrsDn594trtSRITdWHCda1kwYOBn3zXsQ5rBI5Sre0xbRUH/XdPs7h4BPiNl90Nco28lwfPu2x5TlhXumd65R3eEuk3i8zZ+wEPfM/xcUFhYiUpwtLni+dIcGdrINPOgrKSkVQv6iImVzhMSqCNFCcg6TRXTKkOl4cPE3USFZUcyMvaGLRiDEEfAJMdMloUJi7X5jwaOYlD1ZSTKhJim3NY50CV8yfSkeuPXryMvPUwdjoUzOVDVVVVRi0eTFuHvuPRfshNvqe6hdmzFyFh678/s4fvJEj1lEQ20MdHt9h0CXiTlMAgrZ6xz43A13iSffLNS76nvUhG+WBKMrZ6zGohmLJCDSeWWX7Tv4A/ckbvEdLgdyBgzFqtl3dCuzxa6iQCGAB8x0Gf/q0gdQXFos49QtAid2tWv6/l6KQJeImcdizWIDPLRfjrJT5kk5dc09qTB2BwP5rJpxB/onDIBLctyF3nFgs9hfmBBpjBKzuBVI75MeMtYXHX2XlonZ36Rhk1FvFwGhxx3bdhQN/flQRaALLNqsgtw0Optw24yVSE1IC1UMrtlukjAPmQamDMaKaXe4XZKVQ0PoGNHxsK+yshKzR87F1KHXuU0XRcrsaYUOTfEx8bht2u2IC48Xs82WmKM9raO6Pz0egU4Tc7ikCDp15jhuEn3lxMGTetTW+PJR9xwyXTf8emT1GYgmSSAaKh1W9CvqJkN0I5ZOW4aocAl63UMLx4nOQqMGjMbU0dPQLFlSGJBJF41AqCHQ6beWE4AZQpZNu1WyVoSLE0boSJCdGSRKznExcbh7wT2ot9pbCK779zlCPPnyC/Lx7aWPIz0pQ3n1dab/oXIPyZmOMrdMulUypkjQfrFCCWZcllDBTbezeyHQKWKmG++Z84X4/hf+QwVL51Y/9PSuHR8ITvCcfsMwffx0VFRXdPuDQOr7a2w1mCbtnTp0mop1TOLq8UXWywzJqLJo+s0oqy1FhJwR6KIRCCUEOkzMtFmuq6vD0AE5mCkmSiSrXjHZZVS5K2BmlZVTV6OqrqJDB52kQ2OAOZGLZYPLhZXTVovjT0zviSchODOt1ezRcxFnEl2zEhxCaVrqtvZ2BDpMzAzBWCeuvAvHLpaDFkl6KvGUe0sh0fGAKTt9CBZLtLwSichmkuSh7RUPH1dYRfcj0pysZX4vlJbrrFaJpzxOvsdciFfi94q7SQUcJ2bFWTZjOYpKilUEvW7SNN0MjUC7CHSImElM9c46ZEnM3ik5Egej0R2cqN1aetAHuEOIkEzQSyYth90umaLbPVySvHZCxC4xEJg5oj/KbC4xv/NQtT+BkYzjIi2PGzABlqjY3qdnlXFiLPAbJDFDk1kypgtR66IRCBUEOkbMwifNzjDkpI1EmtjCMh1TryuiymlobsDQ9KG4bpzomm0l11RphItEbZcIbqum5eBLC6aiWZLDRkryUv9KzWFwupzI6JuOSTmTe5W6yfM+Ur3G3VxGcj8sG7cKxcV0Oml/d+O5X//UCAQTgQ4RM6VFY6QcgA0cIlJjuEiLgZD8ggnPlXWzx/QGjIqIwtjMiWiyEYUrceAZm0niOFTW2HHb9HF4eNVCFXyeGPrbgoWtCZOoeP3iBsjhbJpf6utsHzp735Uj0f4VYk0b7glDJsMUYew1ZyHtI6M/0d0R6JDfaliTAXHGRIzqNy5gLzkln7aIry1gA0F6ql5hPnoE5vQfhthYi0pcGtZKGhM+VqW41IovL5yKh1bNlsM35qkLgHJZamH1DUYnhmXlIMocLRdaGqRa5YN/5HlMrEv1gCcXIHXa9Pxsbwwotar75ECOn6V3Hg/q2Gj+35dFSc1ST3Z6Nvqm9oXVViumnRJjO0Dj4Mu+6Gf1LgQ6RMycOAlRiUiOS/E7SqyL0k5BaYHkeDukAqHLzHXXS57hry18477cjD6xieqgK1x0wP4sXCiaGpuQmZKF/olZyC+VAEdRblJyNykMpWW1eGTFbNy/dIYQlkGRgdt6JUx0zAYx4erQZqUD3SFu4WhwmDEyc4xP45ZwTBiQ3tngQF7RKRw79xnOV56TGBx2WCJjMSpzNEYOGIUYs+UK8iNxM57FyfMncezsUXVfvdwXKWM1NGMYxg4cJzkGE9WC5+1C7A0otMhIkfd1aNIw7KzYgYjY4Oab9KbN+jMaAa+JmRKSM8yJEYNHSLZrkcJaEaO/YGR0tx1HPsT/vvrrdqswxQJTB8zEwDu+LwTdR6izhbXbvbNzH6DEHCeHamlx6cgvzlf1NYsEaTIZUSSS8reWz8KD8s3FRBzvFF6NagVpxpmqOpRWOfzSRrYhITYOGWZpW3xfqbil8s5185K7SK7FlefxzKansfHjjWIX7ZZ6+aG0/ql47s1nMGfCXDy88l+RGCv5HVsKx6KithzPb/kjXtvyqpivqWRQCpOIRPnhMGB0xnh8547HMDB1oOc2n/ykdGwONyM90Z2VXb23PnmyfohGwH8IeE/Mst20VpdJos4hasvqvyZdfDKTpI4Q99o7F9ylJlfrra5n00vayS3MFV1uhWTfNisvxItP8N9vJBtK5klxycJ90hoh3Qgh5epaB+6dPwkPLJuhKme8YE9bEy3RWL1wBhKio0R6bPK5huFib8MQH52KeIusVhdqv/jXzv5Gklu/Zx027dyAQemDMXvCjchKGYA6yTT+jx0vIDs7GwdO5+KVD17GfTffr9Rd7l0C8PFnH2PDR29hcPYALJmwHEP65ghBN+CDw1uxI+9DlMoh6kvv/Q3fvPVhUb9E+UxVxnGiiWe6qDLCY7hz4YG1fxftzuKr79MIeBDwkpjdagVjQ4SSwviiUzLzZ+GE5tZ3VNZoDO8/os2qqK88V3kWmz99B40mF8YOHSvb6BhOxTY/7+uLlCAHZQxC1Gc8CAXKKutw1+wJeGT1HFlIRLXRUiH/xkzOw7PS8J/3LvMzL7D3Tai1paGs3J2ZxJf9To1Pw+cW3CkBnVZL4KpUd3YX6ehkMZ/81Zu/RHVdFXYXfozlNbdJFDu6gMsCJA1Ijk3GPTffi5sm3KwWM2OL/ff47IkwbzRj7Z7XUFCVh+LqImSnDVEqDZ+0WyrngtKvTyaiTNGidnG6ddo+ebh+iEbAPwh4ScycWmJlIFIzo3cFungmcVv1fnz0I1TbqpBoScL0oTPclg8XKLGtO3xzzSMJJovEbGw04GylA99YMk2pL6LMktS0jTbwHqPfbZgpIUock6YoWTzlaI3SvA/LnLHzMD9sodqd8BCP39zJDEgZiBnDZuLkueOiPz6LSmsF+iX2V153VOVMEAKemD1JVD2MXdGkFl3ex6BKU4ZOxdv7NqCmvlq+a5RenIeKHoy70nzPIh0fnYAYxEvm9nJxC+zKE/W9GgH/I+AVMXNu8xCFBBktEmmwC0mPUcNKq0uxdvsbMEiT5oybjwwJ0tMWIfqzvTz0CmuMwr+tmo77hJjpsh7oNrTuH2mYLWiU3Y0/isoPKJWQkFsX9jnGIgMRIYTaJPm35ZCwdeGiLh+5sNPyECbvIwG7mh1C0mnK5Z36e18W1sFzEX5XOSp8+Wj9LI2AXxDwyjSAE6eh0YXINJpEibghkk4wCyc1J9u+vL2oNp5H9Tkr5o2fH4QodxLJTMyvfnjvLWJ9Md0NiXtzETx4SH5UZjS5idAvDbmsj4pcpU67RN1rsIraIiZVkWDrMwHVDrmvtZTNceRifyD/AKprZNcTlaTievtKWm7dd7rOMwqiuwT3/W3dLv27RqAtBC4Va9r6BK8JMdsb7BgeN1KI2fNyX+3D/r/OaVVtrcLGT9bDVWvE8htXqK00Dws9kpj/WyE1yAKVlZaAjLRs+Y9dtuCXMVZAGtFGJQJQY7MsoAFqDjGnydyJ88dhbajGtNRpSBKdMj3vLlVHNKOhoUFgk5/izl8tqoutue/h7x89j76J6bh++CzERyW00aGuX+J7S1d6FsoV8krrohHotgh4RcyceK4mB6LDowOmw70mYjKzDp3JRXH9WeV6vGTyUjXpeFh4KRFc8yk++aPbzVck+O422cUZKBCFJEt78/2n9uGTEzuRkZCJqYOvQ6R4RlKX7BkPHpTW2Krxu3VPKzM75h8ssZ9Fwekzcrg7Wg4TV0m0whuUKsgfC4rBYFDvbiAw0XVoBLqKgFfEzEoopV6QRt3/6WrdnbqfROCUSb3zyE6cOXcWN4oKY1i/4W1IZ516fMdu8khdxKO7FU/b/NgujgVVEaUS/+M3a56UfIguDB80AlOGSfYQ0RN7SJmfI9nSfvlsxWm4GlxKYi5zFikJulYk553HP1KxvUdkjlQvm+deXzVfwREATHzVXv2c3o2AV8RMHWKEpJKip5ZSF5iCc8DlIYLC8kIcPXdEnfDPGjlbpLNI8UZzXiCCgA2p8I0Ke8oJ390mPcnQz4VSsM1hw9ObfgNbkxWWiFisnnWnqDEuOpewCSRZ6paZAeYHd/1IHSTzPbLaa3G08Ahe3fkSth/bioOyC/reih+qUKVUdfiSnJVuW+rURSMQCgh4t9+VSR5hMKPEJhKOqAuCWSihfXJ0Jw4X7MekERPFDGsCXHIw6ctJ7G3/WOfpkmps3n1UYkaI2Vh3mfiySBiM4kjhZ27mYvjqRy8ht+BTlJaU4b5b7sfogWOvukhxx0XdMwMrMVP3sIzhWDljNb572/ckA/kgVJRWY9OuDX5pN4me7WXR+mVv33D9uWAh4BUxK4nZGCETp1y2ni6+2gFvL9ugts3VJXj/wBaZ3BkYlzFJPNwS1GFSwBskFbJNnOxP/G0T/u+1D2XR8jMTet1JMSc0yALqp2HizoU64rd2rcVrn/wd9fY6PLz6UcwaNVtAaQ8DUXLIZ2gSx0W+3mnD8IwRGJUxBuHilHO8+DhqRZKm7l6pQLzu87U/6JK6XC3E7Ddgrt0E/VeNgNcIeEnMYpMvkqrL3igTqT6o7/W2Q9vk9P+YSFz9MGW42A3LoU4wpGUPwjaHFU0mO55atxM/f+Ft2OpFpeIvRvRUeo2flAZZv0miy/lF9FRPbcaWfZvxl/eeF/IMw71z78fiSbeocWgWo3d+XV5aY8L1gv9X4+b+jzKv4z2Mda3I3YeLCuuyO+zq3W2rbZe3Vf9fIxBsBLzSMXOC0w2bsQ1qxTMrHRkBbTcnEyWospoy/HnjH5CWnIYhkt6pf3Kmm3t8OIm97Zia4EJK5RKcxxnWgLTECNnW58LubMDj9yyUrCEML3lpoQTYJFK1Cmp06Z989z+plCcABkO9jBlb4FtwSKY0cXtu4zMwRRlwx/VfwpLJy9QCyU5Q70xsGA+aJM3CfttlQY+WvIMkSerlPdIwHYXscnZBV2xrUyVGx40Wr8JIpZP22YIrzeB7a2uulQZSz+yVPKLarv/RCAQDAS+J2R23gtv2kqoSyRQ9PKBt5WTmRN5zYheKHGeQ0pyB2WPmqGD1iiAD2pqWysg50qa80hNwOiVSnCkKiQlRWLdHDiXF7frxexYhQrbmlGD5UaPYOOeePIen132IJAlm5BKXY38UN5k1S6jLTCyaMEDaYPZZNRyHHUc+ws9e/AkGZGbixjHzsHjiLYqUqcNtXUjQ3GVx3KrE5vwnL/4Hbpp6M6YOm64OB5WzhwBDUt6we506N4hqjsOEAZPdh7kS08IXxMz62W4Sv1POIuiRyPHQRSPQnRHwkphp6tSAyKQIIaI8XNc4Qw6XAid1cGJVSXCcV3a9gBF9x4ikBuTIwVEwCxcEklF5WSXglOwY4XSyaER8rBkvf5grFgiReGTVHBUGVJqvSo3NjvXbdsGSIgGGJLaGL4jnSgzENTrGgv6RpZgx3IokHxEzx6DGViOBip5AdtZgRXK0qPiv0z8TJJSMrILssa8kQ3N4BB5Z/h2JcCdnAPLllLOJn770OBKT47BgxK0SDCtN6ZgPFuRi57HtSLH0xXg5yJ03YYEyp/MVNqybu4bCokJYa+oQGy+xoqV9umgEujMCHSDmRkSFReNg/n7UT1uJmKjAxsw4XVqICEesBMepxNfmfR2W6OBOMCZhtdqtKK4tkp2xe/pTPG4UVUVyYgye2/SJGveHbr9RtuZumBlHgySRHheNOLP/PCjDwyJgs1kllkiJRHK71HSt0y+jNJ3NH5yUg6Ly82pROV8iP9t4IGmPEjOtZciLDHz15cVfwd+3RqK8sgLbc7cpF3/eSo+8bAliPzZ7PFbfeAf6SOZ1JeUqrNp4eAcvcUHhoV9RZZH85sbfvYfp4IP0xzUCAUTAa2KmXtQg0coqK6tQYS0PKDGT9pgt5OvLv6Wm1iC6QAdZ6DHKoeO5ytM4XXNK8skJjC1SGJvFMPAecq621uOxLywUSZqecPwrJe0mIS3q7f0z0vJ0NJic+KzoqKidhl3Q/3alNrY9OtKCh1Y8CodTsoO303geyibEJIiuWIJfyfnARMm7x/Ct1Mnzm1YdxII26JSekyTLiCeWhZtAu9Lai/dygaiqq0RBeR5MZqoxgvziXGya/k0jcFUEvCZmPoGHOXXNVpwsOonM5Cz1krc3Qa9acwf/QKmrdcjRYE4wkhRVOSfOnER1ZS36JCS5HU1a+kT+JTmnJMXgjV2HlYrjp19Z0iKxdbDjnfg4sQlrNOJo3hEsHLtIkZ8vxokSf98+fdvsB+nOs864qa8VAbb8gYd//OYie4EfPTd1op/t3cJxCheJPK8oDwVF+UhISLhknNq7X/9dIxAsBDqmKJaJaa+34+DJXLVNDSY5Bgsw1kuS4zb9oDi5kIDbKrxKyTgxPgobPz2EJ/4qAZckdCrv9aVE2FbdvMY4FQXFBSivKW9Xur3aM652neN++ReZ1vN1kXWv9gS5TkL2Iyl7amab9uftg8PhL52+pyb9UyPgOwQ6SMwy5URqpjs0YyG7A/j4rjGh8CRKYbQ2oBS29fhmJCckq+16m20XEnY0iG4+JgZr9+Xh2Q07YIxPFUsEuhu3eYdPLpKMIiRYf1H9Gewv3KsWAra7NxXPOBVXFWPr4XeRnCK7GjnA1kUjEAoIdIiY+bJHR0Uhr/w49ufvVVHFetuEp7TLeMHvH9gMo8uspNFrU57EHBYSDhekd504j8Rok0jO177DJy+OMH+T+JjsPymHtS5xCuplxbMr+eTYDpwpPa3iZgcA9V6Gsu6uvxDoEDGzETwEjDRGY9uhD2Bz1qnTd381rrs9l5IoD7XOlJ3Gm9vXIDkpWUy+2rdH9hBCQozbEsOf0rIHMwbtiY6Jxqcn9uD42WNK18r295bCJLg8ZHxl60tITUl1W4j0ls7rfoY8Ah0mZk54i9jJ7j26B3tP7r3gRBDySHjRAUphtF3evP9tWMNqxWBOHCi8JDtSYiAE5dbdoKqptrkCGySztbMxuK7irdsViN+5k6O0XFB1HDHhcV6PUyDapuvQCLSHQIeJmQ+klJiQFI+nNj2pEqHSJKk3FLqlF5YW4M0P38CgpCGikmBAp+5b6PqcEZeFNz5Yg0P5B91eb71B1yy7unJx3395yz8wIHmILEr27jtIumUagTYQ6BSjUkqMlOzGBYWFWL9rvYpr0Maze9YlEXltEkXtjZ2vwxwbjvqGOp9bO/gDMLohZ2Sl40+bn0OFbO17+iJKSZnpq97P3YKqsBI4mxnMyY8nrf4YNP3MXo9Ap4iZqHFrPChrEF7a9hccO/uZAtLbbX2ooc7Jzq89J3Zjz9FdcphnkhP+0Ai6TtVTTLgFJ8+ewFs71/ZoXSvHiOaIx89/hrf3bYS5KaZ3CA2hNqF0e9tFoNPEzCe7hJyNJgPWbH8NNXXV7VYWih8gKXOyl0n6pHV7XhcHm1o0iws2r4VK4SIaGx+Ljblv4uiZI8rMmP3qaSVMTqbt4pX41u61KKo9CwNNYXTRCIQgAl16c+lcES5Bcnaf+EQihK1XE54pg3paMRpNWLfzTRw6eRhR5pgW1+rQ6iVD0zvsLrz24T/lXKDnLaJcaEwyTlRhbN37PuIk2zYD8uuiEQhFBLpEzOwwt4/hUUas/XQNDhYekHgHESFJXG0NHvvGyb5l7zt48Z0/IykxSSZ7++ZxbT0r2NdIURESI3r3sZ1Y89E/3XGTewhxKVKWcJ778vfh53/9CZKT6SLf8wSEYL9Duv7AIeATYjbIpLDW1eCZ9U+hoCTPJ0FzAgfBVWoik8n3B0fex4/+8jgy+2fCSY+NED5IahJrmviEOPxjxwtYv3edu+OhLlRK+2nGeOTMYfz4tceQldm/R+vRr/K26ss9DIEuEzPx4AFTrAQZOlN6Bv/z6i+RX5yvJkuoYkUJjN+7JTD/7zf/FukZ6XLYF5qScusxIAdT/dQnJgm/f/c32JK7OaQPxzhGLKckqNZzm3+n8lEaxF3+avFL1If1PxqBEEDAJ8TMftJm1hJnkVCYZ/DbNU8KOecpcvZMnhDAQjWR7aVJ2X7ZFv/p/d+r4DeSVVAme8/YGlM9YxDHkyjJNvDcu0/hvQPvSror6VuISc4cJ8YsOV1WiD++/Szyzp9CjClOR48LlYmm23lNBHxGzKyF5GyKNOGsxCl+8vVfI78kX8XTCIUDQRIWJX+zyYwD+bn41Vu/QElNEUxh4T1OAqNEKRE8lNnfM+/8Fu/mvqNeEvY/FApJmeE8iyrO48k1v8KBvFyYzcwTyNUldKxlQgFr3cbgIOBTYmYXlERmNqCgLA///covcOj0oQvBjrqzUEY9JXOHfnBwKx568atiduVAlFGypARnXAJQK1O2Co0ZgSfffgKv73xV9Z/j1507TVLmWB2QlFTfffERHCnNRUKfeFk8Q1/VFIBB11WECAJh8qI3Dxk6xOfNZZyGmuoaCU4ejxXTV2H+uJsQI0HSu1NRxMQGyS/lkpVl0+4NYn3xPBJTk5Tc5bbA6NkSGEmOAFSUV2LptOVYOfN2pCakdVs7bWu9FdsObMWzW56CwWREdHiMhAiga3zPHie+prr0HgT8RsyE0Ci62vrGejQ6GnDDsLlYfv0KDOw7SOlwuW0OppMGJS/qKBmUiGZ+NCE7cOoAoixmZWqlJMde8h6QnKlXr62ulSS3w7B85gpMyp6ispBTPRXscfK4keeLxc+6HW9i++FtkvyW0r5B1BeUlDUp95JXtdd006/ETBQ56fnlEucGs+ifb5/1Ocwfc7M4AMSpLMlqaxpALzrWx4nO8J2MHbFpz0as3bkGrjCmtpdocdRn9NJCXBqdjSpt1sycG7B8xgqVQowWKYFeSD3vBceESW8/Prwdz2/+A+zNNkQYzSr8bG9aPHvpK9lru+13YvYgS8sGWgMUlxRjfM5EfHHOlzAia5QEMA9XUqtnIno+78uffDa/SDzhhnBYHVbsPr4LT7z+Y9RW1GNg1kBlo6wnuhv1CMGorKwcTdFWPLroh7h+xEzER8erhdQjQXOx9XXhksiUWHw2D/eYvutw4SE8++7T2HtgL7IHDVYR/bRHn6+R18/rbggEjJg9HTcbI1BuL4OtzI4FUxdgzpgFGCbZk+OiY9WEZCB+JbT6aN6TbDnRaRlSZa3EvrxPsWHfOhVPOj0lAybRUzokvX0wt+sebLrTT5M4DQlLqgiCY4aPwZIJt2B89kSkxvdVOwu2VWHri90OGZnjLT+5iNocNnEYOSRZYsS9ev/7iIyORGy0BfYGhu/00YshT9JFI9BdEQg4MRMISq7UP5fWFsNiihe95nDkpOdgUs4UZCT2gyXSolLZtyZLb6RZJcW1zFsSsUsIt9pWIzGU87H/xH7RJefiyHnRI5tiEGtpUaWQDXRpEwFCSbVBnagSrPU1GJg6CGP6T8RE2fEMTB2sspZHSKwUjuUFYvUCz9bjRCJmmE6rvRbnKs6qVFhHREo+VHQADXI2ER9HiwuaMmpdcpuDpC/2SASCQsweJGm5Qd0lM283StLS+AQLUszpGJQxGKMGjEb/pP5IsPRBtDkaJADqhUnqJGx+KRWFTGw6fzAPn8PlEBKpQ2VthZjrFeCQEHHhudOodlagxlqjJrjFQhM4t82ypx3657URENQV5vb6eiHRRolUZ0G8IRGZaZkYMXAUBqUMQlJcslpQzTJOjC8SpsaqZZyIOMdJxrpJ0rg4ZZxsThuqrVU4K2R8VNypjxccQ7mjTK5Vo0nqiImNkTrdh3t66bz2+Oi/9jwEgkrMHjhJttzHNoqFRFiTEY1hDbBbHTDJV0SEWYIH9cHgvkPFlbgPEuQ7MjwSRqPbooJEXF1fhQoxdzt1/iSqKqrgFEm5IcqOmIh4eZ6QA0U/yQHHn1o/6UG94z/VDoYsKQQLwZUHpfUuG2A3KMmaKceys7KRYkkVaTpBzCNl5yO6YsboqHfWo8pWiRrZweQXnUKRnDVwnJxh9bBYYmFoNqjnGZi5VhYCkrguGoHeikC3IObLwSdRU8cZboigLAy7SFhVjhI5tKuBveRS+clkAfgdb05BgrmPIgg+jwdHTFev4yZcjq7v/k8KVeMk5waUjRn3ucZZhWqRfB21DWiwXqzLYJZM4XFAjDkOiZGpiDRFqt2PS8aokWMlI6WLRkAj4Eag/XK6CQAAAQJJREFUWxKzu2nc/orqskVt4VZhqE21unbhM/ILpSv3VrlR5G4W/kva0CUQCBB77kYYqJ7qJqoglBJDjZ27BRwRJQV7VBot6o3W5wiBaKuuQyMQCgjI0Xt3LS0qCGkedcI004I6APKmvZqUvUHJV5/xkCstalQcZC/VEJ77fNUO/RyNQE9BwOexMnoKMLofGgGNgEYgWAhoYg4W8rpejYBGQCNwFQQ0MV8FGH1ZI6AR0AgECwFNzMFCXterEdAIaASugoAm5qsAoy9rBDQCGoFgIaCJOVjI63o1AhoBjcBVENDEfBVg9GWNgEZAIxAsBJSDSbAq1/VqBDQCGgGNwJUI/D9xOFRtMNJnxgAAAABJRU5ErkJggg==)"
      ],
      "metadata": {
        "id": "hzRMK5TGwuR2"
      }
    },
    {
      "cell_type": "markdown",
      "source": [
        "![Screenshot 2024-09-15 at 10.53.20 AM.png](data:image/png;base64,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)"
      ],
      "metadata": {
        "id": "EilYgQ7Awyk3"
      }
    },
    {
      "cell_type": "code",
      "source": [
        "# Use the code for reference\n",
        "\n",
        "class Node:\n",
        "    def __init__(self, value):\n",
        "        self.value = value\n",
        "        self.next = None\n",
        "\n",
        "class LinkedList:\n",
        "    def __init__(self, value):\n",
        "        new_node = Node(value)\n",
        "        self.head = new_node\n",
        "        self.tail = new_node\n",
        "        self.length = 1\n",
        "\n",
        "    def append(self, value):\n",
        "        new_node = Node(value)\n",
        "        if self.length == 0:\n",
        "            self.head = new_node\n",
        "            self.tail = new_node\n",
        "        else:\n",
        "            self.tail.next = new_node\n",
        "            self.tail = new_node\n",
        "        self.length += 1\n",
        "        return True\n",
        "\n",
        "    # << write your code >>"
      ],
      "metadata": {
        "id": "0_V3r2-vwnSl"
      },
      "execution_count": null,
      "outputs": []
    },
    {
      "cell_type": "markdown",
      "source": [
        "## Test case 1 - what is it\n",
        "* ensure you run the test cases before submission\n",
        "* create Test cases as required"
      ],
      "metadata": {
        "id": "9JScbvwXxQqx"
      }
    },
    {
      "cell_type": "code",
      "source": [
        "my_linked_list_1 = LinkedList(1)\n",
        "my_linked_list_1.append(2)\n",
        "my_linked_list_1.append(3)\n",
        "my_linked_list_1.append(4)\n",
        "my_linked_list_1.tail.next = my_linked_list_1.head\n",
        "print(my_linked_list_1.has_loop() ) # Returns True"
      ],
      "metadata": {
        "id": "IM7hU6mHw3kb"
      },
      "execution_count": null,
      "outputs": []
    },
    {
      "cell_type": "markdown",
      "source": [
        "## Test case 2 - what is it\n",
        "* ensure you run the test cases before submission\n",
        "* create Test cases as required"
      ],
      "metadata": {
        "id": "5LhGfMbYycg6"
      }
    },
    {
      "cell_type": "code",
      "source": [
        "my_linked_list_2 = LinkedList(1)\n",
        "my_linked_list_2.append(2)\n",
        "my_linked_list_2.append(3)\n",
        "my_linked_list_2.append(4)\n",
        "print(my_linked_list_2.has_loop() ) # Returns False"
      ],
      "metadata": {
        "id": "QG6HHPjLye9G"
      },
      "execution_count": null,
      "outputs": []
    },
    {
      "cell_type": "code",
      "source": [],
      "metadata": {
        "id": "9Evxgq_-yfgO"
      },
      "execution_count": null,
      "outputs": []
    },
    {
      "cell_type": "markdown",
      "source": [
        "# Assignment 3 : Find kth node from end\n",
        "\n",
        "---\n",
        "\n",
        "Implement the find_kth_from_end function, which takes the LinkedList (ll) and an integer k as input, and returns the k-th node from the end of the linked list WITHOUT USING LENGTH.\n",
        "\n",
        "Given this LinkedList:\n",
        "\n",
        "1 -> 2 -> 3 -> 4\n",
        "\n",
        "If k=1 then return the first node from the end (the last node) which contains the value of 4.\n",
        "\n",
        "If k=2 then return the second node from the end which contains the value of 3, etc.\n",
        "\n",
        "If the index is out of bounds, the program should return None.\n",
        "\n",
        "The find_kth_from_end function should follow these requirements:\n",
        "\n",
        "The function should utilize two pointers, slow and fast, initialized to the head of the linked list.\n",
        "\n",
        "The fast pointer should move k nodes ahead in the list.\n",
        "\n",
        "If the fast pointer becomes None before moving k nodes, the function should return None, as the list is shorter than k nodes.\n",
        "\n",
        "The slow and fast pointers should then move forward in the list at the same time until the fast pointer reaches the end of the list.\n",
        "\n",
        "The function should return the slow pointer, which will be at the k-th position from the end of the list."
      ],
      "metadata": {
        "id": "ThcijrZPx_U5"
      }
    },
    {
      "cell_type": "code",
      "source": [
        "class Node:\n",
        "    def __init__(self, value):\n",
        "        self.value = value\n",
        "        self.next = None\n",
        "\n",
        "\n",
        "class LinkedList:\n",
        "    def __init__(self, value):\n",
        "        new_node = Node(value)\n",
        "        self.head = new_node\n",
        "        self.tail = new_node\n",
        "\n",
        "\n",
        "    def append(self, value):\n",
        "        new_node = Node(value)\n",
        "        if self.head == None:\n",
        "            self.head = new_node\n",
        "            self.tail = new_node\n",
        "        else:\n",
        "            self.tail.next = new_node\n",
        "            self.tail = new_node\n",
        "        return True\n",
        "\n",
        "\n",
        "\n",
        "#### WRITE FIND_KTH_FROM_END FUNCTION HERE ####\n",
        "#                                             #\n",
        "#    This is a separate function that is      #\n",
        "#    not a method within the                  #\n",
        "#    LinkedList class.                        #\n",
        "#    INDENT ALL THE WAY TO THE LEFT.          #\n",
        "#                                             #\n",
        "###############################################"
      ],
      "metadata": {
        "id": "-gY1lXY9x6aR"
      },
      "execution_count": null,
      "outputs": []
    },
    {
      "cell_type": "markdown",
      "source": [
        "## Test cases\n",
        "* ensure you run the test cases before submission"
      ],
      "metadata": {
        "id": "fxAGf6GnySmU"
      }
    },
    {
      "cell_type": "code",
      "source": [
        "my_linked_list = LinkedList(1)\n",
        "my_linked_list.append(2)\n",
        "my_linked_list.append(3)\n",
        "my_linked_list.append(4)\n",
        "my_linked_list.append(5)\n",
        "\n",
        "\n",
        "k = 2\n",
        "result = find_kth_from_end(my_linked_list, k)\n",
        "\n",
        "print(result.value)  # Output: 4\n",
        "\n",
        "\n",
        "\n",
        "# \"\"\"\n",
        "#     EXPECTED OUTPUT:\n",
        "#     ----------------\n",
        "#     4\n",
        "\n",
        "# \"\"\""
      ],
      "metadata": {
        "id": "3-Thvl-PyZ29"
      },
      "execution_count": null,
      "outputs": []
    },
    {
      "cell_type": "markdown",
      "source": [
        "## Test case 2 - what is it\n",
        "* ensure you run the test cases before submission"
      ],
      "metadata": {
        "id": "MTqHihvVyX3w"
      }
    },
    {
      "cell_type": "code",
      "source": [],
      "metadata": {
        "id": "xeO7Rx-K1ywD"
      },
      "execution_count": null,
      "outputs": []
    },
    {
      "cell_type": "code",
      "source": [],
      "metadata": {
        "id": "x8BUDszR1y40"
      },
      "execution_count": null,
      "outputs": []
    },
    {
      "cell_type": "markdown",
      "source": [
        "# Assignment : Partition List\n",
        "\n",
        "\n",
        "---\n",
        "\n",
        "LL: Partition List\n",
        "⚠️ CAUTION: Advanced Challenge Ahead!\n",
        "\n",
        "This Linked List problem is significantly more challenging than the ones we've tackled so far. It's common for students at this stage to find this exercise demanding, so don't worry if you're not ready to tackle it yet. It's perfectly okay to set it aside and revisit it later when you feel more confident.\n",
        "\n",
        "If you decide to take on this challenge, I strongly advise using a hands-on approach: grab a piece of paper and visually map out each step.\n",
        "\n",
        "This problem requires a clear understanding of how elements in a Linked List interact and move. By now, you've observed numerous Linked List animations in the course, which have prepared you for this moment.\n",
        "\n",
        "This exercise will be a true test of your ability to apply those concepts practically. Remember, patience and persistence are key here!\n",
        "\n",
        "Now, here is the exercise:\n",
        "\n",
        "___________________________________\n",
        "\n",
        "\n",
        "\n",
        "Implement the partition_list member function for the LinkedList class, which partitions the list such that all nodes with values less than x come before nodes with values greater than or equal to x.\n",
        "\n",
        "Note:  This linked list class does NOT have a tail which will make this method easier to implement.\n",
        "\n",
        "The original relative order of the nodes should be preserved.\n",
        "\n",
        "\n",
        "\n",
        "Details:\n",
        "\n",
        "The function partition_list takes an integer x as a parameter and modifies the current linked list in place according to the specified criteria. If the linked list is empty (i.e., head is null), the function should return immediately without making any changes.\n",
        "\n",
        "\n",
        "\n",
        "Example 1:\n",
        "\n",
        "Input:\n",
        "\n",
        "Linked List: 3 -> 8 -> 5 -> 10 -> 2 -> 1 x: 5\n",
        "\n",
        "Process:\n",
        "\n",
        "Values less than 5: 3, 2, 1\n",
        "\n",
        "Values greater than or equal to 5: 8, 5, 10\n",
        "\n",
        "Output:\n",
        "\n",
        "Linked List: 3 -> 2 -> 1 -> 8 -> 5 -> 10\n",
        "\n",
        "\n",
        "\n",
        "\n",
        "\n",
        "Example 2:\n",
        "Input:\n",
        "\n",
        "Linked List: 1 -> 4 -> 3 -> 2 -> 5 -> 2 x: 3\n",
        "\n",
        "Process:\n",
        "\n",
        "Values less than 3: 1, 2, 2\n",
        "\n",
        "Values greater than or equal to 3: 4, 3, 5\n",
        "\n",
        "Output:\n",
        "\n",
        "Linked List: 1 -> 2 -> 2 -> 4 -> 3 -> 5\n",
        "\n",
        "\n"
      ],
      "metadata": {
        "id": "JJ1T05dK1Z2d"
      }
    },
    {
      "cell_type": "code",
      "source": [
        "class Node:\n",
        "    def __init__(self, value):\n",
        "        self.value = value\n",
        "        self.next = None\n",
        "\n",
        "class LinkedList:\n",
        "    def __init__(self, value):\n",
        "        new_node = Node(value)\n",
        "        self.head = new_node\n",
        "        self.length = 1\n",
        "\n",
        "    def append(self, value):\n",
        "        new_node = Node(value)\n",
        "        if self.length == 0:\n",
        "            self.head = new_node\n",
        "        else:\n",
        "            current_node = self.head\n",
        "            while current_node.next is not None:\n",
        "                current_node = current_node.next\n",
        "            current_node.next = new_node\n",
        "        self.length += 1\n",
        "\n",
        "    def print_list(self):\n",
        "        temp = self.head\n",
        "        while temp is not None:\n",
        "            print(temp.value)\n",
        "            temp = temp.next\n",
        "\n",
        "    def make_empty(self):\n",
        "        self.head = None\n",
        "        self.tail = None\n",
        "        self.length = 0\n",
        "\n",
        "#   +===================================================+\n",
        "#   |               WRITE YOUR CODE HERE                |\n",
        "#   | Description:                                      |\n",
        "#   | - This method partitions a linked list around a   |\n",
        "#   |   value `x`.                                      |\n",
        "#   | - It rearranges the nodes so that all nodes less  |\n",
        "#   |   than `x` come before all nodes greater or equal |\n",
        "#   |   to `x`.                                         |\n",
        "#   |                                                   |\n",
        "#   | Tips:                                             |\n",
        "#   | - We use two dummy nodes, `dummy1` and `dummy2`,  |\n",
        "#   |   to build two separate lists: one for elements   |\n",
        "#   |   smaller than `x` and one for elements greater   |\n",
        "#   |   or equal to `x`.                                |\n",
        "#   | - `prev1` and `prev2` help us keep track of the   |\n",
        "#   |   last nodes in these lists.                      |\n",
        "#   | - Finally, we merge these two lists by setting    |\n",
        "#   |   `prev1.next = dummy2.next`.                     |\n",
        "#   | - The head of the resulting list becomes          |\n",
        "#   |   `dummy1.next`.                                  |\n",
        "#   +===================================================+"
      ],
      "metadata": {
        "id": "gvXO6sX2yYu4"
      },
      "execution_count": null,
      "outputs": []
    },
    {
      "cell_type": "markdown",
      "source": [
        "## Test Cases"
      ],
      "metadata": {
        "id": "NMbDsVrR1tx8"
      }
    },
    {
      "cell_type": "code",
      "source": [
        "#  +=====================================================+\n",
        "#  |                                                     |\n",
        "#  |          THE TEST CODE BELOW WILL PRINT             |\n",
        "#  |              OUTPUT TO \"USER LOGS\"                  |\n",
        "#  |                                                     |\n",
        "#  |  Use the output to test and troubleshoot your code  |\n",
        "#  |                                                     |\n",
        "#  +=====================================================+\n",
        "\n",
        "\n",
        "# Function to convert linked list to Python list\n",
        "def linkedlist_to_list(head):\n",
        "    result = []\n",
        "    current = head\n",
        "    while current:\n",
        "        result.append(current.value)\n",
        "        current = current.next\n",
        "    return result\n",
        "\n",
        "# Function to test partition_list\n",
        "def test_partition_list():\n",
        "    test_cases_passed = 0\n",
        "\n",
        "    print(\"-----------------------\")\n",
        "\n",
        "    # Test 1: Normal Case\n",
        "    print(\"Test 1: Normal Case\")\n",
        "    x = 3\n",
        "    print(f\"x = {x}\")\n",
        "    ll = LinkedList(3)\n",
        "    ll.append(1)\n",
        "    ll.append(4)\n",
        "    ll.append(2)\n",
        "    ll.append(5)\n",
        "    print(\"Before:\", linkedlist_to_list(ll.head))\n",
        "    ll.partition_list(x)\n",
        "    print(\"After:\", linkedlist_to_list(ll.head))\n",
        "    if linkedlist_to_list(ll.head) == [1, 2, 3, 4, 5]:\n",
        "        print(\"PASS\")\n",
        "        test_cases_passed += 1\n",
        "    else:\n",
        "        print(\"FAIL\")\n",
        "\n",
        "    print(\"-----------------------\")\n",
        "\n",
        "    # Test 2: All Equal Values\n",
        "    print(\"Test 2: All Equal Values\")\n",
        "    x = 3\n",
        "    print(f\"x = {x}\")\n",
        "    ll = LinkedList(3)\n",
        "    ll.append(3)\n",
        "    ll.append(3)\n",
        "    print(\"Before:\", linkedlist_to_list(ll.head))\n",
        "    ll.partition_list(x)\n",
        "    print(\"After:\", linkedlist_to_list(ll.head))\n",
        "    if linkedlist_to_list(ll.head) == [3, 3, 3]:\n",
        "        print(\"PASS\")\n",
        "        test_cases_passed += 1\n",
        "    else:\n",
        "        print(\"FAIL\")\n",
        "\n",
        "    print(\"-----------------------\")\n",
        "\n",
        "    # Test 3: Single Element\n",
        "    print(\"Test 3: Single Element\")\n",
        "    x = 3\n",
        "    print(f\"x = {x}\")\n",
        "    ll = LinkedList(1)\n",
        "    print(\"Before:\", linkedlist_to_list(ll.head))\n",
        "    ll.partition_list(x)\n",
        "    print(\"After:\", linkedlist_to_list(ll.head))\n",
        "    if linkedlist_to_list(ll.head) == [1]:\n",
        "        print(\"PASS\")\n",
        "        test_cases_passed += 1\n",
        "    else:\n",
        "        print(\"FAIL\")\n",
        "\n",
        "    print(\"-----------------------\")\n",
        "\n",
        "    # Test 4: Already Sorted\n",
        "    print(\"Test 4: Already Sorted\")\n",
        "    x = 2\n",
        "    print(f\"x = {x}\")\n",
        "    ll = LinkedList(1)\n",
        "    ll.append(2)\n",
        "    ll.append(3)\n",
        "    print(\"Before:\", linkedlist_to_list(ll.head))\n",
        "    ll.partition_list(x)\n",
        "    print(\"After:\", linkedlist_to_list(ll.head))\n",
        "    if linkedlist_to_list(ll.head) == [1, 2, 3]:\n",
        "        print(\"PASS\")\n",
        "        test_cases_passed += 1\n",
        "    else:\n",
        "        print(\"FAIL\")\n",
        "\n",
        "    print(\"-----------------------\")\n",
        "\n",
        "    # Test 5: Reverse Sorted\n",
        "    print(\"Test 5: Reverse Sorted\")\n",
        "    x = 2\n",
        "    print(f\"x = {x}\")\n",
        "    ll = LinkedList(3)\n",
        "    ll.append(2)\n",
        "    ll.append(1)\n",
        "    print(\"Before:\", linkedlist_to_list(ll.head))\n",
        "    ll.partition_list(x)\n",
        "    print(\"After:\", linkedlist_to_list(ll.head))\n",
        "    if linkedlist_to_list(ll.head) == [1, 3, 2]:\n",
        "        print(\"PASS\")\n",
        "        test_cases_passed += 1\n",
        "    else:\n",
        "        print(\"FAIL\")\n",
        "\n",
        "    print(\"-----------------------\")\n",
        "\n",
        "    # Test 6: All Smaller Values\n",
        "    print(\"Test 6: All Smaller Values\")\n",
        "    x = 2\n",
        "    print(f\"x = {x}\")\n",
        "    ll = LinkedList(1)\n",
        "    ll.append(1)\n",
        "    ll.append(1)\n",
        "    print(\"Before:\", linkedlist_to_list(ll.head))\n",
        "    ll.partition_list(x)\n",
        "    print(\"After:\", linkedlist_to_list(ll.head))\n",
        "    if linkedlist_to_list(ll.head) == [1, 1, 1]:\n",
        "        print(\"PASS\")\n",
        "        test_cases_passed += 1\n",
        "    else:\n",
        "        print(\"FAIL\")\n",
        "\n",
        "    print(\"-----------------------\")\n",
        "\n",
        "    # Test 7: Single Element, Equal to Partition\n",
        "    print(\"Test 7: Single Element, Equal to Partition\")\n",
        "    x = 3\n",
        "    print(f\"x = {x}\")\n",
        "    ll = LinkedList(3)\n",
        "    print(\"Before:\", linkedlist_to_list(ll.head))\n",
        "    ll.partition_list(x)\n",
        "    print(\"After:\", linkedlist_to_list(ll.head))\n",
        "    if linkedlist_to_list(ll.head) == [3]:\n",
        "        print(\"PASS\")\n",
        "        test_cases_passed += 1\n",
        "    else:\n",
        "        print(\"FAIL\")\n",
        "\n",
        "    print(\"-----------------------\")\n",
        "\n",
        "    # Summary\n",
        "    print(f\"{test_cases_passed} out of 7 tests passed.\")\n",
        "\n",
        "\n",
        "# Run the test function\n",
        "test_partition_list()\n"
      ],
      "metadata": {
        "id": "3_bTFGW_1pNy"
      },
      "execution_count": null,
      "outputs": []
    },
    {
      "cell_type": "code",
      "source": [],
      "metadata": {
        "id": "NVFOAwGnfvZa"
      },
      "execution_count": null,
      "outputs": []
    },
    {
      "cell_type": "markdown",
      "source": [
        "# Remove Duplicates\n",
        "\n",
        "\n",
        "---\n",
        "\n",
        "You are given a singly linked list that contains integer values, where some of these values may be duplicated.\n",
        "\n",
        "Note: this linked list class does NOT have a tail which will make this method easier to implement.\n",
        "\n",
        "Your task is to implement a method called remove_duplicates() within the LinkedList class that removes all duplicate values from the list.\n",
        "\n",
        "Your method should not create a new list, but rather modify the existing list in-place, preserving the relative order of the nodes.\n",
        "\n",
        "You can implement the remove_duplicates() method in two different ways:\n",
        "\n",
        "\n",
        "\n",
        "Using a Set - This approach will have a time complexity of O(n), where n is the number of nodes in the linked list. You are allowed to use the provided Set data structure in your implementation.\n",
        "\n",
        "Without using a Set - This approach will have a time complexity of O(n^2), where n is the number of nodes in the linked list. You are not allowed to use any additional data structures for this implementation.\n",
        "\n",
        "\n",
        "\n",
        "Here is the method signature you need to implement:\n",
        "\n",
        "def remove_duplicates(self):\n",
        "\n",
        "\n",
        "Example:\n",
        "\n",
        "Input:\n",
        "\n",
        "LinkedList: 1 -> 2 -> 3 -> 1 -> 4 -> 2 -> 5\n",
        "\n",
        "Output:\n",
        "\n",
        "LinkedList: 1 -> 2 -> 3 -> 4 -> 5"
      ],
      "metadata": {
        "id": "25ORwkQHfwbd"
      }
    },
    {
      "cell_type": "code",
      "source": [
        "class Node:\n",
        "    def __init__(self, value):\n",
        "        self.value = value\n",
        "        self.next = None\n",
        "\n",
        "class LinkedList:\n",
        "    def __init__(self, value):\n",
        "        new_node = Node(value)\n",
        "        self.head = new_node\n",
        "        self.length = 1\n",
        "\n",
        "    def append(self, value):\n",
        "        new_node = Node(value)\n",
        "        if self.length == 0:\n",
        "            self.head = new_node\n",
        "        else:\n",
        "            current = self.head\n",
        "            while current.next is not None:\n",
        "                current = current.next\n",
        "            current.next = new_node\n",
        "        self.length += 1\n",
        "\n",
        "    def print_list(self):\n",
        "        if self.head is None:\n",
        "            print(\"empty list\")\n",
        "        else:\n",
        "            temp = self.head\n",
        "            values = []\n",
        "            while temp is not None:\n",
        "                values.append(str(temp.value))\n",
        "                temp = temp.next\n",
        "            print(\" -> \".join(values))\n",
        "\n",
        "    #   +===================================================+\n",
        "    #   |                  WRITE YOUR CODE HERE             |\n",
        "    #   | Description:                                      |\n",
        "    #   | - This method removes all nodes with duplicate    |\n",
        "    #   |   values from the linked list.                    |\n",
        "    #   | - It keeps track of seen values with a set.       |\n",
        "    #   | - If a value is repeated, it is skipped over by   |\n",
        "    #   |   changing the 'next' pointer of the previous     |\n",
        "    #   |   node, effectively removing the duplicate.       |\n",
        "    #   | - The list's length is adjusted for each removed  |\n",
        "    #   |   duplicate.                                      |\n",
        "    #   |                                                   |\n",
        "    #   | Tips:                                             |\n",
        "    #   | - We maintain a 'previous' node as a reference    |\n",
        "    #   |   to re-link the list when skipping duplicates.   |\n",
        "    #   | - The 'current' node iterates through the list.   |\n",
        "    #   | - The 'values' set holds unique items seen so far.|\n",
        "    #   +===================================================+\n",
        "\n",
        "\n",
        "\n",
        "\n",
        "\n"
      ],
      "metadata": {
        "id": "cAeV5ZYMfvkQ"
      },
      "execution_count": null,
      "outputs": []
    },
    {
      "cell_type": "markdown",
      "source": [
        "## Test Cases"
      ],
      "metadata": {
        "id": "0FrKj_qTgGmW"
      }
    },
    {
      "cell_type": "code",
      "source": [
        "#  +=====================================================+\n",
        "#  |                                                     |\n",
        "#  |          THE TEST CODE BELOW WILL PRINT             |\n",
        "#  |              OUTPUT TO \"USER LOGS\"                  |\n",
        "#  |                                                     |\n",
        "#  |  Use the output to test and troubleshoot your code  |\n",
        "#  |                                                     |\n",
        "#  +=====================================================+\n",
        "\n",
        "\n",
        "def test_remove_duplicates(linked_list, expected_values):\n",
        "    print(\"Before: \", end=\"\")\n",
        "    linked_list.print_list()\n",
        "    linked_list.remove_duplicates()\n",
        "    print(\"After:  \", end=\"\")\n",
        "    linked_list.print_list()\n",
        "\n",
        "    # Collect values from linked list after removal\n",
        "    result_values = []\n",
        "    node = linked_list.head\n",
        "    while node:\n",
        "        result_values.append(node.value)\n",
        "        node = node.next\n",
        "\n",
        "    # Determine if the test passes\n",
        "    if result_values == expected_values:\n",
        "        print(\"Test PASS\\n\")\n",
        "    else:\n",
        "        print(\"Test FAIL\\n\")\n",
        "\n",
        "# Test 1: List with no duplicates\n",
        "ll = LinkedList(1)\n",
        "ll.append(2)\n",
        "ll.append(3)\n",
        "test_remove_duplicates(ll, [1, 2, 3])\n",
        "\n",
        "# Test 2: List with some duplicates\n",
        "ll = LinkedList(1)\n",
        "ll.append(2)\n",
        "ll.append(1)\n",
        "ll.append(3)\n",
        "ll.append(2)\n",
        "test_remove_duplicates(ll, [1, 2, 3])\n",
        "\n",
        "# Test 3: List with all duplicates\n",
        "ll = LinkedList(1)\n",
        "ll.append(1)\n",
        "ll.append(1)\n",
        "test_remove_duplicates(ll, [1])\n",
        "\n",
        "# Test 4: List with consecutive duplicates\n",
        "ll = LinkedList(1)\n",
        "ll.append(1)\n",
        "ll.append(2)\n",
        "ll.append(2)\n",
        "ll.append(3)\n",
        "test_remove_duplicates(ll, [1, 2, 3])\n",
        "\n",
        "# Test 5: List with non-consecutive duplicates\n",
        "ll = LinkedList(1)\n",
        "ll.append(2)\n",
        "ll.append(1)\n",
        "ll.append(3)\n",
        "ll.append(2)\n",
        "ll.append(4)\n",
        "test_remove_duplicates(ll, [1, 2, 3, 4])\n",
        "\n",
        "# Test 6: List with duplicates at the end\n",
        "ll = LinkedList(1)\n",
        "ll.append(2)\n",
        "ll.append(3)\n",
        "ll.append(3)\n",
        "test_remove_duplicates(ll, [1, 2, 3])\n",
        "\n",
        "# Test 7: Empty list\n",
        "ll = LinkedList(None)\n",
        "ll.head = None  # Directly setting the head to None\n",
        "ll.length = 0   # Adjusting the length to reflect an empty list\n",
        "test_remove_duplicates(ll, [])"
      ],
      "metadata": {
        "id": "p4PJXVcRgF9L"
      },
      "execution_count": null,
      "outputs": []
    },
    {
      "cell_type": "code",
      "source": [],
      "metadata": {
        "id": "sccj8tdQgPI1"
      },
      "execution_count": null,
      "outputs": []
    },
    {
      "cell_type": "markdown",
      "source": [
        "# Binary to Decimal\n",
        "\n",
        "\n",
        "---\n",
        "\n",
        "Your task is to implement the binary_to_decimal method for the LinkedList class. This method should convert a binary number, represented as a linked list, to its decimal equivalent.\n",
        "\n",
        "In this context, a binary number is a sequence of 0s and 1s. The LinkedList class represents this binary number such that each node in the linked list contains a single digit (0 or 1) of the binary number, and the whole number is formed by traversing the linked list from the head to the end.\n",
        "\n",
        "The binary_to_decimal method should start from the head of the linked list and use each node's value to calculate the corresponding decimal number. The formula to convert a binary number to decimal is as follows:\n",
        "\n",
        "To put it in simple terms, each digit of the binary number is multiplied by 2 raised to the power equivalent to the position of the digit, counting from right to left starting from 0, and all the results are summed together to get the decimal number.\n",
        "\n",
        "The binary_to_decimal method should return this calculated decimal number.\n",
        "\n",
        "\n",
        "\n",
        "Examples\n",
        "\n",
        "Consider the binary number 101. If this number is represented as a linked list, the head of the linked list will contain the digit 1, the next node will contain 0, and the last node will contain 1. When we apply the binary_to_decimal method on this linked list, the method should return the number 5, which is the decimal equivalent of binary 101.\n",
        "\n",
        "Similarly, for a linked list representing the binary number 1101, the binary_to_decimal method should return the number 13.\n",
        "\n",
        "Here's how you can create these linked lists and call the binary_to_decimal method:\n",
        "\n",
        "# Create a linked list for binary number 101\n",
        "linked_list = LinkedList(1)\n",
        "linked_list.append(0)\n",
        "linked_list.append(1)\n",
        "\n",
        "# Convert binary to decimal\n",
        "print(linked_list.binary_to_decimal())  # Output: 5\n",
        "\n",
        "# Create a linked list for binary number 1101\n",
        "linked_list = LinkedList(1)\n",
        "linked_list.append(1)\n",
        "linked_list.append(0)\n",
        "linked_list.append(1)\n",
        "\n",
        "# Convert binary to decimal\n",
        "print(linked_list.binary_to_decimal())  # Output: 13\n"
      ],
      "metadata": {
        "id": "tW5HrmNbgPoG"
      }
    },
    {
      "cell_type": "code",
      "source": [
        "class Node:\n",
        "    def __init__(self, value):\n",
        "        self.value = value\n",
        "        self.next = None\n",
        "\n",
        "class LinkedList:\n",
        "    def __init__(self, value):\n",
        "        new_node = Node(value)\n",
        "        self.head = new_node\n",
        "        self.length = 1\n",
        "\n",
        "    def append(self, value):\n",
        "        new_node = Node(value)\n",
        "        if self.length == 0:\n",
        "            self.head = new_node\n",
        "        else:\n",
        "            current = self.head\n",
        "            while current.next is not None:\n",
        "                current = current.next\n",
        "            current.next = new_node\n",
        "        self.length += 1\n",
        "\n",
        "    def print_list(self):\n",
        "        if self.head is None:\n",
        "            print(\"empty list\")\n",
        "        else:\n",
        "            temp = self.head\n",
        "            values = []\n",
        "            while temp is not None:\n",
        "                values.append(str(temp.value))\n",
        "                temp = temp.next\n",
        "            print(\" -> \".join(values))\n",
        "\n",
        "    # WRITE BINARY_TO_DECIMAL METHOD HERE #\n",
        "    #                                     #\n",
        "    #                                     #\n",
        "    #                                     #\n",
        "    #                                     #\n",
        "    #######################################"
      ],
      "metadata": {
        "id": "nJZaX7WOgh0O"
      },
      "execution_count": null,
      "outputs": []
    },
    {
      "cell_type": "markdown",
      "source": [
        "## Test cases"
      ],
      "metadata": {
        "id": "cO60Joh8gnMa"
      }
    },
    {
      "cell_type": "code",
      "source": [
        "# Test case 1: Binary number 110 = Decimal number 6\n",
        "linked_list = LinkedList(1)\n",
        "linked_list.append(1)\n",
        "linked_list.append(0)\n",
        "result = linked_list.binary_to_decimal()\n",
        "try:\n",
        "    assert result == 6\n",
        "    print(\"Test case 1 passed, returned: \", result)\n",
        "except AssertionError:\n",
        "    print(\"Test case 1 failed, returned: \", result)\n",
        "\n",
        "# Test case 2: Binary number 1000 = Decimal number 8\n",
        "linked_list = LinkedList(1)\n",
        "linked_list.append(0)\n",
        "linked_list.append(0)\n",
        "linked_list.append(0)\n",
        "result = linked_list.binary_to_decimal()\n",
        "try:\n",
        "    assert result == 8\n",
        "    print(\"Test case 2 passed, returned: \", result)\n",
        "except AssertionError:\n",
        "    print(\"Test case 2 failed, returned: \", result)\n",
        "\n",
        "# Test case 3: Binary number 0 = Decimal number 0\n",
        "linked_list = LinkedList(0)\n",
        "result = linked_list.binary_to_decimal()\n",
        "try:\n",
        "    assert result == 0\n",
        "    print(\"Test case 3 passed, returned: \", result)\n",
        "except AssertionError:\n",
        "    print(\"Test case 3 failed, returned: \", result)\n",
        "\n",
        "# Test case 4: Binary number 1 = Decimal number 1\n",
        "linked_list = LinkedList(1)\n",
        "result = linked_list.binary_to_decimal()\n",
        "try:\n",
        "    assert result == 1\n",
        "    print(\"Test case 4 passed, returned: \", result)\n",
        "except AssertionError:\n",
        "    print(\"Test case 4 failed, returned: \", result)\n",
        "\n",
        "# Test case 5: Binary number 1101 = Decimal number 13\n",
        "linked_list = LinkedList(1)\n",
        "linked_list.append(1)\n",
        "linked_list.append(0)\n",
        "linked_list.append(1)\n",
        "result = linked_list.binary_to_decimal()\n",
        "try:\n",
        "    assert result == 13\n",
        "    print(\"Test case 5 passed, returned: \", result)\n",
        "except AssertionError:\n",
        "    print(\"Test case 5 failed, returned: \", result)\n",
        "\n",
        "\n",
        "# \"\"\"\n",
        "#     EXPECTED OUTPUT:\n",
        "#     ----------------\n",
        "#     Test case 1 passed, returned:  6\n",
        "#     Test case 2 passed, returned:  8\n",
        "#     Test case 3 passed, returned:  0\n",
        "#     Test case 4 passed, returned:  1\n",
        "#     Test case 5 passed, returned:  13\n",
        "# \"\"\""
      ],
      "metadata": {
        "id": "Cch_xvuPgh7L"
      },
      "execution_count": null,
      "outputs": []
    },
    {
      "cell_type": "markdown",
      "source": [
        "# Great Job !"
      ],
      "metadata": {
        "id": "hfEeJ1ll3cUs"
      }
    },
    {
      "cell_type": "code",
      "source": [],
      "metadata": {
        "id": "p5SEincd3ge_"
      },
      "execution_count": null,
      "outputs": []
    }
  ]
}