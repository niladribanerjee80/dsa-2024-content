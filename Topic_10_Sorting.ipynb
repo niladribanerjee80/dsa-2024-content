{
  "nbformat": 4,
  "nbformat_minor": 0,
  "metadata": {
    "colab": {
      "provenance": [],
      "authorship_tag": "ABX9TyMsX9Gv/NfyiSG0YR3VifEa",
      "include_colab_link": true
    },
    "kernelspec": {
      "name": "python3",
      "display_name": "Python 3"
    },
    "language_info": {
      "name": "python"
    }
  },
  "cells": [
    {
      "cell_type": "markdown",
      "metadata": {
        "id": "view-in-github",
        "colab_type": "text"
      },
      "source": [
        "<a href=\"https://colab.research.google.com/github/niladribanerjee80/DSA_Scott_Barett/blob/main/Topic_10_Sorting.ipynb\" target=\"_parent\"><img src=\"https://colab.research.google.com/assets/colab-badge.svg\" alt=\"Open In Colab\"/></a>"
      ]
    },
    {
      "cell_type": "markdown",
      "source": [
        "# Bubble Sort"
      ],
      "metadata": {
        "id": "ViiKMaV0iF7T"
      }
    },
    {
      "cell_type": "code",
      "execution_count": null,
      "metadata": {
        "id": "NG-KRP5viCuv"
      },
      "outputs": [],
      "source": [
        "def bubble_sort(my_list):\n",
        "    n = len(my_list)\n",
        "\n",
        "    for i in range(n):\n",
        "        for j in range(0, n-i-1):\n",
        "            if my_list[j] > my_list[j+1]:\n",
        "                # swap\n",
        "                my_list[j], my_list[j+1] = my_list[j+1], my_list[j]\n",
        "\n",
        "    return my_list"
      ]
    },
    {
      "cell_type": "code",
      "source": [
        "my_list = [4,2,6,5,1,3]\n",
        "my_list = bubble_sort(my_list)\n",
        "print(my_list)"
      ],
      "metadata": {
        "colab": {
          "base_uri": "https://localhost:8080/"
        },
        "id": "tP6sk0hkidRI",
        "outputId": "aaa5fe20-63bf-44fb-9fc2-33b14dbbce05"
      },
      "execution_count": null,
      "outputs": [
        {
          "output_type": "stream",
          "name": "stdout",
          "text": [
            "[1, 2, 3, 4, 5, 6]\n"
          ]
        }
      ]
    },
    {
      "cell_type": "markdown",
      "source": [
        "# Selection Sort"
      ],
      "metadata": {
        "id": "f3Gy7yUp4ECR"
      }
    },
    {
      "cell_type": "code",
      "source": [
        "def selection_sort(my_list):\n",
        "    n = len(my_list)\n",
        "\n",
        "    # run the loop from 0..4 = 5 times\n",
        "    # i starts from 0\n",
        "    for i in range(n-1):\n",
        "        min_index = i\n",
        "\n",
        "        # now run for loop to check if the min_index changes or not\n",
        "        # j needs to start from 1..5\n",
        "        for j in range(i+1,n):\n",
        "            if my_list[j] < my_list[min_index]:\n",
        "                min_index = j\n",
        "\n",
        "        if i != min_index:\n",
        "            # swap operation\n",
        "            my_list[i], my_list[min_index] = my_list[min_index], my_list[i]\n",
        "\n",
        "    return my_list\n"
      ],
      "metadata": {
        "id": "c4oWcO-Vixoe"
      },
      "execution_count": null,
      "outputs": []
    },
    {
      "cell_type": "code",
      "source": [
        "my_list = [4,2,6,5,1,3]\n",
        "my_list = selection_sort(my_list)\n",
        "print(my_list)"
      ],
      "metadata": {
        "colab": {
          "base_uri": "https://localhost:8080/"
        },
        "id": "XInUXp_p49dl",
        "outputId": "2a0d869b-0bae-4d0e-cfce-1636703d45b4"
      },
      "execution_count": null,
      "outputs": [
        {
          "output_type": "stream",
          "name": "stdout",
          "text": [
            "[1, 2, 3, 4, 5, 6]\n"
          ]
        }
      ]
    },
    {
      "cell_type": "markdown",
      "source": [
        "# Insertion Sort"
      ],
      "metadata": {
        "id": "Oeyw3c81Pbfw"
      }
    },
    {
      "cell_type": "code",
      "source": [
        "def insertion_sort(my_list):\n",
        "    n = len(my_list)\n",
        "    for i in range(1,n):\n",
        "        temp = my_list[i]\n",
        "        j = i-1\n",
        "        while temp < my_list[j] and j > -1:\n",
        "            my_list[j+1] = my_list[j]\n",
        "            my_list[j] = temp\n",
        "            j -= 1\n",
        "    return my_list"
      ],
      "metadata": {
        "id": "8BdLX2bw5C5m"
      },
      "execution_count": null,
      "outputs": []
    },
    {
      "cell_type": "code",
      "source": [
        "my_list = [4,2,6,5,1,3]\n",
        "my_list = insertion_sort(my_list)\n",
        "print(my_list)"
      ],
      "metadata": {
        "colab": {
          "base_uri": "https://localhost:8080/"
        },
        "id": "M6db8lpXQBRX",
        "outputId": "e3362d7b-24b8-4814-c197-b69abdac1719"
      },
      "execution_count": null,
      "outputs": [
        {
          "output_type": "stream",
          "name": "stdout",
          "text": [
            "[1, 2, 3, 4, 5, 6]\n"
          ]
        }
      ]
    },
    {
      "cell_type": "markdown",
      "source": [
        "# Merge Sort | merge function"
      ],
      "metadata": {
        "id": "EQz6yyG6bKTq"
      }
    },
    {
      "cell_type": "code",
      "source": [
        "def merge(list1,list2):\n",
        "    combined = []\n",
        "    i = 0\n",
        "    j = 0\n",
        "\n",
        "    while i < len(list1) and j < len(list2):\n",
        "        if list1[i] < list2[j]:\n",
        "            combined.append(list1[i])\n",
        "            i += 1\n",
        "        else:\n",
        "            combined.append(list2[j])\n",
        "            j += 1\n",
        "\n",
        "    while i < len(list1):\n",
        "        combined.append(list1[i])\n",
        "        i += 1\n",
        "\n",
        "    while j < len(list2):\n",
        "        combined.append(list2[j])\n",
        "        j += 1\n",
        "\n",
        "    return combined"
      ],
      "metadata": {
        "id": "y0z9dnlDX4N0"
      },
      "execution_count": null,
      "outputs": []
    },
    {
      "cell_type": "code",
      "source": [
        "print(merge([1,2,7,8], [3,4,5,6]))"
      ],
      "metadata": {
        "id": "58w7blYvbzkQ",
        "outputId": "3ed145b9-455d-4add-fe65-e6abcd00e96e",
        "colab": {
          "base_uri": "https://localhost:8080/"
        }
      },
      "execution_count": null,
      "outputs": [
        {
          "output_type": "stream",
          "name": "stdout",
          "text": [
            "[1, 2, 3, 4, 5, 6, 7, 8]\n"
          ]
        }
      ]
    },
    {
      "cell_type": "markdown",
      "source": [
        "#Merge Sort"
      ],
      "metadata": {
        "id": "LLWEYPcTUyMz"
      }
    },
    {
      "cell_type": "code",
      "source": [
        "def merge_sort(my_list):\n",
        "    if len(my_list) == 1:\n",
        "        return my_list\n",
        "\n",
        "    mid_index = int(len(my_list)/2)\n",
        "\n",
        "    left = merge_sort(my_list[:mid_index])\n",
        "    right = merge_sort(my_list[mid_index:])\n",
        "\n",
        "    return merge(left,right)"
      ],
      "metadata": {
        "id": "2PVI3sFrb-jP"
      },
      "execution_count": null,
      "outputs": []
    },
    {
      "cell_type": "code",
      "source": [
        "original_list = [3,4,2,1]\n",
        "sorted_list = merge_sort(original_list)\n",
        "print(sorted_list)"
      ],
      "metadata": {
        "id": "1J121zeGVRTO",
        "outputId": "a8391b3f-8ef8-4593-feec-63ac56ff85c9",
        "colab": {
          "base_uri": "https://localhost:8080/"
        }
      },
      "execution_count": null,
      "outputs": [
        {
          "output_type": "stream",
          "name": "stdout",
          "text": [
            "[1, 2, 3, 4]\n"
          ]
        }
      ]
    },
    {
      "cell_type": "markdown",
      "source": [
        "# Quick Sort"
      ],
      "metadata": {
        "id": "A9KndjAeDbaj"
      }
    },
    {
      "cell_type": "code",
      "source": [
        "def pivot(my_list,pivot_index,end_index):\n",
        "    swap_index = pivot_index\n",
        "\n",
        "    for i in range(pivot_index+1,end_index+1):\n",
        "        if my_list[i] < my_list[pivot_index]:\n",
        "            swap_index += 1\n",
        "            my_list[swap_index], my_list[i] = my_list[i], my_list[swap_index]\n",
        "\n",
        "    my_list[pivot_index], my_list[swap_index] = my_list[swap_index], my_list[pivot_index]\n",
        "    return swap_index"
      ],
      "metadata": {
        "id": "G5OSeujBViM7"
      },
      "execution_count": 1,
      "outputs": []
    },
    {
      "cell_type": "code",
      "source": [
        "my_list = [4,6,1,7,3,2,5]\n",
        "swap_index = pivot(my_list,0,6)\n",
        "print(\"swap_index = \",swap_index)\n",
        "print(my_list)"
      ],
      "metadata": {
        "colab": {
          "base_uri": "https://localhost:8080/"
        },
        "id": "5x2ONrdMD6gN",
        "outputId": "76400dd7-4fa3-4cee-bacd-93693a37dbd2"
      },
      "execution_count": 4,
      "outputs": [
        {
          "output_type": "stream",
          "name": "stdout",
          "text": [
            "swap_index =  3\n",
            "[2, 1, 3, 4, 6, 7, 5]\n"
          ]
        }
      ]
    },
    {
      "cell_type": "code",
      "source": [
        "def quick_sort(my_list,left,right):\n",
        "    if left < right:\n",
        "        pivot_index = pivot(my_list,left,right)\n",
        "        quick_sort(my_list,left,pivot_index-1)\n",
        "        quick_sort(my_list,pivot_index+1,right)\n",
        "    return my_list"
      ],
      "metadata": {
        "id": "4ppCiHfJUL1l"
      },
      "execution_count": null,
      "outputs": []
    },
    {
      "cell_type": "code",
      "source": [
        "my_list = [ 2, 1, 3, 4, 6, 7, 5 ]\n",
        "swap_index = pivot(my_list,0,2)\n",
        "print(\"swap_index = \",swap_index)\n",
        "print(my_list)"
      ],
      "metadata": {
        "id": "ead6lscyyBYP",
        "outputId": "b11c72b4-de25-47d7-aaf8-32a35644976f",
        "colab": {
          "base_uri": "https://localhost:8080/"
        }
      },
      "execution_count": 2,
      "outputs": [
        {
          "output_type": "stream",
          "name": "stdout",
          "text": [
            "swap_index =  1\n",
            "[1, 2, 3, 4, 6, 7, 5]\n"
          ]
        }
      ]
    },
    {
      "cell_type": "code",
      "source": [
        "def pivot(my_list,pivot_index,end_index):\n",
        "    swap_index = pivot_index\n",
        "\n",
        "    for i in range(pivot_index+1,end_index+1):\n",
        "        if my_list[i] < my_list[pivot_index]:\n",
        "            swap_index += 1\n",
        "            my_list[swap_index], my_list[i] = my_list[i], my_list[swap_index]\n",
        "\n",
        "    my_list[pivot_index], my_list[swap_index] = my_list[swap_index], my_list[pivot_index]\n",
        "    return swap_index\n",
        "\n",
        "def quick_sort_helper(my_list,left,right):\n",
        "    if left < right:\n",
        "        pivot_index = pivot(my_list,left,right)\n",
        "        quick_sort_helper(my_list,left,pivot_index-1)\n",
        "        quick_sort_helper(my_list,pivot_index+1,right)\n",
        "    return my_list\n",
        "\n",
        "def quick_sort(my_list):\n",
        "    left = 0\n",
        "    right = len(my_list) - 1\n",
        "    return quick_sort_helper(my_list,left,right)"
      ],
      "metadata": {
        "id": "Z1EweJi72SA2"
      },
      "execution_count": 6,
      "outputs": []
    },
    {
      "cell_type": "code",
      "source": [
        "my_list = [4, 6, 1, 7, 3, 2, 5]\n",
        "print(quick_sort(my_list))"
      ],
      "metadata": {
        "id": "A2AmQ3QO429h",
        "outputId": "239d5657-2881-49df-afcd-ff31fde762bd",
        "colab": {
          "base_uri": "https://localhost:8080/"
        }
      },
      "execution_count": 7,
      "outputs": [
        {
          "output_type": "stream",
          "name": "stdout",
          "text": [
            "[1, 2, 3, 4, 5, 6, 7]\n"
          ]
        }
      ]
    },
    {
      "cell_type": "code",
      "source": [],
      "metadata": {
        "id": "WeF9rW7Y5fP-"
      },
      "execution_count": 5,
      "outputs": []
    },
    {
      "cell_type": "code",
      "source": [],
      "metadata": {
        "id": "RKLCdanS53HE"
      },
      "execution_count": null,
      "outputs": []
    }
  ]
}