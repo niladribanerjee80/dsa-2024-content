{
  "nbformat": 4,
  "nbformat_minor": 0,
  "metadata": {
    "colab": {
      "provenance": [],
      "authorship_tag": "ABX9TyNVJxIomhx3vAPWVByUNQg4",
      "include_colab_link": true
    },
    "kernelspec": {
      "name": "python3",
      "display_name": "Python 3"
    },
    "language_info": {
      "name": "python"
    }
  },
  "cells": [
    {
      "cell_type": "markdown",
      "metadata": {
        "id": "view-in-github",
        "colab_type": "text"
      },
      "source": [
        "<a href=\"https://colab.research.google.com/github/niladribanerjee80/DSA_Scott_Barett/blob/main/Topic_8_Recursion.ipynb\" target=\"_parent\"><img src=\"https://colab.research.google.com/assets/colab-badge.svg\" alt=\"Open In Colab\"/></a>"
      ]
    },
    {
      "cell_type": "code",
      "execution_count": 1,
      "metadata": {
        "colab": {
          "base_uri": "https://localhost:8080/"
        },
        "id": "fgaI-nydwJCc",
        "outputId": "65598651-dd48-4381-90ec-2095f57afa27"
      },
      "outputs": [
        {
          "output_type": "stream",
          "name": "stdout",
          "text": [
            "Result :  24\n"
          ]
        }
      ],
      "source": [
        "def factorial(n):\n",
        "    # base case\n",
        "    if n == 1:\n",
        "        return 1\n",
        "    # recursive case\n",
        "    return n * factorial(n-1)\n",
        "\n",
        "if __name__ == \"__main__\":\n",
        "    result = factorial(4)\n",
        "    print(\"Result : \",result)"
      ]
    },
    {
      "cell_type": "code",
      "source": [],
      "metadata": {
        "id": "KwVwwHBTwL52"
      },
      "execution_count": null,
      "outputs": []
    }
  ]
}