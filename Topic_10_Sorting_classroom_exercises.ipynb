{
  "nbformat": 4,
  "nbformat_minor": 0,
  "metadata": {
    "colab": {
      "provenance": [],
      "authorship_tag": "ABX9TyNu15Kmzsdhg/XIU+alzl0Y",
      "include_colab_link": true
    },
    "kernelspec": {
      "name": "python3",
      "display_name": "Python 3"
    },
    "language_info": {
      "name": "python"
    }
  },
  "cells": [
    {
      "cell_type": "markdown",
      "metadata": {
        "id": "view-in-github",
        "colab_type": "text"
      },
      "source": [
        "<a href=\"https://colab.research.google.com/github/niladribanerjee80/DSA_Scott_Barett/blob/main/Topic_10_Sorting_classroom_exercises.ipynb\" target=\"_parent\"><img src=\"https://colab.research.google.com/assets/colab-badge.svg\" alt=\"Open In Colab\"/></a>"
      ]
    },
    {
      "cell_type": "markdown",
      "source": [
        "# Bubble Sort"
      ],
      "metadata": {
        "id": "0cKcu6bOgGDn"
      }
    },
    {
      "cell_type": "code",
      "execution_count": null,
      "metadata": {
        "id": "r0d3GdVogAek"
      },
      "outputs": [],
      "source": [
        "## WRITE BUBBLE_SORT FUNCTION HERE ##\n",
        "#                                   #\n",
        "#                                   #\n",
        "#                                   #\n",
        "#                                   #\n",
        "#####################################\n",
        "\n",
        "\n",
        "\n",
        "\n",
        "print(bubble_sort([4,2,6,5,1,3]))\n",
        "\n",
        "\n",
        "\n",
        "\"\"\"\n",
        "    EXPECTED OUTPUT:\n",
        "    ----------------\n",
        "    [1, 2, 3, 4, 5, 6]\n",
        "\n",
        " \"\"\""
      ]
    },
    {
      "cell_type": "markdown",
      "source": [
        "# Selection Sort"
      ],
      "metadata": {
        "id": "D_00F4IGgIjG"
      }
    },
    {
      "cell_type": "code",
      "source": [
        "## WRITE SELECTION_SORT FUNCTION HERE ##\n",
        "#                                      #\n",
        "#                                      #\n",
        "#                                      #\n",
        "#                                      #\n",
        "########################################\n",
        "\n",
        "\n",
        "\n",
        "\n",
        "print(selection_sort([4,2,6,5,1,3]))\n",
        "\n",
        "\n",
        "\n",
        "\"\"\"\n",
        "    EXPECTED OUTPUT:\n",
        "    ----------------\n",
        "    [1, 2, 3, 4, 5, 6]\n",
        "\n",
        " \"\"\"\n",
        "\n"
      ],
      "metadata": {
        "id": "51PxSMo6gPiI"
      },
      "execution_count": null,
      "outputs": []
    },
    {
      "cell_type": "markdown",
      "source": [
        "# Insertion Sort"
      ],
      "metadata": {
        "id": "MtTxxa4TgXXI"
      }
    },
    {
      "cell_type": "code",
      "source": [
        "## WRITE INSERTION_SORT FUNCTION HERE ##\n",
        "#                                      #\n",
        "#                                      #\n",
        "#                                      #\n",
        "#                                      #\n",
        "########################################\n",
        "\n",
        "\n",
        "\n",
        "\n",
        "print(insertion_sort([4,2,6,5,1,3]))\n",
        "\n",
        "\n",
        "\n",
        "\"\"\"\n",
        "    EXPECTED OUTPUT:\n",
        "    ----------------\n",
        "    [1, 2, 3, 4, 5, 6]\n",
        "\n",
        " \"\"\"\n",
        "\n"
      ],
      "metadata": {
        "id": "bAveceDagYy7"
      },
      "execution_count": null,
      "outputs": []
    },
    {
      "cell_type": "markdown",
      "source": [
        "# Quick Sort"
      ],
      "metadata": {
        "id": "o4lBXHzS7np3"
      }
    },
    {
      "cell_type": "code",
      "source": [
        "## WRITE PIVOT FUNCTION HERE ##\n",
        "#                             #\n",
        "#                             #\n",
        "#                             #\n",
        "#                             #\n",
        "###############################\n",
        "\n",
        "\n",
        "\n",
        "\n",
        "my_list = [4,6,1,7,3,2,5]\n",
        "\n",
        "print('List before running pivot():')\n",
        "print(my_list)\n",
        "\n",
        "returned_pivot_index = pivot(my_list, 0, 6)\n",
        "\n",
        "print('\\nList after running pivot():')\n",
        "print(my_list)\n",
        "\n",
        "print('\\nReturned Swap Index:')\n",
        "print(returned_pivot_index)\n",
        "\n",
        "\n",
        "\n",
        "\"\"\"\n",
        "    EXPECTED OUTPUT:\n",
        "    ----------------\n",
        "    List before running pivot():\n",
        "    [4, 6, 1, 7, 3, 2, 5]\n",
        "\n",
        "    List after running pivot():\n",
        "    [2, 1, 3, 4, 6, 7, 5]\n",
        "\n",
        "    Returned Swap Index:\n",
        "    3\n",
        "\n",
        " \"\"\""
      ],
      "metadata": {
        "id": "p60tIJV_7pMf"
      },
      "execution_count": null,
      "outputs": []
    },
    {
      "cell_type": "code",
      "source": [
        "# write pivot code here\n",
        "\n",
        "\n",
        "## WRITE QUICK_SORT_HELPER FUNCTION HERE ##\n",
        "#                                         #\n",
        "#                                         #\n",
        "#                                         #\n",
        "#                                         #\n",
        "###########################################\n",
        "\n",
        "\n",
        "def quick_sort(my_list):\n",
        "    quick_sort_helper(my_list, 0, len(my_list)-1)\n",
        "\n",
        "\n",
        "\n",
        "\n",
        "my_list = [4,6,1,7,3,2,5]\n",
        "\n",
        "quick_sort(my_list)\n",
        "\n",
        "print(my_list)\n",
        "\n",
        "\n",
        "\n",
        "\"\"\"\n",
        "    EXPECTED OUTPUT:\n",
        "    ----------------\n",
        "    [1, 2, 3, 4, 5, 6, 7]\n",
        "\n",
        " \"\"\""
      ],
      "metadata": {
        "id": "H1es0ebz7w6r"
      },
      "execution_count": null,
      "outputs": []
    }
  ]
}